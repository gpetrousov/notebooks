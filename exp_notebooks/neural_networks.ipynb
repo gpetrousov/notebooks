{
 "cells": [
  {
   "cell_type": "markdown",
   "id": "92f8828a-6baa-4fbd-a5be-3e53af7db51f",
   "metadata": {},
   "source": [
    "## Perceptron\n",
    "\n",
    "\n",
    "Let's create a perceptron with the following structure:\n",
    "- single `neuron` connected to a `ReLU` activation function.\n",
    "- Parameters:\n",
    "    - all parameters should be positive integers\n",
    "    - INPUT: single number of max 32bit\n",
    "    - OUTPUT: single number of max 64bit\n",
    "    - WEIGHT: single number of max 32bit\n",
    "    - BIAS: single number of max 32bit"
   ]
  },
  {
   "cell_type": "code",
   "execution_count": 7,
   "id": "a4fe60ca-7c48-4ce8-99e8-4ee3ed1bf784",
   "metadata": {
    "tags": []
   },
   "outputs": [],
   "source": [
    "import torch\n",
    "from torch import nn"
   ]
  },
  {
   "cell_type": "code",
   "execution_count": 14,
   "id": "cd7c5c84-4871-483e-97e7-550c10e433c4",
   "metadata": {
    "tags": []
   },
   "outputs": [],
   "source": [
    "class Perceptron(nn.Module):\n",
    "    \"\"\" \n",
    "    Perceptron with a single neuron whose output is passed to a ReLU.\n",
    "    INPUT: input_dim - number of input features.\n",
    "    \"\"\"\n",
    "    def __init__(self, nof_features, w_min=1, w_max=2, b_min=1, b_max=2):\n",
    "        super().__init__()\n",
    "        self.weights = torch.nn.Parameter(torch.randint(w_min, w_max, size=(nof_features, 1), dtype=torch.float))\n",
    "        self.bias = torch.nn.Parameter(torch.randint(b_min, b_max, size=(1, 1), dtype=torch.float))\n",
    "        self.activation = nn.ReLU()\n",
    "        \n",
    "    def forward(self, x):\n",
    "        return self.l2(self.l1(x))\n",
    "        \n",
    "    def l1(self, inp):\n",
    "        return inp @ self.weights + self.bias\n",
    "    \n",
    "    def l2(self, inp):\n",
    "        return self.activation(inp)"
   ]
  },
  {
   "cell_type": "code",
   "execution_count": 15,
   "id": "e1d0da16-3eed-4b40-8ca4-4c5e8e0baff4",
   "metadata": {
    "tags": []
   },
   "outputs": [],
   "source": [
    "perceptron = Perceptron(3)"
   ]
  },
  {
   "cell_type": "markdown",
   "id": "725c86c3-8cee-496f-add3-e0d4ae1ecdbe",
   "metadata": {},
   "source": [
    "### List parameters"
   ]
  },
  {
   "cell_type": "code",
   "execution_count": 16,
   "id": "5ddb6d46-277d-4f01-90b9-3b62b1a73ffc",
   "metadata": {
    "tags": []
   },
   "outputs": [
    {
     "data": {
      "text/plain": [
       "[Parameter containing:\n",
       " tensor([[1.],\n",
       "         [1.],\n",
       "         [1.]], requires_grad=True),\n",
       " Parameter containing:\n",
       " tensor([[1.]], requires_grad=True)]"
      ]
     },
     "execution_count": 16,
     "metadata": {},
     "output_type": "execute_result"
    }
   ],
   "source": [
    "list(perceptron.parameters())"
   ]
  },
  {
   "cell_type": "markdown",
   "id": "f9a826ca-ff3e-4e36-a23a-a88f273dd495",
   "metadata": {},
   "source": [
    "### Testing"
   ]
  },
  {
   "cell_type": "code",
   "execution_count": 17,
   "id": "88a6043a-58d8-4062-afe0-b4a3152d9e7c",
   "metadata": {
    "tags": []
   },
   "outputs": [
    {
     "name": "stdout",
     "output_type": "stream",
     "text": [
      "Input: tensor([0.]), Output: tensor([[1.]], grad_fn=<ReluBackward0>)\n",
      "Input: tensor([1.]), Output: tensor([[2.]], grad_fn=<ReluBackward0>)\n",
      "Input: tensor([10.]), Output: tensor([[11.]], grad_fn=<ReluBackward0>)\n",
      "Input: tensor([100.]), Output: tensor([[101.]], grad_fn=<ReluBackward0>)\n",
      "Input: tensor([-1.]), Output: tensor([[0.]], grad_fn=<ReluBackward0>)\n",
      "Input: tensor([-10.]), Output: tensor([[0.]], grad_fn=<ReluBackward0>)\n",
      "Input: tensor([-100.]), Output: tensor([[0.]], grad_fn=<ReluBackward0>)\n"
     ]
    }
   ],
   "source": [
    "n1_i1_perceptron = Perceptron(1)\n",
    "for x in [0, 1, 10, 100, -1, -10, -100]:\n",
    "    inp = torch.tensor([x], dtype=torch.float)\n",
    "    print(f\"Input: {inp}, Output: {n1_i1_perceptron(inp)}\")"
   ]
  },
  {
   "cell_type": "markdown",
   "id": "0d792a3b-5c67-41e1-8593-4d0fe6bf3aac",
   "metadata": {},
   "source": [
    "---"
   ]
  },
  {
   "cell_type": "code",
   "execution_count": null,
   "id": "5ca710ef-2d35-40ad-8fec-d7775b5111d0",
   "metadata": {},
   "outputs": [],
   "source": []
  }
 ],
 "metadata": {
  "kernelspec": {
   "display_name": "Python 3 (ipykernel)",
   "language": "python",
   "name": "python3"
  },
  "language_info": {
   "codemirror_mode": {
    "name": "ipython",
    "version": 3
   },
   "file_extension": ".py",
   "mimetype": "text/x-python",
   "name": "python",
   "nbconvert_exporter": "python",
   "pygments_lexer": "ipython3",
   "version": "3.10.13"
  }
 },
 "nbformat": 4,
 "nbformat_minor": 5
}
