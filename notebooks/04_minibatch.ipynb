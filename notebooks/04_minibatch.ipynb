{
 "cells": [
  {
   "cell_type": "markdown",
   "id": "707bcdbe-22f0-49b3-8dc7-c659c2ea3431",
   "metadata": {
    "tags": []
   },
   "source": [
    "# Minibatch\n",
    "\n",
    "\n",
    "Why are we re-writing things from scratch?\n",
    "\n",
    "The idea is that we're trying to learn a library better. If we can't learn what the library does,  we can just re-implement the algorithm ourselves and then we'll be able to understand the library's functions."
   ]
  },
  {
   "cell_type": "code",
   "execution_count": 1,
   "id": "55fbab1c-8e99-4d54-944a-48ec19323069",
   "metadata": {
    "tags": []
   },
   "outputs": [],
   "source": [
    "#| default_exp minibatch"
   ]
  },
  {
   "cell_type": "code",
   "execution_count": 245,
   "id": "4bbdbc34-ab5e-46a6-95f9-0a12cae1e9d5",
   "metadata": {
    "tags": []
   },
   "outputs": [],
   "source": [
    "import torch\n",
    "from torch import nn\n",
    "import math\n",
    "\n",
    "from __future__ import annotations\n",
    "\n",
    "# Get the MNIST dataset\n",
    "import gzip, pickle\n",
    "import urllib.request\n",
    "from pathlib import Path\n",
    "import matplotlib.pyplot as plt\n",
    "\n",
    "MNIST_URL = \"https://github.com/mnielsen/neural-networks-and-deep-learning/blob/master/data/mnist.pkl.gz?raw=true\"\n",
    "data_path = Path(\"../data\")\n",
    "data_path.mkdir(parents=True, exist_ok=True)\n",
    "data_gz = data_path/\"mnist.pkl.gz\"\n",
    "\n",
    "# Get the data\n",
    "if not data_gz:\n",
    "    urllib.request.urlretrieve(MNIST_URL, data_path/\"mnist.pkl.gz\")\n",
    "    \n",
    "# Destructuring\n",
    "with gzip.open(data_gz, mode='rb') as unzip_data:\n",
    "    obj = pickle.load(unzip_data, encoding=\"latin-1\")\n",
    "    ((x_train, y_train), (x_valid, y_valid), _) = obj\n",
    "\n",
    "# To tensors\n",
    "x_train, y_train, x_valid, y_valid = map(torch.tensor, (x_train, y_train, x_valid, y_valid))"
   ]
  },
  {
   "cell_type": "code",
   "execution_count": 3,
   "id": "9e20edea-32a5-4222-b178-084a0ffe33da",
   "metadata": {
    "tags": []
   },
   "outputs": [
    {
     "data": {
      "text/plain": [
       "(50000, 784, 10, 50)"
      ]
     },
     "execution_count": 3,
     "metadata": {},
     "output_type": "execute_result"
    }
   ],
   "source": [
    "n, m = x_train.shape\n",
    "c = int(y_train.max()+1)\n",
    "nh = 50\n",
    "n, m, c, nh"
   ]
  },
  {
   "cell_type": "code",
   "execution_count": 4,
   "id": "12d3b312-bf06-4f05-85b9-b4bdd936c37a",
   "metadata": {
    "tags": []
   },
   "outputs": [],
   "source": [
    "# Our model architecture from 03_backpropagation.ipynb\n",
    "\n",
    "class Model(nn.Module):\n",
    "    def __init__(self, n_in, nh, n_out):\n",
    "        super().__init__()\n",
    "        self.layers = [\n",
    "            nn.Linear(n_in, nh), # [784,50]\n",
    "            nn.ReLU(),\n",
    "            nn.Linear(nh, n_out) # [50,10]\n",
    "        ]\n",
    "        \n",
    "    def __call__(self, x):\n",
    "        for l in self.layers:\n",
    "            x = l(x)\n",
    "        return x"
   ]
  },
  {
   "cell_type": "code",
   "execution_count": 5,
   "id": "27adc51d-9e93-4b95-9363-34c03f952832",
   "metadata": {},
   "outputs": [
    {
     "data": {
      "text/plain": [
       "torch.Size([50000, 10])"
      ]
     },
     "execution_count": 5,
     "metadata": {},
     "output_type": "execute_result"
    }
   ],
   "source": [
    "model = Model(m, nh, c)\n",
    "preds = model(x_train)\n",
    "preds.shape # We are now going to use 10 categories for output"
   ]
  },
  {
   "cell_type": "markdown",
   "id": "d9c34768-f492-43cb-a0af-79f0046f223c",
   "metadata": {},
   "source": [
    "## Implement `Cross Entropy Loss` function\n",
    "\n",
    "In the last notebook, we used the MSE (L2-norm) to calculate the error. That function was not ideal for predicting multicategory classifications, like MNIST. Following, we are going to reconstruct the `cross entropy loss` function from scratch. \n",
    "\n",
    "The targets will be `on-hot-encoded` vectors with the index of a 1 representing the actual number.\n",
    "\n",
    "**`Cross Entropy Loss` typically serves multi-class and multi-label classifications.**\n",
    "\n",
    "`Cross Entropy Loss = log(SoftMax(i))`"
   ]
  },
  {
   "cell_type": "markdown",
   "id": "c708c08b-4294-4008-9568-fd6fd6a9b39a",
   "metadata": {
    "tags": []
   },
   "source": [
    "First, we will need to compute the softmax of our activations. This is defined by:\n",
    "\n",
    "$$\\hbox{softmax(x)}_{i} = \\frac{e^{x_{i}}}{e^{x_{0}} + e^{x_{1}} + \\cdots + e^{x_{n-1}}}$$\n",
    "\n",
    "or more concisely:\n",
    "\n",
    "$$\\hbox{softmax(x)}_{i} = \\frac{e^{x_{i}}}{\\sum\\limits_{0 \\leq j \\lt n} e^{x_{j}}}$$ \n",
    "\n",
    "In practice, we will need the log of the softmax when we calculate the loss:"
   ]
  },
  {
   "cell_type": "code",
   "execution_count": 6,
   "id": "c30ef424-4573-44a5-9da9-7817257cc995",
   "metadata": {
    "tags": []
   },
   "outputs": [],
   "source": [
    "# softmax: x.exp()/(x.exp().sum(dim=-1, keepdim=True))\n",
    "\n",
    "def softmax(x):\n",
    "    \"\"\" Softmax \"\"\"\n",
    "    return (x.exp()/(x.exp().sum(dim=-1, keepdim=True))).log()"
   ]
  },
  {
   "cell_type": "markdown",
   "id": "1e07ebf3-40ac-4543-be54-abcccd956b7f",
   "metadata": {
    "tags": []
   },
   "source": [
    "Note that the formula \n",
    "\n",
    "$$\\log \\left ( \\frac{a}{b} \\right ) = \\log(a) - \\log(b)$$ \n",
    "\n",
    "gives a simplification when we compute the log softmax:"
   ]
  },
  {
   "cell_type": "code",
   "execution_count": 7,
   "id": "d62f1635-6451-436d-ab2b-ef801fc87afb",
   "metadata": {
    "tags": []
   },
   "outputs": [],
   "source": [
    "#log(softmax(x)):\n",
    "def log_softmax(x):\n",
    "    return x - x.exp().sum(-1,keepdim=True).log()"
   ]
  },
  {
   "cell_type": "code",
   "execution_count": 8,
   "id": "9dac5435-ced7-4bf6-a6b3-465a67a01538",
   "metadata": {
    "tags": []
   },
   "outputs": [
    {
     "data": {
      "text/plain": [
       "tensor([[-2.2807, -2.5093, -2.3227,  ..., -2.2554, -2.3243, -2.1333],\n",
       "        [-2.4135, -2.4360, -2.2427,  ..., -2.3645, -2.1714, -2.0787],\n",
       "        [-2.3150, -2.3989, -2.1929,  ..., -2.3479, -2.1501, -2.1698],\n",
       "        ...,\n",
       "        [-2.3431, -2.3722, -2.2730,  ..., -2.2801, -2.2319, -2.1322],\n",
       "        [-2.3011, -2.4860, -2.3119,  ..., -2.2380, -2.1589, -2.2805],\n",
       "        [-2.3057, -2.4393, -2.1590,  ..., -2.3203, -2.2708, -2.2438]],\n",
       "       grad_fn=<SubBackward0>)"
      ]
     },
     "execution_count": 8,
     "metadata": {},
     "output_type": "execute_result"
    }
   ],
   "source": [
    "log_softmax_preds = log_softmax(preds)\n",
    "log_softmax_preds"
   ]
  },
  {
   "cell_type": "markdown",
   "id": "83731144-ecc3-47ee-8a0b-7f6afede400b",
   "metadata": {},
   "source": [
    "The cross entropy loss for some target $x$ and some prediction $p(x)$ is given by:\n",
    "\n",
    "$$ -\\sum x\\, \\log p(x) $$\n",
    "\n",
    "In `PyTorch` this is known as : negative log likelihood loss == `nll`\n",
    "\n",
    "But since our $x$s are 1-hot encoded (actually, they're just the integer indices), this can be rewritten as $-\\log(p_{i})$ where i is the index of the desired target."
   ]
  },
  {
   "cell_type": "code",
   "execution_count": 9,
   "id": "807cfd21-17a2-4e8b-9b74-0187ae04b938",
   "metadata": {
    "tags": []
   },
   "outputs": [
    {
     "data": {
      "text/plain": [
       "tensor([5, 0, 4])"
      ]
     },
     "execution_count": 9,
     "metadata": {},
     "output_type": "execute_result"
    }
   ],
   "source": [
    "# First 3 numbers\n",
    "y_train[0:3]"
   ]
  },
  {
   "cell_type": "code",
   "execution_count": 10,
   "id": "9b2013c7-e899-4279-9103-fce7ab8c98d8",
   "metadata": {
    "tags": []
   },
   "outputs": [
    {
     "data": {
      "text/plain": [
       "torch.Size([50000, 10])"
      ]
     },
     "execution_count": 10,
     "metadata": {},
     "output_type": "execute_result"
    }
   ],
   "source": [
    "log_softmax_preds.shape"
   ]
  },
  {
   "cell_type": "code",
   "execution_count": 11,
   "id": "b2c2b741-ab3d-470f-85f7-19a8d2e8ae10",
   "metadata": {
    "tags": []
   },
   "outputs": [
    {
     "data": {
      "text/plain": [
       "(tensor(-2.2067, grad_fn=<SelectBackward0>),\n",
       " tensor(-2.4135, grad_fn=<SelectBackward0>),\n",
       " tensor(-2.4659, grad_fn=<SelectBackward0>))"
      ]
     },
     "execution_count": 11,
     "metadata": {},
     "output_type": "execute_result"
    }
   ],
   "source": [
    "# The prababilities of the categories from above are\n",
    "log_softmax_preds[0, 5], log_softmax_preds[1, 0], log_softmax_preds[2, 4]"
   ]
  },
  {
   "cell_type": "code",
   "execution_count": 12,
   "id": "f900fddc-41ab-4ac7-bc07-766f95bb363d",
   "metadata": {
    "tags": []
   },
   "outputs": [
    {
     "data": {
      "text/plain": [
       "(tensor(-2.2067, grad_fn=<SelectBackward0>),\n",
       " tensor(-2.4135, grad_fn=<SelectBackward0>),\n",
       " tensor(-2.4659, grad_fn=<SelectBackward0>))"
      ]
     },
     "execution_count": 12,
     "metadata": {},
     "output_type": "execute_result"
    }
   ],
   "source": [
    "log_softmax_preds[0, y_train[0]], log_softmax_preds[1, y_train[1]], log_softmax_preds[2, y_train[2]]"
   ]
  },
  {
   "cell_type": "code",
   "execution_count": 30,
   "id": "e4751548-7589-41bb-b5a4-7a2df9d7e68f",
   "metadata": {
    "tags": []
   },
   "outputs": [
    {
     "data": {
      "text/plain": [
       "tensor([-2.2067, -2.4135, -2.4659], grad_fn=<IndexBackward0>)"
      ]
     },
     "execution_count": 30,
     "metadata": {},
     "output_type": "execute_result"
    }
   ],
   "source": [
    "log_softmax_preds[[0,1,2], y_train[:3]]"
   ]
  },
  {
   "cell_type": "markdown",
   "id": "7c479ba9-c851-43ab-accb-60c0fc78598a",
   "metadata": {},
   "source": [
    "So, we have the `log(softmax(p))`. Now we need to implement the Cross entropy loss from above as the sum of those."
   ]
  },
  {
   "cell_type": "code",
   "execution_count": 14,
   "id": "a8f94afa-f14e-4203-a7b4-bce7c7ee01d4",
   "metadata": {
    "tags": []
   },
   "outputs": [],
   "source": [
    "def nll(inp, target):\n",
    "    \"\"\" Cross Entropy Loss \"\"\"\n",
    "    return -inp[range(target.shape[0]), target].mean()"
   ]
  },
  {
   "cell_type": "code",
   "execution_count": 15,
   "id": "e49fe07f-65be-49d9-a62f-86501697f504",
   "metadata": {
    "tags": []
   },
   "outputs": [
    {
     "data": {
      "text/plain": [
       "tensor(2.3065, grad_fn=<NegBackward0>)"
      ]
     },
     "execution_count": 15,
     "metadata": {},
     "output_type": "execute_result"
    }
   ],
   "source": [
    "loss = nll(log_softmax_preds, y_train)\n",
    "loss"
   ]
  },
  {
   "cell_type": "markdown",
   "id": "57448954-1669-4a23-b31b-30c63c68ad16",
   "metadata": {
    "tags": []
   },
   "source": [
    "### Going to PyTorch"
   ]
  },
  {
   "cell_type": "markdown",
   "id": "d35c906e-4b44-4bd4-a726-89ea6e75746a",
   "metadata": {},
   "source": [
    "`PyTorch` already has a function for `Cross Entropy Loss`, so we can use that."
   ]
  },
  {
   "cell_type": "code",
   "execution_count": 16,
   "id": "1ef8efe8-3830-4b0e-b7d1-d5e9df840c7c",
   "metadata": {
    "tags": []
   },
   "outputs": [
    {
     "data": {
      "text/plain": [
       "tensor(2.3065, grad_fn=<NllLossBackward0>)"
      ]
     },
     "execution_count": 16,
     "metadata": {},
     "output_type": "execute_result"
    }
   ],
   "source": [
    "import torch.nn.functional as F\n",
    "\n",
    "# nll = negative log likelihood loss\n",
    "F.nll_loss(F.log_softmax(preds, dim=1), y_train)"
   ]
  },
  {
   "cell_type": "markdown",
   "id": "4bb6e861-e21a-4ea0-9557-bd0adf4de8b3",
   "metadata": {},
   "source": [
    "The above combination of the 2 functions can be combined into 1:"
   ]
  },
  {
   "cell_type": "code",
   "execution_count": 17,
   "id": "487d960c-da9e-4ad2-9a25-50ef2e878cca",
   "metadata": {
    "tags": []
   },
   "outputs": [
    {
     "data": {
      "text/plain": [
       "tensor(2.3065, grad_fn=<NllLossBackward0>)"
      ]
     },
     "execution_count": 17,
     "metadata": {},
     "output_type": "execute_result"
    }
   ],
   "source": [
    "F.cross_entropy(preds, y_train)"
   ]
  },
  {
   "cell_type": "markdown",
   "id": "716f6b92-af96-4603-921e-741c3a5b01c0",
   "metadata": {},
   "source": [
    "## Basic training loop\n",
    "\n",
    "1) get the predictions from the model\n",
    "2) calculate the loss from the predictions (based on y_train)\n",
    "3) calculate the gradients of the loss with respect to every parameter of the model\n",
    "4) adjust the parameters according to their gradients and learning rate"
   ]
  },
  {
   "cell_type": "code",
   "execution_count": 18,
   "id": "dca9d642-5bc9-40c6-9aa3-23e136b27f1c",
   "metadata": {
    "tags": []
   },
   "outputs": [],
   "source": [
    "loss_func = F.cross_entropy"
   ]
  },
  {
   "cell_type": "code",
   "execution_count": 19,
   "id": "fa881109-ee28-487c-9f56-0cefacbc5c77",
   "metadata": {
    "tags": []
   },
   "outputs": [
    {
     "data": {
      "text/plain": [
       "(tensor([ 0.0984, -0.1302,  0.0564, -0.0200,  0.0017,  0.1724,  0.1127,  0.1237,\n",
       "          0.0548,  0.2458], grad_fn=<SelectBackward0>),\n",
       " torch.Size([64, 10]))"
      ]
     },
     "execution_count": 19,
     "metadata": {},
     "output_type": "execute_result"
    }
   ],
   "source": [
    "bs = 64\n",
    "xb = x_train[:bs] # minibatch from x\n",
    "preds = model(xb)\n",
    "preds[0], preds.shape"
   ]
  },
  {
   "cell_type": "code",
   "execution_count": 20,
   "id": "f046e1c4-ac61-47f1-8917-6bf0a52492f3",
   "metadata": {
    "tags": []
   },
   "outputs": [
    {
     "data": {
      "text/plain": [
       "tensor([5, 0, 4, 1, 9, 2, 1, 3, 1, 4, 3, 5, 3, 6, 1, 7, 2, 8, 6, 9, 4, 0, 9, 1,\n",
       "        1, 2, 4, 3, 2, 7, 3, 8, 6, 9, 0, 5, 6, 0, 7, 6, 1, 8, 7, 9, 3, 9, 8, 5,\n",
       "        9, 3, 3, 0, 7, 4, 9, 8, 0, 9, 4, 1, 4, 4, 6, 0])"
      ]
     },
     "execution_count": 20,
     "metadata": {},
     "output_type": "execute_result"
    }
   ],
   "source": [
    "yb = y_train[:64]\n",
    "yb"
   ]
  },
  {
   "cell_type": "code",
   "execution_count": 21,
   "id": "a79f255b-a44c-4926-b807-103aed69a9ed",
   "metadata": {
    "tags": []
   },
   "outputs": [
    {
     "data": {
      "text/plain": [
       "tensor(2.3205, grad_fn=<NllLossBackward0>)"
      ]
     },
     "execution_count": 21,
     "metadata": {},
     "output_type": "execute_result"
    }
   ],
   "source": [
    "loss_func(preds, yb)"
   ]
  },
  {
   "cell_type": "markdown",
   "id": "df3635a4-7bb0-4149-a001-193b89a1b406",
   "metadata": {
    "tags": []
   },
   "source": [
    "We need to grab the highest probabilities of the predicted nubmers."
   ]
  },
  {
   "cell_type": "code",
   "execution_count": 22,
   "id": "4f921d26-059d-4d99-b3b0-2f8e2e861e34",
   "metadata": {
    "tags": []
   },
   "outputs": [
    {
     "data": {
      "text/plain": [
       "tensor([9, 9, 8, 7, 5, 8, 8, 5, 8, 2, 9, 8, 9, 8, 8, 5, 9, 2, 8, 2, 5, 9, 2, 7,\n",
       "        9, 9, 8, 2, 7, 2, 2, 2, 5, 8, 5, 2, 5, 8, 2, 7, 2, 2, 9, 2, 9, 5, 8, 5,\n",
       "        9, 9, 7, 5, 2, 8, 5, 8, 5, 5, 5, 8, 2, 8, 9, 5])"
      ]
     },
     "execution_count": 22,
     "metadata": {},
     "output_type": "execute_result"
    }
   ],
   "source": [
    "preds.argmax(dim=1)"
   ]
  },
  {
   "cell_type": "markdown",
   "id": "8362455d-3fa0-419b-9e97-3966800aa603",
   "metadata": {},
   "source": [
    "And we define the accuracy:"
   ]
  },
  {
   "cell_type": "code",
   "execution_count": 101,
   "id": "34e4506e-24d5-4f31-b26b-a5c5b70e97b5",
   "metadata": {
    "tags": []
   },
   "outputs": [],
   "source": [
    "#|export\n",
    "def accuracy(preds:torch.tensor, targs:torch.tensor) -> float:\n",
    "    \"\"\" The average of the correctly predicted numbers \"\"\"\n",
    "    return (preds.argmax(dim=1)==targs).float().mean()"
   ]
  },
  {
   "cell_type": "code",
   "execution_count": 99,
   "id": "8268c9f1-b240-4121-b0a1-dde89b17affb",
   "metadata": {
    "tags": []
   },
   "outputs": [
    {
     "data": {
      "text/plain": [
       "tensor(1.)"
      ]
     },
     "execution_count": 99,
     "metadata": {},
     "output_type": "execute_result"
    }
   ],
   "source": [
    "accuracy(preds, yb)"
   ]
  },
  {
   "cell_type": "code",
   "execution_count": 102,
   "id": "4c244910-25dc-4e1d-8fed-6c4c10fff62f",
   "metadata": {
    "tags": []
   },
   "outputs": [],
   "source": [
    "#|export\n",
    "def report(epoch:int, preds:torch.tensor, targs:torch.tensor, loss:float):\n",
    "    \"\"\" Print a report after each epoch of training \"\"\"\n",
    "    print(f\"epoch:{epoch} \\t accuracy:{accuracy(preds, targs).item():.3f} \\t loss:{loss.item():.5f}\")"
   ]
  },
  {
   "cell_type": "markdown",
   "id": "78de3f0e-7932-468b-b4c0-06fbc4404b35",
   "metadata": {},
   "source": [
    "We have an accuracy of ~10% which is expected because of the random weights."
   ]
  },
  {
   "cell_type": "markdown",
   "id": "74f4d8c3-1587-479d-a2fd-7889d6140d86",
   "metadata": {},
   "source": [
    "Let's setup the basic training loop:"
   ]
  },
  {
   "cell_type": "code",
   "execution_count": 26,
   "id": "2203c8da-124f-4efd-9f55-378740cdadcd",
   "metadata": {
    "tags": []
   },
   "outputs": [],
   "source": [
    "# Recreate the model before running the training\n",
    "model = Model(m, nh, c)"
   ]
  },
  {
   "cell_type": "code",
   "execution_count": 27,
   "id": "18d4cb29-f186-4617-99f4-14a2ae088046",
   "metadata": {
    "tags": []
   },
   "outputs": [
    {
     "name": "stdout",
     "output_type": "stream",
     "text": [
      "epoch:0 \t accuracy:0.875000 \t loss:0.289887\n",
      "epoch:1 \t accuracy:1.000000 \t loss:0.109148\n",
      "epoch:2 \t accuracy:1.000000 \t loss:0.031370\n"
     ]
    }
   ],
   "source": [
    "batch_size = 64\n",
    "epochs = 3\n",
    "lr = 0.5\n",
    "\n",
    "for epoch in range(epochs):\n",
    "\n",
    "    for i in range(0, x_train.shape[0], batch_size):\n",
    "        \n",
    "        # Create xb, yb batch - this operation is way slower than slice\n",
    "        if i+batch_size > x_train.shape[0]:\n",
    "            xb = x_train[i:]\n",
    "            yb = y_train[i:]\n",
    "        else:\n",
    "            xb = x_train[i:i+batch_size] # x batch\n",
    "            yb = y_train[i:i+batch_size] # y batch\n",
    "            \n",
    "        preds = model(xb)\n",
    "        loss = F.cross_entropy(preds, yb)\n",
    "        loss.backward()\n",
    "        \n",
    "        with torch.no_grad():\n",
    "            for l in model.layers:\n",
    "                if hasattr(l, \"weight\"):\n",
    "                    l.weight -= l.weight.grad * lr\n",
    "                    l.bias -= l.bias.grad * lr\n",
    "                    l.weight.grad.zero_()\n",
    "                    l.bias.grad.zero_()\n",
    "    print(f\"epoch:{epoch} \\t accuracy:{accuracy(preds, yb).item():.6f} \\t loss:{loss.item():.6f}\")"
   ]
  },
  {
   "cell_type": "markdown",
   "id": "0830b391-71ed-4a58-b650-865aebebc756",
   "metadata": {
    "tags": []
   },
   "source": [
    "### Using `slice`\n",
    "\n",
    "The `slice()` function returns a `slice object` that is used to slice any sequence (string, tuple, list, range, or bytes). So, we can use it to slice the training tensors."
   ]
  },
  {
   "cell_type": "code",
   "execution_count": 28,
   "id": "2712c226-61c2-4962-9245-375d797f5efa",
   "metadata": {
    "tags": []
   },
   "outputs": [],
   "source": [
    "model = Model(m, nh, c)"
   ]
  },
  {
   "cell_type": "code",
   "execution_count": 29,
   "id": "9186d6de-f896-4283-80b5-eac793197016",
   "metadata": {
    "tags": []
   },
   "outputs": [
    {
     "name": "stdout",
     "output_type": "stream",
     "text": [
      "epoch:0 \t accuracy:0.938 \t loss:0.28130\n",
      "epoch:1 \t accuracy:1.000 \t loss:0.05041\n",
      "epoch:2 \t accuracy:1.000 \t loss:0.03098\n"
     ]
    }
   ],
   "source": [
    "bs = 64\n",
    "epochs = 3\n",
    "lr = 0.5\n",
    "n_inp = x_train.shape[0]\n",
    "\n",
    "for epoch in range(epochs):\n",
    "    for i in range(0, n_inp, 64):\n",
    "        s = slice(i, min(n_inp, i + bs))\n",
    "        xb, yb = x_train[s], y_train[s]\n",
    "        preds = model(xb)\n",
    "        loss = F.cross_entropy(preds, yb)\n",
    "        loss.backward()\n",
    "        \n",
    "        with torch.no_grad():\n",
    "            for l in model.layers:\n",
    "                if hasattr(l, \"weight\"):\n",
    "                    l.weight -= l.weight.grad * lr\n",
    "                    l.bias -= l.bias.grad * lr\n",
    "                    l.weight.grad.zero_()\n",
    "                    l.bias.grad.zero_()\n",
    "    report(epoch, preds, yb, loss)"
   ]
  },
  {
   "cell_type": "markdown",
   "id": "ee4062cd-8fa0-45e1-a9bf-73869919bbb7",
   "metadata": {},
   "source": [
    "### PyTorch parameters\n",
    "\n",
    "We are going to reduce the code size for the parameter update.\n",
    "\n",
    "If we create an object which inherits from `nn.Module`, we can assign arbitrary parameters to it and traverse them as well:"
   ]
  },
  {
   "cell_type": "code",
   "execution_count": 37,
   "id": "eba11b9c-f657-4d38-b119-15c961aec37e",
   "metadata": {
    "tags": []
   },
   "outputs": [
    {
     "data": {
      "text/plain": [
       "Module(\n",
       "  (foo): Linear(in_features=3, out_features=4, bias=True)\n",
       "  (bar): Linear(in_features=4, out_features=1, bias=True)\n",
       ")"
      ]
     },
     "execution_count": 37,
     "metadata": {},
     "output_type": "execute_result"
    }
   ],
   "source": [
    "m1 = nn.Module()\n",
    "m1.foo = nn.Linear(3, 4)\n",
    "m1.bar = nn.Linear(4, 1)\n",
    "m1"
   ]
  },
  {
   "cell_type": "code",
   "execution_count": 38,
   "id": "a9a08786-500e-489a-a17f-8e8e60330204",
   "metadata": {
    "tags": []
   },
   "outputs": [
    {
     "data": {
      "text/plain": [
       "[('foo', Linear(in_features=3, out_features=4, bias=True)),\n",
       " ('bar', Linear(in_features=4, out_features=1, bias=True))]"
      ]
     },
     "execution_count": 38,
     "metadata": {},
     "output_type": "execute_result"
    }
   ],
   "source": [
    "# This allows us to access the attributes of m1\n",
    "list(m1.named_children())"
   ]
  },
  {
   "cell_type": "code",
   "execution_count": 39,
   "id": "a0299eae-8091-41a6-b784-e3c6b3dff9e3",
   "metadata": {
    "tags": []
   },
   "outputs": [
    {
     "data": {
      "text/plain": [
       "[Parameter containing:\n",
       " tensor([[-0.1181, -0.0741, -0.3407],\n",
       "         [-0.1159,  0.3236, -0.3029],\n",
       "         [ 0.4393,  0.0018, -0.0367],\n",
       "         [-0.0434, -0.0732,  0.1620]], requires_grad=True),\n",
       " Parameter containing:\n",
       " tensor([-0.5265,  0.3642, -0.4719,  0.4090], requires_grad=True),\n",
       " Parameter containing:\n",
       " tensor([[-0.3864,  0.4349,  0.1469, -0.3742]], requires_grad=True),\n",
       " Parameter containing:\n",
       " tensor([-0.4837], requires_grad=True)]"
      ]
     },
     "execution_count": 39,
     "metadata": {},
     "output_type": "execute_result"
    }
   ],
   "source": [
    "# This prints the weights and bias matrices\n",
    "list(m1.parameters())"
   ]
  },
  {
   "cell_type": "code",
   "execution_count": 71,
   "id": "4502bac4-ad18-4e8f-a7d1-52d5d9bbf7a3",
   "metadata": {
    "tags": []
   },
   "outputs": [],
   "source": [
    "class MLP(nn.Module):\n",
    "    \"\"\" Simple Multi Layer Perceptron to illustrate the use of parameter. \"\"\"\n",
    "    \n",
    "    def __init__(self, n_in, nh, n_out):\n",
    "        super().__init__()\n",
    "        self.l1 = nn.Linear(n_in, nh)\n",
    "        self.l2 = nn.Linear(nh, n_out)\n",
    "        self.relu = nn.ReLU()\n",
    "        \n",
    "    def forward(self, x):\n",
    "        \"\"\" Forward pass \"\"\"\n",
    "        return self.l2(self.relu(self.l1(x)))"
   ]
  },
  {
   "cell_type": "code",
   "execution_count": 55,
   "id": "0cf5f17d-bf18-4c7e-a92b-881e7d5cd204",
   "metadata": {
    "tags": []
   },
   "outputs": [
    {
     "data": {
      "text/plain": [
       "MLP(\n",
       "  (l1): Linear(in_features=784, out_features=50, bias=True)\n",
       "  (l2): Linear(in_features=50, out_features=10, bias=True)\n",
       "  (relu): ReLU()\n",
       ")"
      ]
     },
     "execution_count": 55,
     "metadata": {},
     "output_type": "execute_result"
    }
   ],
   "source": [
    "model = MLP(m, nh, c)\n",
    "model"
   ]
  },
  {
   "cell_type": "code",
   "execution_count": 56,
   "id": "3f55128d-2df0-459b-bb87-b639859d58c2",
   "metadata": {
    "tags": []
   },
   "outputs": [
    {
     "name": "stdout",
     "output_type": "stream",
     "text": [
      "l1: Linear(in_features=784, out_features=50, bias=True)\n",
      "l2: Linear(in_features=50, out_features=10, bias=True)\n",
      "relu: ReLU()\n"
     ]
    }
   ],
   "source": [
    "for name, l in model.named_children():\n",
    "    print(f\"{name}: {l}\")"
   ]
  },
  {
   "cell_type": "markdown",
   "id": "acf07a0f-e000-41f6-966c-a576e8b0864f",
   "metadata": {
    "tags": []
   },
   "source": [
    "You can access the parameteres (`weights` and `biases`) of each layer of the model:"
   ]
  },
  {
   "cell_type": "code",
   "execution_count": 57,
   "id": "ecf5bb8f-90f7-4e1c-bdbc-bc1fcaf694bc",
   "metadata": {
    "tags": []
   },
   "outputs": [
    {
     "name": "stdout",
     "output_type": "stream",
     "text": [
      "torch.Size([50, 784])\n",
      "torch.Size([50])\n",
      "torch.Size([10, 50])\n",
      "torch.Size([10])\n"
     ]
    }
   ],
   "source": [
    "for p in model.parameters():\n",
    "    print(p.shape)"
   ]
  },
  {
   "cell_type": "markdown",
   "id": "c56e18ef-c1cc-485e-9f31-620ea430db57",
   "metadata": {},
   "source": [
    "That means, we can update them in the loop we hade defined before:"
   ]
  },
  {
   "cell_type": "code",
   "execution_count": 103,
   "id": "0f7ba91b-8c7e-41ba-98e5-cf0c42f353f1",
   "metadata": {
    "tags": []
   },
   "outputs": [],
   "source": [
    "model = MLP(m, nh, c)\n",
    "bs = 64\n",
    "epochs = 3\n",
    "lr = 0.5\n",
    "n_inp = x_train.shape[0]"
   ]
  },
  {
   "cell_type": "code",
   "execution_count": 164,
   "id": "3bc366d7-a2d4-449e-a2c7-fe53cc530519",
   "metadata": {
    "tags": []
   },
   "outputs": [],
   "source": [
    "def fit(model=model, epochs=3):\n",
    "    \"\"\" Basic loop using Torch model parameters to update their gradients. \"\"\"\n",
    "    for epoch in range(epochs):\n",
    "        for i in range(0, n_inp, bs):\n",
    "            s = slice(i, min(n_inp, i+bs))\n",
    "            xb = x_train[s]\n",
    "            yb = y_train[s]\n",
    "            preds = model(xb) # We are now using the MLP model\n",
    "            loss = F.cross_entropy(preds, yb)\n",
    "            loss.backward()\n",
    "            \n",
    "            with torch.no_grad():\n",
    "                for p in model.parameters():\n",
    "                    p -= p.grad*lr\n",
    "                model.zero_grad() # Reset gradients for all model parameters\n",
    "        report(epoch, preds, yb, loss)"
   ]
  },
  {
   "cell_type": "code",
   "execution_count": 142,
   "id": "9211cdef-9694-4e34-83e0-6fef47ea52b1",
   "metadata": {
    "tags": []
   },
   "outputs": [
    {
     "name": "stdout",
     "output_type": "stream",
     "text": [
      "epoch:0 \t accuracy:0.938 \t loss:0.20877\n",
      "epoch:1 \t accuracy:0.938 \t loss:0.09138\n",
      "epoch:2 \t accuracy:1.000 \t loss:0.06136\n"
     ]
    }
   ],
   "source": [
    "fit()"
   ]
  },
  {
   "cell_type": "markdown",
   "id": "49880cec-c432-4962-a632-68658265a0da",
   "metadata": {},
   "source": [
    "#### How it works in the background"
   ]
  },
  {
   "cell_type": "code",
   "execution_count": 118,
   "id": "e610d333-6216-4e03-9473-2f0643b8b69a",
   "metadata": {
    "tags": []
   },
   "outputs": [],
   "source": [
    "class MyModule:\n",
    "    def __init__(self, n_in, nh, n_out):\n",
    "        self._modules = {}\n",
    "        self.l1 = nn.Linear(n_in,nh)\n",
    "        self.l2 = nn.Linear(nh,n_out)\n",
    "        \n",
    "    def __setattr__(self, k, v):\n",
    "        \"\"\" This is how PyTorch.nn.Module stores the children of the model. \"\"\"\n",
    "        if not k.startswith(\"_\"):\n",
    "            self._modules[k] = v\n",
    "        super().__setattr__(k, v)\n",
    "    \n",
    "    def __repr__(self):\n",
    "        return f\"{self._modules}\"\n",
    "    \n",
    "    def parameters(self):\n",
    "        \"\"\" How to traverse parametes \"\"\"\n",
    "        for l in self._modules.values():\n",
    "            yield from l.parameters()  "
   ]
  },
  {
   "cell_type": "code",
   "execution_count": 119,
   "id": "4bcf22c1-f957-48e3-926d-a1744c0b02eb",
   "metadata": {
    "tags": []
   },
   "outputs": [
    {
     "data": {
      "text/plain": [
       "{'l1': Linear(in_features=784, out_features=50, bias=True), 'l2': Linear(in_features=50, out_features=10, bias=True)}"
      ]
     },
     "execution_count": 119,
     "metadata": {},
     "output_type": "execute_result"
    }
   ],
   "source": [
    "mymodel = MyModule(m, nh, c)\n",
    "mymodel"
   ]
  },
  {
   "cell_type": "code",
   "execution_count": 122,
   "id": "4bb4b920-2837-4526-b79e-4f977752c985",
   "metadata": {
    "tags": []
   },
   "outputs": [
    {
     "name": "stdout",
     "output_type": "stream",
     "text": [
      "torch.Size([50, 784])\n",
      "torch.Size([50])\n",
      "torch.Size([10, 50])\n",
      "torch.Size([10])\n"
     ]
    }
   ],
   "source": [
    "for p in mymodel.parameters():\n",
    "    print(p.shape)"
   ]
  },
  {
   "cell_type": "markdown",
   "id": "3532e8c4-82b9-4684-8067-3bf5ea8dddb1",
   "metadata": {},
   "source": [
    "### Registering layers in model - from scratch\n",
    "\n",
    "How do we registers all the layers in our model at once?"
   ]
  },
  {
   "cell_type": "code",
   "execution_count": 149,
   "id": "9637faa8-6bdb-49d2-97f8-f5806d40aa1d",
   "metadata": {
    "tags": []
   },
   "outputs": [],
   "source": [
    "# Suppose we store the layers in a variable\n",
    "layers = [nn.Linear(m, nh), nn.ReLU(), nn.Linear(nh, c)]"
   ]
  },
  {
   "cell_type": "code",
   "execution_count": 134,
   "id": "46289d90-2417-4919-9684-f93c682baa24",
   "metadata": {
    "tags": []
   },
   "outputs": [],
   "source": [
    "class Model(nn.Module):\n",
    "    \n",
    "    def __init__(self, layers):\n",
    "        super().__init__()\n",
    "        self.layers = layers\n",
    "        for i, l in enumerate(self.layers):\n",
    "            self.add_module(f\"layer_{i}\", l) # This adds the modules to the module\n",
    "        \n",
    "    def forward(self, x):\n",
    "        for l in self.layers:\n",
    "            x = l(x)\n",
    "        return x"
   ]
  },
  {
   "cell_type": "code",
   "execution_count": 137,
   "id": "d36a685f-a516-4f75-af42-864ea15a8fbc",
   "metadata": {
    "tags": []
   },
   "outputs": [
    {
     "data": {
      "text/plain": [
       "Model(\n",
       "  (layer_0): Linear(in_features=784, out_features=50, bias=True)\n",
       "  (layer_1): ReLU()\n",
       "  (layer_2): Linear(in_features=50, out_features=10, bias=True)\n",
       ")"
      ]
     },
     "execution_count": 137,
     "metadata": {},
     "output_type": "execute_result"
    }
   ],
   "source": [
    "model = Model(layers)\n",
    "model"
   ]
  },
  {
   "cell_type": "markdown",
   "id": "e6906215-211a-4b1b-b932-c283771da10b",
   "metadata": {},
   "source": [
    "It's apparent that **we're building a sequential model**."
   ]
  },
  {
   "cell_type": "markdown",
   "id": "fb4cbf73-6978-4fe5-b129-d31cf5f91847",
   "metadata": {
    "tags": []
   },
   "source": [
    "#### Going to PyTorch - `nn.ModuleList()`\n",
    "\n",
    "`PyTorch` allows use to add module with the `nn.ModuleList()` function.\n",
    "\n",
    "https://pytorch.org/docs/stable/generated/torch.nn.ModuleList.html#modulelist"
   ]
  },
  {
   "cell_type": "code",
   "execution_count": 153,
   "id": "75e9e879-2286-4b5d-8da3-348c55b14d97",
   "metadata": {
    "tags": []
   },
   "outputs": [],
   "source": [
    "class SequentialModel(nn.Module):\n",
    "    def __init__(self, layers):\n",
    "        super().__init__()\n",
    "        self.linears = nn.ModuleList(layers) # Create sequential model\n",
    "\n",
    "    def forward(self, x):\n",
    "        for i, l in enumerate(self.linears):\n",
    "            x = l(x)\n",
    "        return x\n",
    "        # return reduce(lambda val,layer: layer(val), self.layers, x)\n",
    "    # Python reduce: https://realpython.com/python-reduce-function/"
   ]
  },
  {
   "cell_type": "code",
   "execution_count": 154,
   "id": "bc15addb-92de-4a72-9943-aff433a2929a",
   "metadata": {
    "tags": []
   },
   "outputs": [
    {
     "data": {
      "text/plain": [
       "SequentialModel(\n",
       "  (linears): ModuleList(\n",
       "    (0): Linear(in_features=784, out_features=50, bias=True)\n",
       "    (1): ReLU()\n",
       "    (2): Linear(in_features=50, out_features=10, bias=True)\n",
       "  )\n",
       ")"
      ]
     },
     "execution_count": 154,
     "metadata": {},
     "output_type": "execute_result"
    }
   ],
   "source": [
    "seqmodel = SequentialModel(layers)\n",
    "seqmodel"
   ]
  },
  {
   "cell_type": "code",
   "execution_count": 151,
   "id": "30f5c9fe-650d-4eb8-8b02-4072c28e083c",
   "metadata": {
    "tags": []
   },
   "outputs": [
    {
     "name": "stdout",
     "output_type": "stream",
     "text": [
      "epoch:0 \t accuracy:0.938 \t loss:0.26509\n",
      "epoch:1 \t accuracy:1.000 \t loss:0.05742\n",
      "epoch:2 \t accuracy:1.000 \t loss:0.03991\n"
     ]
    }
   ],
   "source": [
    "fit(model=seqmodel)"
   ]
  },
  {
   "cell_type": "markdown",
   "id": "4d6bc782-3db1-471b-a71d-f1ad70375d29",
   "metadata": {
    "tags": []
   },
   "source": [
    "#### Going to PyTorch - `nn.Sequential()`"
   ]
  },
  {
   "cell_type": "code",
   "execution_count": 162,
   "id": "097275c0-be0f-44d0-af77-245e1329d2e6",
   "metadata": {
    "tags": []
   },
   "outputs": [
    {
     "data": {
      "text/plain": [
       "Sequential(\n",
       "  (0): Linear(in_features=784, out_features=50, bias=True)\n",
       "  (1): ReLU()\n",
       "  (2): Linear(in_features=50, out_features=10, bias=True)\n",
       ")"
      ]
     },
     "execution_count": 162,
     "metadata": {},
     "output_type": "execute_result"
    }
   ],
   "source": [
    "model = nn.Sequential(nn.Linear(m, nh), nn.ReLU(), nn.Linear(nh, c))\n",
    "model"
   ]
  },
  {
   "cell_type": "code",
   "execution_count": 163,
   "id": "6e17ff4b-60e4-4c8d-b078-57e27ea6f827",
   "metadata": {
    "tags": []
   },
   "outputs": [
    {
     "name": "stdout",
     "output_type": "stream",
     "text": [
      "epoch:0 \t accuracy:0.938 \t loss:0.26006\n",
      "epoch:1 \t accuracy:0.938 \t loss:0.12742\n",
      "epoch:2 \t accuracy:1.000 \t loss:0.04654\n"
     ]
    }
   ],
   "source": [
    "fit(model=model)"
   ]
  },
  {
   "cell_type": "markdown",
   "id": "f0bfe185-ceaa-439f-8057-8bea42d3e878",
   "metadata": {},
   "source": [
    "### SGD Optimizer - from scratch\n",
    "\n",
    "Finding the gradients of the layers and updating the parameters is a common step. An optimizer is a function which does that for us.\n",
    "\n",
    "```Python\n",
    "with torch.no_grad():\n",
    "    for p in model.parameters():\n",
    "        p -= p.grad*lr\n",
    "    model.zero_grad() # Reset gradients for all model parameters\n",
    "```\n",
    "\n",
    "Let's create our own `optimizer`."
   ]
  },
  {
   "cell_type": "code",
   "execution_count": 184,
   "id": "d930256a-2fcc-4ff8-9edd-09baf19c2691",
   "metadata": {
    "tags": []
   },
   "outputs": [],
   "source": [
    "class Optimizer():\n",
    "    def __init__(self, params, lr=0.5):\n",
    "        self.params = list(params)\n",
    "        self.lr = lr\n",
    "        \n",
    "    def step(self):\n",
    "        with torch.no_grad():\n",
    "            for p in self.params:\n",
    "                p -= p.grad * self.lr\n",
    "                \n",
    "    def zero_grad(self):\n",
    "        for p in self.params:\n",
    "            p.grad.data.zero_()"
   ]
  },
  {
   "cell_type": "code",
   "execution_count": 197,
   "id": "6ed54b23-9754-4437-9f78-6aa4a36005d3",
   "metadata": {
    "tags": []
   },
   "outputs": [],
   "source": [
    "model = nn.Sequential(nn.Linear(m, nh), nn.ReLU(), nn.Linear(nh, c))"
   ]
  },
  {
   "cell_type": "code",
   "execution_count": 198,
   "id": "a016ea31-c812-44f2-b441-9822d2c57366",
   "metadata": {
    "tags": []
   },
   "outputs": [],
   "source": [
    "# We create opt as an object of the model's parameters\n",
    "opt = Optimizer(model.parameters())"
   ]
  },
  {
   "cell_type": "code",
   "execution_count": 199,
   "id": "1220c91a-aa78-4d14-8812-f7ed8a9afab3",
   "metadata": {
    "tags": []
   },
   "outputs": [
    {
     "name": "stdout",
     "output_type": "stream",
     "text": [
      "epoch:0 \t accuracy:0.938 \t loss:0.27777\n",
      "epoch:1 \t accuracy:0.938 \t loss:0.12077\n",
      "epoch:2 \t accuracy:1.000 \t loss:0.06665\n"
     ]
    }
   ],
   "source": [
    "# New training loop\n",
    "\n",
    "for epoch in range(epochs):\n",
    "    for i in range(0, n, bs):\n",
    "        s = slice(i, min(i+bs, n))\n",
    "        xb = x_train[s]\n",
    "        yb = y_train[s]\n",
    "        preds = model(xb)\n",
    "        loss = F.cross_entropy(preds, yb)\n",
    "        loss.backward()\n",
    "        \n",
    "        # Out custom optimizer\n",
    "        opt.step()\n",
    "        opt.zero_grad()\n",
    "    report(epoch, preds, yb, loss)"
   ]
  },
  {
   "cell_type": "markdown",
   "id": "f5795599-cea4-4fe0-9d8b-f96c5ddef263",
   "metadata": {
    "tags": []
   },
   "source": [
    "PyTorch provides the same functionality with `optim.SGD`."
   ]
  },
  {
   "cell_type": "markdown",
   "id": "dbf08ae2-f3b0-4273-85e6-d803bc6feca0",
   "metadata": {
    "tags": []
   },
   "source": [
    "#### Going to PyTorch - `optim.SGD`."
   ]
  },
  {
   "cell_type": "code",
   "execution_count": 200,
   "id": "4e0d1133-b626-4b8e-b90a-6edb3089be1b",
   "metadata": {
    "tags": []
   },
   "outputs": [],
   "source": [
    "from torch import optim"
   ]
  },
  {
   "cell_type": "code",
   "execution_count": 201,
   "id": "f9adc040-1c7d-410b-b25c-1919c52be9ac",
   "metadata": {
    "tags": []
   },
   "outputs": [],
   "source": [
    "model = nn.Sequential(nn.Linear(m, nh), nn.ReLU(), nn.Linear(nh, c))\n",
    "opt = optim.SGD(model.parameters(), lr=0.5)"
   ]
  },
  {
   "cell_type": "code",
   "execution_count": 202,
   "id": "6b3ef14c-f08f-4c73-9975-a1ab0b284a98",
   "metadata": {
    "tags": []
   },
   "outputs": [
    {
     "name": "stdout",
     "output_type": "stream",
     "text": [
      "epoch:0 \t accuracy:0.938 \t loss:0.24661\n",
      "epoch:1 \t accuracy:0.938 \t loss:0.08220\n",
      "epoch:2 \t accuracy:1.000 \t loss:0.06311\n"
     ]
    }
   ],
   "source": [
    "for epoch in range(epochs):\n",
    "    for i in range(0, n, bs):\n",
    "        s = slice(i, min(i+bs, n))\n",
    "        xb = x_train[s]\n",
    "        yb = y_train[s]\n",
    "        preds = model(xb)\n",
    "        loss = F.cross_entropy(preds, yb)\n",
    "        loss.backward()\n",
    "        \n",
    "        # PyTorch's SGD optimizer\n",
    "        opt.step()\n",
    "        opt.zero_grad()\n",
    "    report(epoch, preds, yb, loss)"
   ]
  },
  {
   "cell_type": "code",
   "execution_count": 340,
   "id": "3dbfb062-ba1f-438d-b183-1d978646564e",
   "metadata": {
    "tags": []
   },
   "outputs": [],
   "source": [
    "#|export\n",
    "def get_lin_model():\n",
    "    _model = nn.Sequential(nn.Linear(m, nh), nn.ReLU(), nn.Linear(nh, c))\n",
    "    _opt = optim.SGD(_model.parameters(), lr=0.5)\n",
    "    return _model, _opt"
   ]
  },
  {
   "cell_type": "markdown",
   "id": "4d3842aa-dbce-4951-a25a-08c4d33e4be0",
   "metadata": {},
   "source": [
    "## Dataset and DataLoader\n",
    "\n",
    "We're going to create the `Dataset` and `DataLoader` from scratch to understand how they're implemented in `PyTorch`."
   ]
  },
  {
   "cell_type": "markdown",
   "id": "af0bb5bc-b130-4ffb-9dca-143fd81d5d00",
   "metadata": {},
   "source": [
    "### Dataset\n",
    "\n",
    "We'll go from:\n",
    "\n",
    "```python\n",
    "s = slice(i, min(i+bs, n))\n",
    "xb = x_train[s]\n",
    "yb = y_train[s]\n",
    "```\n",
    "\n",
    "to\n",
    "\n",
    "```python\n",
    "xb,yb = train_ds[s]\n",
    "```"
   ]
  },
  {
   "cell_type": "code",
   "execution_count": 229,
   "id": "138e3750-e64b-4452-aac7-75cc029a15b9",
   "metadata": {
    "tags": []
   },
   "outputs": [],
   "source": [
    "#|export\n",
    "class Dataset():\n",
    "    def __init__(self, x, y):\n",
    "        self.x = x\n",
    "        self.y = y\n",
    "        \n",
    "    def __len__(self):\n",
    "        return len(self.x)\n",
    "    \n",
    "    def __getitem__(self, s):\n",
    "        \"\"\" Slicing function: replaced slice() \"\"\"\n",
    "        return self.x[s], self.y[s]"
   ]
  },
  {
   "cell_type": "code",
   "execution_count": 230,
   "id": "a186c205-ed87-4e01-9f02-13f3bc0c55f5",
   "metadata": {
    "tags": []
   },
   "outputs": [],
   "source": [
    "train_ds, valid_ds = Dataset(x_train, y_train), Dataset(x_valid, y_valid)\n",
    "assert len(train_ds) == len(x_train)\n",
    "assert len(valid_ds) == len(y_valid)"
   ]
  },
  {
   "cell_type": "code",
   "execution_count": 231,
   "id": "9e22da11-38f2-496f-ad66-024288c06871",
   "metadata": {
    "tags": []
   },
   "outputs": [
    {
     "data": {
      "text/plain": [
       "(tensor([[0., 0., 0.,  ..., 0., 0., 0.],\n",
       "         [0., 0., 0.,  ..., 0., 0., 0.],\n",
       "         [0., 0., 0.,  ..., 0., 0., 0.],\n",
       "         [0., 0., 0.,  ..., 0., 0., 0.],\n",
       "         [0., 0., 0.,  ..., 0., 0., 0.]]),\n",
       " tensor([5, 0, 4, 1, 9]))"
      ]
     },
     "execution_count": 231,
     "metadata": {},
     "output_type": "execute_result"
    }
   ],
   "source": [
    "xb, yb = train_ds[0:5]\n",
    "assert xb.shape == (5, 28*28)\n",
    "assert yb.shape == (5,)\n",
    "xb, yb"
   ]
  },
  {
   "cell_type": "code",
   "execution_count": 226,
   "id": "7027e1b4-6f42-44ec-b199-5f495f07b083",
   "metadata": {
    "tags": []
   },
   "outputs": [],
   "source": [
    "model, opt = get_lin_model()"
   ]
  },
  {
   "cell_type": "code",
   "execution_count": 227,
   "id": "de2ccc36-758d-4768-91a6-0f95dc8d8294",
   "metadata": {
    "tags": []
   },
   "outputs": [],
   "source": [
    "# New fit function with Dataset class\n",
    "def fit(model = model, opt = opt):\n",
    "    for epoch in range(epochs):\n",
    "        for i in range(0, n, bs):\n",
    "            xb, yb = train_ds[i:min(n, i+bs)]\n",
    "            preds = model(xb)\n",
    "            loss = F.cross_entropy(preds, yb)\n",
    "            loss.backward()\n",
    "            opt.step()\n",
    "            opt.zero_grad()\n",
    "        report(epoch, preds, yb, loss)"
   ]
  },
  {
   "cell_type": "code",
   "execution_count": 228,
   "id": "ad01d82f-878d-421d-b2c5-85169423255a",
   "metadata": {
    "tags": []
   },
   "outputs": [
    {
     "name": "stdout",
     "output_type": "stream",
     "text": [
      "epoch:0 \t accuracy:0.938 \t loss:0.20341\n",
      "epoch:1 \t accuracy:1.000 \t loss:0.08491\n",
      "epoch:2 \t accuracy:1.000 \t loss:0.05776\n"
     ]
    }
   ],
   "source": [
    "fit()"
   ]
  },
  {
   "cell_type": "markdown",
   "id": "105db3c3-1f15-4e8d-90ad-cdb45b0ea2f1",
   "metadata": {},
   "source": [
    "### DataLoader\n",
    "\n",
    "We are going to replace:\n",
    "\n",
    "```Python\n",
    "for i in range(0, n, bs):\n",
    "    xb, yb = train_ds[i:min(n, i+bs)]\n",
    "```\n",
    "with:\n",
    "```Python\n",
    "for xb, yb in train_dl:\n",
    "    ...\n",
    "```\n",
    "\n",
    "So we need to create an itterator with `__iter__()` and `yield`."
   ]
  },
  {
   "cell_type": "code",
   "execution_count": 238,
   "id": "7cbd67d1-3773-4353-b947-e64905bd287e",
   "metadata": {
    "tags": []
   },
   "outputs": [],
   "source": [
    "class DataLoader():\n",
    "    def __init__(self, ds, bs):\n",
    "        self.ds = ds\n",
    "        self.bs = bs\n",
    "    def __iter__(self):\n",
    "        for i in range(0, len(self.ds), self.bs):\n",
    "            yield self.ds[i:min(len(self.ds), i+self.bs)]"
   ]
  },
  {
   "cell_type": "code",
   "execution_count": 254,
   "id": "33330811-9123-47e3-8ec5-76ce4c2ee88d",
   "metadata": {
    "tags": []
   },
   "outputs": [],
   "source": [
    "train_dl = DataLoader(train_ds, bs)\n",
    "valid_dl = DataLoader(valid_ds, bs)"
   ]
  },
  {
   "cell_type": "code",
   "execution_count": 241,
   "id": "978daa37-7670-47c7-ab75-cb5966618092",
   "metadata": {
    "tags": []
   },
   "outputs": [
    {
     "data": {
      "text/plain": [
       "(torch.Size([64, 784]), torch.Size([64]))"
      ]
     },
     "execution_count": 241,
     "metadata": {},
     "output_type": "execute_result"
    }
   ],
   "source": [
    "xb, yb = next(iter(train_dl))\n",
    "xb.shape, yb.shape"
   ]
  },
  {
   "cell_type": "code",
   "execution_count": 242,
   "id": "c4512aad-f598-40fa-b39c-7d30e96a83a7",
   "metadata": {
    "tags": []
   },
   "outputs": [
    {
     "data": {
      "text/plain": [
       "tensor([5, 0, 4, 1, 9, 2, 1, 3, 1, 4, 3, 5, 3, 6, 1, 7, 2, 8, 6, 9, 4, 0, 9, 1,\n",
       "        1, 2, 4, 3, 2, 7, 3, 8, 6, 9, 0, 5, 6, 0, 7, 6, 1, 8, 7, 9, 3, 9, 8, 5,\n",
       "        9, 3, 3, 0, 7, 4, 9, 8, 0, 9, 4, 1, 4, 4, 6, 0])"
      ]
     },
     "execution_count": 242,
     "metadata": {},
     "output_type": "execute_result"
    }
   ],
   "source": [
    "yb"
   ]
  },
  {
   "cell_type": "code",
   "execution_count": 250,
   "id": "05de6684-0e80-4911-9d05-5125c7a46289",
   "metadata": {
    "tags": []
   },
   "outputs": [
    {
     "data": {
      "text/plain": [
       "<matplotlib.image.AxesImage at 0x7fe56ab4f250>"
      ]
     },
     "execution_count": 250,
     "metadata": {},
     "output_type": "execute_result"
    },
    {
     "data": {
      "image/png": "[encoded data removed]",
      "text/plain": [
       "<Figure size 640x480 with 1 Axes>"
      ]
     },
     "metadata": {},
     "output_type": "display_data"
    }
   ],
   "source": [
    "plt.imshow(xb[7].view(28, 28), cmap='gray')"
   ]
  },
  {
   "cell_type": "code",
   "execution_count": 255,
   "id": "e62c773a-5205-4a8f-823f-b32770b50613",
   "metadata": {
    "tags": []
   },
   "outputs": [],
   "source": [
    "model, opt = get_lin_model()"
   ]
  },
  {
   "cell_type": "code",
   "execution_count": 256,
   "id": "48c244c7-dbd0-4d72-b9a7-c4ec7d4bdea7",
   "metadata": {
    "tags": []
   },
   "outputs": [],
   "source": [
    "def fit():\n",
    "    for epoch in range(epochs):\n",
    "        for xb, yb in train_dl:\n",
    "            preds = model(xb)\n",
    "            loss = F.cross_entropy(preds, yb)\n",
    "            loss.backward()\n",
    "            opt.step()\n",
    "            opt.zero_grad()\n",
    "        report(epoch, preds, yb, loss)"
   ]
  },
  {
   "cell_type": "code",
   "execution_count": 257,
   "id": "4cdb2b70-0b8e-48f7-9c2e-a7f2c6f51a9c",
   "metadata": {
    "tags": []
   },
   "outputs": [
    {
     "name": "stdout",
     "output_type": "stream",
     "text": [
      "epoch:0 \t accuracy:0.875 \t loss:0.25264\n",
      "epoch:1 \t accuracy:0.938 \t loss:0.16140\n",
      "epoch:2 \t accuracy:0.938 \t loss:0.10023\n"
     ]
    }
   ],
   "source": [
    "fit()"
   ]
  },
  {
   "cell_type": "markdown",
   "id": "04b567e5-eae4-4681-9176-634167203a36",
   "metadata": {},
   "source": [
    "### Batch randomizer\n",
    "\n",
    "Now, we have created a way to load datasets into the traininig function. However, the DataLoaderes are sequential - they fetch items in a sequence.\n",
    "\n",
    "One feature we can add to the `DataLoader` is a shuffler, which fetches random data from the training set."
   ]
  },
  {
   "cell_type": "code",
   "execution_count": 258,
   "id": "1728c9e5-e45f-4864-8d22-9ee4ab3019f5",
   "metadata": {
    "tags": []
   },
   "outputs": [],
   "source": [
    "import random"
   ]
  },
  {
   "cell_type": "code",
   "execution_count": 274,
   "id": "a69a98be-89b5-4f83-8a32-f76dd23961bc",
   "metadata": {
    "tags": []
   },
   "outputs": [],
   "source": [
    "class Sampler():\n",
    "    \n",
    "    def __init__(self, ds, shuffle=False):\n",
    "        self.n = len(ds)\n",
    "        self.shuffle = shuffle\n",
    "        \n",
    "    def __iter__(self):\n",
    "        \"\"\" Returns the indexes which we're going to use to create xb and yb\"\"\"\n",
    "        result = list(range(self.n))\n",
    "        if self.shuffle:\n",
    "            random.shuffle(result)\n",
    "        return iter(result)"
   ]
  },
  {
   "cell_type": "code",
   "execution_count": 269,
   "id": "54852296-e71c-4510-9e6f-60e3b6e79047",
   "metadata": {
    "tags": []
   },
   "outputs": [],
   "source": [
    "from itertools import islice"
   ]
  },
  {
   "cell_type": "code",
   "execution_count": 275,
   "id": "04b76b86-f2e9-4b7e-b6e7-b5fa91dfd9a9",
   "metadata": {
    "tags": []
   },
   "outputs": [
    {
     "data": {
      "text/plain": [
       "[0, 1, 2, 3, 4]"
      ]
     },
     "execution_count": 275,
     "metadata": {},
     "output_type": "execute_result"
    }
   ],
   "source": [
    "ss = Sampler(train_ds) # If shuffle==False\n",
    "list(islice(ss, 5))"
   ]
  },
  {
   "cell_type": "code",
   "execution_count": 278,
   "id": "103daefa-4a07-4157-98cf-a71887a6393d",
   "metadata": {
    "tags": []
   },
   "outputs": [
    {
     "data": {
      "text/plain": [
       "[27911, 9797, 3179, 6012, 2541]"
      ]
     },
     "execution_count": 278,
     "metadata": {},
     "output_type": "execute_result"
    }
   ],
   "source": [
    "ss = Sampler(train_ds, shuffle=True)\n",
    "list(islice(ss, 5))"
   ]
  },
  {
   "cell_type": "markdown",
   "id": "cf6a448c-ecce-4521-80ad-d9ed2e4c0dc0",
   "metadata": {},
   "source": [
    "Now we can create random indexes for a single batch."
   ]
  },
  {
   "cell_type": "code",
   "execution_count": 295,
   "id": "abd6c744-0bf3-406e-8a05-d1ce07fc0aa6",
   "metadata": {
    "tags": []
   },
   "outputs": [],
   "source": [
    "import fastcore.all as fc"
   ]
  },
  {
   "cell_type": "code",
   "execution_count": 310,
   "id": "dcd8dbaf-0735-464a-bd69-95c6d7cea4d8",
   "metadata": {
    "tags": []
   },
   "outputs": [],
   "source": [
    "class BatchSampler():\n",
    "    \"\"\" Creates batch size Sampler slices. \"\"\"\n",
    "    def __init__(self, sampler, bs, drop_last=False):\n",
    "        fc.store_attr()\n",
    "    def __iter__(self):\n",
    "        \"\"\" Returns batches of indexes \"\"\"\n",
    "        yield from fc.chunked(iter(self.sampler), self.bs, drop_last=self.drop_last)"
   ]
  },
  {
   "cell_type": "code",
   "execution_count": 301,
   "id": "6735a711-ff25-4111-af92-d48b83658d87",
   "metadata": {
    "tags": []
   },
   "outputs": [
    {
     "data": {
      "text/plain": [
       "[[29348, 35338, 48222, 29460, 44853, 23000, 686, 9575, 48456, 8354],\n",
       " [29636, 35043, 14874, 4380, 13282, 31218, 25690, 1776, 22751, 8994],\n",
       " [11889, 6814, 3475, 24362, 21516, 34221, 29525, 29915, 45333, 36024],\n",
       " [42387, 12043, 46853, 22491, 4885, 9829, 31501, 33843, 36958, 22575],\n",
       " [42556, 5201, 5470, 19905, 13092, 28590, 9475, 17238, 34363, 23070],\n",
       " [12236, 812, 16667, 18688, 11400, 47723, 4271, 12877, 24966, 28019],\n",
       " [36065, 27811, 18273, 44961, 21658, 23411, 6569, 13712, 19907, 8099],\n",
       " [47989, 16975, 6621, 6945, 47815, 21232, 17006, 7387, 43863, 4304],\n",
       " [47577, 7338, 24473, 15429, 12262, 3224, 4245, 2511, 49857, 12969],\n",
       " [45787, 5109, 12028, 21551, 35988, 46082, 19365, 48860, 25614, 7778]]"
      ]
     },
     "execution_count": 301,
     "metadata": {},
     "output_type": "execute_result"
    }
   ],
   "source": [
    "batchs = BatchSampler(ss, 10)\n",
    "list(islice(batchs, 10))"
   ]
  },
  {
   "cell_type": "markdown",
   "id": "fe147c88-7334-4891-bedd-88b618f6e545",
   "metadata": {},
   "source": [
    "Now we can create batches of random indexes using `Sampler()` and `BatchSampler()`.\n",
    "\n",
    "However, we need to be returning `torch.Tensors`:"
   ]
  },
  {
   "cell_type": "code",
   "execution_count": 307,
   "id": "903d07d6-de03-4c90-b119-1713d60e2244",
   "metadata": {
    "tags": []
   },
   "outputs": [],
   "source": [
    "def collate(b):\n",
    "    \"\"\" Splits the x and y into the different tensors \"\"\"\n",
    "    xs, ys = zip(*b)\n",
    "    return torch.stack(xs), torch.stack(ys)"
   ]
  },
  {
   "cell_type": "code",
   "execution_count": 308,
   "id": "d55a55e0-8fe1-4e49-9bf6-2813bfe04402",
   "metadata": {
    "tags": []
   },
   "outputs": [],
   "source": [
    "class DataLoader():\n",
    "    def __init__(self, ds, batchs, collate_fn=collate):\n",
    "        fc.store_attr() # Stores everything in __init__() in a self variable\n",
    "        \n",
    "    def __iter__(self):\n",
    "        yield from (self.collate_fn(self.ds[i] for i in b) for b in self.batchs)"
   ]
  },
  {
   "cell_type": "code",
   "execution_count": 312,
   "id": "6c5b59c2-81ad-4fc7-8a6b-771fe59f4ed4",
   "metadata": {
    "tags": []
   },
   "outputs": [],
   "source": [
    "# Create the batch size indexes\n",
    "train_sample = BatchSampler(Sampler(train_ds, shuffle=True), bs)\n",
    "valid_sample = BatchSampler(Sampler(train_ds, shuffle=False), bs)"
   ]
  },
  {
   "cell_type": "code",
   "execution_count": 313,
   "id": "204da9ec-0297-497e-a949-76cf8b44954f",
   "metadata": {
    "tags": []
   },
   "outputs": [],
   "source": [
    "# Create the actual iterators over the training and validation Datasets\n",
    "train_dl = DataLoader(train_ds, batchs=train_sample)\n",
    "valid_dl = DataLoader(valid_ds, batchs=valid_sample)"
   ]
  },
  {
   "cell_type": "code",
   "execution_count": 323,
   "id": "ce94bd11-57ac-47fd-abbf-cfe3beb21fa0",
   "metadata": {
    "tags": []
   },
   "outputs": [],
   "source": [
    "xb, yb = next(iter(train_dl)) # That should fetch an xb shuffled"
   ]
  },
  {
   "cell_type": "code",
   "execution_count": 324,
   "id": "2612e162-d899-4e4d-b8de-20318234a4b5",
   "metadata": {
    "tags": []
   },
   "outputs": [
    {
     "data": {
      "text/plain": [
       "(torch.Size([64, 784]), torch.Size([64]))"
      ]
     },
     "execution_count": 324,
     "metadata": {},
     "output_type": "execute_result"
    }
   ],
   "source": [
    "xb.shape, yb.shape"
   ]
  },
  {
   "cell_type": "code",
   "execution_count": 325,
   "id": "48d25ef6-b076-43ba-b3a8-e270dfa58ed0",
   "metadata": {
    "tags": []
   },
   "outputs": [
    {
     "data": {
      "text/plain": [
       "<matplotlib.image.AxesImage at 0x7fe56a38c790>"
      ]
     },
     "execution_count": 325,
     "metadata": {},
     "output_type": "execute_result"
    },
    {
     "data": {
      "image/png": "[encoded data removed]",
      "text/plain": [
       "<Figure size 640x480 with 1 Axes>"
      ]
     },
     "metadata": {},
     "output_type": "display_data"
    }
   ],
   "source": [
    "plt.imshow(xb[50].view(28, 28), cmap=\"gray\")"
   ]
  },
  {
   "cell_type": "code",
   "execution_count": 326,
   "id": "e60de7b2-df23-4304-a18e-0d618e0e4891",
   "metadata": {
    "tags": []
   },
   "outputs": [],
   "source": [
    "model, opt = get_lin_model()"
   ]
  },
  {
   "cell_type": "code",
   "execution_count": 327,
   "id": "7b038c2d-7d19-481b-80ac-6309245351e5",
   "metadata": {
    "tags": []
   },
   "outputs": [
    {
     "name": "stdout",
     "output_type": "stream",
     "text": [
      "epoch:0 \t accuracy:0.875 \t loss:0.50107\n",
      "epoch:1 \t accuracy:1.000 \t loss:0.08248\n",
      "epoch:2 \t accuracy:1.000 \t loss:0.12113\n"
     ]
    }
   ],
   "source": [
    "fit()"
   ]
  },
  {
   "cell_type": "markdown",
   "id": "17b15653-5604-49ab-aebc-4c35b4b6c3cd",
   "metadata": {},
   "source": [
    "The `PyTorch`'s `DataLoaders` work exactly like the implementation above. However, it runs in parallel when the `DataLoader` class.\n",
    "\n",
    "**I skipped implementing the parallel `DataLoader`.**"
   ]
  },
  {
   "cell_type": "markdown",
   "id": "bca213d4-e55e-4aac-a825-819704615d6e",
   "metadata": {},
   "source": [
    "### Going to `PyTorch` `DataLoader`"
   ]
  },
  {
   "cell_type": "code",
   "execution_count": 341,
   "id": "b590b749-98a5-4d42-827b-2902eb1407b8",
   "metadata": {
    "tags": []
   },
   "outputs": [],
   "source": [
    "#|export\n",
    "from torch.utils.data import DataLoader, SequentialSampler, RandomSampler, BatchSampler"
   ]
  },
  {
   "cell_type": "code",
   "execution_count": 342,
   "id": "c4fab000-7097-45fb-8d46-c980d2790c8e",
   "metadata": {
    "tags": []
   },
   "outputs": [],
   "source": [
    "# Create the batch size indexes\n",
    "train_sample = BatchSampler(RandomSampler(train_ds), batch_size=bs, drop_last=False)\n",
    "valid_sample = BatchSampler(Sampler(train_ds, shuffle=False), batch_size=bs, drop_last=False)"
   ]
  },
  {
   "cell_type": "code",
   "execution_count": 343,
   "id": "306b7f5a-5708-4abc-b1cf-ac5f56cec2fb",
   "metadata": {
    "tags": []
   },
   "outputs": [],
   "source": [
    "# Create the DataLoaders using the indexes from above\n",
    "train_dl = DataLoader(train_ds, batch_sampler=train_sample, collate_fn=collate)\n",
    "valid_dl = DataLoader(valid_ds, batch_sampler=valid_sample, collate_fn=collate)"
   ]
  },
  {
   "cell_type": "code",
   "execution_count": 346,
   "id": "9c0b9472-15a6-44f2-bcb1-a8e026412511",
   "metadata": {
    "tags": []
   },
   "outputs": [
    {
     "name": "stdout",
     "output_type": "stream",
     "text": [
      "epoch:0 \t accuracy:0.938 \t loss:0.28049\n",
      "epoch:1 \t accuracy:1.000 \t loss:0.09918\n",
      "epoch:2 \t accuracy:1.000 \t loss:0.01024\n"
     ]
    }
   ],
   "source": [
    "model, opt = get_lin_model()\n",
    "fit()"
   ]
  },
  {
   "cell_type": "markdown",
   "id": "09deec4d-224c-4a5a-8178-23b3d6344f70",
   "metadata": {},
   "source": [
    "OR"
   ]
  },
  {
   "cell_type": "code",
   "execution_count": 347,
   "id": "418aa2da-302d-430e-a3fb-278279873614",
   "metadata": {
    "tags": []
   },
   "outputs": [],
   "source": [
    "train_dl = DataLoader(train_ds, sampler=RandomSampler(train_ds), collate_fn=collate)\n",
    "valid_dl = DataLoader(valid_ds, sampler=SequentialSampler(valid_ds), collate_fn=collate)"
   ]
  },
  {
   "cell_type": "code",
   "execution_count": 348,
   "id": "74d102ea-3dbc-4a77-b337-b623337152ba",
   "metadata": {
    "tags": []
   },
   "outputs": [
    {
     "name": "stdout",
     "output_type": "stream",
     "text": [
      "epoch:0 \t accuracy:0.000 \t loss:2.38125\n",
      "epoch:1 \t accuracy:0.000 \t loss:2.73254\n",
      "epoch:2 \t accuracy:1.000 \t loss:1.69010\n"
     ]
    }
   ],
   "source": [
    "model, opt = get_lin_model()\n",
    "fit()"
   ]
  },
  {
   "cell_type": "markdown",
   "id": "9e458319-5941-4c83-9d76-683f926baa29",
   "metadata": {},
   "source": [
    "#### Shorter version"
   ]
  },
  {
   "cell_type": "code",
   "execution_count": 349,
   "id": "66814c23-6b66-4ca7-b41d-5e0d3d968532",
   "metadata": {
    "tags": []
   },
   "outputs": [],
   "source": [
    "# A much shorter version which does everything together\n",
    "train_dl = DataLoader(train_ds, bs, shuffle=True, drop_last=True, num_workers=2)\n",
    "valid_dl = DataLoader(valid_ds, bs, shuffle=False, num_workers=2)"
   ]
  },
  {
   "cell_type": "code",
   "execution_count": 350,
   "id": "2e76265f-d01c-44f2-92ee-94bfbd0fcb66",
   "metadata": {
    "tags": []
   },
   "outputs": [
    {
     "name": "stdout",
     "output_type": "stream",
     "text": [
      "epoch:0 \t accuracy:0.922 \t loss:0.21675\n",
      "epoch:1 \t accuracy:0.938 \t loss:0.11969\n",
      "epoch:2 \t accuracy:0.984 \t loss:0.04421\n"
     ]
    }
   ],
   "source": [
    "model, opt = get_lin_model()\n",
    "fit()"
   ]
  },
  {
   "cell_type": "markdown",
   "id": "7d9778cf-2500-4e0c-b931-99be74b27922",
   "metadata": {},
   "source": [
    "## Validation\n",
    "\n",
    "We've improved out basic training loop. Now, we need to see how it's performing on the validation dataset.\n",
    "\n",
    "We will calculate and print the validation loss at the end of each epoch.\n",
    "\n",
    "(Note that we always call `model.train()` before training, and `model.eval()` before inference, because these are used by layers such as `nn.BatchNorm2d` and `nn.Dropout` to ensure appropriate behaviour for these different phases.)"
   ]
  },
  {
   "cell_type": "code",
   "execution_count": 368,
   "id": "83aaa459-efa8-40a6-80c2-d919d63c3ffc",
   "metadata": {
    "tags": []
   },
   "outputs": [],
   "source": [
    "#|export\n",
    "\n",
    "def fit(epochs, model, loss_func, opt, train_dl, valid_dl):\n",
    "    for epoch in range(epochs):\n",
    "        model.train()\n",
    "        for xb, yb in train_dl:\n",
    "            train_preds = model(xb)\n",
    "            train_loss = loss_func(train_preds, yb)\n",
    "            train_loss.backward()\n",
    "            opt.step()\n",
    "            opt.zero_grad()\n",
    "        # Print training report\n",
    "        report(epoch, train_preds, yb, train_loss)\n",
    "        \n",
    "        model.eval()\n",
    "        with torch.no_grad():\n",
    "            tot_loss,tot_acc,count = 0.,0.,0\n",
    "            for xb, yb in valid_dl:\n",
    "                valid_preds = model(xb)\n",
    "                n = len(xb) # batch size?\n",
    "                count += n # Why?\n",
    "                tot_loss += loss_func(valid_preds, yb).item()*n # Why multiply?\n",
    "                tot_acc += accuracy(valid_preds, yb)*n\n",
    "        print(f\"epoch:{epoch}\\t valid accuracy: {tot_acc/count:.3}\\t valid loss: {tot_loss/count:.3}\")\n",
    "    return tot_loss/count, tot_acc/count"
   ]
  },
  {
   "cell_type": "code",
   "execution_count": 369,
   "id": "02040f74-2840-484a-9ebf-c74a5aa702e3",
   "metadata": {
    "tags": []
   },
   "outputs": [],
   "source": [
    "#|export\n",
    "def get_dls(train_ds, valid_ds, bs, **kwargs):\n",
    "    train_dl = DataLoader(train_ds, bs, shuffle=True, drop_last=True, num_workers=2, **kwargs)\n",
    "    valid_dl = DataLoader(valid_ds, bs, shuffle=False, num_workers=2, **kwargs)\n",
    "    return(train_dl, valid_dl)"
   ]
  },
  {
   "cell_type": "code",
   "execution_count": 370,
   "id": "88cb5820-50ef-47b8-b20f-3a7ec15f0ca1",
   "metadata": {
    "tags": []
   },
   "outputs": [],
   "source": [
    "train_dl, valid_dl = get_dls(train_ds, valid_ds, bs)\n",
    "model, opt = get_lin_model()"
   ]
  },
  {
   "cell_type": "code",
   "execution_count": 371,
   "id": "671c03d9-eeeb-4895-8405-3a2d1802251f",
   "metadata": {
    "tags": []
   },
   "outputs": [
    {
     "name": "stdout",
     "output_type": "stream",
     "text": [
      "epoch:0 \t accuracy:0.953 \t loss:0.13715\n",
      "epoch:0\t valid accuracy: 0.951\t valid loss: 0.161\n",
      "epoch:1 \t accuracy:0.984 \t loss:0.04575\n",
      "epoch:1\t valid accuracy: 0.965\t valid loss: 0.126\n",
      "epoch:2 \t accuracy:1.000 \t loss:0.01689\n",
      "epoch:2\t valid accuracy: 0.965\t valid loss: 0.116\n",
      "epoch:3 \t accuracy:1.000 \t loss:0.04276\n",
      "epoch:3\t valid accuracy: 0.969\t valid loss: 0.105\n",
      "epoch:4 \t accuracy:0.984 \t loss:0.05489\n",
      "epoch:4\t valid accuracy: 0.97\t valid loss: 0.103\n",
      "CPU times: user 16.4 s, sys: 1.02 s, total: 17.4 s\n",
      "Wall time: 5.06 s\n"
     ]
    }
   ],
   "source": [
    "%time loss, acc = fit(5, model, F.cross_entropy, opt, train_dl, valid_dl)"
   ]
  },
  {
   "cell_type": "markdown",
   "id": "5327f734-670c-4262-8b99-10311781355b",
   "metadata": {},
   "source": [
    "# Export"
   ]
  },
  {
   "cell_type": "code",
   "execution_count": 372,
   "id": "1278679a-8dda-4089-b1d8-fab03b5a6a6a",
   "metadata": {
    "tags": []
   },
   "outputs": [],
   "source": [
    "import nbdev; nbdev.nbdev_export()"
   ]
  },
  {
   "cell_type": "code",
   "execution_count": null,
   "id": "5deb55c3-b009-40fa-8257-82ddb973a037",
   "metadata": {},
   "outputs": [],
   "source": []
  }
 ],
 "metadata": {
  "kernelspec": {
   "display_name": "Python 3 (ipykernel)",
   "language": "python",
   "name": "python3"
  },
  "language_info": {
   "codemirror_mode": {
    "name": "ipython",
    "version": 3
   },
   "file_extension": ".py",
   "mimetype": "text/x-python",
   "name": "python",
   "nbconvert_exporter": "python",
   "pygments_lexer": "ipython3",
   "version": "3.10.13"
  }
 },
 "nbformat": 4,
 "nbformat_minor": 5
}
