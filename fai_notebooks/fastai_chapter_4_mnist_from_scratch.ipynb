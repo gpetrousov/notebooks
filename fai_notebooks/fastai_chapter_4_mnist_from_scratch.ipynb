{
 "cells": [
  {
   "cell_type": "code",
   "execution_count": 1,
   "metadata": {
    "id": "fDHan4Yg5Raj"
   },
   "outputs": [],
   "source": [
    "#hide\n",
    "!pip install -Uqq fastbook\n",
    "import fastbook\n",
    "fastbook.setup_book() # src: https://github.com/fastai/course20/blob/master/fastbook/__init__.py"
   ]
  },
  {
   "cell_type": "code",
   "execution_count": 29,
   "metadata": {
    "id": "_Ml8ALaF5Ral"
   },
   "outputs": [],
   "source": [
    "import fastai.vision.all as fastai\n",
    "from fastbook import *\n",
    "\n",
    "matplotlib.rc('image', cmap='Greys')"
   ]
  },
  {
   "cell_type": "code",
   "execution_count": 6,
   "metadata": {
    "colab": {
     "base_uri": "https://localhost:8080/"
    },
    "executionInfo": {
     "elapsed": 13,
     "status": "ok",
     "timestamp": 1706713103879,
     "user": {
      "displayName": "Ioannis Petrousov",
      "userId": "16802625713842772964"
     },
     "user_tz": -60
    },
    "id": "lGRJVFm5Bf0A",
    "outputId": "7cf71ad9-3c53-488d-b84f-e85ba7c365ab"
   },
   "outputs": [
    {
     "name": "stdout",
     "output_type": "stream",
     "text": [
      "fatal: repository '/home/jupyter-master/' does not exist\n",
      "mv: cannot stat 'fastbook/images': No such file or directory\n"
     ]
    }
   ],
   "source": [
    "# Prep the images directory\n",
    "!git clone $HOME/ https://github.com/fastai/fastbook.git\n",
    "!mv fastbook/images ."
   ]
  },
  {
   "cell_type": "code",
   "execution_count": 9,
   "metadata": {},
   "outputs": [],
   "source": [
    "!rm -fr fastbook"
   ]
  },
  {
   "cell_type": "markdown",
   "metadata": {
    "id": "AoJ2jXzS5Ral"
   },
   "source": [
    "# Under the Hood: Training a Digit Classifier"
   ]
  },
  {
   "cell_type": "code",
   "execution_count": 10,
   "metadata": {
    "colab": {
     "base_uri": "https://localhost:8080/"
    },
    "executionInfo": {
     "elapsed": 8,
     "status": "ok",
     "timestamp": 1706713103880,
     "user": {
      "displayName": "Ioannis Petrousov",
      "userId": "16802625713842772964"
     },
     "user_tz": -60
    },
    "id": "O5C21AXV9QNJ",
    "outputId": "f4d04d8a-e66f-4010-82e5-b6441efc37f2"
   },
   "outputs": [
    {
     "name": "stdout",
     "output_type": "stream",
     "text": [
      "/home/jupyter-master/learning_ML/fast.ai - clean\n"
     ]
    }
   ],
   "source": [
    "!pwd"
   ]
  },
  {
   "cell_type": "code",
   "execution_count": 31,
   "metadata": {
    "colab": {
     "base_uri": "https://localhost:8080/",
     "height": 35
    },
    "executionInfo": {
     "elapsed": 6,
     "status": "ok",
     "timestamp": 1706713103880,
     "user": {
      "displayName": "Ioannis Petrousov",
      "userId": "16802625713842772964"
     },
     "user_tz": -60
    },
    "id": "MTwsJ0aX5Ran",
    "outputId": "93f7edc7-6f19-4499-c80a-aa042a40bf8b"
   },
   "outputs": [],
   "source": [
    "# Download and untar in the same directory\n",
    "# This is just a sample of 7's and 3's\n",
    "path = untar_data(URLs.MNIST_SAMPLE)"
   ]
  },
  {
   "cell_type": "code",
   "execution_count": 32,
   "metadata": {
    "id": "5rHYUiv95Ran"
   },
   "outputs": [],
   "source": [
    "Path.BASE_PATH = path"
   ]
  },
  {
   "cell_type": "code",
   "execution_count": 33,
   "metadata": {
    "colab": {
     "base_uri": "https://localhost:8080/"
    },
    "executionInfo": {
     "elapsed": 8,
     "status": "ok",
     "timestamp": 1706713104236,
     "user": {
      "displayName": "Ioannis Petrousov",
      "userId": "16802625713842772964"
     },
     "user_tz": -60
    },
    "id": "zobdb1415Rao",
    "outputId": "5b743963-a0c3-4974-d1a4-79bbbafe52ef"
   },
   "outputs": [
    {
     "data": {
      "text/plain": [
       "(#3) [Path('train'),Path('labels.csv'),Path('valid')]"
      ]
     },
     "execution_count": 33,
     "metadata": {},
     "output_type": "execute_result"
    }
   ],
   "source": [
    "path.ls()"
   ]
  },
  {
   "cell_type": "code",
   "execution_count": 34,
   "metadata": {
    "colab": {
     "base_uri": "https://localhost:8080/"
    },
    "executionInfo": {
     "elapsed": 425,
     "status": "ok",
     "timestamp": 1706713104656,
     "user": {
      "displayName": "Ioannis Petrousov",
      "userId": "16802625713842772964"
     },
     "user_tz": -60
    },
    "id": "HezMHOe65Rao",
    "outputId": "9e6609cb-ea45-4af6-faf0-77ff075af8a0"
   },
   "outputs": [
    {
     "data": {
      "text/plain": [
       "(#2) [Path('train/3'),Path('train/7')]"
      ]
     },
     "execution_count": 34,
     "metadata": {},
     "output_type": "execute_result"
    }
   ],
   "source": [
    "(path/'train').ls()"
   ]
  },
  {
   "cell_type": "code",
   "execution_count": 35,
   "metadata": {
    "colab": {
     "base_uri": "https://localhost:8080/"
    },
    "executionInfo": {
     "elapsed": 10,
     "status": "ok",
     "timestamp": 1706713104657,
     "user": {
      "displayName": "Ioannis Petrousov",
      "userId": "16802625713842772964"
     },
     "user_tz": -60
    },
    "id": "VN2UH88j5Rao",
    "outputId": "eca3abe3-ce7a-4007-dab8-fc5b2400e317"
   },
   "outputs": [
    {
     "data": {
      "text/plain": [
       "(#6131) [Path('train/3/10.png'),Path('train/3/10000.png'),Path('train/3/10011.png'),Path('train/3/10031.png'),Path('train/3/10034.png'),Path('train/3/10042.png'),Path('train/3/10052.png'),Path('train/3/1007.png'),Path('train/3/10074.png'),Path('train/3/10091.png')...]"
      ]
     },
     "execution_count": 35,
     "metadata": {},
     "output_type": "execute_result"
    }
   ],
   "source": [
    "# Load file names into variables\n",
    "threes = (path/'train'/'3').ls().sorted()\n",
    "sevens = (path/'train'/'7').ls().sorted()\n",
    "threes"
   ]
  },
  {
   "cell_type": "code",
   "execution_count": 23,
   "metadata": {
    "colab": {
     "base_uri": "https://localhost:8080/",
     "height": 45
    },
    "executionInfo": {
     "elapsed": 8,
     "status": "ok",
     "timestamp": 1706713104657,
     "user": {
      "displayName": "Ioannis Petrousov",
      "userId": "16802625713842772964"
     },
     "user_tz": -60
    },
    "id": "25BlR5ut5Rao",
    "outputId": "002f1771-3cd8-42c0-fc23-b1367b9320df"
   },
   "outputs": [
    {
     "data": {
      "image/jpeg": "[encoded data removed]",
      "image/png": "[encoded data removed]",
      "text/plain": [
       "<PIL.PngImagePlugin.PngImageFile image mode=L size=28x28>"
      ]
     },
     "execution_count": 23,
     "metadata": {},
     "output_type": "execute_result"
    }
   ],
   "source": [
    "im3_path = threes[10]\n",
    "im3 = Image.open(im3_path)\n",
    "im3"
   ]
  },
  {
   "cell_type": "code",
   "execution_count": null,
   "metadata": {
    "colab": {
     "base_uri": "https://localhost:8080/"
    },
    "executionInfo": {
     "elapsed": 7,
     "status": "ok",
     "timestamp": 1706713104657,
     "user": {
      "displayName": "Ioannis Petrousov",
      "userId": "16802625713842772964"
     },
     "user_tz": -60
    },
    "id": "QCVBgnAZ5Rao",
    "outputId": "6cbdea5b-3a2b-4a65-9354-0dadfc8a2c2a"
   },
   "outputs": [
    {
     "data": {
      "text/plain": [
       "array([[  0,   0,   0,   0,   0,   0],\n",
       "       [  0,   0,   0,   0,   0,  29],\n",
       "       [  0,   0,   0,  48, 166, 224],\n",
       "       [  0,  93, 244, 249, 253, 187],\n",
       "       [  0, 107, 253, 253, 230,  48],\n",
       "       [  0,   3,  20,  20,  15,   0]], dtype=uint8)"
      ]
     },
     "execution_count": 177,
     "metadata": {},
     "output_type": "execute_result"
    }
   ],
   "source": [
    "# Numpy arrays of the image\n",
    "array(im3)[4:10,4:10]"
   ]
  },
  {
   "cell_type": "code",
   "execution_count": null,
   "metadata": {
    "colab": {
     "base_uri": "https://localhost:8080/"
    },
    "executionInfo": {
     "elapsed": 6,
     "status": "ok",
     "timestamp": 1706713104657,
     "user": {
      "displayName": "Ioannis Petrousov",
      "userId": "16802625713842772964"
     },
     "user_tz": -60
    },
    "id": "0fsQKzfm5Rao",
    "outputId": "5fa41fbd-1159-448f-b097-bb380d9bf686"
   },
   "outputs": [
    {
     "data": {
      "text/plain": [
       "tensor([[  0,   0,   0,   0,   0,   0],\n",
       "        [  0,   0,   0,   0,   0,  29],\n",
       "        [  0,   0,   0,  48, 166, 224],\n",
       "        [  0,  93, 244, 249, 253, 187],\n",
       "        [  0, 107, 253, 253, 230,  48],\n",
       "        [  0,   3,  20,  20,  15,   0]], dtype=torch.uint8)"
      ]
     },
     "execution_count": 178,
     "metadata": {},
     "output_type": "execute_result"
    }
   ],
   "source": [
    "tensor(im3)[4:10,4:10]"
   ]
  },
  {
   "cell_type": "code",
   "execution_count": null,
   "metadata": {
    "colab": {
     "base_uri": "https://localhost:8080/",
     "height": 927
    },
    "executionInfo": {
     "elapsed": 281,
     "status": "ok",
     "timestamp": 1706713104934,
     "user": {
      "displayName": "Ioannis Petrousov",
      "userId": "16802625713842772964"
     },
     "user_tz": -60
    },
    "id": "XHvKT2I25Rap",
    "outputId": "6e4ebed0-8eaa-4b5a-9aa5-786b033942db"
   },
   "outputs": [
    {
     "data": {
      "text/html": [
       "<style type=\"text/css\">\n",
       "#T_82e3d_row0_col0, #T_82e3d_row0_col1, #T_82e3d_row0_col2, #T_82e3d_row0_col3, #T_82e3d_row0_col4, #T_82e3d_row0_col5, #T_82e3d_row0_col6, #T_82e3d_row0_col7, #T_82e3d_row0_col8, #T_82e3d_row0_col9, #T_82e3d_row0_col10, #T_82e3d_row0_col11, #T_82e3d_row0_col12, #T_82e3d_row0_col13, #T_82e3d_row0_col14, #T_82e3d_row0_col15, #T_82e3d_row0_col16, #T_82e3d_row0_col17, #T_82e3d_row0_col18, #T_82e3d_row0_col19, #T_82e3d_row0_col20, #T_82e3d_row0_col21, #T_82e3d_row0_col22, #T_82e3d_row0_col23, #T_82e3d_row0_col24, #T_82e3d_row0_col25, #T_82e3d_row0_col26, #T_82e3d_row0_col27, #T_82e3d_row1_col0, #T_82e3d_row1_col1, #T_82e3d_row1_col2, #T_82e3d_row1_col3, #T_82e3d_row1_col4, #T_82e3d_row1_col5, #T_82e3d_row1_col6, #T_82e3d_row1_col7, #T_82e3d_row1_col8, #T_82e3d_row1_col9, #T_82e3d_row1_col10, #T_82e3d_row1_col11, #T_82e3d_row1_col12, #T_82e3d_row1_col13, #T_82e3d_row1_col14, #T_82e3d_row1_col15, #T_82e3d_row1_col16, #T_82e3d_row1_col17, #T_82e3d_row1_col18, #T_82e3d_row1_col19, #T_82e3d_row1_col20, #T_82e3d_row1_col21, #T_82e3d_row1_col22, #T_82e3d_row1_col23, #T_82e3d_row1_col24, #T_82e3d_row1_col25, #T_82e3d_row1_col26, #T_82e3d_row1_col27, #T_82e3d_row2_col0, #T_82e3d_row2_col1, #T_82e3d_row2_col2, #T_82e3d_row2_col3, #T_82e3d_row2_col4, #T_82e3d_row2_col5, #T_82e3d_row2_col6, #T_82e3d_row2_col7, #T_82e3d_row2_col8, #T_82e3d_row2_col9, #T_82e3d_row2_col10, #T_82e3d_row2_col11, #T_82e3d_row2_col12, #T_82e3d_row2_col13, #T_82e3d_row2_col14, #T_82e3d_row2_col15, #T_82e3d_row2_col16, #T_82e3d_row2_col17, #T_82e3d_row2_col18, #T_82e3d_row2_col19, #T_82e3d_row2_col20, #T_82e3d_row2_col21, #T_82e3d_row2_col22, #T_82e3d_row2_col23, #T_82e3d_row2_col24, #T_82e3d_row2_col25, #T_82e3d_row2_col26, #T_82e3d_row2_col27, #T_82e3d_row3_col0, #T_82e3d_row3_col1, #T_82e3d_row3_col2, #T_82e3d_row3_col3, #T_82e3d_row3_col4, #T_82e3d_row3_col5, #T_82e3d_row3_col6, #T_82e3d_row3_col7, #T_82e3d_row3_col8, #T_82e3d_row3_col9, #T_82e3d_row3_col10, #T_82e3d_row3_col11, #T_82e3d_row3_col12, #T_82e3d_row3_col13, #T_82e3d_row3_col14, #T_82e3d_row3_col15, #T_82e3d_row3_col16, #T_82e3d_row3_col17, #T_82e3d_row3_col18, #T_82e3d_row3_col19, #T_82e3d_row3_col20, #T_82e3d_row3_col21, #T_82e3d_row3_col22, #T_82e3d_row3_col23, #T_82e3d_row3_col24, #T_82e3d_row3_col25, #T_82e3d_row3_col26, #T_82e3d_row3_col27, #T_82e3d_row4_col0, #T_82e3d_row4_col1, #T_82e3d_row4_col2, #T_82e3d_row4_col3, #T_82e3d_row4_col4, #T_82e3d_row4_col5, #T_82e3d_row4_col6, #T_82e3d_row4_col7, #T_82e3d_row4_col8, #T_82e3d_row4_col9, #T_82e3d_row4_col10, #T_82e3d_row4_col11, #T_82e3d_row4_col12, #T_82e3d_row4_col13, #T_82e3d_row4_col14, #T_82e3d_row4_col15, #T_82e3d_row4_col16, #T_82e3d_row4_col17, #T_82e3d_row4_col18, #T_82e3d_row4_col19, #T_82e3d_row4_col20, #T_82e3d_row4_col21, #T_82e3d_row4_col22, #T_82e3d_row4_col23, #T_82e3d_row4_col24, #T_82e3d_row4_col25, #T_82e3d_row4_col26, #T_82e3d_row4_col27, #T_82e3d_row5_col0, #T_82e3d_row5_col1, #T_82e3d_row5_col2, #T_82e3d_row5_col3, #T_82e3d_row5_col4, #T_82e3d_row5_col5, #T_82e3d_row5_col6, #T_82e3d_row5_col7, #T_82e3d_row5_col8, #T_82e3d_row5_col19, #T_82e3d_row5_col20, #T_82e3d_row5_col21, #T_82e3d_row5_col22, #T_82e3d_row5_col23, #T_82e3d_row5_col24, #T_82e3d_row5_col25, #T_82e3d_row5_col26, #T_82e3d_row5_col27, #T_82e3d_row6_col0, #T_82e3d_row6_col1, #T_82e3d_row6_col2, #T_82e3d_row6_col3, #T_82e3d_row6_col4, #T_82e3d_row6_col5, #T_82e3d_row6_col6, #T_82e3d_row6_col19, #T_82e3d_row6_col20, #T_82e3d_row6_col21, #T_82e3d_row6_col22, #T_82e3d_row6_col23, #T_82e3d_row6_col24, #T_82e3d_row6_col25, #T_82e3d_row6_col26, #T_82e3d_row6_col27, #T_82e3d_row7_col0, #T_82e3d_row7_col1, #T_82e3d_row7_col2, #T_82e3d_row7_col3, #T_82e3d_row7_col4, #T_82e3d_row7_col19, #T_82e3d_row7_col20, #T_82e3d_row7_col21, #T_82e3d_row7_col22, #T_82e3d_row7_col23, #T_82e3d_row7_col24, #T_82e3d_row7_col25, #T_82e3d_row7_col26, #T_82e3d_row7_col27, #T_82e3d_row8_col0, #T_82e3d_row8_col1, #T_82e3d_row8_col2, #T_82e3d_row8_col3, #T_82e3d_row8_col4, #T_82e3d_row8_col10, #T_82e3d_row8_col11, #T_82e3d_row8_col12, #T_82e3d_row8_col13, #T_82e3d_row8_col14, #T_82e3d_row8_col19, #T_82e3d_row8_col20, #T_82e3d_row8_col21, #T_82e3d_row8_col22, #T_82e3d_row8_col23, #T_82e3d_row8_col24, #T_82e3d_row8_col25, #T_82e3d_row8_col26, #T_82e3d_row8_col27, #T_82e3d_row9_col0, #T_82e3d_row9_col1, #T_82e3d_row9_col2, #T_82e3d_row9_col3, #T_82e3d_row9_col4, #T_82e3d_row9_col9, #T_82e3d_row9_col10, #T_82e3d_row9_col11, #T_82e3d_row9_col12, #T_82e3d_row9_col13, #T_82e3d_row9_col19, #T_82e3d_row9_col20, #T_82e3d_row9_col21, #T_82e3d_row9_col22, #T_82e3d_row9_col23, #T_82e3d_row9_col24, #T_82e3d_row9_col25, #T_82e3d_row9_col26, #T_82e3d_row9_col27, #T_82e3d_row10_col0, #T_82e3d_row10_col1, #T_82e3d_row10_col2, #T_82e3d_row10_col3, #T_82e3d_row10_col4, #T_82e3d_row10_col5, #T_82e3d_row10_col6, #T_82e3d_row10_col7, #T_82e3d_row10_col8, #T_82e3d_row10_col9, #T_82e3d_row10_col10, #T_82e3d_row10_col11, #T_82e3d_row10_col12, #T_82e3d_row10_col13, #T_82e3d_row10_col18, #T_82e3d_row10_col19, #T_82e3d_row10_col20, #T_82e3d_row10_col21, #T_82e3d_row10_col22, #T_82e3d_row10_col23, #T_82e3d_row10_col24, #T_82e3d_row10_col25, #T_82e3d_row10_col26, #T_82e3d_row10_col27, #T_82e3d_row11_col0, #T_82e3d_row11_col1, #T_82e3d_row11_col2, #T_82e3d_row11_col3, #T_82e3d_row11_col4, #T_82e3d_row11_col5, #T_82e3d_row11_col6, #T_82e3d_row11_col7, #T_82e3d_row11_col8, #T_82e3d_row11_col9, #T_82e3d_row11_col10, #T_82e3d_row11_col17, #T_82e3d_row11_col18, #T_82e3d_row11_col19, #T_82e3d_row11_col20, #T_82e3d_row11_col21, #T_82e3d_row11_col22, #T_82e3d_row11_col23, #T_82e3d_row11_col24, #T_82e3d_row11_col25, #T_82e3d_row11_col26, #T_82e3d_row11_col27, #T_82e3d_row12_col0, #T_82e3d_row12_col1, #T_82e3d_row12_col2, #T_82e3d_row12_col3, #T_82e3d_row12_col4, #T_82e3d_row12_col5, #T_82e3d_row12_col6, #T_82e3d_row12_col7, #T_82e3d_row12_col8, #T_82e3d_row12_col17, #T_82e3d_row12_col18, #T_82e3d_row12_col19, #T_82e3d_row12_col20, #T_82e3d_row12_col21, #T_82e3d_row12_col22, #T_82e3d_row12_col23, #T_82e3d_row12_col24, #T_82e3d_row12_col25, #T_82e3d_row12_col26, #T_82e3d_row12_col27, #T_82e3d_row13_col0, #T_82e3d_row13_col1, #T_82e3d_row13_col2, #T_82e3d_row13_col3, #T_82e3d_row13_col4, #T_82e3d_row13_col5, #T_82e3d_row13_col6, #T_82e3d_row13_col7, #T_82e3d_row13_col8, #T_82e3d_row13_col20, #T_82e3d_row13_col21, #T_82e3d_row13_col22, #T_82e3d_row13_col23, #T_82e3d_row13_col24, #T_82e3d_row13_col25, #T_82e3d_row13_col26, #T_82e3d_row13_col27, #T_82e3d_row14_col0, #T_82e3d_row14_col1, #T_82e3d_row14_col2, #T_82e3d_row14_col3, #T_82e3d_row14_col4, #T_82e3d_row14_col5, #T_82e3d_row14_col6, #T_82e3d_row14_col7, #T_82e3d_row14_col8, #T_82e3d_row14_col9, #T_82e3d_row14_col10, #T_82e3d_row14_col21, #T_82e3d_row14_col22, #T_82e3d_row14_col23, #T_82e3d_row14_col24, #T_82e3d_row14_col25, #T_82e3d_row14_col26, #T_82e3d_row14_col27, #T_82e3d_row15_col0, #T_82e3d_row15_col1, #T_82e3d_row15_col2, #T_82e3d_row15_col3, #T_82e3d_row15_col4, #T_82e3d_row15_col5, #T_82e3d_row15_col6, #T_82e3d_row15_col7, #T_82e3d_row15_col8, #T_82e3d_row15_col9, #T_82e3d_row15_col10, #T_82e3d_row15_col11, #T_82e3d_row15_col12, #T_82e3d_row15_col13, #T_82e3d_row15_col21, #T_82e3d_row15_col22, #T_82e3d_row15_col23, #T_82e3d_row15_col24, #T_82e3d_row15_col25, #T_82e3d_row15_col26, #T_82e3d_row15_col27, #T_82e3d_row16_col0, #T_82e3d_row16_col1, #T_82e3d_row16_col2, #T_82e3d_row16_col3, #T_82e3d_row16_col4, #T_82e3d_row16_col5, #T_82e3d_row16_col6, #T_82e3d_row16_col7, #T_82e3d_row16_col8, #T_82e3d_row16_col9, #T_82e3d_row16_col10, #T_82e3d_row16_col11, #T_82e3d_row16_col12, #T_82e3d_row16_col13, #T_82e3d_row16_col14, #T_82e3d_row16_col15, #T_82e3d_row16_col16, #T_82e3d_row16_col21, #T_82e3d_row16_col22, #T_82e3d_row16_col23, #T_82e3d_row16_col24, #T_82e3d_row16_col25, #T_82e3d_row16_col26, #T_82e3d_row16_col27, #T_82e3d_row17_col0, #T_82e3d_row17_col1, #T_82e3d_row17_col2, #T_82e3d_row17_col3, #T_82e3d_row17_col4, #T_82e3d_row17_col5, #T_82e3d_row17_col6, #T_82e3d_row17_col7, #T_82e3d_row17_col8, #T_82e3d_row17_col9, #T_82e3d_row17_col10, #T_82e3d_row17_col11, #T_82e3d_row17_col12, #T_82e3d_row17_col13, #T_82e3d_row17_col14, #T_82e3d_row17_col15, #T_82e3d_row17_col16, #T_82e3d_row17_col21, #T_82e3d_row17_col22, #T_82e3d_row17_col23, #T_82e3d_row17_col24, #T_82e3d_row17_col25, #T_82e3d_row17_col26, #T_82e3d_row17_col27, #T_82e3d_row18_col0, #T_82e3d_row18_col1, #T_82e3d_row18_col2, #T_82e3d_row18_col3, #T_82e3d_row18_col4, #T_82e3d_row18_col5, #T_82e3d_row18_col6, #T_82e3d_row18_col7, #T_82e3d_row18_col8, #T_82e3d_row18_col9, #T_82e3d_row18_col10, #T_82e3d_row18_col11, #T_82e3d_row18_col12, #T_82e3d_row18_col13, #T_82e3d_row18_col14, #T_82e3d_row18_col15, #T_82e3d_row18_col21, #T_82e3d_row18_col22, #T_82e3d_row18_col23, #T_82e3d_row18_col24, #T_82e3d_row18_col25, #T_82e3d_row18_col26, #T_82e3d_row18_col27, #T_82e3d_row19_col0, #T_82e3d_row19_col1, #T_82e3d_row19_col2, #T_82e3d_row19_col3, #T_82e3d_row19_col4, #T_82e3d_row19_col5, #T_82e3d_row19_col6, #T_82e3d_row19_col7, #T_82e3d_row19_col8, #T_82e3d_row19_col9, #T_82e3d_row19_col10, #T_82e3d_row19_col11, #T_82e3d_row19_col12, #T_82e3d_row19_col13, #T_82e3d_row19_col14, #T_82e3d_row19_col21, #T_82e3d_row19_col22, #T_82e3d_row19_col23, #T_82e3d_row19_col24, #T_82e3d_row19_col25, #T_82e3d_row19_col26, #T_82e3d_row19_col27, #T_82e3d_row20_col0, #T_82e3d_row20_col1, #T_82e3d_row20_col2, #T_82e3d_row20_col3, #T_82e3d_row20_col4, #T_82e3d_row20_col5, #T_82e3d_row20_col6, #T_82e3d_row20_col7, #T_82e3d_row20_col8, #T_82e3d_row20_col9, #T_82e3d_row20_col10, #T_82e3d_row20_col11, #T_82e3d_row20_col12, #T_82e3d_row20_col13, #T_82e3d_row20_col20, #T_82e3d_row20_col21, #T_82e3d_row20_col22, #T_82e3d_row20_col23, #T_82e3d_row20_col24, #T_82e3d_row20_col25, #T_82e3d_row20_col26, #T_82e3d_row20_col27, #T_82e3d_row21_col0, #T_82e3d_row21_col1, #T_82e3d_row21_col2, #T_82e3d_row21_col3, #T_82e3d_row21_col4, #T_82e3d_row21_col5, #T_82e3d_row21_col6, #T_82e3d_row21_col7, #T_82e3d_row21_col8, #T_82e3d_row21_col9, #T_82e3d_row21_col10, #T_82e3d_row21_col11, #T_82e3d_row21_col19, #T_82e3d_row21_col20, #T_82e3d_row21_col21, #T_82e3d_row21_col22, #T_82e3d_row21_col23, #T_82e3d_row21_col24, #T_82e3d_row21_col25, #T_82e3d_row21_col26, #T_82e3d_row21_col27, #T_82e3d_row22_col0, #T_82e3d_row22_col1, #T_82e3d_row22_col2, #T_82e3d_row22_col3, #T_82e3d_row22_col4, #T_82e3d_row22_col5, #T_82e3d_row22_col18, #T_82e3d_row22_col19, #T_82e3d_row22_col20, #T_82e3d_row22_col21, #T_82e3d_row22_col22, #T_82e3d_row22_col23, #T_82e3d_row22_col24, #T_82e3d_row22_col25, #T_82e3d_row22_col26, #T_82e3d_row22_col27, #T_82e3d_row23_col0, #T_82e3d_row23_col1, #T_82e3d_row23_col2, #T_82e3d_row23_col3, #T_82e3d_row23_col4, #T_82e3d_row23_col5, #T_82e3d_row23_col16, #T_82e3d_row23_col17, #T_82e3d_row23_col18, #T_82e3d_row23_col19, #T_82e3d_row23_col20, #T_82e3d_row23_col21, #T_82e3d_row23_col22, #T_82e3d_row23_col23, #T_82e3d_row23_col24, #T_82e3d_row23_col25, #T_82e3d_row23_col26, #T_82e3d_row23_col27, #T_82e3d_row24_col0, #T_82e3d_row24_col1, #T_82e3d_row24_col2, #T_82e3d_row24_col3, #T_82e3d_row24_col4, #T_82e3d_row24_col5, #T_82e3d_row24_col14, #T_82e3d_row24_col15, #T_82e3d_row24_col16, #T_82e3d_row24_col17, #T_82e3d_row24_col18, #T_82e3d_row24_col19, #T_82e3d_row24_col20, #T_82e3d_row24_col21, #T_82e3d_row24_col22, #T_82e3d_row24_col23, #T_82e3d_row24_col24, #T_82e3d_row24_col25, #T_82e3d_row24_col26, #T_82e3d_row24_col27, #T_82e3d_row25_col0, #T_82e3d_row25_col1, #T_82e3d_row25_col2, #T_82e3d_row25_col3, #T_82e3d_row25_col4, #T_82e3d_row25_col5, #T_82e3d_row25_col6, #T_82e3d_row25_col7, #T_82e3d_row25_col8, #T_82e3d_row25_col9, #T_82e3d_row25_col10, #T_82e3d_row25_col11, #T_82e3d_row25_col12, #T_82e3d_row25_col13, #T_82e3d_row25_col14, #T_82e3d_row25_col15, #T_82e3d_row25_col16, #T_82e3d_row25_col17, #T_82e3d_row25_col18, #T_82e3d_row25_col19, #T_82e3d_row25_col20, #T_82e3d_row25_col21, #T_82e3d_row25_col22, #T_82e3d_row25_col23, #T_82e3d_row25_col24, #T_82e3d_row25_col25, #T_82e3d_row25_col26, #T_82e3d_row25_col27, #T_82e3d_row26_col0, #T_82e3d_row26_col1, #T_82e3d_row26_col2, #T_82e3d_row26_col3, #T_82e3d_row26_col4, #T_82e3d_row26_col5, #T_82e3d_row26_col6, #T_82e3d_row26_col7, #T_82e3d_row26_col8, #T_82e3d_row26_col9, #T_82e3d_row26_col10, #T_82e3d_row26_col11, #T_82e3d_row26_col12, #T_82e3d_row26_col13, #T_82e3d_row26_col14, #T_82e3d_row26_col15, #T_82e3d_row26_col16, #T_82e3d_row26_col17, #T_82e3d_row26_col18, #T_82e3d_row26_col19, #T_82e3d_row26_col20, #T_82e3d_row26_col21, #T_82e3d_row26_col22, #T_82e3d_row26_col23, #T_82e3d_row26_col24, #T_82e3d_row26_col25, #T_82e3d_row26_col26, #T_82e3d_row26_col27, #T_82e3d_row27_col0, #T_82e3d_row27_col1, #T_82e3d_row27_col2, #T_82e3d_row27_col3, #T_82e3d_row27_col4, #T_82e3d_row27_col5, #T_82e3d_row27_col6, #T_82e3d_row27_col7, #T_82e3d_row27_col8, #T_82e3d_row27_col9, #T_82e3d_row27_col10, #T_82e3d_row27_col11, #T_82e3d_row27_col12, #T_82e3d_row27_col13, #T_82e3d_row27_col14, #T_82e3d_row27_col15, #T_82e3d_row27_col16, #T_82e3d_row27_col17, #T_82e3d_row27_col18, #T_82e3d_row27_col19, #T_82e3d_row27_col20, #T_82e3d_row27_col21, #T_82e3d_row27_col22, #T_82e3d_row27_col23, #T_82e3d_row27_col24, #T_82e3d_row27_col25, #T_82e3d_row27_col26, #T_82e3d_row27_col27 {\n",
       "  font-size: 6pt;\n",
       "  background-color: #ffffff;\n",
       "  color: #000000;\n",
       "}\n",
       "#T_82e3d_row5_col9, #T_82e3d_row12_col16 {\n",
       "  font-size: 6pt;\n",
       "  background-color: #f1f1f1;\n",
       "  color: #000000;\n",
       "}\n",
       "#T_82e3d_row5_col10, #T_82e3d_row5_col17 {\n",
       "  font-size: 6pt;\n",
       "  background-color: #7c7c7c;\n",
       "  color: #f1f1f1;\n",
       "}\n",
       "#T_82e3d_row5_col11 {\n",
       "  font-size: 6pt;\n",
       "  background-color: #4a4a4a;\n",
       "  color: #f1f1f1;\n",
       "}\n",
       "#T_82e3d_row5_col12, #T_82e3d_row5_col13, #T_82e3d_row5_col14, #T_82e3d_row6_col10, #T_82e3d_row6_col11, #T_82e3d_row6_col15, #T_82e3d_row6_col16, #T_82e3d_row6_col17, #T_82e3d_row7_col8, #T_82e3d_row7_col16, #T_82e3d_row7_col17, #T_82e3d_row8_col5, #T_82e3d_row8_col6, #T_82e3d_row8_col7, #T_82e3d_row8_col16, #T_82e3d_row8_col17, #T_82e3d_row9_col16, #T_82e3d_row10_col15, #T_82e3d_row13_col15, #T_82e3d_row14_col15, #T_82e3d_row14_col16, #T_82e3d_row14_col17, #T_82e3d_row14_col18, #T_82e3d_row15_col17, #T_82e3d_row15_col18, #T_82e3d_row15_col19, #T_82e3d_row16_col18, #T_82e3d_row16_col19, #T_82e3d_row16_col20, #T_82e3d_row17_col18, #T_82e3d_row17_col19, #T_82e3d_row18_col18, #T_82e3d_row18_col19, #T_82e3d_row19_col17, #T_82e3d_row19_col18, #T_82e3d_row20_col16, #T_82e3d_row20_col17, #T_82e3d_row21_col15, #T_82e3d_row21_col16, #T_82e3d_row23_col7, #T_82e3d_row23_col8, #T_82e3d_row23_col9, #T_82e3d_row23_col10, #T_82e3d_row23_col11, #T_82e3d_row24_col7, #T_82e3d_row24_col8, #T_82e3d_row24_col9, #T_82e3d_row24_col10, #T_82e3d_row24_col11 {\n",
       "  font-size: 6pt;\n",
       "  background-color: #000000;\n",
       "  color: #f1f1f1;\n",
       "}\n",
       "#T_82e3d_row5_col15 {\n",
       "  font-size: 6pt;\n",
       "  background-color: #606060;\n",
       "  color: #f1f1f1;\n",
       "}\n",
       "#T_82e3d_row5_col16 {\n",
       "  font-size: 6pt;\n",
       "  background-color: #4d4d4d;\n",
       "  color: #f1f1f1;\n",
       "}\n",
       "#T_82e3d_row5_col18 {\n",
       "  font-size: 6pt;\n",
       "  background-color: #bbbbbb;\n",
       "  color: #000000;\n",
       "}\n",
       "#T_82e3d_row6_col7, #T_82e3d_row8_col9 {\n",
       "  font-size: 6pt;\n",
       "  background-color: #e4e4e4;\n",
       "  color: #000000;\n",
       "}\n",
       "#T_82e3d_row6_col8, #T_82e3d_row12_col10 {\n",
       "  font-size: 6pt;\n",
       "  background-color: #6b6b6b;\n",
       "  color: #f1f1f1;\n",
       "}\n",
       "#T_82e3d_row6_col9, #T_82e3d_row9_col15 {\n",
       "  font-size: 6pt;\n",
       "  background-color: #222222;\n",
       "  color: #f1f1f1;\n",
       "}\n",
       "#T_82e3d_row6_col12, #T_82e3d_row6_col18, #T_82e3d_row7_col18, #T_82e3d_row21_col17 {\n",
       "  font-size: 6pt;\n",
       "  background-color: #171717;\n",
       "  color: #f1f1f1;\n",
       "}\n",
       "#T_82e3d_row6_col13, #T_82e3d_row7_col15 {\n",
       "  font-size: 6pt;\n",
       "  background-color: #4b4b4b;\n",
       "  color: #f1f1f1;\n",
       "}\n",
       "#T_82e3d_row6_col14, #T_82e3d_row11_col14, #T_82e3d_row12_col12, #T_82e3d_row12_col14, #T_82e3d_row13_col12, #T_82e3d_row13_col14, #T_82e3d_row22_col14, #T_82e3d_row23_col12 {\n",
       "  font-size: 6pt;\n",
       "  background-color: #010101;\n",
       "  color: #f1f1f1;\n",
       "}\n",
       "#T_82e3d_row7_col5 {\n",
       "  font-size: 6pt;\n",
       "  background-color: #272727;\n",
       "  color: #f1f1f1;\n",
       "}\n",
       "#T_82e3d_row7_col6 {\n",
       "  font-size: 6pt;\n",
       "  background-color: #0a0a0a;\n",
       "  color: #f1f1f1;\n",
       "}\n",
       "#T_82e3d_row7_col7, #T_82e3d_row18_col17 {\n",
       "  font-size: 6pt;\n",
       "  background-color: #050505;\n",
       "  color: #f1f1f1;\n",
       "}\n",
       "#T_82e3d_row7_col9, #T_82e3d_row12_col15, #T_82e3d_row14_col19, #T_82e3d_row23_col6 {\n",
       "  font-size: 6pt;\n",
       "  background-color: #545454;\n",
       "  color: #f1f1f1;\n",
       "}\n",
       "#T_82e3d_row7_col10 {\n",
       "  font-size: 6pt;\n",
       "  background-color: #e6e6e6;\n",
       "  color: #000000;\n",
       "}\n",
       "#T_82e3d_row7_col11, #T_82e3d_row7_col14, #T_82e3d_row12_col9 {\n",
       "  font-size: 6pt;\n",
       "  background-color: #fafafa;\n",
       "  color: #000000;\n",
       "}\n",
       "#T_82e3d_row7_col12, #T_82e3d_row15_col14, #T_82e3d_row20_col19 {\n",
       "  font-size: 6pt;\n",
       "  background-color: #fbfbfb;\n",
       "  color: #000000;\n",
       "}\n",
       "#T_82e3d_row7_col13 {\n",
       "  font-size: 6pt;\n",
       "  background-color: #fdfdfd;\n",
       "  color: #000000;\n",
       "}\n",
       "#T_82e3d_row8_col8 {\n",
       "  font-size: 6pt;\n",
       "  background-color: #1b1b1b;\n",
       "  color: #f1f1f1;\n",
       "}\n",
       "#T_82e3d_row8_col15 {\n",
       "  font-size: 6pt;\n",
       "  background-color: #4e4e4e;\n",
       "  color: #f1f1f1;\n",
       "}\n",
       "#T_82e3d_row8_col18 {\n",
       "  font-size: 6pt;\n",
       "  background-color: #767676;\n",
       "  color: #f1f1f1;\n",
       "}\n",
       "#T_82e3d_row9_col5 {\n",
       "  font-size: 6pt;\n",
       "  background-color: #fcfcfc;\n",
       "  color: #000000;\n",
       "}\n",
       "#T_82e3d_row9_col6, #T_82e3d_row9_col7, #T_82e3d_row19_col20 {\n",
       "  font-size: 6pt;\n",
       "  background-color: #f6f6f6;\n",
       "  color: #000000;\n",
       "}\n",
       "#T_82e3d_row9_col8, #T_82e3d_row11_col11 {\n",
       "  font-size: 6pt;\n",
       "  background-color: #f8f8f8;\n",
       "  color: #000000;\n",
       "}\n",
       "#T_82e3d_row9_col14, #T_82e3d_row14_col11 {\n",
       "  font-size: 6pt;\n",
       "  background-color: #e8e8e8;\n",
       "  color: #000000;\n",
       "}\n",
       "#T_82e3d_row9_col17, #T_82e3d_row10_col16 {\n",
       "  font-size: 6pt;\n",
       "  background-color: #090909;\n",
       "  color: #f1f1f1;\n",
       "}\n",
       "#T_82e3d_row9_col18 {\n",
       "  font-size: 6pt;\n",
       "  background-color: #d0d0d0;\n",
       "  color: #000000;\n",
       "}\n",
       "#T_82e3d_row10_col14, #T_82e3d_row11_col15, #T_82e3d_row13_col10 {\n",
       "  font-size: 6pt;\n",
       "  background-color: #060606;\n",
       "  color: #f1f1f1;\n",
       "}\n",
       "#T_82e3d_row10_col17 {\n",
       "  font-size: 6pt;\n",
       "  background-color: #979797;\n",
       "  color: #f1f1f1;\n",
       "}\n",
       "#T_82e3d_row11_col12 {\n",
       "  font-size: 6pt;\n",
       "  background-color: #b6b6b6;\n",
       "  color: #000000;\n",
       "}\n",
       "#T_82e3d_row11_col13 {\n",
       "  font-size: 6pt;\n",
       "  background-color: #252525;\n",
       "  color: #f1f1f1;\n",
       "}\n",
       "#T_82e3d_row11_col16 {\n",
       "  font-size: 6pt;\n",
       "  background-color: #999999;\n",
       "  color: #f1f1f1;\n",
       "}\n",
       "#T_82e3d_row12_col11, #T_82e3d_row22_col12 {\n",
       "  font-size: 6pt;\n",
       "  background-color: #101010;\n",
       "  color: #f1f1f1;\n",
       "}\n",
       "#T_82e3d_row12_col13, #T_82e3d_row13_col13, #T_82e3d_row21_col14, #T_82e3d_row22_col13, #T_82e3d_row23_col13 {\n",
       "  font-size: 6pt;\n",
       "  background-color: #020202;\n",
       "  color: #f1f1f1;\n",
       "}\n",
       "#T_82e3d_row13_col9 {\n",
       "  font-size: 6pt;\n",
       "  background-color: #f7f7f7;\n",
       "  color: #000000;\n",
       "}\n",
       "#T_82e3d_row13_col11, #T_82e3d_row22_col15 {\n",
       "  font-size: 6pt;\n",
       "  background-color: #030303;\n",
       "  color: #f1f1f1;\n",
       "}\n",
       "#T_82e3d_row13_col16 {\n",
       "  font-size: 6pt;\n",
       "  background-color: #181818;\n",
       "  color: #f1f1f1;\n",
       "}\n",
       "#T_82e3d_row13_col17 {\n",
       "  font-size: 6pt;\n",
       "  background-color: #303030;\n",
       "  color: #f1f1f1;\n",
       "}\n",
       "#T_82e3d_row13_col18 {\n",
       "  font-size: 6pt;\n",
       "  background-color: #a9a9a9;\n",
       "  color: #f1f1f1;\n",
       "}\n",
       "#T_82e3d_row13_col19 {\n",
       "  font-size: 6pt;\n",
       "  background-color: #fefefe;\n",
       "  color: #000000;\n",
       "}\n",
       "#T_82e3d_row14_col12, #T_82e3d_row14_col13, #T_82e3d_row20_col14 {\n",
       "  font-size: 6pt;\n",
       "  background-color: #bababa;\n",
       "  color: #000000;\n",
       "}\n",
       "#T_82e3d_row14_col14 {\n",
       "  font-size: 6pt;\n",
       "  background-color: #393939;\n",
       "  color: #f1f1f1;\n",
       "}\n",
       "#T_82e3d_row14_col20 {\n",
       "  font-size: 6pt;\n",
       "  background-color: #eaeaea;\n",
       "  color: #000000;\n",
       "}\n",
       "#T_82e3d_row15_col15 {\n",
       "  font-size: 6pt;\n",
       "  background-color: #e2e2e2;\n",
       "  color: #000000;\n",
       "}\n",
       "#T_82e3d_row15_col16 {\n",
       "  font-size: 6pt;\n",
       "  background-color: #9f9f9f;\n",
       "  color: #f1f1f1;\n",
       "}\n",
       "#T_82e3d_row15_col20 {\n",
       "  font-size: 6pt;\n",
       "  background-color: #898989;\n",
       "  color: #f1f1f1;\n",
       "}\n",
       "#T_82e3d_row16_col17 {\n",
       "  font-size: 6pt;\n",
       "  background-color: #585858;\n",
       "  color: #f1f1f1;\n",
       "}\n",
       "#T_82e3d_row17_col17 {\n",
       "  font-size: 6pt;\n",
       "  background-color: #5a5a5a;\n",
       "  color: #f1f1f1;\n",
       "}\n",
       "#T_82e3d_row17_col20 {\n",
       "  font-size: 6pt;\n",
       "  background-color: #525252;\n",
       "  color: #f1f1f1;\n",
       "}\n",
       "#T_82e3d_row18_col16, #T_82e3d_row23_col15 {\n",
       "  font-size: 6pt;\n",
       "  background-color: #c5c5c5;\n",
       "  color: #000000;\n",
       "}\n",
       "#T_82e3d_row18_col20 {\n",
       "  font-size: 6pt;\n",
       "  background-color: #d7d7d7;\n",
       "  color: #000000;\n",
       "}\n",
       "#T_82e3d_row19_col15, #T_82e3d_row22_col9 {\n",
       "  font-size: 6pt;\n",
       "  background-color: #dcdcdc;\n",
       "  color: #000000;\n",
       "}\n",
       "#T_82e3d_row19_col16 {\n",
       "  font-size: 6pt;\n",
       "  background-color: #2f2f2f;\n",
       "  color: #f1f1f1;\n",
       "}\n",
       "#T_82e3d_row19_col19 {\n",
       "  font-size: 6pt;\n",
       "  background-color: #636363;\n",
       "  color: #f1f1f1;\n",
       "}\n",
       "#T_82e3d_row20_col15 {\n",
       "  font-size: 6pt;\n",
       "  background-color: #070707;\n",
       "  color: #f1f1f1;\n",
       "}\n",
       "#T_82e3d_row20_col18 {\n",
       "  font-size: 6pt;\n",
       "  background-color: #1f1f1f;\n",
       "  color: #f1f1f1;\n",
       "}\n",
       "#T_82e3d_row21_col12, #T_82e3d_row22_col6, #T_82e3d_row22_col8 {\n",
       "  font-size: 6pt;\n",
       "  background-color: #e9e9e9;\n",
       "  color: #000000;\n",
       "}\n",
       "#T_82e3d_row21_col13 {\n",
       "  font-size: 6pt;\n",
       "  background-color: #7d7d7d;\n",
       "  color: #f1f1f1;\n",
       "}\n",
       "#T_82e3d_row21_col18 {\n",
       "  font-size: 6pt;\n",
       "  background-color: #e1e1e1;\n",
       "  color: #000000;\n",
       "}\n",
       "#T_82e3d_row22_col7, #T_82e3d_row22_col10 {\n",
       "  font-size: 6pt;\n",
       "  background-color: #a4a4a4;\n",
       "  color: #f1f1f1;\n",
       "}\n",
       "#T_82e3d_row22_col11 {\n",
       "  font-size: 6pt;\n",
       "  background-color: #727272;\n",
       "  color: #f1f1f1;\n",
       "}\n",
       "#T_82e3d_row22_col16 {\n",
       "  font-size: 6pt;\n",
       "  background-color: #616161;\n",
       "  color: #f1f1f1;\n",
       "}\n",
       "#T_82e3d_row22_col17 {\n",
       "  font-size: 6pt;\n",
       "  background-color: #f3f3f3;\n",
       "  color: #000000;\n",
       "}\n",
       "#T_82e3d_row23_col14 {\n",
       "  font-size: 6pt;\n",
       "  background-color: #484848;\n",
       "  color: #f1f1f1;\n",
       "}\n",
       "#T_82e3d_row24_col6 {\n",
       "  font-size: 6pt;\n",
       "  background-color: #b3b3b3;\n",
       "  color: #000000;\n",
       "}\n",
       "#T_82e3d_row24_col12 {\n",
       "  font-size: 6pt;\n",
       "  background-color: #1a1a1a;\n",
       "  color: #f1f1f1;\n",
       "}\n",
       "#T_82e3d_row24_col13 {\n",
       "  font-size: 6pt;\n",
       "  background-color: #d6d6d6;\n",
       "  color: #000000;\n",
       "}\n",
       "</style>\n",
       "<table id=\"T_82e3d\" class=\"dataframe\">\n",
       "  <thead>\n",
       "    <tr>\n",
       "      <th class=\"blank level0\" >&nbsp;</th>\n",
       "      <th id=\"T_82e3d_level0_col0\" class=\"col_heading level0 col0\" >0</th>\n",
       "      <th id=\"T_82e3d_level0_col1\" class=\"col_heading level0 col1\" >1</th>\n",
       "      <th id=\"T_82e3d_level0_col2\" class=\"col_heading level0 col2\" >2</th>\n",
       "      <th id=\"T_82e3d_level0_col3\" class=\"col_heading level0 col3\" >3</th>\n",
       "      <th id=\"T_82e3d_level0_col4\" class=\"col_heading level0 col4\" >4</th>\n",
       "      <th id=\"T_82e3d_level0_col5\" class=\"col_heading level0 col5\" >5</th>\n",
       "      <th id=\"T_82e3d_level0_col6\" class=\"col_heading level0 col6\" >6</th>\n",
       "      <th id=\"T_82e3d_level0_col7\" class=\"col_heading level0 col7\" >7</th>\n",
       "      <th id=\"T_82e3d_level0_col8\" class=\"col_heading level0 col8\" >8</th>\n",
       "      <th id=\"T_82e3d_level0_col9\" class=\"col_heading level0 col9\" >9</th>\n",
       "      <th id=\"T_82e3d_level0_col10\" class=\"col_heading level0 col10\" >10</th>\n",
       "      <th id=\"T_82e3d_level0_col11\" class=\"col_heading level0 col11\" >11</th>\n",
       "      <th id=\"T_82e3d_level0_col12\" class=\"col_heading level0 col12\" >12</th>\n",
       "      <th id=\"T_82e3d_level0_col13\" class=\"col_heading level0 col13\" >13</th>\n",
       "      <th id=\"T_82e3d_level0_col14\" class=\"col_heading level0 col14\" >14</th>\n",
       "      <th id=\"T_82e3d_level0_col15\" class=\"col_heading level0 col15\" >15</th>\n",
       "      <th id=\"T_82e3d_level0_col16\" class=\"col_heading level0 col16\" >16</th>\n",
       "      <th id=\"T_82e3d_level0_col17\" class=\"col_heading level0 col17\" >17</th>\n",
       "      <th id=\"T_82e3d_level0_col18\" class=\"col_heading level0 col18\" >18</th>\n",
       "      <th id=\"T_82e3d_level0_col19\" class=\"col_heading level0 col19\" >19</th>\n",
       "      <th id=\"T_82e3d_level0_col20\" class=\"col_heading level0 col20\" >20</th>\n",
       "      <th id=\"T_82e3d_level0_col21\" class=\"col_heading level0 col21\" >21</th>\n",
       "      <th id=\"T_82e3d_level0_col22\" class=\"col_heading level0 col22\" >22</th>\n",
       "      <th id=\"T_82e3d_level0_col23\" class=\"col_heading level0 col23\" >23</th>\n",
       "      <th id=\"T_82e3d_level0_col24\" class=\"col_heading level0 col24\" >24</th>\n",
       "      <th id=\"T_82e3d_level0_col25\" class=\"col_heading level0 col25\" >25</th>\n",
       "      <th id=\"T_82e3d_level0_col26\" class=\"col_heading level0 col26\" >26</th>\n",
       "      <th id=\"T_82e3d_level0_col27\" class=\"col_heading level0 col27\" >27</th>\n",
       "    </tr>\n",
       "  </thead>\n",
       "  <tbody>\n",
       "    <tr>\n",
       "      <th id=\"T_82e3d_level0_row0\" class=\"row_heading level0 row0\" >0</th>\n",
       "      <td id=\"T_82e3d_row0_col0\" class=\"data row0 col0\" >0</td>\n",
       "      <td id=\"T_82e3d_row0_col1\" class=\"data row0 col1\" >0</td>\n",
       "      <td id=\"T_82e3d_row0_col2\" class=\"data row0 col2\" >0</td>\n",
       "      <td id=\"T_82e3d_row0_col3\" class=\"data row0 col3\" >0</td>\n",
       "      <td id=\"T_82e3d_row0_col4\" class=\"data row0 col4\" >0</td>\n",
       "      <td id=\"T_82e3d_row0_col5\" class=\"data row0 col5\" >0</td>\n",
       "      <td id=\"T_82e3d_row0_col6\" class=\"data row0 col6\" >0</td>\n",
       "      <td id=\"T_82e3d_row0_col7\" class=\"data row0 col7\" >0</td>\n",
       "      <td id=\"T_82e3d_row0_col8\" class=\"data row0 col8\" >0</td>\n",
       "      <td id=\"T_82e3d_row0_col9\" class=\"data row0 col9\" >0</td>\n",
       "      <td id=\"T_82e3d_row0_col10\" class=\"data row0 col10\" >0</td>\n",
       "      <td id=\"T_82e3d_row0_col11\" class=\"data row0 col11\" >0</td>\n",
       "      <td id=\"T_82e3d_row0_col12\" class=\"data row0 col12\" >0</td>\n",
       "      <td id=\"T_82e3d_row0_col13\" class=\"data row0 col13\" >0</td>\n",
       "      <td id=\"T_82e3d_row0_col14\" class=\"data row0 col14\" >0</td>\n",
       "      <td id=\"T_82e3d_row0_col15\" class=\"data row0 col15\" >0</td>\n",
       "      <td id=\"T_82e3d_row0_col16\" class=\"data row0 col16\" >0</td>\n",
       "      <td id=\"T_82e3d_row0_col17\" class=\"data row0 col17\" >0</td>\n",
       "      <td id=\"T_82e3d_row0_col18\" class=\"data row0 col18\" >0</td>\n",
       "      <td id=\"T_82e3d_row0_col19\" class=\"data row0 col19\" >0</td>\n",
       "      <td id=\"T_82e3d_row0_col20\" class=\"data row0 col20\" >0</td>\n",
       "      <td id=\"T_82e3d_row0_col21\" class=\"data row0 col21\" >0</td>\n",
       "      <td id=\"T_82e3d_row0_col22\" class=\"data row0 col22\" >0</td>\n",
       "      <td id=\"T_82e3d_row0_col23\" class=\"data row0 col23\" >0</td>\n",
       "      <td id=\"T_82e3d_row0_col24\" class=\"data row0 col24\" >0</td>\n",
       "      <td id=\"T_82e3d_row0_col25\" class=\"data row0 col25\" >0</td>\n",
       "      <td id=\"T_82e3d_row0_col26\" class=\"data row0 col26\" >0</td>\n",
       "      <td id=\"T_82e3d_row0_col27\" class=\"data row0 col27\" >0</td>\n",
       "    </tr>\n",
       "    <tr>\n",
       "      <th id=\"T_82e3d_level0_row1\" class=\"row_heading level0 row1\" >1</th>\n",
       "      <td id=\"T_82e3d_row1_col0\" class=\"data row1 col0\" >0</td>\n",
       "      <td id=\"T_82e3d_row1_col1\" class=\"data row1 col1\" >0</td>\n",
       "      <td id=\"T_82e3d_row1_col2\" class=\"data row1 col2\" >0</td>\n",
       "      <td id=\"T_82e3d_row1_col3\" class=\"data row1 col3\" >0</td>\n",
       "      <td id=\"T_82e3d_row1_col4\" class=\"data row1 col4\" >0</td>\n",
       "      <td id=\"T_82e3d_row1_col5\" class=\"data row1 col5\" >0</td>\n",
       "      <td id=\"T_82e3d_row1_col6\" class=\"data row1 col6\" >0</td>\n",
       "      <td id=\"T_82e3d_row1_col7\" class=\"data row1 col7\" >0</td>\n",
       "      <td id=\"T_82e3d_row1_col8\" class=\"data row1 col8\" >0</td>\n",
       "      <td id=\"T_82e3d_row1_col9\" class=\"data row1 col9\" >0</td>\n",
       "      <td id=\"T_82e3d_row1_col10\" class=\"data row1 col10\" >0</td>\n",
       "      <td id=\"T_82e3d_row1_col11\" class=\"data row1 col11\" >0</td>\n",
       "      <td id=\"T_82e3d_row1_col12\" class=\"data row1 col12\" >0</td>\n",
       "      <td id=\"T_82e3d_row1_col13\" class=\"data row1 col13\" >0</td>\n",
       "      <td id=\"T_82e3d_row1_col14\" class=\"data row1 col14\" >0</td>\n",
       "      <td id=\"T_82e3d_row1_col15\" class=\"data row1 col15\" >0</td>\n",
       "      <td id=\"T_82e3d_row1_col16\" class=\"data row1 col16\" >0</td>\n",
       "      <td id=\"T_82e3d_row1_col17\" class=\"data row1 col17\" >0</td>\n",
       "      <td id=\"T_82e3d_row1_col18\" class=\"data row1 col18\" >0</td>\n",
       "      <td id=\"T_82e3d_row1_col19\" class=\"data row1 col19\" >0</td>\n",
       "      <td id=\"T_82e3d_row1_col20\" class=\"data row1 col20\" >0</td>\n",
       "      <td id=\"T_82e3d_row1_col21\" class=\"data row1 col21\" >0</td>\n",
       "      <td id=\"T_82e3d_row1_col22\" class=\"data row1 col22\" >0</td>\n",
       "      <td id=\"T_82e3d_row1_col23\" class=\"data row1 col23\" >0</td>\n",
       "      <td id=\"T_82e3d_row1_col24\" class=\"data row1 col24\" >0</td>\n",
       "      <td id=\"T_82e3d_row1_col25\" class=\"data row1 col25\" >0</td>\n",
       "      <td id=\"T_82e3d_row1_col26\" class=\"data row1 col26\" >0</td>\n",
       "      <td id=\"T_82e3d_row1_col27\" class=\"data row1 col27\" >0</td>\n",
       "    </tr>\n",
       "    <tr>\n",
       "      <th id=\"T_82e3d_level0_row2\" class=\"row_heading level0 row2\" >2</th>\n",
       "      <td id=\"T_82e3d_row2_col0\" class=\"data row2 col0\" >0</td>\n",
       "      <td id=\"T_82e3d_row2_col1\" class=\"data row2 col1\" >0</td>\n",
       "      <td id=\"T_82e3d_row2_col2\" class=\"data row2 col2\" >0</td>\n",
       "      <td id=\"T_82e3d_row2_col3\" class=\"data row2 col3\" >0</td>\n",
       "      <td id=\"T_82e3d_row2_col4\" class=\"data row2 col4\" >0</td>\n",
       "      <td id=\"T_82e3d_row2_col5\" class=\"data row2 col5\" >0</td>\n",
       "      <td id=\"T_82e3d_row2_col6\" class=\"data row2 col6\" >0</td>\n",
       "      <td id=\"T_82e3d_row2_col7\" class=\"data row2 col7\" >0</td>\n",
       "      <td id=\"T_82e3d_row2_col8\" class=\"data row2 col8\" >0</td>\n",
       "      <td id=\"T_82e3d_row2_col9\" class=\"data row2 col9\" >0</td>\n",
       "      <td id=\"T_82e3d_row2_col10\" class=\"data row2 col10\" >0</td>\n",
       "      <td id=\"T_82e3d_row2_col11\" class=\"data row2 col11\" >0</td>\n",
       "      <td id=\"T_82e3d_row2_col12\" class=\"data row2 col12\" >0</td>\n",
       "      <td id=\"T_82e3d_row2_col13\" class=\"data row2 col13\" >0</td>\n",
       "      <td id=\"T_82e3d_row2_col14\" class=\"data row2 col14\" >0</td>\n",
       "      <td id=\"T_82e3d_row2_col15\" class=\"data row2 col15\" >0</td>\n",
       "      <td id=\"T_82e3d_row2_col16\" class=\"data row2 col16\" >0</td>\n",
       "      <td id=\"T_82e3d_row2_col17\" class=\"data row2 col17\" >0</td>\n",
       "      <td id=\"T_82e3d_row2_col18\" class=\"data row2 col18\" >0</td>\n",
       "      <td id=\"T_82e3d_row2_col19\" class=\"data row2 col19\" >0</td>\n",
       "      <td id=\"T_82e3d_row2_col20\" class=\"data row2 col20\" >0</td>\n",
       "      <td id=\"T_82e3d_row2_col21\" class=\"data row2 col21\" >0</td>\n",
       "      <td id=\"T_82e3d_row2_col22\" class=\"data row2 col22\" >0</td>\n",
       "      <td id=\"T_82e3d_row2_col23\" class=\"data row2 col23\" >0</td>\n",
       "      <td id=\"T_82e3d_row2_col24\" class=\"data row2 col24\" >0</td>\n",
       "      <td id=\"T_82e3d_row2_col25\" class=\"data row2 col25\" >0</td>\n",
       "      <td id=\"T_82e3d_row2_col26\" class=\"data row2 col26\" >0</td>\n",
       "      <td id=\"T_82e3d_row2_col27\" class=\"data row2 col27\" >0</td>\n",
       "    </tr>\n",
       "    <tr>\n",
       "      <th id=\"T_82e3d_level0_row3\" class=\"row_heading level0 row3\" >3</th>\n",
       "      <td id=\"T_82e3d_row3_col0\" class=\"data row3 col0\" >0</td>\n",
       "      <td id=\"T_82e3d_row3_col1\" class=\"data row3 col1\" >0</td>\n",
       "      <td id=\"T_82e3d_row3_col2\" class=\"data row3 col2\" >0</td>\n",
       "      <td id=\"T_82e3d_row3_col3\" class=\"data row3 col3\" >0</td>\n",
       "      <td id=\"T_82e3d_row3_col4\" class=\"data row3 col4\" >0</td>\n",
       "      <td id=\"T_82e3d_row3_col5\" class=\"data row3 col5\" >0</td>\n",
       "      <td id=\"T_82e3d_row3_col6\" class=\"data row3 col6\" >0</td>\n",
       "      <td id=\"T_82e3d_row3_col7\" class=\"data row3 col7\" >0</td>\n",
       "      <td id=\"T_82e3d_row3_col8\" class=\"data row3 col8\" >0</td>\n",
       "      <td id=\"T_82e3d_row3_col9\" class=\"data row3 col9\" >0</td>\n",
       "      <td id=\"T_82e3d_row3_col10\" class=\"data row3 col10\" >0</td>\n",
       "      <td id=\"T_82e3d_row3_col11\" class=\"data row3 col11\" >0</td>\n",
       "      <td id=\"T_82e3d_row3_col12\" class=\"data row3 col12\" >0</td>\n",
       "      <td id=\"T_82e3d_row3_col13\" class=\"data row3 col13\" >0</td>\n",
       "      <td id=\"T_82e3d_row3_col14\" class=\"data row3 col14\" >0</td>\n",
       "      <td id=\"T_82e3d_row3_col15\" class=\"data row3 col15\" >0</td>\n",
       "      <td id=\"T_82e3d_row3_col16\" class=\"data row3 col16\" >0</td>\n",
       "      <td id=\"T_82e3d_row3_col17\" class=\"data row3 col17\" >0</td>\n",
       "      <td id=\"T_82e3d_row3_col18\" class=\"data row3 col18\" >0</td>\n",
       "      <td id=\"T_82e3d_row3_col19\" class=\"data row3 col19\" >0</td>\n",
       "      <td id=\"T_82e3d_row3_col20\" class=\"data row3 col20\" >0</td>\n",
       "      <td id=\"T_82e3d_row3_col21\" class=\"data row3 col21\" >0</td>\n",
       "      <td id=\"T_82e3d_row3_col22\" class=\"data row3 col22\" >0</td>\n",
       "      <td id=\"T_82e3d_row3_col23\" class=\"data row3 col23\" >0</td>\n",
       "      <td id=\"T_82e3d_row3_col24\" class=\"data row3 col24\" >0</td>\n",
       "      <td id=\"T_82e3d_row3_col25\" class=\"data row3 col25\" >0</td>\n",
       "      <td id=\"T_82e3d_row3_col26\" class=\"data row3 col26\" >0</td>\n",
       "      <td id=\"T_82e3d_row3_col27\" class=\"data row3 col27\" >0</td>\n",
       "    </tr>\n",
       "    <tr>\n",
       "      <th id=\"T_82e3d_level0_row4\" class=\"row_heading level0 row4\" >4</th>\n",
       "      <td id=\"T_82e3d_row4_col0\" class=\"data row4 col0\" >0</td>\n",
       "      <td id=\"T_82e3d_row4_col1\" class=\"data row4 col1\" >0</td>\n",
       "      <td id=\"T_82e3d_row4_col2\" class=\"data row4 col2\" >0</td>\n",
       "      <td id=\"T_82e3d_row4_col3\" class=\"data row4 col3\" >0</td>\n",
       "      <td id=\"T_82e3d_row4_col4\" class=\"data row4 col4\" >0</td>\n",
       "      <td id=\"T_82e3d_row4_col5\" class=\"data row4 col5\" >0</td>\n",
       "      <td id=\"T_82e3d_row4_col6\" class=\"data row4 col6\" >0</td>\n",
       "      <td id=\"T_82e3d_row4_col7\" class=\"data row4 col7\" >0</td>\n",
       "      <td id=\"T_82e3d_row4_col8\" class=\"data row4 col8\" >0</td>\n",
       "      <td id=\"T_82e3d_row4_col9\" class=\"data row4 col9\" >0</td>\n",
       "      <td id=\"T_82e3d_row4_col10\" class=\"data row4 col10\" >0</td>\n",
       "      <td id=\"T_82e3d_row4_col11\" class=\"data row4 col11\" >0</td>\n",
       "      <td id=\"T_82e3d_row4_col12\" class=\"data row4 col12\" >0</td>\n",
       "      <td id=\"T_82e3d_row4_col13\" class=\"data row4 col13\" >0</td>\n",
       "      <td id=\"T_82e3d_row4_col14\" class=\"data row4 col14\" >0</td>\n",
       "      <td id=\"T_82e3d_row4_col15\" class=\"data row4 col15\" >0</td>\n",
       "      <td id=\"T_82e3d_row4_col16\" class=\"data row4 col16\" >0</td>\n",
       "      <td id=\"T_82e3d_row4_col17\" class=\"data row4 col17\" >0</td>\n",
       "      <td id=\"T_82e3d_row4_col18\" class=\"data row4 col18\" >0</td>\n",
       "      <td id=\"T_82e3d_row4_col19\" class=\"data row4 col19\" >0</td>\n",
       "      <td id=\"T_82e3d_row4_col20\" class=\"data row4 col20\" >0</td>\n",
       "      <td id=\"T_82e3d_row4_col21\" class=\"data row4 col21\" >0</td>\n",
       "      <td id=\"T_82e3d_row4_col22\" class=\"data row4 col22\" >0</td>\n",
       "      <td id=\"T_82e3d_row4_col23\" class=\"data row4 col23\" >0</td>\n",
       "      <td id=\"T_82e3d_row4_col24\" class=\"data row4 col24\" >0</td>\n",
       "      <td id=\"T_82e3d_row4_col25\" class=\"data row4 col25\" >0</td>\n",
       "      <td id=\"T_82e3d_row4_col26\" class=\"data row4 col26\" >0</td>\n",
       "      <td id=\"T_82e3d_row4_col27\" class=\"data row4 col27\" >0</td>\n",
       "    </tr>\n",
       "    <tr>\n",
       "      <th id=\"T_82e3d_level0_row5\" class=\"row_heading level0 row5\" >5</th>\n",
       "      <td id=\"T_82e3d_row5_col0\" class=\"data row5 col0\" >0</td>\n",
       "      <td id=\"T_82e3d_row5_col1\" class=\"data row5 col1\" >0</td>\n",
       "      <td id=\"T_82e3d_row5_col2\" class=\"data row5 col2\" >0</td>\n",
       "      <td id=\"T_82e3d_row5_col3\" class=\"data row5 col3\" >0</td>\n",
       "      <td id=\"T_82e3d_row5_col4\" class=\"data row5 col4\" >0</td>\n",
       "      <td id=\"T_82e3d_row5_col5\" class=\"data row5 col5\" >0</td>\n",
       "      <td id=\"T_82e3d_row5_col6\" class=\"data row5 col6\" >0</td>\n",
       "      <td id=\"T_82e3d_row5_col7\" class=\"data row5 col7\" >0</td>\n",
       "      <td id=\"T_82e3d_row5_col8\" class=\"data row5 col8\" >0</td>\n",
       "      <td id=\"T_82e3d_row5_col9\" class=\"data row5 col9\" >29</td>\n",
       "      <td id=\"T_82e3d_row5_col10\" class=\"data row5 col10\" >150</td>\n",
       "      <td id=\"T_82e3d_row5_col11\" class=\"data row5 col11\" >195</td>\n",
       "      <td id=\"T_82e3d_row5_col12\" class=\"data row5 col12\" >254</td>\n",
       "      <td id=\"T_82e3d_row5_col13\" class=\"data row5 col13\" >255</td>\n",
       "      <td id=\"T_82e3d_row5_col14\" class=\"data row5 col14\" >254</td>\n",
       "      <td id=\"T_82e3d_row5_col15\" class=\"data row5 col15\" >176</td>\n",
       "      <td id=\"T_82e3d_row5_col16\" class=\"data row5 col16\" >193</td>\n",
       "      <td id=\"T_82e3d_row5_col17\" class=\"data row5 col17\" >150</td>\n",
       "      <td id=\"T_82e3d_row5_col18\" class=\"data row5 col18\" >96</td>\n",
       "      <td id=\"T_82e3d_row5_col19\" class=\"data row5 col19\" >0</td>\n",
       "      <td id=\"T_82e3d_row5_col20\" class=\"data row5 col20\" >0</td>\n",
       "      <td id=\"T_82e3d_row5_col21\" class=\"data row5 col21\" >0</td>\n",
       "      <td id=\"T_82e3d_row5_col22\" class=\"data row5 col22\" >0</td>\n",
       "      <td id=\"T_82e3d_row5_col23\" class=\"data row5 col23\" >0</td>\n",
       "      <td id=\"T_82e3d_row5_col24\" class=\"data row5 col24\" >0</td>\n",
       "      <td id=\"T_82e3d_row5_col25\" class=\"data row5 col25\" >0</td>\n",
       "      <td id=\"T_82e3d_row5_col26\" class=\"data row5 col26\" >0</td>\n",
       "      <td id=\"T_82e3d_row5_col27\" class=\"data row5 col27\" >0</td>\n",
       "    </tr>\n",
       "    <tr>\n",
       "      <th id=\"T_82e3d_level0_row6\" class=\"row_heading level0 row6\" >6</th>\n",
       "      <td id=\"T_82e3d_row6_col0\" class=\"data row6 col0\" >0</td>\n",
       "      <td id=\"T_82e3d_row6_col1\" class=\"data row6 col1\" >0</td>\n",
       "      <td id=\"T_82e3d_row6_col2\" class=\"data row6 col2\" >0</td>\n",
       "      <td id=\"T_82e3d_row6_col3\" class=\"data row6 col3\" >0</td>\n",
       "      <td id=\"T_82e3d_row6_col4\" class=\"data row6 col4\" >0</td>\n",
       "      <td id=\"T_82e3d_row6_col5\" class=\"data row6 col5\" >0</td>\n",
       "      <td id=\"T_82e3d_row6_col6\" class=\"data row6 col6\" >0</td>\n",
       "      <td id=\"T_82e3d_row6_col7\" class=\"data row6 col7\" >48</td>\n",
       "      <td id=\"T_82e3d_row6_col8\" class=\"data row6 col8\" >166</td>\n",
       "      <td id=\"T_82e3d_row6_col9\" class=\"data row6 col9\" >224</td>\n",
       "      <td id=\"T_82e3d_row6_col10\" class=\"data row6 col10\" >253</td>\n",
       "      <td id=\"T_82e3d_row6_col11\" class=\"data row6 col11\" >253</td>\n",
       "      <td id=\"T_82e3d_row6_col12\" class=\"data row6 col12\" >234</td>\n",
       "      <td id=\"T_82e3d_row6_col13\" class=\"data row6 col13\" >196</td>\n",
       "      <td id=\"T_82e3d_row6_col14\" class=\"data row6 col14\" >253</td>\n",
       "      <td id=\"T_82e3d_row6_col15\" class=\"data row6 col15\" >253</td>\n",
       "      <td id=\"T_82e3d_row6_col16\" class=\"data row6 col16\" >253</td>\n",
       "      <td id=\"T_82e3d_row6_col17\" class=\"data row6 col17\" >253</td>\n",
       "      <td id=\"T_82e3d_row6_col18\" class=\"data row6 col18\" >233</td>\n",
       "      <td id=\"T_82e3d_row6_col19\" class=\"data row6 col19\" >0</td>\n",
       "      <td id=\"T_82e3d_row6_col20\" class=\"data row6 col20\" >0</td>\n",
       "      <td id=\"T_82e3d_row6_col21\" class=\"data row6 col21\" >0</td>\n",
       "      <td id=\"T_82e3d_row6_col22\" class=\"data row6 col22\" >0</td>\n",
       "      <td id=\"T_82e3d_row6_col23\" class=\"data row6 col23\" >0</td>\n",
       "      <td id=\"T_82e3d_row6_col24\" class=\"data row6 col24\" >0</td>\n",
       "      <td id=\"T_82e3d_row6_col25\" class=\"data row6 col25\" >0</td>\n",
       "      <td id=\"T_82e3d_row6_col26\" class=\"data row6 col26\" >0</td>\n",
       "      <td id=\"T_82e3d_row6_col27\" class=\"data row6 col27\" >0</td>\n",
       "    </tr>\n",
       "    <tr>\n",
       "      <th id=\"T_82e3d_level0_row7\" class=\"row_heading level0 row7\" >7</th>\n",
       "      <td id=\"T_82e3d_row7_col0\" class=\"data row7 col0\" >0</td>\n",
       "      <td id=\"T_82e3d_row7_col1\" class=\"data row7 col1\" >0</td>\n",
       "      <td id=\"T_82e3d_row7_col2\" class=\"data row7 col2\" >0</td>\n",
       "      <td id=\"T_82e3d_row7_col3\" class=\"data row7 col3\" >0</td>\n",
       "      <td id=\"T_82e3d_row7_col4\" class=\"data row7 col4\" >0</td>\n",
       "      <td id=\"T_82e3d_row7_col5\" class=\"data row7 col5\" >93</td>\n",
       "      <td id=\"T_82e3d_row7_col6\" class=\"data row7 col6\" >244</td>\n",
       "      <td id=\"T_82e3d_row7_col7\" class=\"data row7 col7\" >249</td>\n",
       "      <td id=\"T_82e3d_row7_col8\" class=\"data row7 col8\" >253</td>\n",
       "      <td id=\"T_82e3d_row7_col9\" class=\"data row7 col9\" >187</td>\n",
       "      <td id=\"T_82e3d_row7_col10\" class=\"data row7 col10\" >46</td>\n",
       "      <td id=\"T_82e3d_row7_col11\" class=\"data row7 col11\" >10</td>\n",
       "      <td id=\"T_82e3d_row7_col12\" class=\"data row7 col12\" >8</td>\n",
       "      <td id=\"T_82e3d_row7_col13\" class=\"data row7 col13\" >4</td>\n",
       "      <td id=\"T_82e3d_row7_col14\" class=\"data row7 col14\" >10</td>\n",
       "      <td id=\"T_82e3d_row7_col15\" class=\"data row7 col15\" >194</td>\n",
       "      <td id=\"T_82e3d_row7_col16\" class=\"data row7 col16\" >253</td>\n",
       "      <td id=\"T_82e3d_row7_col17\" class=\"data row7 col17\" >253</td>\n",
       "      <td id=\"T_82e3d_row7_col18\" class=\"data row7 col18\" >233</td>\n",
       "      <td id=\"T_82e3d_row7_col19\" class=\"data row7 col19\" >0</td>\n",
       "      <td id=\"T_82e3d_row7_col20\" class=\"data row7 col20\" >0</td>\n",
       "      <td id=\"T_82e3d_row7_col21\" class=\"data row7 col21\" >0</td>\n",
       "      <td id=\"T_82e3d_row7_col22\" class=\"data row7 col22\" >0</td>\n",
       "      <td id=\"T_82e3d_row7_col23\" class=\"data row7 col23\" >0</td>\n",
       "      <td id=\"T_82e3d_row7_col24\" class=\"data row7 col24\" >0</td>\n",
       "      <td id=\"T_82e3d_row7_col25\" class=\"data row7 col25\" >0</td>\n",
       "      <td id=\"T_82e3d_row7_col26\" class=\"data row7 col26\" >0</td>\n",
       "      <td id=\"T_82e3d_row7_col27\" class=\"data row7 col27\" >0</td>\n",
       "    </tr>\n",
       "    <tr>\n",
       "      <th id=\"T_82e3d_level0_row8\" class=\"row_heading level0 row8\" >8</th>\n",
       "      <td id=\"T_82e3d_row8_col0\" class=\"data row8 col0\" >0</td>\n",
       "      <td id=\"T_82e3d_row8_col1\" class=\"data row8 col1\" >0</td>\n",
       "      <td id=\"T_82e3d_row8_col2\" class=\"data row8 col2\" >0</td>\n",
       "      <td id=\"T_82e3d_row8_col3\" class=\"data row8 col3\" >0</td>\n",
       "      <td id=\"T_82e3d_row8_col4\" class=\"data row8 col4\" >0</td>\n",
       "      <td id=\"T_82e3d_row8_col5\" class=\"data row8 col5\" >107</td>\n",
       "      <td id=\"T_82e3d_row8_col6\" class=\"data row8 col6\" >253</td>\n",
       "      <td id=\"T_82e3d_row8_col7\" class=\"data row8 col7\" >253</td>\n",
       "      <td id=\"T_82e3d_row8_col8\" class=\"data row8 col8\" >230</td>\n",
       "      <td id=\"T_82e3d_row8_col9\" class=\"data row8 col9\" >48</td>\n",
       "      <td id=\"T_82e3d_row8_col10\" class=\"data row8 col10\" >0</td>\n",
       "      <td id=\"T_82e3d_row8_col11\" class=\"data row8 col11\" >0</td>\n",
       "      <td id=\"T_82e3d_row8_col12\" class=\"data row8 col12\" >0</td>\n",
       "      <td id=\"T_82e3d_row8_col13\" class=\"data row8 col13\" >0</td>\n",
       "      <td id=\"T_82e3d_row8_col14\" class=\"data row8 col14\" >0</td>\n",
       "      <td id=\"T_82e3d_row8_col15\" class=\"data row8 col15\" >192</td>\n",
       "      <td id=\"T_82e3d_row8_col16\" class=\"data row8 col16\" >253</td>\n",
       "      <td id=\"T_82e3d_row8_col17\" class=\"data row8 col17\" >253</td>\n",
       "      <td id=\"T_82e3d_row8_col18\" class=\"data row8 col18\" >156</td>\n",
       "      <td id=\"T_82e3d_row8_col19\" class=\"data row8 col19\" >0</td>\n",
       "      <td id=\"T_82e3d_row8_col20\" class=\"data row8 col20\" >0</td>\n",
       "      <td id=\"T_82e3d_row8_col21\" class=\"data row8 col21\" >0</td>\n",
       "      <td id=\"T_82e3d_row8_col22\" class=\"data row8 col22\" >0</td>\n",
       "      <td id=\"T_82e3d_row8_col23\" class=\"data row8 col23\" >0</td>\n",
       "      <td id=\"T_82e3d_row8_col24\" class=\"data row8 col24\" >0</td>\n",
       "      <td id=\"T_82e3d_row8_col25\" class=\"data row8 col25\" >0</td>\n",
       "      <td id=\"T_82e3d_row8_col26\" class=\"data row8 col26\" >0</td>\n",
       "      <td id=\"T_82e3d_row8_col27\" class=\"data row8 col27\" >0</td>\n",
       "    </tr>\n",
       "    <tr>\n",
       "      <th id=\"T_82e3d_level0_row9\" class=\"row_heading level0 row9\" >9</th>\n",
       "      <td id=\"T_82e3d_row9_col0\" class=\"data row9 col0\" >0</td>\n",
       "      <td id=\"T_82e3d_row9_col1\" class=\"data row9 col1\" >0</td>\n",
       "      <td id=\"T_82e3d_row9_col2\" class=\"data row9 col2\" >0</td>\n",
       "      <td id=\"T_82e3d_row9_col3\" class=\"data row9 col3\" >0</td>\n",
       "      <td id=\"T_82e3d_row9_col4\" class=\"data row9 col4\" >0</td>\n",
       "      <td id=\"T_82e3d_row9_col5\" class=\"data row9 col5\" >3</td>\n",
       "      <td id=\"T_82e3d_row9_col6\" class=\"data row9 col6\" >20</td>\n",
       "      <td id=\"T_82e3d_row9_col7\" class=\"data row9 col7\" >20</td>\n",
       "      <td id=\"T_82e3d_row9_col8\" class=\"data row9 col8\" >15</td>\n",
       "      <td id=\"T_82e3d_row9_col9\" class=\"data row9 col9\" >0</td>\n",
       "      <td id=\"T_82e3d_row9_col10\" class=\"data row9 col10\" >0</td>\n",
       "      <td id=\"T_82e3d_row9_col11\" class=\"data row9 col11\" >0</td>\n",
       "      <td id=\"T_82e3d_row9_col12\" class=\"data row9 col12\" >0</td>\n",
       "      <td id=\"T_82e3d_row9_col13\" class=\"data row9 col13\" >0</td>\n",
       "      <td id=\"T_82e3d_row9_col14\" class=\"data row9 col14\" >43</td>\n",
       "      <td id=\"T_82e3d_row9_col15\" class=\"data row9 col15\" >224</td>\n",
       "      <td id=\"T_82e3d_row9_col16\" class=\"data row9 col16\" >253</td>\n",
       "      <td id=\"T_82e3d_row9_col17\" class=\"data row9 col17\" >245</td>\n",
       "      <td id=\"T_82e3d_row9_col18\" class=\"data row9 col18\" >74</td>\n",
       "      <td id=\"T_82e3d_row9_col19\" class=\"data row9 col19\" >0</td>\n",
       "      <td id=\"T_82e3d_row9_col20\" class=\"data row9 col20\" >0</td>\n",
       "      <td id=\"T_82e3d_row9_col21\" class=\"data row9 col21\" >0</td>\n",
       "      <td id=\"T_82e3d_row9_col22\" class=\"data row9 col22\" >0</td>\n",
       "      <td id=\"T_82e3d_row9_col23\" class=\"data row9 col23\" >0</td>\n",
       "      <td id=\"T_82e3d_row9_col24\" class=\"data row9 col24\" >0</td>\n",
       "      <td id=\"T_82e3d_row9_col25\" class=\"data row9 col25\" >0</td>\n",
       "      <td id=\"T_82e3d_row9_col26\" class=\"data row9 col26\" >0</td>\n",
       "      <td id=\"T_82e3d_row9_col27\" class=\"data row9 col27\" >0</td>\n",
       "    </tr>\n",
       "    <tr>\n",
       "      <th id=\"T_82e3d_level0_row10\" class=\"row_heading level0 row10\" >10</th>\n",
       "      <td id=\"T_82e3d_row10_col0\" class=\"data row10 col0\" >0</td>\n",
       "      <td id=\"T_82e3d_row10_col1\" class=\"data row10 col1\" >0</td>\n",
       "      <td id=\"T_82e3d_row10_col2\" class=\"data row10 col2\" >0</td>\n",
       "      <td id=\"T_82e3d_row10_col3\" class=\"data row10 col3\" >0</td>\n",
       "      <td id=\"T_82e3d_row10_col4\" class=\"data row10 col4\" >0</td>\n",
       "      <td id=\"T_82e3d_row10_col5\" class=\"data row10 col5\" >0</td>\n",
       "      <td id=\"T_82e3d_row10_col6\" class=\"data row10 col6\" >0</td>\n",
       "      <td id=\"T_82e3d_row10_col7\" class=\"data row10 col7\" >0</td>\n",
       "      <td id=\"T_82e3d_row10_col8\" class=\"data row10 col8\" >0</td>\n",
       "      <td id=\"T_82e3d_row10_col9\" class=\"data row10 col9\" >0</td>\n",
       "      <td id=\"T_82e3d_row10_col10\" class=\"data row10 col10\" >0</td>\n",
       "      <td id=\"T_82e3d_row10_col11\" class=\"data row10 col11\" >0</td>\n",
       "      <td id=\"T_82e3d_row10_col12\" class=\"data row10 col12\" >0</td>\n",
       "      <td id=\"T_82e3d_row10_col13\" class=\"data row10 col13\" >0</td>\n",
       "      <td id=\"T_82e3d_row10_col14\" class=\"data row10 col14\" >249</td>\n",
       "      <td id=\"T_82e3d_row10_col15\" class=\"data row10 col15\" >253</td>\n",
       "      <td id=\"T_82e3d_row10_col16\" class=\"data row10 col16\" >245</td>\n",
       "      <td id=\"T_82e3d_row10_col17\" class=\"data row10 col17\" >126</td>\n",
       "      <td id=\"T_82e3d_row10_col18\" class=\"data row10 col18\" >0</td>\n",
       "      <td id=\"T_82e3d_row10_col19\" class=\"data row10 col19\" >0</td>\n",
       "      <td id=\"T_82e3d_row10_col20\" class=\"data row10 col20\" >0</td>\n",
       "      <td id=\"T_82e3d_row10_col21\" class=\"data row10 col21\" >0</td>\n",
       "      <td id=\"T_82e3d_row10_col22\" class=\"data row10 col22\" >0</td>\n",
       "      <td id=\"T_82e3d_row10_col23\" class=\"data row10 col23\" >0</td>\n",
       "      <td id=\"T_82e3d_row10_col24\" class=\"data row10 col24\" >0</td>\n",
       "      <td id=\"T_82e3d_row10_col25\" class=\"data row10 col25\" >0</td>\n",
       "      <td id=\"T_82e3d_row10_col26\" class=\"data row10 col26\" >0</td>\n",
       "      <td id=\"T_82e3d_row10_col27\" class=\"data row10 col27\" >0</td>\n",
       "    </tr>\n",
       "    <tr>\n",
       "      <th id=\"T_82e3d_level0_row11\" class=\"row_heading level0 row11\" >11</th>\n",
       "      <td id=\"T_82e3d_row11_col0\" class=\"data row11 col0\" >0</td>\n",
       "      <td id=\"T_82e3d_row11_col1\" class=\"data row11 col1\" >0</td>\n",
       "      <td id=\"T_82e3d_row11_col2\" class=\"data row11 col2\" >0</td>\n",
       "      <td id=\"T_82e3d_row11_col3\" class=\"data row11 col3\" >0</td>\n",
       "      <td id=\"T_82e3d_row11_col4\" class=\"data row11 col4\" >0</td>\n",
       "      <td id=\"T_82e3d_row11_col5\" class=\"data row11 col5\" >0</td>\n",
       "      <td id=\"T_82e3d_row11_col6\" class=\"data row11 col6\" >0</td>\n",
       "      <td id=\"T_82e3d_row11_col7\" class=\"data row11 col7\" >0</td>\n",
       "      <td id=\"T_82e3d_row11_col8\" class=\"data row11 col8\" >0</td>\n",
       "      <td id=\"T_82e3d_row11_col9\" class=\"data row11 col9\" >0</td>\n",
       "      <td id=\"T_82e3d_row11_col10\" class=\"data row11 col10\" >0</td>\n",
       "      <td id=\"T_82e3d_row11_col11\" class=\"data row11 col11\" >14</td>\n",
       "      <td id=\"T_82e3d_row11_col12\" class=\"data row11 col12\" >101</td>\n",
       "      <td id=\"T_82e3d_row11_col13\" class=\"data row11 col13\" >223</td>\n",
       "      <td id=\"T_82e3d_row11_col14\" class=\"data row11 col14\" >253</td>\n",
       "      <td id=\"T_82e3d_row11_col15\" class=\"data row11 col15\" >248</td>\n",
       "      <td id=\"T_82e3d_row11_col16\" class=\"data row11 col16\" >124</td>\n",
       "      <td id=\"T_82e3d_row11_col17\" class=\"data row11 col17\" >0</td>\n",
       "      <td id=\"T_82e3d_row11_col18\" class=\"data row11 col18\" >0</td>\n",
       "      <td id=\"T_82e3d_row11_col19\" class=\"data row11 col19\" >0</td>\n",
       "      <td id=\"T_82e3d_row11_col20\" class=\"data row11 col20\" >0</td>\n",
       "      <td id=\"T_82e3d_row11_col21\" class=\"data row11 col21\" >0</td>\n",
       "      <td id=\"T_82e3d_row11_col22\" class=\"data row11 col22\" >0</td>\n",
       "      <td id=\"T_82e3d_row11_col23\" class=\"data row11 col23\" >0</td>\n",
       "      <td id=\"T_82e3d_row11_col24\" class=\"data row11 col24\" >0</td>\n",
       "      <td id=\"T_82e3d_row11_col25\" class=\"data row11 col25\" >0</td>\n",
       "      <td id=\"T_82e3d_row11_col26\" class=\"data row11 col26\" >0</td>\n",
       "      <td id=\"T_82e3d_row11_col27\" class=\"data row11 col27\" >0</td>\n",
       "    </tr>\n",
       "    <tr>\n",
       "      <th id=\"T_82e3d_level0_row12\" class=\"row_heading level0 row12\" >12</th>\n",
       "      <td id=\"T_82e3d_row12_col0\" class=\"data row12 col0\" >0</td>\n",
       "      <td id=\"T_82e3d_row12_col1\" class=\"data row12 col1\" >0</td>\n",
       "      <td id=\"T_82e3d_row12_col2\" class=\"data row12 col2\" >0</td>\n",
       "      <td id=\"T_82e3d_row12_col3\" class=\"data row12 col3\" >0</td>\n",
       "      <td id=\"T_82e3d_row12_col4\" class=\"data row12 col4\" >0</td>\n",
       "      <td id=\"T_82e3d_row12_col5\" class=\"data row12 col5\" >0</td>\n",
       "      <td id=\"T_82e3d_row12_col6\" class=\"data row12 col6\" >0</td>\n",
       "      <td id=\"T_82e3d_row12_col7\" class=\"data row12 col7\" >0</td>\n",
       "      <td id=\"T_82e3d_row12_col8\" class=\"data row12 col8\" >0</td>\n",
       "      <td id=\"T_82e3d_row12_col9\" class=\"data row12 col9\" >11</td>\n",
       "      <td id=\"T_82e3d_row12_col10\" class=\"data row12 col10\" >166</td>\n",
       "      <td id=\"T_82e3d_row12_col11\" class=\"data row12 col11\" >239</td>\n",
       "      <td id=\"T_82e3d_row12_col12\" class=\"data row12 col12\" >253</td>\n",
       "      <td id=\"T_82e3d_row12_col13\" class=\"data row12 col13\" >253</td>\n",
       "      <td id=\"T_82e3d_row12_col14\" class=\"data row12 col14\" >253</td>\n",
       "      <td id=\"T_82e3d_row12_col15\" class=\"data row12 col15\" >187</td>\n",
       "      <td id=\"T_82e3d_row12_col16\" class=\"data row12 col16\" >30</td>\n",
       "      <td id=\"T_82e3d_row12_col17\" class=\"data row12 col17\" >0</td>\n",
       "      <td id=\"T_82e3d_row12_col18\" class=\"data row12 col18\" >0</td>\n",
       "      <td id=\"T_82e3d_row12_col19\" class=\"data row12 col19\" >0</td>\n",
       "      <td id=\"T_82e3d_row12_col20\" class=\"data row12 col20\" >0</td>\n",
       "      <td id=\"T_82e3d_row12_col21\" class=\"data row12 col21\" >0</td>\n",
       "      <td id=\"T_82e3d_row12_col22\" class=\"data row12 col22\" >0</td>\n",
       "      <td id=\"T_82e3d_row12_col23\" class=\"data row12 col23\" >0</td>\n",
       "      <td id=\"T_82e3d_row12_col24\" class=\"data row12 col24\" >0</td>\n",
       "      <td id=\"T_82e3d_row12_col25\" class=\"data row12 col25\" >0</td>\n",
       "      <td id=\"T_82e3d_row12_col26\" class=\"data row12 col26\" >0</td>\n",
       "      <td id=\"T_82e3d_row12_col27\" class=\"data row12 col27\" >0</td>\n",
       "    </tr>\n",
       "    <tr>\n",
       "      <th id=\"T_82e3d_level0_row13\" class=\"row_heading level0 row13\" >13</th>\n",
       "      <td id=\"T_82e3d_row13_col0\" class=\"data row13 col0\" >0</td>\n",
       "      <td id=\"T_82e3d_row13_col1\" class=\"data row13 col1\" >0</td>\n",
       "      <td id=\"T_82e3d_row13_col2\" class=\"data row13 col2\" >0</td>\n",
       "      <td id=\"T_82e3d_row13_col3\" class=\"data row13 col3\" >0</td>\n",
       "      <td id=\"T_82e3d_row13_col4\" class=\"data row13 col4\" >0</td>\n",
       "      <td id=\"T_82e3d_row13_col5\" class=\"data row13 col5\" >0</td>\n",
       "      <td id=\"T_82e3d_row13_col6\" class=\"data row13 col6\" >0</td>\n",
       "      <td id=\"T_82e3d_row13_col7\" class=\"data row13 col7\" >0</td>\n",
       "      <td id=\"T_82e3d_row13_col8\" class=\"data row13 col8\" >0</td>\n",
       "      <td id=\"T_82e3d_row13_col9\" class=\"data row13 col9\" >16</td>\n",
       "      <td id=\"T_82e3d_row13_col10\" class=\"data row13 col10\" >248</td>\n",
       "      <td id=\"T_82e3d_row13_col11\" class=\"data row13 col11\" >250</td>\n",
       "      <td id=\"T_82e3d_row13_col12\" class=\"data row13 col12\" >253</td>\n",
       "      <td id=\"T_82e3d_row13_col13\" class=\"data row13 col13\" >253</td>\n",
       "      <td id=\"T_82e3d_row13_col14\" class=\"data row13 col14\" >253</td>\n",
       "      <td id=\"T_82e3d_row13_col15\" class=\"data row13 col15\" >253</td>\n",
       "      <td id=\"T_82e3d_row13_col16\" class=\"data row13 col16\" >232</td>\n",
       "      <td id=\"T_82e3d_row13_col17\" class=\"data row13 col17\" >213</td>\n",
       "      <td id=\"T_82e3d_row13_col18\" class=\"data row13 col18\" >111</td>\n",
       "      <td id=\"T_82e3d_row13_col19\" class=\"data row13 col19\" >2</td>\n",
       "      <td id=\"T_82e3d_row13_col20\" class=\"data row13 col20\" >0</td>\n",
       "      <td id=\"T_82e3d_row13_col21\" class=\"data row13 col21\" >0</td>\n",
       "      <td id=\"T_82e3d_row13_col22\" class=\"data row13 col22\" >0</td>\n",
       "      <td id=\"T_82e3d_row13_col23\" class=\"data row13 col23\" >0</td>\n",
       "      <td id=\"T_82e3d_row13_col24\" class=\"data row13 col24\" >0</td>\n",
       "      <td id=\"T_82e3d_row13_col25\" class=\"data row13 col25\" >0</td>\n",
       "      <td id=\"T_82e3d_row13_col26\" class=\"data row13 col26\" >0</td>\n",
       "      <td id=\"T_82e3d_row13_col27\" class=\"data row13 col27\" >0</td>\n",
       "    </tr>\n",
       "    <tr>\n",
       "      <th id=\"T_82e3d_level0_row14\" class=\"row_heading level0 row14\" >14</th>\n",
       "      <td id=\"T_82e3d_row14_col0\" class=\"data row14 col0\" >0</td>\n",
       "      <td id=\"T_82e3d_row14_col1\" class=\"data row14 col1\" >0</td>\n",
       "      <td id=\"T_82e3d_row14_col2\" class=\"data row14 col2\" >0</td>\n",
       "      <td id=\"T_82e3d_row14_col3\" class=\"data row14 col3\" >0</td>\n",
       "      <td id=\"T_82e3d_row14_col4\" class=\"data row14 col4\" >0</td>\n",
       "      <td id=\"T_82e3d_row14_col5\" class=\"data row14 col5\" >0</td>\n",
       "      <td id=\"T_82e3d_row14_col6\" class=\"data row14 col6\" >0</td>\n",
       "      <td id=\"T_82e3d_row14_col7\" class=\"data row14 col7\" >0</td>\n",
       "      <td id=\"T_82e3d_row14_col8\" class=\"data row14 col8\" >0</td>\n",
       "      <td id=\"T_82e3d_row14_col9\" class=\"data row14 col9\" >0</td>\n",
       "      <td id=\"T_82e3d_row14_col10\" class=\"data row14 col10\" >0</td>\n",
       "      <td id=\"T_82e3d_row14_col11\" class=\"data row14 col11\" >43</td>\n",
       "      <td id=\"T_82e3d_row14_col12\" class=\"data row14 col12\" >98</td>\n",
       "      <td id=\"T_82e3d_row14_col13\" class=\"data row14 col13\" >98</td>\n",
       "      <td id=\"T_82e3d_row14_col14\" class=\"data row14 col14\" >208</td>\n",
       "      <td id=\"T_82e3d_row14_col15\" class=\"data row14 col15\" >253</td>\n",
       "      <td id=\"T_82e3d_row14_col16\" class=\"data row14 col16\" >253</td>\n",
       "      <td id=\"T_82e3d_row14_col17\" class=\"data row14 col17\" >253</td>\n",
       "      <td id=\"T_82e3d_row14_col18\" class=\"data row14 col18\" >253</td>\n",
       "      <td id=\"T_82e3d_row14_col19\" class=\"data row14 col19\" >187</td>\n",
       "      <td id=\"T_82e3d_row14_col20\" class=\"data row14 col20\" >22</td>\n",
       "      <td id=\"T_82e3d_row14_col21\" class=\"data row14 col21\" >0</td>\n",
       "      <td id=\"T_82e3d_row14_col22\" class=\"data row14 col22\" >0</td>\n",
       "      <td id=\"T_82e3d_row14_col23\" class=\"data row14 col23\" >0</td>\n",
       "      <td id=\"T_82e3d_row14_col24\" class=\"data row14 col24\" >0</td>\n",
       "      <td id=\"T_82e3d_row14_col25\" class=\"data row14 col25\" >0</td>\n",
       "      <td id=\"T_82e3d_row14_col26\" class=\"data row14 col26\" >0</td>\n",
       "      <td id=\"T_82e3d_row14_col27\" class=\"data row14 col27\" >0</td>\n",
       "    </tr>\n",
       "    <tr>\n",
       "      <th id=\"T_82e3d_level0_row15\" class=\"row_heading level0 row15\" >15</th>\n",
       "      <td id=\"T_82e3d_row15_col0\" class=\"data row15 col0\" >0</td>\n",
       "      <td id=\"T_82e3d_row15_col1\" class=\"data row15 col1\" >0</td>\n",
       "      <td id=\"T_82e3d_row15_col2\" class=\"data row15 col2\" >0</td>\n",
       "      <td id=\"T_82e3d_row15_col3\" class=\"data row15 col3\" >0</td>\n",
       "      <td id=\"T_82e3d_row15_col4\" class=\"data row15 col4\" >0</td>\n",
       "      <td id=\"T_82e3d_row15_col5\" class=\"data row15 col5\" >0</td>\n",
       "      <td id=\"T_82e3d_row15_col6\" class=\"data row15 col6\" >0</td>\n",
       "      <td id=\"T_82e3d_row15_col7\" class=\"data row15 col7\" >0</td>\n",
       "      <td id=\"T_82e3d_row15_col8\" class=\"data row15 col8\" >0</td>\n",
       "      <td id=\"T_82e3d_row15_col9\" class=\"data row15 col9\" >0</td>\n",
       "      <td id=\"T_82e3d_row15_col10\" class=\"data row15 col10\" >0</td>\n",
       "      <td id=\"T_82e3d_row15_col11\" class=\"data row15 col11\" >0</td>\n",
       "      <td id=\"T_82e3d_row15_col12\" class=\"data row15 col12\" >0</td>\n",
       "      <td id=\"T_82e3d_row15_col13\" class=\"data row15 col13\" >0</td>\n",
       "      <td id=\"T_82e3d_row15_col14\" class=\"data row15 col14\" >9</td>\n",
       "      <td id=\"T_82e3d_row15_col15\" class=\"data row15 col15\" >51</td>\n",
       "      <td id=\"T_82e3d_row15_col16\" class=\"data row15 col16\" >119</td>\n",
       "      <td id=\"T_82e3d_row15_col17\" class=\"data row15 col17\" >253</td>\n",
       "      <td id=\"T_82e3d_row15_col18\" class=\"data row15 col18\" >253</td>\n",
       "      <td id=\"T_82e3d_row15_col19\" class=\"data row15 col19\" >253</td>\n",
       "      <td id=\"T_82e3d_row15_col20\" class=\"data row15 col20\" >76</td>\n",
       "      <td id=\"T_82e3d_row15_col21\" class=\"data row15 col21\" >0</td>\n",
       "      <td id=\"T_82e3d_row15_col22\" class=\"data row15 col22\" >0</td>\n",
       "      <td id=\"T_82e3d_row15_col23\" class=\"data row15 col23\" >0</td>\n",
       "      <td id=\"T_82e3d_row15_col24\" class=\"data row15 col24\" >0</td>\n",
       "      <td id=\"T_82e3d_row15_col25\" class=\"data row15 col25\" >0</td>\n",
       "      <td id=\"T_82e3d_row15_col26\" class=\"data row15 col26\" >0</td>\n",
       "      <td id=\"T_82e3d_row15_col27\" class=\"data row15 col27\" >0</td>\n",
       "    </tr>\n",
       "    <tr>\n",
       "      <th id=\"T_82e3d_level0_row16\" class=\"row_heading level0 row16\" >16</th>\n",
       "      <td id=\"T_82e3d_row16_col0\" class=\"data row16 col0\" >0</td>\n",
       "      <td id=\"T_82e3d_row16_col1\" class=\"data row16 col1\" >0</td>\n",
       "      <td id=\"T_82e3d_row16_col2\" class=\"data row16 col2\" >0</td>\n",
       "      <td id=\"T_82e3d_row16_col3\" class=\"data row16 col3\" >0</td>\n",
       "      <td id=\"T_82e3d_row16_col4\" class=\"data row16 col4\" >0</td>\n",
       "      <td id=\"T_82e3d_row16_col5\" class=\"data row16 col5\" >0</td>\n",
       "      <td id=\"T_82e3d_row16_col6\" class=\"data row16 col6\" >0</td>\n",
       "      <td id=\"T_82e3d_row16_col7\" class=\"data row16 col7\" >0</td>\n",
       "      <td id=\"T_82e3d_row16_col8\" class=\"data row16 col8\" >0</td>\n",
       "      <td id=\"T_82e3d_row16_col9\" class=\"data row16 col9\" >0</td>\n",
       "      <td id=\"T_82e3d_row16_col10\" class=\"data row16 col10\" >0</td>\n",
       "      <td id=\"T_82e3d_row16_col11\" class=\"data row16 col11\" >0</td>\n",
       "      <td id=\"T_82e3d_row16_col12\" class=\"data row16 col12\" >0</td>\n",
       "      <td id=\"T_82e3d_row16_col13\" class=\"data row16 col13\" >0</td>\n",
       "      <td id=\"T_82e3d_row16_col14\" class=\"data row16 col14\" >0</td>\n",
       "      <td id=\"T_82e3d_row16_col15\" class=\"data row16 col15\" >0</td>\n",
       "      <td id=\"T_82e3d_row16_col16\" class=\"data row16 col16\" >1</td>\n",
       "      <td id=\"T_82e3d_row16_col17\" class=\"data row16 col17\" >183</td>\n",
       "      <td id=\"T_82e3d_row16_col18\" class=\"data row16 col18\" >253</td>\n",
       "      <td id=\"T_82e3d_row16_col19\" class=\"data row16 col19\" >253</td>\n",
       "      <td id=\"T_82e3d_row16_col20\" class=\"data row16 col20\" >139</td>\n",
       "      <td id=\"T_82e3d_row16_col21\" class=\"data row16 col21\" >0</td>\n",
       "      <td id=\"T_82e3d_row16_col22\" class=\"data row16 col22\" >0</td>\n",
       "      <td id=\"T_82e3d_row16_col23\" class=\"data row16 col23\" >0</td>\n",
       "      <td id=\"T_82e3d_row16_col24\" class=\"data row16 col24\" >0</td>\n",
       "      <td id=\"T_82e3d_row16_col25\" class=\"data row16 col25\" >0</td>\n",
       "      <td id=\"T_82e3d_row16_col26\" class=\"data row16 col26\" >0</td>\n",
       "      <td id=\"T_82e3d_row16_col27\" class=\"data row16 col27\" >0</td>\n",
       "    </tr>\n",
       "    <tr>\n",
       "      <th id=\"T_82e3d_level0_row17\" class=\"row_heading level0 row17\" >17</th>\n",
       "      <td id=\"T_82e3d_row17_col0\" class=\"data row17 col0\" >0</td>\n",
       "      <td id=\"T_82e3d_row17_col1\" class=\"data row17 col1\" >0</td>\n",
       "      <td id=\"T_82e3d_row17_col2\" class=\"data row17 col2\" >0</td>\n",
       "      <td id=\"T_82e3d_row17_col3\" class=\"data row17 col3\" >0</td>\n",
       "      <td id=\"T_82e3d_row17_col4\" class=\"data row17 col4\" >0</td>\n",
       "      <td id=\"T_82e3d_row17_col5\" class=\"data row17 col5\" >0</td>\n",
       "      <td id=\"T_82e3d_row17_col6\" class=\"data row17 col6\" >0</td>\n",
       "      <td id=\"T_82e3d_row17_col7\" class=\"data row17 col7\" >0</td>\n",
       "      <td id=\"T_82e3d_row17_col8\" class=\"data row17 col8\" >0</td>\n",
       "      <td id=\"T_82e3d_row17_col9\" class=\"data row17 col9\" >0</td>\n",
       "      <td id=\"T_82e3d_row17_col10\" class=\"data row17 col10\" >0</td>\n",
       "      <td id=\"T_82e3d_row17_col11\" class=\"data row17 col11\" >0</td>\n",
       "      <td id=\"T_82e3d_row17_col12\" class=\"data row17 col12\" >0</td>\n",
       "      <td id=\"T_82e3d_row17_col13\" class=\"data row17 col13\" >0</td>\n",
       "      <td id=\"T_82e3d_row17_col14\" class=\"data row17 col14\" >0</td>\n",
       "      <td id=\"T_82e3d_row17_col15\" class=\"data row17 col15\" >0</td>\n",
       "      <td id=\"T_82e3d_row17_col16\" class=\"data row17 col16\" >0</td>\n",
       "      <td id=\"T_82e3d_row17_col17\" class=\"data row17 col17\" >182</td>\n",
       "      <td id=\"T_82e3d_row17_col18\" class=\"data row17 col18\" >253</td>\n",
       "      <td id=\"T_82e3d_row17_col19\" class=\"data row17 col19\" >253</td>\n",
       "      <td id=\"T_82e3d_row17_col20\" class=\"data row17 col20\" >104</td>\n",
       "      <td id=\"T_82e3d_row17_col21\" class=\"data row17 col21\" >0</td>\n",
       "      <td id=\"T_82e3d_row17_col22\" class=\"data row17 col22\" >0</td>\n",
       "      <td id=\"T_82e3d_row17_col23\" class=\"data row17 col23\" >0</td>\n",
       "      <td id=\"T_82e3d_row17_col24\" class=\"data row17 col24\" >0</td>\n",
       "      <td id=\"T_82e3d_row17_col25\" class=\"data row17 col25\" >0</td>\n",
       "      <td id=\"T_82e3d_row17_col26\" class=\"data row17 col26\" >0</td>\n",
       "      <td id=\"T_82e3d_row17_col27\" class=\"data row17 col27\" >0</td>\n",
       "    </tr>\n",
       "    <tr>\n",
       "      <th id=\"T_82e3d_level0_row18\" class=\"row_heading level0 row18\" >18</th>\n",
       "      <td id=\"T_82e3d_row18_col0\" class=\"data row18 col0\" >0</td>\n",
       "      <td id=\"T_82e3d_row18_col1\" class=\"data row18 col1\" >0</td>\n",
       "      <td id=\"T_82e3d_row18_col2\" class=\"data row18 col2\" >0</td>\n",
       "      <td id=\"T_82e3d_row18_col3\" class=\"data row18 col3\" >0</td>\n",
       "      <td id=\"T_82e3d_row18_col4\" class=\"data row18 col4\" >0</td>\n",
       "      <td id=\"T_82e3d_row18_col5\" class=\"data row18 col5\" >0</td>\n",
       "      <td id=\"T_82e3d_row18_col6\" class=\"data row18 col6\" >0</td>\n",
       "      <td id=\"T_82e3d_row18_col7\" class=\"data row18 col7\" >0</td>\n",
       "      <td id=\"T_82e3d_row18_col8\" class=\"data row18 col8\" >0</td>\n",
       "      <td id=\"T_82e3d_row18_col9\" class=\"data row18 col9\" >0</td>\n",
       "      <td id=\"T_82e3d_row18_col10\" class=\"data row18 col10\" >0</td>\n",
       "      <td id=\"T_82e3d_row18_col11\" class=\"data row18 col11\" >0</td>\n",
       "      <td id=\"T_82e3d_row18_col12\" class=\"data row18 col12\" >0</td>\n",
       "      <td id=\"T_82e3d_row18_col13\" class=\"data row18 col13\" >0</td>\n",
       "      <td id=\"T_82e3d_row18_col14\" class=\"data row18 col14\" >0</td>\n",
       "      <td id=\"T_82e3d_row18_col15\" class=\"data row18 col15\" >0</td>\n",
       "      <td id=\"T_82e3d_row18_col16\" class=\"data row18 col16\" >85</td>\n",
       "      <td id=\"T_82e3d_row18_col17\" class=\"data row18 col17\" >249</td>\n",
       "      <td id=\"T_82e3d_row18_col18\" class=\"data row18 col18\" >253</td>\n",
       "      <td id=\"T_82e3d_row18_col19\" class=\"data row18 col19\" >253</td>\n",
       "      <td id=\"T_82e3d_row18_col20\" class=\"data row18 col20\" >36</td>\n",
       "      <td id=\"T_82e3d_row18_col21\" class=\"data row18 col21\" >0</td>\n",
       "      <td id=\"T_82e3d_row18_col22\" class=\"data row18 col22\" >0</td>\n",
       "      <td id=\"T_82e3d_row18_col23\" class=\"data row18 col23\" >0</td>\n",
       "      <td id=\"T_82e3d_row18_col24\" class=\"data row18 col24\" >0</td>\n",
       "      <td id=\"T_82e3d_row18_col25\" class=\"data row18 col25\" >0</td>\n",
       "      <td id=\"T_82e3d_row18_col26\" class=\"data row18 col26\" >0</td>\n",
       "      <td id=\"T_82e3d_row18_col27\" class=\"data row18 col27\" >0</td>\n",
       "    </tr>\n",
       "    <tr>\n",
       "      <th id=\"T_82e3d_level0_row19\" class=\"row_heading level0 row19\" >19</th>\n",
       "      <td id=\"T_82e3d_row19_col0\" class=\"data row19 col0\" >0</td>\n",
       "      <td id=\"T_82e3d_row19_col1\" class=\"data row19 col1\" >0</td>\n",
       "      <td id=\"T_82e3d_row19_col2\" class=\"data row19 col2\" >0</td>\n",
       "      <td id=\"T_82e3d_row19_col3\" class=\"data row19 col3\" >0</td>\n",
       "      <td id=\"T_82e3d_row19_col4\" class=\"data row19 col4\" >0</td>\n",
       "      <td id=\"T_82e3d_row19_col5\" class=\"data row19 col5\" >0</td>\n",
       "      <td id=\"T_82e3d_row19_col6\" class=\"data row19 col6\" >0</td>\n",
       "      <td id=\"T_82e3d_row19_col7\" class=\"data row19 col7\" >0</td>\n",
       "      <td id=\"T_82e3d_row19_col8\" class=\"data row19 col8\" >0</td>\n",
       "      <td id=\"T_82e3d_row19_col9\" class=\"data row19 col9\" >0</td>\n",
       "      <td id=\"T_82e3d_row19_col10\" class=\"data row19 col10\" >0</td>\n",
       "      <td id=\"T_82e3d_row19_col11\" class=\"data row19 col11\" >0</td>\n",
       "      <td id=\"T_82e3d_row19_col12\" class=\"data row19 col12\" >0</td>\n",
       "      <td id=\"T_82e3d_row19_col13\" class=\"data row19 col13\" >0</td>\n",
       "      <td id=\"T_82e3d_row19_col14\" class=\"data row19 col14\" >0</td>\n",
       "      <td id=\"T_82e3d_row19_col15\" class=\"data row19 col15\" >60</td>\n",
       "      <td id=\"T_82e3d_row19_col16\" class=\"data row19 col16\" >214</td>\n",
       "      <td id=\"T_82e3d_row19_col17\" class=\"data row19 col17\" >253</td>\n",
       "      <td id=\"T_82e3d_row19_col18\" class=\"data row19 col18\" >253</td>\n",
       "      <td id=\"T_82e3d_row19_col19\" class=\"data row19 col19\" >173</td>\n",
       "      <td id=\"T_82e3d_row19_col20\" class=\"data row19 col20\" >11</td>\n",
       "      <td id=\"T_82e3d_row19_col21\" class=\"data row19 col21\" >0</td>\n",
       "      <td id=\"T_82e3d_row19_col22\" class=\"data row19 col22\" >0</td>\n",
       "      <td id=\"T_82e3d_row19_col23\" class=\"data row19 col23\" >0</td>\n",
       "      <td id=\"T_82e3d_row19_col24\" class=\"data row19 col24\" >0</td>\n",
       "      <td id=\"T_82e3d_row19_col25\" class=\"data row19 col25\" >0</td>\n",
       "      <td id=\"T_82e3d_row19_col26\" class=\"data row19 col26\" >0</td>\n",
       "      <td id=\"T_82e3d_row19_col27\" class=\"data row19 col27\" >0</td>\n",
       "    </tr>\n",
       "    <tr>\n",
       "      <th id=\"T_82e3d_level0_row20\" class=\"row_heading level0 row20\" >20</th>\n",
       "      <td id=\"T_82e3d_row20_col0\" class=\"data row20 col0\" >0</td>\n",
       "      <td id=\"T_82e3d_row20_col1\" class=\"data row20 col1\" >0</td>\n",
       "      <td id=\"T_82e3d_row20_col2\" class=\"data row20 col2\" >0</td>\n",
       "      <td id=\"T_82e3d_row20_col3\" class=\"data row20 col3\" >0</td>\n",
       "      <td id=\"T_82e3d_row20_col4\" class=\"data row20 col4\" >0</td>\n",
       "      <td id=\"T_82e3d_row20_col5\" class=\"data row20 col5\" >0</td>\n",
       "      <td id=\"T_82e3d_row20_col6\" class=\"data row20 col6\" >0</td>\n",
       "      <td id=\"T_82e3d_row20_col7\" class=\"data row20 col7\" >0</td>\n",
       "      <td id=\"T_82e3d_row20_col8\" class=\"data row20 col8\" >0</td>\n",
       "      <td id=\"T_82e3d_row20_col9\" class=\"data row20 col9\" >0</td>\n",
       "      <td id=\"T_82e3d_row20_col10\" class=\"data row20 col10\" >0</td>\n",
       "      <td id=\"T_82e3d_row20_col11\" class=\"data row20 col11\" >0</td>\n",
       "      <td id=\"T_82e3d_row20_col12\" class=\"data row20 col12\" >0</td>\n",
       "      <td id=\"T_82e3d_row20_col13\" class=\"data row20 col13\" >0</td>\n",
       "      <td id=\"T_82e3d_row20_col14\" class=\"data row20 col14\" >98</td>\n",
       "      <td id=\"T_82e3d_row20_col15\" class=\"data row20 col15\" >247</td>\n",
       "      <td id=\"T_82e3d_row20_col16\" class=\"data row20 col16\" >253</td>\n",
       "      <td id=\"T_82e3d_row20_col17\" class=\"data row20 col17\" >253</td>\n",
       "      <td id=\"T_82e3d_row20_col18\" class=\"data row20 col18\" >226</td>\n",
       "      <td id=\"T_82e3d_row20_col19\" class=\"data row20 col19\" >9</td>\n",
       "      <td id=\"T_82e3d_row20_col20\" class=\"data row20 col20\" >0</td>\n",
       "      <td id=\"T_82e3d_row20_col21\" class=\"data row20 col21\" >0</td>\n",
       "      <td id=\"T_82e3d_row20_col22\" class=\"data row20 col22\" >0</td>\n",
       "      <td id=\"T_82e3d_row20_col23\" class=\"data row20 col23\" >0</td>\n",
       "      <td id=\"T_82e3d_row20_col24\" class=\"data row20 col24\" >0</td>\n",
       "      <td id=\"T_82e3d_row20_col25\" class=\"data row20 col25\" >0</td>\n",
       "      <td id=\"T_82e3d_row20_col26\" class=\"data row20 col26\" >0</td>\n",
       "      <td id=\"T_82e3d_row20_col27\" class=\"data row20 col27\" >0</td>\n",
       "    </tr>\n",
       "    <tr>\n",
       "      <th id=\"T_82e3d_level0_row21\" class=\"row_heading level0 row21\" >21</th>\n",
       "      <td id=\"T_82e3d_row21_col0\" class=\"data row21 col0\" >0</td>\n",
       "      <td id=\"T_82e3d_row21_col1\" class=\"data row21 col1\" >0</td>\n",
       "      <td id=\"T_82e3d_row21_col2\" class=\"data row21 col2\" >0</td>\n",
       "      <td id=\"T_82e3d_row21_col3\" class=\"data row21 col3\" >0</td>\n",
       "      <td id=\"T_82e3d_row21_col4\" class=\"data row21 col4\" >0</td>\n",
       "      <td id=\"T_82e3d_row21_col5\" class=\"data row21 col5\" >0</td>\n",
       "      <td id=\"T_82e3d_row21_col6\" class=\"data row21 col6\" >0</td>\n",
       "      <td id=\"T_82e3d_row21_col7\" class=\"data row21 col7\" >0</td>\n",
       "      <td id=\"T_82e3d_row21_col8\" class=\"data row21 col8\" >0</td>\n",
       "      <td id=\"T_82e3d_row21_col9\" class=\"data row21 col9\" >0</td>\n",
       "      <td id=\"T_82e3d_row21_col10\" class=\"data row21 col10\" >0</td>\n",
       "      <td id=\"T_82e3d_row21_col11\" class=\"data row21 col11\" >0</td>\n",
       "      <td id=\"T_82e3d_row21_col12\" class=\"data row21 col12\" >42</td>\n",
       "      <td id=\"T_82e3d_row21_col13\" class=\"data row21 col13\" >150</td>\n",
       "      <td id=\"T_82e3d_row21_col14\" class=\"data row21 col14\" >252</td>\n",
       "      <td id=\"T_82e3d_row21_col15\" class=\"data row21 col15\" >253</td>\n",
       "      <td id=\"T_82e3d_row21_col16\" class=\"data row21 col16\" >253</td>\n",
       "      <td id=\"T_82e3d_row21_col17\" class=\"data row21 col17\" >233</td>\n",
       "      <td id=\"T_82e3d_row21_col18\" class=\"data row21 col18\" >53</td>\n",
       "      <td id=\"T_82e3d_row21_col19\" class=\"data row21 col19\" >0</td>\n",
       "      <td id=\"T_82e3d_row21_col20\" class=\"data row21 col20\" >0</td>\n",
       "      <td id=\"T_82e3d_row21_col21\" class=\"data row21 col21\" >0</td>\n",
       "      <td id=\"T_82e3d_row21_col22\" class=\"data row21 col22\" >0</td>\n",
       "      <td id=\"T_82e3d_row21_col23\" class=\"data row21 col23\" >0</td>\n",
       "      <td id=\"T_82e3d_row21_col24\" class=\"data row21 col24\" >0</td>\n",
       "      <td id=\"T_82e3d_row21_col25\" class=\"data row21 col25\" >0</td>\n",
       "      <td id=\"T_82e3d_row21_col26\" class=\"data row21 col26\" >0</td>\n",
       "      <td id=\"T_82e3d_row21_col27\" class=\"data row21 col27\" >0</td>\n",
       "    </tr>\n",
       "    <tr>\n",
       "      <th id=\"T_82e3d_level0_row22\" class=\"row_heading level0 row22\" >22</th>\n",
       "      <td id=\"T_82e3d_row22_col0\" class=\"data row22 col0\" >0</td>\n",
       "      <td id=\"T_82e3d_row22_col1\" class=\"data row22 col1\" >0</td>\n",
       "      <td id=\"T_82e3d_row22_col2\" class=\"data row22 col2\" >0</td>\n",
       "      <td id=\"T_82e3d_row22_col3\" class=\"data row22 col3\" >0</td>\n",
       "      <td id=\"T_82e3d_row22_col4\" class=\"data row22 col4\" >0</td>\n",
       "      <td id=\"T_82e3d_row22_col5\" class=\"data row22 col5\" >0</td>\n",
       "      <td id=\"T_82e3d_row22_col6\" class=\"data row22 col6\" >42</td>\n",
       "      <td id=\"T_82e3d_row22_col7\" class=\"data row22 col7\" >115</td>\n",
       "      <td id=\"T_82e3d_row22_col8\" class=\"data row22 col8\" >42</td>\n",
       "      <td id=\"T_82e3d_row22_col9\" class=\"data row22 col9\" >60</td>\n",
       "      <td id=\"T_82e3d_row22_col10\" class=\"data row22 col10\" >115</td>\n",
       "      <td id=\"T_82e3d_row22_col11\" class=\"data row22 col11\" >159</td>\n",
       "      <td id=\"T_82e3d_row22_col12\" class=\"data row22 col12\" >240</td>\n",
       "      <td id=\"T_82e3d_row22_col13\" class=\"data row22 col13\" >253</td>\n",
       "      <td id=\"T_82e3d_row22_col14\" class=\"data row22 col14\" >253</td>\n",
       "      <td id=\"T_82e3d_row22_col15\" class=\"data row22 col15\" >250</td>\n",
       "      <td id=\"T_82e3d_row22_col16\" class=\"data row22 col16\" >175</td>\n",
       "      <td id=\"T_82e3d_row22_col17\" class=\"data row22 col17\" >25</td>\n",
       "      <td id=\"T_82e3d_row22_col18\" class=\"data row22 col18\" >0</td>\n",
       "      <td id=\"T_82e3d_row22_col19\" class=\"data row22 col19\" >0</td>\n",
       "      <td id=\"T_82e3d_row22_col20\" class=\"data row22 col20\" >0</td>\n",
       "      <td id=\"T_82e3d_row22_col21\" class=\"data row22 col21\" >0</td>\n",
       "      <td id=\"T_82e3d_row22_col22\" class=\"data row22 col22\" >0</td>\n",
       "      <td id=\"T_82e3d_row22_col23\" class=\"data row22 col23\" >0</td>\n",
       "      <td id=\"T_82e3d_row22_col24\" class=\"data row22 col24\" >0</td>\n",
       "      <td id=\"T_82e3d_row22_col25\" class=\"data row22 col25\" >0</td>\n",
       "      <td id=\"T_82e3d_row22_col26\" class=\"data row22 col26\" >0</td>\n",
       "      <td id=\"T_82e3d_row22_col27\" class=\"data row22 col27\" >0</td>\n",
       "    </tr>\n",
       "    <tr>\n",
       "      <th id=\"T_82e3d_level0_row23\" class=\"row_heading level0 row23\" >23</th>\n",
       "      <td id=\"T_82e3d_row23_col0\" class=\"data row23 col0\" >0</td>\n",
       "      <td id=\"T_82e3d_row23_col1\" class=\"data row23 col1\" >0</td>\n",
       "      <td id=\"T_82e3d_row23_col2\" class=\"data row23 col2\" >0</td>\n",
       "      <td id=\"T_82e3d_row23_col3\" class=\"data row23 col3\" >0</td>\n",
       "      <td id=\"T_82e3d_row23_col4\" class=\"data row23 col4\" >0</td>\n",
       "      <td id=\"T_82e3d_row23_col5\" class=\"data row23 col5\" >0</td>\n",
       "      <td id=\"T_82e3d_row23_col6\" class=\"data row23 col6\" >187</td>\n",
       "      <td id=\"T_82e3d_row23_col7\" class=\"data row23 col7\" >253</td>\n",
       "      <td id=\"T_82e3d_row23_col8\" class=\"data row23 col8\" >253</td>\n",
       "      <td id=\"T_82e3d_row23_col9\" class=\"data row23 col9\" >253</td>\n",
       "      <td id=\"T_82e3d_row23_col10\" class=\"data row23 col10\" >253</td>\n",
       "      <td id=\"T_82e3d_row23_col11\" class=\"data row23 col11\" >253</td>\n",
       "      <td id=\"T_82e3d_row23_col12\" class=\"data row23 col12\" >253</td>\n",
       "      <td id=\"T_82e3d_row23_col13\" class=\"data row23 col13\" >253</td>\n",
       "      <td id=\"T_82e3d_row23_col14\" class=\"data row23 col14\" >197</td>\n",
       "      <td id=\"T_82e3d_row23_col15\" class=\"data row23 col15\" >86</td>\n",
       "      <td id=\"T_82e3d_row23_col16\" class=\"data row23 col16\" >0</td>\n",
       "      <td id=\"T_82e3d_row23_col17\" class=\"data row23 col17\" >0</td>\n",
       "      <td id=\"T_82e3d_row23_col18\" class=\"data row23 col18\" >0</td>\n",
       "      <td id=\"T_82e3d_row23_col19\" class=\"data row23 col19\" >0</td>\n",
       "      <td id=\"T_82e3d_row23_col20\" class=\"data row23 col20\" >0</td>\n",
       "      <td id=\"T_82e3d_row23_col21\" class=\"data row23 col21\" >0</td>\n",
       "      <td id=\"T_82e3d_row23_col22\" class=\"data row23 col22\" >0</td>\n",
       "      <td id=\"T_82e3d_row23_col23\" class=\"data row23 col23\" >0</td>\n",
       "      <td id=\"T_82e3d_row23_col24\" class=\"data row23 col24\" >0</td>\n",
       "      <td id=\"T_82e3d_row23_col25\" class=\"data row23 col25\" >0</td>\n",
       "      <td id=\"T_82e3d_row23_col26\" class=\"data row23 col26\" >0</td>\n",
       "      <td id=\"T_82e3d_row23_col27\" class=\"data row23 col27\" >0</td>\n",
       "    </tr>\n",
       "    <tr>\n",
       "      <th id=\"T_82e3d_level0_row24\" class=\"row_heading level0 row24\" >24</th>\n",
       "      <td id=\"T_82e3d_row24_col0\" class=\"data row24 col0\" >0</td>\n",
       "      <td id=\"T_82e3d_row24_col1\" class=\"data row24 col1\" >0</td>\n",
       "      <td id=\"T_82e3d_row24_col2\" class=\"data row24 col2\" >0</td>\n",
       "      <td id=\"T_82e3d_row24_col3\" class=\"data row24 col3\" >0</td>\n",
       "      <td id=\"T_82e3d_row24_col4\" class=\"data row24 col4\" >0</td>\n",
       "      <td id=\"T_82e3d_row24_col5\" class=\"data row24 col5\" >0</td>\n",
       "      <td id=\"T_82e3d_row24_col6\" class=\"data row24 col6\" >103</td>\n",
       "      <td id=\"T_82e3d_row24_col7\" class=\"data row24 col7\" >253</td>\n",
       "      <td id=\"T_82e3d_row24_col8\" class=\"data row24 col8\" >253</td>\n",
       "      <td id=\"T_82e3d_row24_col9\" class=\"data row24 col9\" >253</td>\n",
       "      <td id=\"T_82e3d_row24_col10\" class=\"data row24 col10\" >253</td>\n",
       "      <td id=\"T_82e3d_row24_col11\" class=\"data row24 col11\" >253</td>\n",
       "      <td id=\"T_82e3d_row24_col12\" class=\"data row24 col12\" >232</td>\n",
       "      <td id=\"T_82e3d_row24_col13\" class=\"data row24 col13\" >67</td>\n",
       "      <td id=\"T_82e3d_row24_col14\" class=\"data row24 col14\" >1</td>\n",
       "      <td id=\"T_82e3d_row24_col15\" class=\"data row24 col15\" >0</td>\n",
       "      <td id=\"T_82e3d_row24_col16\" class=\"data row24 col16\" >0</td>\n",
       "      <td id=\"T_82e3d_row24_col17\" class=\"data row24 col17\" >0</td>\n",
       "      <td id=\"T_82e3d_row24_col18\" class=\"data row24 col18\" >0</td>\n",
       "      <td id=\"T_82e3d_row24_col19\" class=\"data row24 col19\" >0</td>\n",
       "      <td id=\"T_82e3d_row24_col20\" class=\"data row24 col20\" >0</td>\n",
       "      <td id=\"T_82e3d_row24_col21\" class=\"data row24 col21\" >0</td>\n",
       "      <td id=\"T_82e3d_row24_col22\" class=\"data row24 col22\" >0</td>\n",
       "      <td id=\"T_82e3d_row24_col23\" class=\"data row24 col23\" >0</td>\n",
       "      <td id=\"T_82e3d_row24_col24\" class=\"data row24 col24\" >0</td>\n",
       "      <td id=\"T_82e3d_row24_col25\" class=\"data row24 col25\" >0</td>\n",
       "      <td id=\"T_82e3d_row24_col26\" class=\"data row24 col26\" >0</td>\n",
       "      <td id=\"T_82e3d_row24_col27\" class=\"data row24 col27\" >0</td>\n",
       "    </tr>\n",
       "    <tr>\n",
       "      <th id=\"T_82e3d_level0_row25\" class=\"row_heading level0 row25\" >25</th>\n",
       "      <td id=\"T_82e3d_row25_col0\" class=\"data row25 col0\" >0</td>\n",
       "      <td id=\"T_82e3d_row25_col1\" class=\"data row25 col1\" >0</td>\n",
       "      <td id=\"T_82e3d_row25_col2\" class=\"data row25 col2\" >0</td>\n",
       "      <td id=\"T_82e3d_row25_col3\" class=\"data row25 col3\" >0</td>\n",
       "      <td id=\"T_82e3d_row25_col4\" class=\"data row25 col4\" >0</td>\n",
       "      <td id=\"T_82e3d_row25_col5\" class=\"data row25 col5\" >0</td>\n",
       "      <td id=\"T_82e3d_row25_col6\" class=\"data row25 col6\" >0</td>\n",
       "      <td id=\"T_82e3d_row25_col7\" class=\"data row25 col7\" >0</td>\n",
       "      <td id=\"T_82e3d_row25_col8\" class=\"data row25 col8\" >0</td>\n",
       "      <td id=\"T_82e3d_row25_col9\" class=\"data row25 col9\" >0</td>\n",
       "      <td id=\"T_82e3d_row25_col10\" class=\"data row25 col10\" >0</td>\n",
       "      <td id=\"T_82e3d_row25_col11\" class=\"data row25 col11\" >0</td>\n",
       "      <td id=\"T_82e3d_row25_col12\" class=\"data row25 col12\" >0</td>\n",
       "      <td id=\"T_82e3d_row25_col13\" class=\"data row25 col13\" >0</td>\n",
       "      <td id=\"T_82e3d_row25_col14\" class=\"data row25 col14\" >0</td>\n",
       "      <td id=\"T_82e3d_row25_col15\" class=\"data row25 col15\" >0</td>\n",
       "      <td id=\"T_82e3d_row25_col16\" class=\"data row25 col16\" >0</td>\n",
       "      <td id=\"T_82e3d_row25_col17\" class=\"data row25 col17\" >0</td>\n",
       "      <td id=\"T_82e3d_row25_col18\" class=\"data row25 col18\" >0</td>\n",
       "      <td id=\"T_82e3d_row25_col19\" class=\"data row25 col19\" >0</td>\n",
       "      <td id=\"T_82e3d_row25_col20\" class=\"data row25 col20\" >0</td>\n",
       "      <td id=\"T_82e3d_row25_col21\" class=\"data row25 col21\" >0</td>\n",
       "      <td id=\"T_82e3d_row25_col22\" class=\"data row25 col22\" >0</td>\n",
       "      <td id=\"T_82e3d_row25_col23\" class=\"data row25 col23\" >0</td>\n",
       "      <td id=\"T_82e3d_row25_col24\" class=\"data row25 col24\" >0</td>\n",
       "      <td id=\"T_82e3d_row25_col25\" class=\"data row25 col25\" >0</td>\n",
       "      <td id=\"T_82e3d_row25_col26\" class=\"data row25 col26\" >0</td>\n",
       "      <td id=\"T_82e3d_row25_col27\" class=\"data row25 col27\" >0</td>\n",
       "    </tr>\n",
       "    <tr>\n",
       "      <th id=\"T_82e3d_level0_row26\" class=\"row_heading level0 row26\" >26</th>\n",
       "      <td id=\"T_82e3d_row26_col0\" class=\"data row26 col0\" >0</td>\n",
       "      <td id=\"T_82e3d_row26_col1\" class=\"data row26 col1\" >0</td>\n",
       "      <td id=\"T_82e3d_row26_col2\" class=\"data row26 col2\" >0</td>\n",
       "      <td id=\"T_82e3d_row26_col3\" class=\"data row26 col3\" >0</td>\n",
       "      <td id=\"T_82e3d_row26_col4\" class=\"data row26 col4\" >0</td>\n",
       "      <td id=\"T_82e3d_row26_col5\" class=\"data row26 col5\" >0</td>\n",
       "      <td id=\"T_82e3d_row26_col6\" class=\"data row26 col6\" >0</td>\n",
       "      <td id=\"T_82e3d_row26_col7\" class=\"data row26 col7\" >0</td>\n",
       "      <td id=\"T_82e3d_row26_col8\" class=\"data row26 col8\" >0</td>\n",
       "      <td id=\"T_82e3d_row26_col9\" class=\"data row26 col9\" >0</td>\n",
       "      <td id=\"T_82e3d_row26_col10\" class=\"data row26 col10\" >0</td>\n",
       "      <td id=\"T_82e3d_row26_col11\" class=\"data row26 col11\" >0</td>\n",
       "      <td id=\"T_82e3d_row26_col12\" class=\"data row26 col12\" >0</td>\n",
       "      <td id=\"T_82e3d_row26_col13\" class=\"data row26 col13\" >0</td>\n",
       "      <td id=\"T_82e3d_row26_col14\" class=\"data row26 col14\" >0</td>\n",
       "      <td id=\"T_82e3d_row26_col15\" class=\"data row26 col15\" >0</td>\n",
       "      <td id=\"T_82e3d_row26_col16\" class=\"data row26 col16\" >0</td>\n",
       "      <td id=\"T_82e3d_row26_col17\" class=\"data row26 col17\" >0</td>\n",
       "      <td id=\"T_82e3d_row26_col18\" class=\"data row26 col18\" >0</td>\n",
       "      <td id=\"T_82e3d_row26_col19\" class=\"data row26 col19\" >0</td>\n",
       "      <td id=\"T_82e3d_row26_col20\" class=\"data row26 col20\" >0</td>\n",
       "      <td id=\"T_82e3d_row26_col21\" class=\"data row26 col21\" >0</td>\n",
       "      <td id=\"T_82e3d_row26_col22\" class=\"data row26 col22\" >0</td>\n",
       "      <td id=\"T_82e3d_row26_col23\" class=\"data row26 col23\" >0</td>\n",
       "      <td id=\"T_82e3d_row26_col24\" class=\"data row26 col24\" >0</td>\n",
       "      <td id=\"T_82e3d_row26_col25\" class=\"data row26 col25\" >0</td>\n",
       "      <td id=\"T_82e3d_row26_col26\" class=\"data row26 col26\" >0</td>\n",
       "      <td id=\"T_82e3d_row26_col27\" class=\"data row26 col27\" >0</td>\n",
       "    </tr>\n",
       "    <tr>\n",
       "      <th id=\"T_82e3d_level0_row27\" class=\"row_heading level0 row27\" >27</th>\n",
       "      <td id=\"T_82e3d_row27_col0\" class=\"data row27 col0\" >0</td>\n",
       "      <td id=\"T_82e3d_row27_col1\" class=\"data row27 col1\" >0</td>\n",
       "      <td id=\"T_82e3d_row27_col2\" class=\"data row27 col2\" >0</td>\n",
       "      <td id=\"T_82e3d_row27_col3\" class=\"data row27 col3\" >0</td>\n",
       "      <td id=\"T_82e3d_row27_col4\" class=\"data row27 col4\" >0</td>\n",
       "      <td id=\"T_82e3d_row27_col5\" class=\"data row27 col5\" >0</td>\n",
       "      <td id=\"T_82e3d_row27_col6\" class=\"data row27 col6\" >0</td>\n",
       "      <td id=\"T_82e3d_row27_col7\" class=\"data row27 col7\" >0</td>\n",
       "      <td id=\"T_82e3d_row27_col8\" class=\"data row27 col8\" >0</td>\n",
       "      <td id=\"T_82e3d_row27_col9\" class=\"data row27 col9\" >0</td>\n",
       "      <td id=\"T_82e3d_row27_col10\" class=\"data row27 col10\" >0</td>\n",
       "      <td id=\"T_82e3d_row27_col11\" class=\"data row27 col11\" >0</td>\n",
       "      <td id=\"T_82e3d_row27_col12\" class=\"data row27 col12\" >0</td>\n",
       "      <td id=\"T_82e3d_row27_col13\" class=\"data row27 col13\" >0</td>\n",
       "      <td id=\"T_82e3d_row27_col14\" class=\"data row27 col14\" >0</td>\n",
       "      <td id=\"T_82e3d_row27_col15\" class=\"data row27 col15\" >0</td>\n",
       "      <td id=\"T_82e3d_row27_col16\" class=\"data row27 col16\" >0</td>\n",
       "      <td id=\"T_82e3d_row27_col17\" class=\"data row27 col17\" >0</td>\n",
       "      <td id=\"T_82e3d_row27_col18\" class=\"data row27 col18\" >0</td>\n",
       "      <td id=\"T_82e3d_row27_col19\" class=\"data row27 col19\" >0</td>\n",
       "      <td id=\"T_82e3d_row27_col20\" class=\"data row27 col20\" >0</td>\n",
       "      <td id=\"T_82e3d_row27_col21\" class=\"data row27 col21\" >0</td>\n",
       "      <td id=\"T_82e3d_row27_col22\" class=\"data row27 col22\" >0</td>\n",
       "      <td id=\"T_82e3d_row27_col23\" class=\"data row27 col23\" >0</td>\n",
       "      <td id=\"T_82e3d_row27_col24\" class=\"data row27 col24\" >0</td>\n",
       "      <td id=\"T_82e3d_row27_col25\" class=\"data row27 col25\" >0</td>\n",
       "      <td id=\"T_82e3d_row27_col26\" class=\"data row27 col26\" >0</td>\n",
       "      <td id=\"T_82e3d_row27_col27\" class=\"data row27 col27\" >0</td>\n",
       "    </tr>\n",
       "  </tbody>\n",
       "</table>\n"
      ],
      "text/plain": [
       "<pandas.io.formats.style.Styler at 0x7b97c5454670>"
      ]
     },
     "execution_count": 179,
     "metadata": {},
     "output_type": "execute_result"
    }
   ],
   "source": [
    "# Let's print the image with its pixel values\n",
    "im3_t = tensor(im3)\n",
    "df = pd.DataFrame(im3_t)\n",
    "df.style.set_properties(**{'font-size':'6pt'}).background_gradient('Greys')"
   ]
  },
  {
   "cell_type": "markdown",
   "metadata": {
    "id": "ZirCuetq5Rap"
   },
   "source": [
    "## First Try: Pixel Similarity\n",
    "\n",
    "\n",
    "We need to figure out a way to tell if a given image is a 3 or not. How are we going to do that?\n",
    "\n",
    "One idea is to average all the pixel values of all the training images and create an ideal image of a 3 with those average values.\n",
    "\n",
    "Then, given a sample image of a number, we can calculate its distance/difference from the ideal 3 (average values) and deduce a result.\n",
    "\n",
    "The result will be how close to an ideal 3 is the given test image."
   ]
  },
  {
   "cell_type": "code",
   "execution_count": null,
   "metadata": {
    "colab": {
     "base_uri": "https://localhost:8080/"
    },
    "executionInfo": {
     "elapsed": 4302,
     "status": "ok",
     "timestamp": 1706713109231,
     "user": {
      "displayName": "Ioannis Petrousov",
      "userId": "16802625713842772964"
     },
     "user_tz": -60
    },
    "id": "VP-kUgw85Rap",
    "outputId": "ba85baae-b0d7-431f-efa5-e5cabaf67825"
   },
   "outputs": [
    {
     "data": {
      "text/plain": [
       "list"
      ]
     },
     "execution_count": 180,
     "metadata": {},
     "output_type": "execute_result"
    }
   ],
   "source": [
    "seven_tensors = [tensor(Image.open(o)) for o in sevens]\n",
    "three_tensors = [tensor(Image.open(o)) for o in threes]\n",
    "len(three_tensors),len(seven_tensors)\n",
    "type(three_tensors)"
   ]
  },
  {
   "cell_type": "code",
   "execution_count": null,
   "metadata": {
    "colab": {
     "base_uri": "https://localhost:8080/",
     "height": 114
    },
    "executionInfo": {
     "elapsed": 4,
     "status": "ok",
     "timestamp": 1706713109231,
     "user": {
      "displayName": "Ioannis Petrousov",
      "userId": "16802625713842772964"
     },
     "user_tz": -60
    },
    "id": "88ZhsZi95Rap",
    "outputId": "fd742771-a801-4b61-81f5-516c5d94a0a6"
   },
   "outputs": [
    {
     "data": {
      "image/png": "[encoded data removed]",
      "text/plain": [
       "<Figure size 100x100 with 1 Axes>"
      ]
     },
     "metadata": {},
     "output_type": "display_data"
    }
   ],
   "source": [
    "show_image(three_tensors[1]);"
   ]
  },
  {
   "cell_type": "markdown",
   "metadata": {
    "id": "SgmW5Ub6lrek"
   },
   "source": [
    "Now we have created a list of tensors.\n",
    "\n",
    "In order to work on all the tensors at the same time, we need to concatenate them into a rank-3 tensor.\n",
    "\n",
    "Additionally, we convert the pixel values into floats and normalize them by dividing them by 255 so that their values are in the [0, 1] range."
   ]
  },
  {
   "cell_type": "code",
   "execution_count": null,
   "metadata": {
    "colab": {
     "base_uri": "https://localhost:8080/"
    },
    "executionInfo": {
     "elapsed": 19,
     "status": "ok",
     "timestamp": 1706713109754,
     "user": {
      "displayName": "Ioannis Petrousov",
      "userId": "16802625713842772964"
     },
     "user_tz": -60
    },
    "id": "j2uKKe_k5Rap",
    "outputId": "b7484ab9-65c6-4dbf-a8da-fa864e570c30"
   },
   "outputs": [
    {
     "data": {
      "text/plain": [
       "torch.Tensor"
      ]
     },
     "execution_count": 182,
     "metadata": {},
     "output_type": "execute_result"
    }
   ],
   "source": [
    "# https://pytorch.org/docs/stable/generated/torch.stack.html\n",
    "stacked_sevens = torch.stack(seven_tensors).float()/255\n",
    "stacked_threes = torch.stack(three_tensors).float()/255\n",
    "type(stacked_threes)"
   ]
  },
  {
   "cell_type": "code",
   "execution_count": null,
   "metadata": {
    "colab": {
     "base_uri": "https://localhost:8080/"
    },
    "executionInfo": {
     "elapsed": 14,
     "status": "ok",
     "timestamp": 1706713109754,
     "user": {
      "displayName": "Ioannis Petrousov",
      "userId": "16802625713842772964"
     },
     "user_tz": -60
    },
    "id": "vn3FSSQdmamg",
    "outputId": "e5a8f047-6395-41ce-8906-06f1fc60667b"
   },
   "outputs": [
    {
     "data": {
      "text/plain": [
       "torch.Size([6131, 28, 28])"
      ]
     },
     "execution_count": 183,
     "metadata": {},
     "output_type": "execute_result"
    }
   ],
   "source": [
    "stacked_threes.shape"
   ]
  },
  {
   "cell_type": "code",
   "execution_count": null,
   "metadata": {
    "colab": {
     "base_uri": "https://localhost:8080/"
    },
    "executionInfo": {
     "elapsed": 10,
     "status": "ok",
     "timestamp": 1706713109754,
     "user": {
      "displayName": "Ioannis Petrousov",
      "userId": "16802625713842772964"
     },
     "user_tz": -60
    },
    "id": "nU1QQ3a35Rap",
    "outputId": "9d70ea90-50f6-44f6-e829-b1594e3eda2d"
   },
   "outputs": [
    {
     "data": {
      "text/plain": [
       "3"
      ]
     },
     "execution_count": 184,
     "metadata": {},
     "output_type": "execute_result"
    }
   ],
   "source": [
    "len(stacked_threes.shape) # Rank-3 tensor"
   ]
  },
  {
   "cell_type": "code",
   "execution_count": null,
   "metadata": {
    "colab": {
     "base_uri": "https://localhost:8080/"
    },
    "executionInfo": {
     "elapsed": 8,
     "status": "ok",
     "timestamp": 1706713109754,
     "user": {
      "displayName": "Ioannis Petrousov",
      "userId": "16802625713842772964"
     },
     "user_tz": -60
    },
    "id": "they4u915Rap",
    "outputId": "8083088e-8353-4f6f-b514-bfe9954ee02e"
   },
   "outputs": [
    {
     "data": {
      "text/plain": [
       "3"
      ]
     },
     "execution_count": 185,
     "metadata": {},
     "output_type": "execute_result"
    }
   ],
   "source": [
    "stacked_threes.ndim"
   ]
  },
  {
   "cell_type": "markdown",
   "metadata": {
    "id": "-mBnWjNwnSvU"
   },
   "source": [
    "**How does an \"ideal 3\" and \"ideal 7\" look like?**\n",
    "\n",
    "Calculate the \"ideal 3\" by averaging the values of all the pixesl of 3's in the tensors along the dimension 0.\n",
    "\n",
    "Dimension 0: run through all the images in the tensor and calculate the average values of all the pixels.\n",
    "\n",
    "We have 6131 of images indicated by dimension 0."
   ]
  },
  {
   "cell_type": "code",
   "execution_count": null,
   "metadata": {
    "colab": {
     "base_uri": "https://localhost:8080/",
     "height": 114
    },
    "executionInfo": {
     "elapsed": 6,
     "status": "ok",
     "timestamp": 1706713109754,
     "user": {
      "displayName": "Ioannis Petrousov",
      "userId": "16802625713842772964"
     },
     "user_tz": -60
    },
    "id": "FSBlveiq5Rap",
    "outputId": "a6cf6882-564f-467e-a9ea-537dc99c4577"
   },
   "outputs": [
    {
     "data": {
      "image/png": "[encoded data removed]",
      "text/plain": [
       "<Figure size 100x100 with 1 Axes>"
      ]
     },
     "metadata": {},
     "output_type": "display_data"
    }
   ],
   "source": [
    "mean3 = stacked_threes.mean(0) # docs: https://pytorch.org/docs/stable/generated/torch.Tensor.mean.html#torch-tensor-mean\n",
    "show_image(mean3);"
   ]
  },
  {
   "cell_type": "code",
   "execution_count": null,
   "metadata": {
    "colab": {
     "base_uri": "https://localhost:8080/",
     "height": 114
    },
    "executionInfo": {
     "elapsed": 6,
     "status": "ok",
     "timestamp": 1706713109754,
     "user": {
      "displayName": "Ioannis Petrousov",
      "userId": "16802625713842772964"
     },
     "user_tz": -60
    },
    "id": "8X380CCK5Rap",
    "outputId": "10301052-8f7c-4f18-ccdb-78c3fc66b879"
   },
   "outputs": [
    {
     "data": {
      "image/png": "[encoded data removed]",
      "text/plain": [
       "<Figure size 100x100 with 1 Axes>"
      ]
     },
     "metadata": {},
     "output_type": "display_data"
    }
   ],
   "source": [
    "mean7 = stacked_sevens.mean(0)\n",
    "show_image(mean7);"
   ]
  },
  {
   "cell_type": "markdown",
   "metadata": {
    "id": "6ArCHXXRn2oN"
   },
   "source": [
    "We take an arbitrary 3 from our set to compare it against the \"ideal 3\"."
   ]
  },
  {
   "cell_type": "code",
   "execution_count": null,
   "metadata": {
    "colab": {
     "base_uri": "https://localhost:8080/",
     "height": 114
    },
    "executionInfo": {
     "elapsed": 303,
     "status": "ok",
     "timestamp": 1706713110052,
     "user": {
      "displayName": "Ioannis Petrousov",
      "userId": "16802625713842772964"
     },
     "user_tz": -60
    },
    "id": "-K0l_Qwj5Rap",
    "outputId": "e0eef28b-160d-4f6b-d063-ec0afc313feb"
   },
   "outputs": [
    {
     "data": {
      "image/png": "[encoded data removed]",
      "text/plain": [
       "<Figure size 100x100 with 1 Axes>"
      ]
     },
     "metadata": {},
     "output_type": "display_data"
    }
   ],
   "source": [
    "a_3 = stacked_threes[412] # Random sample of 3\n",
    "show_image(a_3); # src: https://github.com/fastai/fastai/blob/43dbef38fe52b8b074d91ee1773e702a1401a486/fastai/torch_core.py#L65"
   ]
  },
  {
   "cell_type": "markdown",
   "metadata": {
    "id": "9ttsDbntp6oF"
   },
   "source": [
    "We need to calculate the difference between the \"ideal 3\" and a random 3.\n",
    "\n",
    "If we just subtract the values of the pixels, we might end up with negative numbers. Pixels cannot have negative numbers.\n",
    "\n",
    "Instead, we use `L1` and `L2` norms to calculate the difference between the numbers.\n",
    "\n",
    "Explanation of `L1` and `L2` norms: https://montjoile.medium.com/l0-norm-l1-norm-l2-norm-l-infinity-norm-7a7d18a4f40c"
   ]
  },
  {
   "cell_type": "code",
   "execution_count": null,
   "metadata": {
    "colab": {
     "base_uri": "https://localhost:8080/"
    },
    "executionInfo": {
     "elapsed": 9,
     "status": "ok",
     "timestamp": 1706713110053,
     "user": {
      "displayName": "Ioannis Petrousov",
      "userId": "16802625713842772964"
     },
     "user_tz": -60
    },
    "id": "jUn5Hzi05Rap",
    "outputId": "a70b7ee7-0ceb-4309-d4b0-55b598174e0f"
   },
   "outputs": [
    {
     "data": {
      "text/plain": [
       "(tensor(0.1638), tensor(0.2961))"
      ]
     },
     "execution_count": 189,
     "metadata": {},
     "output_type": "execute_result"
    }
   ],
   "source": [
    "dist_3_abs = (a_3 - mean3).abs().mean() # This is identical to dist_3_abs = (a_3 - mean3).abs().sum()/(28*28)\n",
    "dist_3_sqr = ((a_3 - mean3)**2).mean().sqrt()\n",
    "dist_3_abs,dist_3_sqr"
   ]
  },
  {
   "cell_type": "code",
   "execution_count": null,
   "metadata": {
    "colab": {
     "base_uri": "https://localhost:8080/"
    },
    "executionInfo": {
     "elapsed": 7,
     "status": "ok",
     "timestamp": 1706713110053,
     "user": {
      "displayName": "Ioannis Petrousov",
      "userId": "16802625713842772964"
     },
     "user_tz": -60
    },
    "id": "Zq7pb3U55Rap",
    "outputId": "a781eab7-421c-4633-ddb9-740ebb905ae5"
   },
   "outputs": [
    {
     "data": {
      "text/plain": [
       "(tensor(0.2363), tensor(0.4050))"
      ]
     },
     "execution_count": 190,
     "metadata": {},
     "output_type": "execute_result"
    }
   ],
   "source": [
    "dist_7_abs = (a_3 - mean7).abs().mean()\n",
    "dist_7_sqr = ((a_3 - mean7)**2).mean().sqrt()\n",
    "dist_7_abs,dist_7_sqr"
   ]
  },
  {
   "cell_type": "markdown",
   "metadata": {
    "id": "eBKvjYlDrYCf"
   },
   "source": [
    "PyTorch already provides both of these as loss functions. You'll find these inside `torch.nn.functional`, which the PyTorch team recommends importing as F (and is available by default under that name in fastai):"
   ]
  },
  {
   "cell_type": "code",
   "execution_count": null,
   "metadata": {
    "colab": {
     "base_uri": "https://localhost:8080/"
    },
    "executionInfo": {
     "elapsed": 6,
     "status": "ok",
     "timestamp": 1706713110053,
     "user": {
      "displayName": "Ioannis Petrousov",
      "userId": "16802625713842772964"
     },
     "user_tz": -60
    },
    "id": "DJU_DZRm5Rap",
    "outputId": "6dc612d4-5e20-4336-b466-14500cfb65d8"
   },
   "outputs": [
    {
     "data": {
      "text/plain": [
       "(tensor(0.1638), tensor(0.2961))"
      ]
     },
     "execution_count": 191,
     "metadata": {},
     "output_type": "execute_result"
    }
   ],
   "source": [
    "F.l1_loss(a_3.float(), mean3), F.mse_loss(a_3, mean3).sqrt()"
   ]
  },
  {
   "cell_type": "code",
   "execution_count": null,
   "metadata": {
    "colab": {
     "base_uri": "https://localhost:8080/"
    },
    "executionInfo": {
     "elapsed": 6,
     "status": "ok",
     "timestamp": 1706713110053,
     "user": {
      "displayName": "Ioannis Petrousov",
      "userId": "16802625713842772964"
     },
     "user_tz": -60
    },
    "id": "HliuzS0HsmUp",
    "outputId": "3792b0c3-7cb4-46ec-bbdf-183a84f662a0"
   },
   "outputs": [
    {
     "data": {
      "text/plain": [
       "(tensor(0.2363), tensor(0.4050))"
      ]
     },
     "execution_count": 192,
     "metadata": {},
     "output_type": "execute_result"
    }
   ],
   "source": [
    "F.l1_loss(a_3.float(), mean7), F.mse_loss(a_3, mean7).sqrt()"
   ]
  },
  {
   "cell_type": "markdown",
   "metadata": {
    "id": "5ANo6Osa5Raq"
   },
   "source": [
    "## Computing Metrics Using Broadcasting\n",
    "\n",
    "Normally, we use accuracy as the metric for classification models.\n",
    "\n",
    "Lets create the validation **tensor** sets for the 3's and 7's"
   ]
  },
  {
   "cell_type": "code",
   "execution_count": null,
   "metadata": {
    "colab": {
     "base_uri": "https://localhost:8080/"
    },
    "executionInfo": {
     "elapsed": 878,
     "status": "ok",
     "timestamp": 1706713110926,
     "user": {
      "displayName": "Ioannis Petrousov",
      "userId": "16802625713842772964"
     },
     "user_tz": -60
    },
    "id": "Qfw45WHr5Raq",
    "outputId": "464972d4-bc70-4d66-e5a2-03f21b576dc7"
   },
   "outputs": [
    {
     "data": {
      "text/plain": [
       "(torch.Size([1010, 28, 28]), torch.Size([1028, 28, 28]))"
      ]
     },
     "execution_count": 193,
     "metadata": {},
     "output_type": "execute_result"
    }
   ],
   "source": [
    "valid_3_tensors = torch.stack([tensor(Image.open(o))\n",
    "                            for o in (path/'valid'/'3').ls()])\n",
    "valid_3_tensors = valid_3_tensors.float()/255\n",
    "valid_7_tensors = torch.stack([tensor(Image.open(o))\n",
    "                            for o in (path/'valid'/'7').ls()])\n",
    "valid_7_tensors = valid_7_tensors.float()/255\n",
    "valid_3_tensors.shape,valid_7_tensors.shape"
   ]
  },
  {
   "cell_type": "markdown",
   "metadata": {
    "id": "33_1qF3qy8il"
   },
   "source": [
    "We write a function that calculates the mean absolute error using an expression very similar to the one we wrote in the last section."
   ]
  },
  {
   "cell_type": "code",
   "execution_count": null,
   "metadata": {
    "colab": {
     "base_uri": "https://localhost:8080/"
    },
    "executionInfo": {
     "elapsed": 12,
     "status": "ok",
     "timestamp": 1706713110926,
     "user": {
      "displayName": "Ioannis Petrousov",
      "userId": "16802625713842772964"
     },
     "user_tz": -60
    },
    "id": "JdLPkv7e5Rau",
    "outputId": "f4f72ef5-ccbe-485e-f986-3365771d76cd"
   },
   "outputs": [
    {
     "data": {
      "text/plain": [
       "tensor(0.1638)"
      ]
     },
     "execution_count": 194,
     "metadata": {},
     "output_type": "execute_result"
    }
   ],
   "source": [
    "def mnist_distance(a, b):\n",
    "  \"\"\" Function to calculate the L1 norm between 2 tensors. \"\"\"\n",
    "  return (a - b).abs().mean((-1, -2))\n",
    "mnist_distance(a_3, mean3) # Calculate distance between 2 image tensors."
   ]
  },
  {
   "cell_type": "markdown",
   "metadata": {
    "id": "3g45K_zN0Uj6"
   },
   "source": [
    "We take this exact same distance function, designed for comparing two single images, but pass in as an argument `valid_3_tensors`, the tensor that represents the 3s validation set:"
   ]
  },
  {
   "cell_type": "code",
   "execution_count": null,
   "metadata": {
    "colab": {
     "base_uri": "https://localhost:8080/"
    },
    "executionInfo": {
     "elapsed": 11,
     "status": "ok",
     "timestamp": 1706713110926,
     "user": {
      "displayName": "Ioannis Petrousov",
      "userId": "16802625713842772964"
     },
     "user_tz": -60
    },
    "id": "Z3m1n02F5Rau",
    "outputId": "9e3b2347-c5f3-4efd-d8c0-d80720c04556"
   },
   "outputs": [
    {
     "data": {
      "text/plain": [
       "(tensor([0.1580, 0.1157, 0.1638,  ..., 0.1383, 0.1445, 0.1493]),\n",
       " torch.Size([1010]))"
      ]
     },
     "execution_count": 195,
     "metadata": {},
     "output_type": "execute_result"
    }
   ],
   "source": [
    "valid_3_dist = mnist_distance(valid_3_tensors, mean3)\n",
    "valid_3_dist, valid_3_dist.shape"
   ]
  },
  {
   "cell_type": "markdown",
   "metadata": {
    "id": "zFqiEA8U0i3W"
   },
   "source": [
    "The function returned the distance for every single image as a vector.\n",
    "\n",
    "When PyTorch tries to perform a simple subtraction operation between two tensors of different ranks, will use **broadcasting**. That is, it will automatically expand the tensor with the smaller rank to have the same size as the one with the larger rank.\n",
    "\n",
    "In other words, it applied the subtraction to all the tensors in the `valid_3_tensors`.\n",
    "\n",
    "`mean((-1,-2))`: The tupple `(-1, -2)` refers to the axes over which we want to have the average values calculated. In this case, these values refer to the last 2 axes which represent the pixels `(28x28)` - the horizontal and vertical dimensions of an image.\n",
    "\n",
    "After taking the mean over the last two axes, we are left with just the first tensor axis, which indexes over our images, which is why our final size was (`1010`)."
   ]
  },
  {
   "cell_type": "markdown",
   "metadata": {
    "id": "6QISj-kr21f7"
   },
   "source": [
    "So, how do we tell if an image is a `3` or not. We use the following (`is_3`) function which will return a `True` or `False` by comparing the distance (from above) between a given image from the \"ideal 3\" and the \"ideal 7\".\n",
    "\n",
    "It's quite elementary, but should work."
   ]
  },
  {
   "cell_type": "code",
   "execution_count": null,
   "metadata": {
    "id": "vYZwx1HH5Rau"
   },
   "outputs": [],
   "source": [
    "def is_3(x):\n",
    "  \"\"\" Return True if distance from Ideal 3 is > than distance from Ideal 7 \"\"\"\n",
    "  return mnist_distance(x, mean3) < mnist_distance(x, mean7)"
   ]
  },
  {
   "cell_type": "code",
   "execution_count": null,
   "metadata": {
    "colab": {
     "base_uri": "https://localhost:8080/"
    },
    "executionInfo": {
     "elapsed": 10,
     "status": "ok",
     "timestamp": 1706713110927,
     "user": {
      "displayName": "Ioannis Petrousov",
      "userId": "16802625713842772964"
     },
     "user_tz": -60
    },
    "id": "aqXnY9rl5Rau",
    "outputId": "70e5a603-7c84-42b0-f590-8676b6fa789a"
   },
   "outputs": [
    {
     "data": {
      "text/plain": [
       "(tensor(True), tensor(1.))"
      ]
     },
     "execution_count": 197,
     "metadata": {},
     "output_type": "execute_result"
    }
   ],
   "source": [
    "a_3 = stacked_threes[12] # Select a random image\n",
    "is_3(a_3), is_3(a_3).float()"
   ]
  },
  {
   "cell_type": "code",
   "execution_count": null,
   "metadata": {
    "colab": {
     "base_uri": "https://localhost:8080/"
    },
    "executionInfo": {
     "elapsed": 8,
     "status": "ok",
     "timestamp": 1706713110927,
     "user": {
      "displayName": "Ioannis Petrousov",
      "userId": "16802625713842772964"
     },
     "user_tz": -60
    },
    "id": "8XZAC0J45Rau",
    "outputId": "613c12d2-4304-4968-daad-0365e94cb295"
   },
   "outputs": [
    {
     "data": {
      "text/plain": [
       "(tensor([False,  True,  True,  ..., False,  True, False]),\n",
       " tensor([False, False, False,  ..., False, False, False]))"
      ]
     },
     "execution_count": 198,
     "metadata": {},
     "output_type": "execute_result"
    }
   ],
   "source": [
    "# We use broadcasting on the whole validation set\n",
    "is_3(valid_3_tensors), is_3(valid_7_tensors)"
   ]
  },
  {
   "cell_type": "code",
   "execution_count": null,
   "metadata": {
    "colab": {
     "base_uri": "https://localhost:8080/"
    },
    "executionInfo": {
     "elapsed": 6,
     "status": "ok",
     "timestamp": 1706713110927,
     "user": {
      "displayName": "Ioannis Petrousov",
      "userId": "16802625713842772964"
     },
     "user_tz": -60
    },
    "id": "fAJkSMA75wiS",
    "outputId": "a29c5508-8b8d-424f-9168-d2de1fb5e22c"
   },
   "outputs": [
    {
     "data": {
      "text/plain": [
       "(tensor([0., 1., 1.,  ..., 0., 1., 0.]),\n",
       " tensor([0., 0., 0.,  ..., 0., 0., 0.]))"
      ]
     },
     "execution_count": 199,
     "metadata": {},
     "output_type": "execute_result"
    }
   ],
   "source": [
    "is_3(valid_3_tensors).float(), is_3(valid_7_tensors).float() # 1.0 == True and 0.0 == False"
   ]
  },
  {
   "cell_type": "markdown",
   "metadata": {
    "id": "PxhKQ2DM4yy5"
   },
   "source": [
    "Now we can calculate the accuracy for each of the 3s and 7s by taking the average of that function for all 3s and its inverse for all 7s:"
   ]
  },
  {
   "cell_type": "code",
   "execution_count": null,
   "metadata": {
    "colab": {
     "base_uri": "https://localhost:8080/"
    },
    "executionInfo": {
     "elapsed": 5,
     "status": "ok",
     "timestamp": 1706713110927,
     "user": {
      "displayName": "Ioannis Petrousov",
      "userId": "16802625713842772964"
     },
     "user_tz": -60
    },
    "id": "phu83GJc5Rau",
    "outputId": "22b9fc0b-2940-4611-fecd-56bfb892aba8"
   },
   "outputs": [
    {
     "data": {
      "text/plain": [
       "(tensor(0.9168), tensor(0.9854), tensor(0.9511))"
      ]
     },
     "execution_count": 200,
     "metadata": {},
     "output_type": "execute_result"
    }
   ],
   "source": [
    "accuracy_3s =      is_3(valid_3_tensors).float() .mean()\n",
    "accuracy_7s = (1 - is_3(valid_7_tensors).float()).mean()\n",
    "\n",
    "accuracy_3s,accuracy_7s,(accuracy_3s+accuracy_7s)/2"
   ]
  },
  {
   "cell_type": "markdown",
   "metadata": {
    "id": "JWw-5lBB57d3"
   },
   "source": [
    "We see that the `accuracy` of predicting whether a number is a 7 or not is not 1.0 That is because there are cases in which the distance `mnist_distance(x,mean3) < mnist_distance(x,mean7)` will result into `False`. That means that the distance between the \"Ideal 3\" and the (validation) image is greater than the distance distance from the \"Ideal 7\".\n",
    "\n",
    "So the function will make mistakes in cases in which the distance of a 3 is greater than the distance from a 7.\n",
    "\n",
    "\n",
    "It's important to note that until this point, the system is not learning, we're just using functions."
   ]
  },
  {
   "cell_type": "markdown",
   "metadata": {
    "id": "gGoaHMrP5Rau"
   },
   "source": [
    "## Stochastic Gradient Descent (SGD)\n",
    "\n",
    "**This section is an illustration in which assuming that `f(x)=x^2` is a loss function, how adjusting the parameter `x` increases - or decreases - the loss.**\n",
    "\n",
    "We need to set some kind of mechanism which will automatically adjust a set of weights/variables so as to maximize the performance of our predictions.\n",
    "\n",
    "This is the key to allowing us to have a model that can get better and better—that can learn."
   ]
  },
  {
   "cell_type": "code",
   "execution_count": null,
   "metadata": {
    "colab": {
     "base_uri": "https://localhost:8080/",
     "height": 125
    },
    "executionInfo": {
     "elapsed": 4,
     "status": "ok",
     "timestamp": 1706713110927,
     "user": {
      "displayName": "Ioannis Petrousov",
      "userId": "16802625713842772964"
     },
     "user_tz": -60
    },
    "id": "5tHombAK_ivt",
    "outputId": "53a1377b-f42a-48f0-ecea-c21ca500959d"
   },
   "outputs": [
    {
     "data": {
      "image/svg+xml": [
       "<?xml version=\"1.0\" encoding=\"UTF-8\" standalone=\"no\"?>\n",
       "<!DOCTYPE svg PUBLIC \"-//W3C//DTD SVG 1.1//EN\"\n",
       " \"http://www.w3.org/Graphics/SVG/1.1/DTD/svg11.dtd\">\n",
       "<!-- Generated by graphviz version 2.43.0 (0)\n",
       " -->\n",
       "<!-- Title: G Pages: 1 -->\n",
       "<svg width=\"591pt\" height=\"78pt\"\n",
       " viewBox=\"0.00 0.00 591.49 78.00\" xmlns=\"http://www.w3.org/2000/svg\" xmlns:xlink=\"http://www.w3.org/1999/xlink\">\n",
       "<g id=\"graph0\" class=\"graph\" transform=\"scale(1 1) rotate(0) translate(4 74)\">\n",
       "<title>G</title>\n",
       "<polygon fill=\"white\" stroke=\"transparent\" points=\"-4,4 -4,-74 587.49,-74 587.49,4 -4,4\"/>\n",
       "<!-- init -->\n",
       "<g id=\"node1\" class=\"node\">\n",
       "<title>init</title>\n",
       "<ellipse fill=\"none\" stroke=\"black\" cx=\"27\" cy=\"-18\" rx=\"27\" ry=\"18\"/>\n",
       "<text text-anchor=\"middle\" x=\"27\" y=\"-14.3\" font-family=\"Times,serif\" font-size=\"14.00\">init</text>\n",
       "</g>\n",
       "<!-- predict -->\n",
       "<g id=\"node2\" class=\"node\">\n",
       "<title>predict</title>\n",
       "<ellipse fill=\"none\" stroke=\"black\" cx=\"126.1\" cy=\"-18\" rx=\"35.19\" ry=\"18\"/>\n",
       "<text text-anchor=\"middle\" x=\"126.1\" y=\"-14.3\" font-family=\"Times,serif\" font-size=\"14.00\">predict</text>\n",
       "</g>\n",
       "<!-- init&#45;&gt;predict -->\n",
       "<g id=\"edge1\" class=\"edge\">\n",
       "<title>init&#45;&gt;predict</title>\n",
       "<path fill=\"none\" stroke=\"black\" d=\"M54.02,-18C62.26,-18 71.62,-18 80.78,-18\"/>\n",
       "<polygon fill=\"black\" stroke=\"black\" points=\"80.96,-21.5 90.96,-18 80.96,-14.5 80.96,-21.5\"/>\n",
       "</g>\n",
       "<!-- loss -->\n",
       "<g id=\"node3\" class=\"node\">\n",
       "<title>loss</title>\n",
       "<ellipse fill=\"none\" stroke=\"black\" cx=\"225.19\" cy=\"-52\" rx=\"27\" ry=\"18\"/>\n",
       "<text text-anchor=\"middle\" x=\"225.19\" y=\"-48.3\" font-family=\"Times,serif\" font-size=\"14.00\">loss</text>\n",
       "</g>\n",
       "<!-- predict&#45;&gt;loss -->\n",
       "<g id=\"edge2\" class=\"edge\">\n",
       "<title>predict&#45;&gt;loss</title>\n",
       "<path fill=\"none\" stroke=\"black\" d=\"M155.44,-27.93C166.61,-31.84 179.52,-36.36 191.11,-40.42\"/>\n",
       "<polygon fill=\"black\" stroke=\"black\" points=\"190.29,-43.84 200.88,-43.84 192.6,-37.23 190.29,-43.84\"/>\n",
       "</g>\n",
       "<!-- gradient -->\n",
       "<g id=\"node4\" class=\"node\">\n",
       "<title>gradient</title>\n",
       "<ellipse fill=\"none\" stroke=\"black\" cx=\"361.84\" cy=\"-52\" rx=\"39.79\" ry=\"18\"/>\n",
       "<text text-anchor=\"middle\" x=\"361.84\" y=\"-48.3\" font-family=\"Times,serif\" font-size=\"14.00\">gradient</text>\n",
       "</g>\n",
       "<!-- loss&#45;&gt;gradient -->\n",
       "<g id=\"edge3\" class=\"edge\">\n",
       "<title>loss&#45;&gt;gradient</title>\n",
       "<path fill=\"none\" stroke=\"black\" d=\"M252.47,-52C269.35,-52 291.8,-52 311.88,-52\"/>\n",
       "<polygon fill=\"black\" stroke=\"black\" points=\"312.13,-55.5 322.13,-52 312.13,-48.5 312.13,-55.5\"/>\n",
       "</g>\n",
       "<!-- step -->\n",
       "<g id=\"node5\" class=\"node\">\n",
       "<title>step</title>\n",
       "<ellipse fill=\"none\" stroke=\"black\" cx=\"465.49\" cy=\"-18\" rx=\"27\" ry=\"18\"/>\n",
       "<text text-anchor=\"middle\" x=\"465.49\" y=\"-14.3\" font-family=\"Times,serif\" font-size=\"14.00\">step</text>\n",
       "</g>\n",
       "<!-- gradient&#45;&gt;step -->\n",
       "<g id=\"edge4\" class=\"edge\">\n",
       "<title>gradient&#45;&gt;step</title>\n",
       "<path fill=\"none\" stroke=\"black\" d=\"M394.17,-41.52C405.92,-37.59 419.32,-33.11 431.25,-29.12\"/>\n",
       "<polygon fill=\"black\" stroke=\"black\" points=\"432.48,-32.4 440.85,-25.91 430.26,-25.76 432.48,-32.4\"/>\n",
       "</g>\n",
       "<!-- step&#45;&gt;predict -->\n",
       "<g id=\"edge6\" class=\"edge\">\n",
       "<title>step&#45;&gt;predict</title>\n",
       "<path fill=\"none\" stroke=\"black\" d=\"M438.29,-18C380.72,-18 242.6,-18 171.32,-18\"/>\n",
       "<polygon fill=\"black\" stroke=\"black\" points=\"171.3,-14.5 161.3,-18 171.3,-21.5 171.3,-14.5\"/>\n",
       "<text text-anchor=\"middle\" x=\"287.19\" y=\"-21.8\" font-family=\"Times,serif\" font-size=\"14.00\">repeat</text>\n",
       "</g>\n",
       "<!-- stop -->\n",
       "<g id=\"node6\" class=\"node\">\n",
       "<title>stop</title>\n",
       "<ellipse fill=\"none\" stroke=\"black\" cx=\"556.49\" cy=\"-18\" rx=\"27\" ry=\"18\"/>\n",
       "<text text-anchor=\"middle\" x=\"556.49\" y=\"-14.3\" font-family=\"Times,serif\" font-size=\"14.00\">stop</text>\n",
       "</g>\n",
       "<!-- step&#45;&gt;stop -->\n",
       "<g id=\"edge5\" class=\"edge\">\n",
       "<title>step&#45;&gt;stop</title>\n",
       "<path fill=\"none\" stroke=\"black\" d=\"M492.71,-18C501.04,-18 510.4,-18 519.3,-18\"/>\n",
       "<polygon fill=\"black\" stroke=\"black\" points=\"519.45,-21.5 529.45,-18 519.45,-14.5 519.45,-21.5\"/>\n",
       "</g>\n",
       "</g>\n",
       "</svg>\n"
      ],
      "text/plain": [
       "<graphviz.sources.Source at 0x7b97f6a2ef20>"
      ]
     },
     "execution_count": 201,
     "metadata": {},
     "output_type": "execute_result"
    }
   ],
   "source": [
    "gv('''\n",
    "init->predict->loss->gradient->step->stop\n",
    "step->predict[label=repeat]\n",
    "''')"
   ]
  },
  {
   "cell_type": "markdown",
   "metadata": {
    "id": "w4tD_1Op_nhd"
   },
   "source": [
    "To be more specific, here are the steps that we are going to require, to turn this function into a machine learning classifier:\n",
    "\n",
    "1. Initialize:: the weights - random values\n",
    "2. Predict:: For each image, use these weights to predict whether it appears to be a 3 or a 7.\n",
    "3. Loss:: Based on these predictions, calculate how good the model is (its loss).\n",
    "4. Gradient:: Calculate the gradient, which measures for each weight, how changing that weight would change the loss.\n",
    "5. Step:: Step (that is, change) all the weights based on that calculation.\n",
    "6. Predict:: Go back to the step 2, and repeat the process.\n",
    "\n",
    "Iterate until you decide to stop the training process (for instance, because the model is good enough or you don't want to wait any longer)."
   ]
  },
  {
   "cell_type": "markdown",
   "metadata": {
    "id": "pQSP-1PGAnGS"
   },
   "source": [
    "Let's define a simple quadratic function and pretend that this is our loss function and `x` is the weight parameter."
   ]
  },
  {
   "cell_type": "code",
   "execution_count": null,
   "metadata": {
    "id": "_hs3Q78v5Rav"
   },
   "outputs": [],
   "source": [
    "def f(x):\n",
    "  return x**2"
   ]
  },
  {
   "cell_type": "markdown",
   "metadata": {
    "id": "ICHmSKM9Au6z"
   },
   "source": [
    "We pick some random value for the parameter `x`.\n",
    "Let's say it's `1.5` and calculating the value of the loss."
   ]
  },
  {
   "cell_type": "code",
   "execution_count": null,
   "metadata": {
    "colab": {
     "base_uri": "https://localhost:8080/",
     "height": 419
    },
    "executionInfo": {
     "elapsed": 370,
     "status": "ok",
     "timestamp": 1706713111630,
     "user": {
      "displayName": "Ioannis Petrousov",
      "userId": "16802625713842772964"
     },
     "user_tz": -60
    },
    "id": "K4Qna6wH5Rav",
    "outputId": "bf82fc96-65e2-461f-cdf8-8a1482dbd16a"
   },
   "outputs": [
    {
     "data": {
      "image/png": "[encoded data removed]",
      "text/plain": [
       "<Figure size 600x400 with 1 Axes>"
      ]
     },
     "metadata": {},
     "output_type": "display_data"
    }
   ],
   "source": [
    "plot_function(f, 'x', 'x**2', title=\"Loss function\")"
   ]
  },
  {
   "cell_type": "code",
   "execution_count": null,
   "metadata": {
    "colab": {
     "base_uri": "https://localhost:8080/",
     "height": 396
    },
    "executionInfo": {
     "elapsed": 623,
     "status": "ok",
     "timestamp": 1706713112250,
     "user": {
      "displayName": "Ioannis Petrousov",
      "userId": "16802625713842772964"
     },
     "user_tz": -60
    },
    "id": "sEBzl2Wu5Rav",
    "outputId": "fdc65b83-85dd-4b08-d62c-54621bf0c91a"
   },
   "outputs": [
    {
     "data": {
      "image/png": "[encoded data removed]",
      "text/plain": [
       "<Figure size 600x400 with 1 Axes>"
      ]
     },
     "metadata": {},
     "output_type": "display_data"
    }
   ],
   "source": [
    "plot_function(f, 'x', 'x**2')\n",
    "plt.scatter(-1.5, f(-1.5), color='red');"
   ]
  },
  {
   "cell_type": "code",
   "execution_count": null,
   "metadata": {
    "colab": {
     "base_uri": "https://localhost:8080/"
    },
    "executionInfo": {
     "elapsed": 6,
     "status": "ok",
     "timestamp": 1706713112250,
     "user": {
      "displayName": "Ioannis Petrousov",
      "userId": "16802625713842772964"
     },
     "user_tz": -60
    },
    "id": "bjBrZ_8oBFcY",
    "outputId": "c3f4dc53-83a2-463a-bf55-66d945c9a138"
   },
   "outputs": [
    {
     "data": {
      "text/plain": [
       "2.25"
      ]
     },
     "execution_count": 205,
     "metadata": {},
     "output_type": "execute_result"
    }
   ],
   "source": [
    "# Value of loss at 1.5\n",
    "f(1.5)"
   ]
  },
  {
   "cell_type": "markdown",
   "metadata": {
    "id": "lviPk-aBMWhU"
   },
   "source": [
    "If we increase or decrease the parameter by a little bit - the adjustment - we see how the value of the loss changes."
   ]
  },
  {
   "cell_type": "code",
   "execution_count": null,
   "metadata": {
    "colab": {
     "base_uri": "https://localhost:8080/",
     "height": 267
    },
    "executionInfo": {
     "elapsed": 5,
     "status": "ok",
     "timestamp": 1706713112250,
     "user": {
      "displayName": "Ioannis Petrousov",
      "userId": "16802625713842772964"
     },
     "user_tz": -60
    },
    "id": "xUtOOtjeFc5o",
    "outputId": "34dc8e02-7124-427c-e419-267e289b7040"
   },
   "outputs": [
    {
     "data": {
      "image/svg+xml": [
       "<svg xmlns=\"http://www.w3.org/2000/svg\" xmlns:xlink=\"http://www.w3.org/1999/xlink\" width=\"242.712pt\" height=\"184.037pt\" viewBox=\"0 0 242.712 184.037\" version=\"1.1\">\n",
       "<defs>\n",
       "<g>\n",
       "<symbol overflow=\"visible\" id=\"glyph0-0\">\n",
       "<path style=\"stroke:none;\" d=\"\"/>\n",
       "</symbol>\n",
       "<symbol overflow=\"visible\" id=\"glyph0-1\">\n",
       "<path style=\"stroke:none;\" d=\"M 1.71875 -3.75 L 1.71875 -4.40625 L 0.28125 -4.296875 L 0.28125 -3.984375 C 0.984375 -3.984375 1.0625 -3.921875 1.0625 -3.484375 L 1.0625 1.171875 C 1.0625 1.625 0.953125 1.625 0.28125 1.625 L 0.28125 1.9375 C 0.625 1.921875 1.140625 1.90625 1.390625 1.90625 C 1.671875 1.90625 2.171875 1.921875 2.515625 1.9375 L 2.515625 1.625 C 1.859375 1.625 1.75 1.625 1.75 1.171875 L 1.75 -0.59375 C 1.796875 -0.421875 2.21875 0.109375 2.96875 0.109375 C 4.15625 0.109375 5.1875 -0.875 5.1875 -2.15625 C 5.1875 -3.421875 4.234375 -4.40625 3.109375 -4.40625 C 2.328125 -4.40625 1.90625 -3.96875 1.71875 -3.75 Z M 1.75 -1.140625 L 1.75 -3.359375 C 2.03125 -3.875 2.515625 -4.15625 3.03125 -4.15625 C 3.765625 -4.15625 4.359375 -3.28125 4.359375 -2.15625 C 4.359375 -0.953125 3.671875 -0.109375 2.9375 -0.109375 C 2.53125 -0.109375 2.15625 -0.3125 1.890625 -0.71875 C 1.75 -0.921875 1.75 -0.9375 1.75 -1.140625 Z M 1.75 -1.140625 \"/>\n",
       "</symbol>\n",
       "<symbol overflow=\"visible\" id=\"glyph0-2\">\n",
       "<path style=\"stroke:none;\" d=\"M 3.3125 -0.75 C 3.359375 -0.359375 3.625 0.0625 4.09375 0.0625 C 4.3125 0.0625 4.921875 -0.078125 4.921875 -0.890625 L 4.921875 -1.453125 L 4.671875 -1.453125 L 4.671875 -0.890625 C 4.671875 -0.3125 4.421875 -0.25 4.3125 -0.25 C 3.984375 -0.25 3.9375 -0.703125 3.9375 -0.75 L 3.9375 -2.734375 C 3.9375 -3.15625 3.9375 -3.546875 3.578125 -3.921875 C 3.1875 -4.3125 2.6875 -4.46875 2.21875 -4.46875 C 1.390625 -4.46875 0.703125 -4 0.703125 -3.34375 C 0.703125 -3.046875 0.90625 -2.875 1.171875 -2.875 C 1.453125 -2.875 1.625 -3.078125 1.625 -3.328125 C 1.625 -3.453125 1.578125 -3.78125 1.109375 -3.78125 C 1.390625 -4.140625 1.875 -4.25 2.1875 -4.25 C 2.6875 -4.25 3.25 -3.859375 3.25 -2.96875 L 3.25 -2.609375 C 2.734375 -2.578125 2.046875 -2.546875 1.421875 -2.25 C 0.671875 -1.90625 0.421875 -1.390625 0.421875 -0.953125 C 0.421875 -0.140625 1.390625 0.109375 2.015625 0.109375 C 2.671875 0.109375 3.125 -0.296875 3.3125 -0.75 Z M 3.25 -2.390625 L 3.25 -1.390625 C 3.25 -0.453125 2.53125 -0.109375 2.078125 -0.109375 C 1.59375 -0.109375 1.1875 -0.453125 1.1875 -0.953125 C 1.1875 -1.5 1.609375 -2.328125 3.25 -2.390625 Z M 3.25 -2.390625 \"/>\n",
       "</symbol>\n",
       "<symbol overflow=\"visible\" id=\"glyph0-3\">\n",
       "<path style=\"stroke:none;\" d=\"M 1.671875 -3.3125 L 1.671875 -4.40625 L 0.28125 -4.296875 L 0.28125 -3.984375 C 0.984375 -3.984375 1.0625 -3.921875 1.0625 -3.421875 L 1.0625 -0.75 C 1.0625 -0.3125 0.953125 -0.3125 0.28125 -0.3125 L 0.28125 0 C 0.671875 -0.015625 1.140625 -0.03125 1.421875 -0.03125 C 1.8125 -0.03125 2.28125 -0.03125 2.6875 0 L 2.6875 -0.3125 L 2.46875 -0.3125 C 1.734375 -0.3125 1.71875 -0.421875 1.71875 -0.78125 L 1.71875 -2.3125 C 1.71875 -3.296875 2.140625 -4.1875 2.890625 -4.1875 C 2.953125 -4.1875 2.984375 -4.1875 3 -4.171875 C 2.96875 -4.171875 2.765625 -4.046875 2.765625 -3.78125 C 2.765625 -3.515625 2.984375 -3.359375 3.203125 -3.359375 C 3.375 -3.359375 3.625 -3.484375 3.625 -3.796875 C 3.625 -4.109375 3.3125 -4.40625 2.890625 -4.40625 C 2.15625 -4.40625 1.796875 -3.734375 1.671875 -3.3125 Z M 1.671875 -3.3125 \"/>\n",
       "</symbol>\n",
       "<symbol overflow=\"visible\" id=\"glyph0-4\">\n",
       "<path style=\"stroke:none;\" d=\"M 1.09375 -3.421875 L 1.09375 -0.75 C 1.09375 -0.3125 0.984375 -0.3125 0.3125 -0.3125 L 0.3125 0 C 0.671875 -0.015625 1.171875 -0.03125 1.453125 -0.03125 C 1.703125 -0.03125 2.21875 -0.015625 2.5625 0 L 2.5625 -0.3125 C 1.890625 -0.3125 1.78125 -0.3125 1.78125 -0.75 L 1.78125 -2.59375 C 1.78125 -3.625 2.5 -4.1875 3.125 -4.1875 C 3.765625 -4.1875 3.875 -3.65625 3.875 -3.078125 L 3.875 -0.75 C 3.875 -0.3125 3.765625 -0.3125 3.09375 -0.3125 L 3.09375 0 C 3.4375 -0.015625 3.953125 -0.03125 4.21875 -0.03125 C 4.46875 -0.03125 5 -0.015625 5.328125 0 L 5.328125 -0.3125 C 4.671875 -0.3125 4.5625 -0.3125 4.5625 -0.75 L 4.5625 -2.59375 C 4.5625 -3.625 5.265625 -4.1875 5.90625 -4.1875 C 6.53125 -4.1875 6.640625 -3.65625 6.640625 -3.078125 L 6.640625 -0.75 C 6.640625 -0.3125 6.53125 -0.3125 5.859375 -0.3125 L 5.859375 0 C 6.203125 -0.015625 6.71875 -0.03125 6.984375 -0.03125 C 7.25 -0.03125 7.765625 -0.015625 8.109375 0 L 8.109375 -0.3125 C 7.59375 -0.3125 7.34375 -0.3125 7.328125 -0.609375 L 7.328125 -2.515625 C 7.328125 -3.375 7.328125 -3.671875 7.015625 -4.03125 C 6.875 -4.203125 6.546875 -4.40625 5.96875 -4.40625 C 5.140625 -4.40625 4.6875 -3.8125 4.53125 -3.421875 C 4.390625 -4.296875 3.65625 -4.40625 3.203125 -4.40625 C 2.46875 -4.40625 2 -3.984375 1.71875 -3.359375 L 1.71875 -4.40625 L 0.3125 -4.296875 L 0.3125 -3.984375 C 1.015625 -3.984375 1.09375 -3.921875 1.09375 -3.421875 Z M 1.09375 -3.421875 \"/>\n",
       "</symbol>\n",
       "<symbol overflow=\"visible\" id=\"glyph0-5\">\n",
       "<path style=\"stroke:none;\" d=\"M 1.109375 -2.515625 C 1.171875 -4 2.015625 -4.25 2.359375 -4.25 C 3.375 -4.25 3.484375 -2.90625 3.484375 -2.515625 Z M 1.109375 -2.296875 L 3.890625 -2.296875 C 4.109375 -2.296875 4.140625 -2.296875 4.140625 -2.515625 C 4.140625 -3.5 3.59375 -4.46875 2.359375 -4.46875 C 1.203125 -4.46875 0.28125 -3.4375 0.28125 -2.1875 C 0.28125 -0.859375 1.328125 0.109375 2.46875 0.109375 C 3.6875 0.109375 4.140625 -1 4.140625 -1.1875 C 4.140625 -1.28125 4.0625 -1.3125 4 -1.3125 C 3.921875 -1.3125 3.890625 -1.25 3.875 -1.171875 C 3.53125 -0.140625 2.625 -0.140625 2.53125 -0.140625 C 2.03125 -0.140625 1.640625 -0.4375 1.40625 -0.8125 C 1.109375 -1.28125 1.109375 -1.9375 1.109375 -2.296875 Z M 1.109375 -2.296875 \"/>\n",
       "</symbol>\n",
       "<symbol overflow=\"visible\" id=\"glyph0-6\">\n",
       "<path style=\"stroke:none;\" d=\"M 1.71875 -3.984375 L 3.15625 -3.984375 L 3.15625 -4.296875 L 1.71875 -4.296875 L 1.71875 -6.125 L 1.46875 -6.125 C 1.46875 -5.3125 1.171875 -4.25 0.1875 -4.203125 L 0.1875 -3.984375 L 1.03125 -3.984375 L 1.03125 -1.234375 C 1.03125 -0.015625 1.96875 0.109375 2.328125 0.109375 C 3.03125 0.109375 3.3125 -0.59375 3.3125 -1.234375 L 3.3125 -1.796875 L 3.0625 -1.796875 L 3.0625 -1.25 C 3.0625 -0.515625 2.765625 -0.140625 2.390625 -0.140625 C 1.71875 -0.140625 1.71875 -1.046875 1.71875 -1.21875 Z M 1.71875 -3.984375 \"/>\n",
       "</symbol>\n",
       "<symbol overflow=\"visible\" id=\"glyph0-7\">\n",
       "<path style=\"stroke:none;\" d=\"M 1.765625 -6.921875 L 0.328125 -6.8125 L 0.328125 -6.5 C 1.03125 -6.5 1.109375 -6.4375 1.109375 -5.9375 L 1.109375 -0.75 C 1.109375 -0.3125 1 -0.3125 0.328125 -0.3125 L 0.328125 0 C 0.65625 -0.015625 1.1875 -0.03125 1.4375 -0.03125 C 1.6875 -0.03125 2.171875 -0.015625 2.546875 0 L 2.546875 -0.3125 C 1.875 -0.3125 1.765625 -0.3125 1.765625 -0.75 Z M 1.765625 -6.921875 \"/>\n",
       "</symbol>\n",
       "<symbol overflow=\"visible\" id=\"glyph0-8\">\n",
       "<path style=\"stroke:none;\" d=\"M 4.6875 -2.140625 C 4.6875 -3.40625 3.703125 -4.46875 2.5 -4.46875 C 1.25 -4.46875 0.28125 -3.375 0.28125 -2.140625 C 0.28125 -0.84375 1.3125 0.109375 2.484375 0.109375 C 3.6875 0.109375 4.6875 -0.875 4.6875 -2.140625 Z M 2.5 -0.140625 C 2.0625 -0.140625 1.625 -0.34375 1.359375 -0.8125 C 1.109375 -1.25 1.109375 -1.859375 1.109375 -2.21875 C 1.109375 -2.609375 1.109375 -3.140625 1.34375 -3.578125 C 1.609375 -4.03125 2.078125 -4.25 2.484375 -4.25 C 2.921875 -4.25 3.34375 -4.03125 3.609375 -3.59375 C 3.875 -3.171875 3.875 -2.59375 3.875 -2.21875 C 3.875 -1.859375 3.875 -1.3125 3.65625 -0.875 C 3.421875 -0.421875 2.984375 -0.140625 2.5 -0.140625 Z M 2.5 -0.140625 \"/>\n",
       "</symbol>\n",
       "<symbol overflow=\"visible\" id=\"glyph0-9\">\n",
       "<path style=\"stroke:none;\" d=\"M 2.078125 -1.9375 C 2.296875 -1.890625 3.109375 -1.734375 3.109375 -1.015625 C 3.109375 -0.515625 2.765625 -0.109375 1.984375 -0.109375 C 1.140625 -0.109375 0.78125 -0.671875 0.59375 -1.53125 C 0.5625 -1.65625 0.5625 -1.6875 0.453125 -1.6875 C 0.328125 -1.6875 0.328125 -1.625 0.328125 -1.453125 L 0.328125 -0.125 C 0.328125 0.046875 0.328125 0.109375 0.4375 0.109375 C 0.484375 0.109375 0.5 0.09375 0.6875 -0.09375 C 0.703125 -0.109375 0.703125 -0.125 0.890625 -0.3125 C 1.328125 0.09375 1.78125 0.109375 1.984375 0.109375 C 3.125 0.109375 3.59375 -0.5625 3.59375 -1.28125 C 3.59375 -1.796875 3.296875 -2.109375 3.171875 -2.21875 C 2.84375 -2.546875 2.453125 -2.625 2.03125 -2.703125 C 1.46875 -2.8125 0.8125 -2.9375 0.8125 -3.515625 C 0.8125 -3.875 1.0625 -4.28125 1.921875 -4.28125 C 3.015625 -4.28125 3.078125 -3.375 3.09375 -3.078125 C 3.09375 -2.984375 3.1875 -2.984375 3.203125 -2.984375 C 3.34375 -2.984375 3.34375 -3.03125 3.34375 -3.21875 L 3.34375 -4.234375 C 3.34375 -4.390625 3.34375 -4.46875 3.234375 -4.46875 C 3.1875 -4.46875 3.15625 -4.46875 3.03125 -4.34375 C 3 -4.3125 2.90625 -4.21875 2.859375 -4.1875 C 2.484375 -4.46875 2.078125 -4.46875 1.921875 -4.46875 C 0.703125 -4.46875 0.328125 -3.796875 0.328125 -3.234375 C 0.328125 -2.890625 0.484375 -2.609375 0.75 -2.390625 C 1.078125 -2.140625 1.359375 -2.078125 2.078125 -1.9375 Z M 2.078125 -1.9375 \"/>\n",
       "</symbol>\n",
       "</g>\n",
       "<clipPath id=\"clip1\">\n",
       "  <path d=\"M 21 14 L 22 14 L 22 184.035156 L 21 184.035156 Z M 21 14 \"/>\n",
       "</clipPath>\n",
       "</defs>\n",
       "<g id=\"surface1\">\n",
       "<path style=\"fill:none;stroke-width:0.3985;stroke-linecap:butt;stroke-linejoin:miter;stroke:rgb(0%,0%,0%);stroke-opacity:1;stroke-miterlimit:10;\" d=\"M -63.779781 -21.260125 L 127.103031 -21.260125 \" transform=\"matrix(1,0,0,-1,63.979,141.318)\"/>\n",
       "<path style=\"fill:none;stroke-width:0.31879;stroke-linecap:round;stroke-linejoin:round;stroke:rgb(0%,0%,0%);stroke-opacity:1;stroke-miterlimit:10;\" d=\"M -1.194641 1.593715 C -1.096985 0.996059 0.00067125 0.101528 0.297546 -0.000035 C 0.00067125 -0.0976912 -1.096985 -0.996129 -1.194641 -1.593785 \" transform=\"matrix(1,0,0,-1,191.08136,162.57809)\"/>\n",
       "<g style=\"fill:rgb(0%,0%,0%);fill-opacity:1;\">\n",
       "  <use xlink:href=\"#glyph0-1\" x=\"195.057\" y=\"164.673\"/>\n",
       "  <use xlink:href=\"#glyph0-2\" x=\"200.592221\" y=\"164.673\"/>\n",
       "  <use xlink:href=\"#glyph0-3\" x=\"205.573521\" y=\"164.673\"/>\n",
       "  <use xlink:href=\"#glyph0-2\" x=\"209.475871\" y=\"164.673\"/>\n",
       "  <use xlink:href=\"#glyph0-4\" x=\"214.457171\" y=\"164.673\"/>\n",
       "  <use xlink:href=\"#glyph0-5\" x=\"222.759006\" y=\"164.673\"/>\n",
       "  <use xlink:href=\"#glyph0-6\" x=\"227.186385\" y=\"164.673\"/>\n",
       "  <use xlink:href=\"#glyph0-5\" x=\"231.06084\" y=\"164.673\"/>\n",
       "  <use xlink:href=\"#glyph0-3\" x=\"235.48822\" y=\"164.673\"/>\n",
       "</g>\n",
       "<g clip-path=\"url(#clip1)\" clip-rule=\"nonzero\">\n",
       "<path style=\"fill:none;stroke-width:0.3985;stroke-linecap:butt;stroke-linejoin:miter;stroke:rgb(0%,0%,0%);stroke-opacity:1;stroke-miterlimit:10;\" d=\"M -42.521969 -42.521844 L -42.521969 127.103156 \" transform=\"matrix(1,0,0,-1,63.979,141.318)\"/>\n",
       "</g>\n",
       "<path style=\"fill:none;stroke-width:0.31879;stroke-linecap:round;stroke-linejoin:round;stroke:rgb(0%,0%,0%);stroke-opacity:1;stroke-miterlimit:10;\" d=\"M -1.194516 1.595519 C -1.09686 0.997862 0.00079625 0.099425 0.297671 0.00176875 C 0.00079625 -0.0997938 -1.09686 -0.994325 -1.194516 -1.595888 \" transform=\"matrix(0,-1,-1,0,21.4588,14.21564)\"/>\n",
       "<g style=\"fill:rgb(0%,0%,0%);fill-opacity:1;\">\n",
       "  <use xlink:href=\"#glyph0-7\" x=\"13.655\" y=\"10.239\"/>\n",
       "  <use xlink:href=\"#glyph0-8\" x=\"16.42261\" y=\"10.239\"/>\n",
       "  <use xlink:href=\"#glyph0-9\" x=\"21.40391\" y=\"10.239\"/>\n",
       "  <use xlink:href=\"#glyph0-9\" x=\"25.33316\" y=\"10.239\"/>\n",
       "</g>\n",
       "<path style=\"fill:none;stroke-width:0.3985;stroke-linecap:butt;stroke-linejoin:miter;stroke:rgb(0%,0%,100%);stroke-opacity:1;stroke-miterlimit:10;\" d=\"M 0.00146875 127.560188 C 0.00146875 127.560188 3.841313 110.72425 5.313969 104.638313 C 6.790531 98.556281 9.153813 89.243781 10.630375 83.712531 C 12.103031 78.181281 14.470219 69.7555 15.946781 64.775031 C 17.419438 59.798469 19.786625 52.259406 21.259281 47.833625 C 22.735844 43.41175 25.099125 36.759406 26.575688 32.888313 C 28.048344 29.013313 30.415531 23.251594 31.888188 19.931281 C 33.36475 16.610969 35.731938 11.735969 37.204594 8.970344 C 38.681156 6.204719 41.044438 2.212531 42.521 0.00159375 C 43.993656 -2.21325 46.360844 -5.314812 47.8335 -6.974969 C 49.310063 -8.635125 51.67725 -10.853875 53.149906 -11.959344 C 54.626469 -13.064812 56.98975 -14.396844 58.466313 -14.947625 C 59.938969 -15.502312 62.306156 -15.943719 63.778813 -15.943719 C 65.255375 -15.943719 67.618656 -15.502312 69.095219 -14.947625 C 70.571781 -14.396844 72.935063 -13.064812 74.411625 -11.959344 C 75.884281 -10.853875 78.251469 -8.635125 79.724125 -6.974969 C 81.200688 -5.314812 83.563969 -2.21325 85.040531 0.00159375 C 86.517094 2.212531 88.880375 6.204719 90.356938 8.970344 C 91.829594 11.735969 94.196781 16.610969 95.669438 19.931281 C 97.146 23.251594 99.509281 29.013313 100.985844 32.888313 C 102.4585 36.759406 104.825688 43.41175 106.30225 47.833625 C 107.774906 52.259406 110.142094 59.798469 111.61475 64.775031 C 113.091313 69.7555 115.454594 78.181281 116.931156 83.712531 C 118.403813 89.243781 120.771 98.556281 122.243656 104.638313 C 123.720219 110.72425 127.560063 127.560188 127.560063 127.560188 \" transform=\"matrix(1,0,0,-1,63.979,141.318)\"/>\n",
       "<path style=\"fill:none;stroke-width:0.3985;stroke-linecap:butt;stroke-linejoin:miter;stroke:rgb(0%,0%,0%);stroke-opacity:1;stroke-dasharray:2.98883,2.98883;stroke-miterlimit:10;\" d=\"M -42.521969 83.763313 L 10.630375 83.763313 \" transform=\"matrix(1,0,0,-1,63.979,141.318)\"/>\n",
       "<path style=\"fill:none;stroke-width:0.3985;stroke-linecap:butt;stroke-linejoin:miter;stroke:rgb(0%,0%,0%);stroke-opacity:1;stroke-dasharray:2.98883,2.98883;stroke-miterlimit:10;\" d=\"M 10.630375 -21.260125 L 10.630375 83.763313 \" transform=\"matrix(1,0,0,-1,63.979,141.318)\"/>\n",
       "<path style=\"fill:none;stroke-width:0.3985;stroke-linecap:butt;stroke-linejoin:miter;stroke:rgb(100%,0%,0%);stroke-opacity:1;stroke-miterlimit:10;\" d=\"M 10.630375 83.763313 L 21.142094 44.239875 \" transform=\"matrix(1,0,0,-1,63.979,141.318)\"/>\n",
       "<path style=\"fill:none;stroke-width:0.31879;stroke-linecap:round;stroke-linejoin:round;stroke:rgb(100%,0%,0%);stroke-opacity:1;stroke-miterlimit:10;\" d=\"M -1.19408 1.594676 C -1.095034 0.994345 0.00118265 0.100527 0.298178 0.00133192 C 0.0000607277 -0.101284 -1.095451 -0.998344 -1.197212 -1.593778 \" transform=\"matrix(0.257,0.96637,0.96637,-0.257,85.1213,97.07938)\"/>\n",
       "</g>\n",
       "</svg>"
      ],
      "text/plain": [
       "<IPython.core.display.SVG object>"
      ]
     },
     "metadata": {},
     "output_type": "display_data"
    }
   ],
   "source": [
    "from IPython.display import SVG, display\n",
    "display(SVG(filename=\"./images/grad_illustration.svg\"))"
   ]
  },
  {
   "cell_type": "markdown",
   "metadata": {
    "id": "pxHftqRmMuRs"
   },
   "source": [
    "We can change our weight by a little **in the direction of the slope**, calculate our loss and adjustment again, and repeat this a few times. Eventually, we will get to the lowest point on our curve:"
   ]
  },
  {
   "cell_type": "code",
   "execution_count": null,
   "metadata": {
    "colab": {
     "base_uri": "https://localhost:8080/",
     "height": 267
    },
    "executionInfo": {
     "elapsed": 5,
     "status": "ok",
     "timestamp": 1706713112251,
     "user": {
      "displayName": "Ioannis Petrousov",
      "userId": "16802625713842772964"
     },
     "user_tz": -60
    },
    "id": "IWiUcDSdMvjm",
    "outputId": "d80330d9-64c7-4d20-ea5d-80f0907a03ab"
   },
   "outputs": [
    {
     "data": {
      "image/svg+xml": [
       "<svg xmlns=\"http://www.w3.org/2000/svg\" xmlns:xlink=\"http://www.w3.org/1999/xlink\" width=\"242.712pt\" height=\"184.037pt\" viewBox=\"0 0 242.712 184.037\" version=\"1.1\">\n",
       "<defs>\n",
       "<g>\n",
       "<symbol overflow=\"visible\" id=\"glyph0-0\">\n",
       "<path style=\"stroke:none;\" d=\"\"/>\n",
       "</symbol>\n",
       "<symbol overflow=\"visible\" id=\"glyph0-1\">\n",
       "<path style=\"stroke:none;\" d=\"M 1.71875 -3.75 L 1.71875 -4.40625 L 0.28125 -4.296875 L 0.28125 -3.984375 C 0.984375 -3.984375 1.0625 -3.921875 1.0625 -3.484375 L 1.0625 1.171875 C 1.0625 1.625 0.953125 1.625 0.28125 1.625 L 0.28125 1.9375 C 0.625 1.921875 1.140625 1.90625 1.390625 1.90625 C 1.671875 1.90625 2.171875 1.921875 2.515625 1.9375 L 2.515625 1.625 C 1.859375 1.625 1.75 1.625 1.75 1.171875 L 1.75 -0.59375 C 1.796875 -0.421875 2.21875 0.109375 2.96875 0.109375 C 4.15625 0.109375 5.1875 -0.875 5.1875 -2.15625 C 5.1875 -3.421875 4.234375 -4.40625 3.109375 -4.40625 C 2.328125 -4.40625 1.90625 -3.96875 1.71875 -3.75 Z M 1.75 -1.140625 L 1.75 -3.359375 C 2.03125 -3.875 2.515625 -4.15625 3.03125 -4.15625 C 3.765625 -4.15625 4.359375 -3.28125 4.359375 -2.15625 C 4.359375 -0.953125 3.671875 -0.109375 2.9375 -0.109375 C 2.53125 -0.109375 2.15625 -0.3125 1.890625 -0.71875 C 1.75 -0.921875 1.75 -0.9375 1.75 -1.140625 Z M 1.75 -1.140625 \"/>\n",
       "</symbol>\n",
       "<symbol overflow=\"visible\" id=\"glyph0-2\">\n",
       "<path style=\"stroke:none;\" d=\"M 3.3125 -0.75 C 3.359375 -0.359375 3.625 0.0625 4.09375 0.0625 C 4.3125 0.0625 4.921875 -0.078125 4.921875 -0.890625 L 4.921875 -1.453125 L 4.671875 -1.453125 L 4.671875 -0.890625 C 4.671875 -0.3125 4.421875 -0.25 4.3125 -0.25 C 3.984375 -0.25 3.9375 -0.703125 3.9375 -0.75 L 3.9375 -2.734375 C 3.9375 -3.15625 3.9375 -3.546875 3.578125 -3.921875 C 3.1875 -4.3125 2.6875 -4.46875 2.21875 -4.46875 C 1.390625 -4.46875 0.703125 -4 0.703125 -3.34375 C 0.703125 -3.046875 0.90625 -2.875 1.171875 -2.875 C 1.453125 -2.875 1.625 -3.078125 1.625 -3.328125 C 1.625 -3.453125 1.578125 -3.78125 1.109375 -3.78125 C 1.390625 -4.140625 1.875 -4.25 2.1875 -4.25 C 2.6875 -4.25 3.25 -3.859375 3.25 -2.96875 L 3.25 -2.609375 C 2.734375 -2.578125 2.046875 -2.546875 1.421875 -2.25 C 0.671875 -1.90625 0.421875 -1.390625 0.421875 -0.953125 C 0.421875 -0.140625 1.390625 0.109375 2.015625 0.109375 C 2.671875 0.109375 3.125 -0.296875 3.3125 -0.75 Z M 3.25 -2.390625 L 3.25 -1.390625 C 3.25 -0.453125 2.53125 -0.109375 2.078125 -0.109375 C 1.59375 -0.109375 1.1875 -0.453125 1.1875 -0.953125 C 1.1875 -1.5 1.609375 -2.328125 3.25 -2.390625 Z M 3.25 -2.390625 \"/>\n",
       "</symbol>\n",
       "<symbol overflow=\"visible\" id=\"glyph0-3\">\n",
       "<path style=\"stroke:none;\" d=\"M 1.671875 -3.3125 L 1.671875 -4.40625 L 0.28125 -4.296875 L 0.28125 -3.984375 C 0.984375 -3.984375 1.0625 -3.921875 1.0625 -3.421875 L 1.0625 -0.75 C 1.0625 -0.3125 0.953125 -0.3125 0.28125 -0.3125 L 0.28125 0 C 0.671875 -0.015625 1.140625 -0.03125 1.421875 -0.03125 C 1.8125 -0.03125 2.28125 -0.03125 2.6875 0 L 2.6875 -0.3125 L 2.46875 -0.3125 C 1.734375 -0.3125 1.71875 -0.421875 1.71875 -0.78125 L 1.71875 -2.3125 C 1.71875 -3.296875 2.140625 -4.1875 2.890625 -4.1875 C 2.953125 -4.1875 2.984375 -4.1875 3 -4.171875 C 2.96875 -4.171875 2.765625 -4.046875 2.765625 -3.78125 C 2.765625 -3.515625 2.984375 -3.359375 3.203125 -3.359375 C 3.375 -3.359375 3.625 -3.484375 3.625 -3.796875 C 3.625 -4.109375 3.3125 -4.40625 2.890625 -4.40625 C 2.15625 -4.40625 1.796875 -3.734375 1.671875 -3.3125 Z M 1.671875 -3.3125 \"/>\n",
       "</symbol>\n",
       "<symbol overflow=\"visible\" id=\"glyph0-4\">\n",
       "<path style=\"stroke:none;\" d=\"M 1.09375 -3.421875 L 1.09375 -0.75 C 1.09375 -0.3125 0.984375 -0.3125 0.3125 -0.3125 L 0.3125 0 C 0.671875 -0.015625 1.171875 -0.03125 1.453125 -0.03125 C 1.703125 -0.03125 2.21875 -0.015625 2.5625 0 L 2.5625 -0.3125 C 1.890625 -0.3125 1.78125 -0.3125 1.78125 -0.75 L 1.78125 -2.59375 C 1.78125 -3.625 2.5 -4.1875 3.125 -4.1875 C 3.765625 -4.1875 3.875 -3.65625 3.875 -3.078125 L 3.875 -0.75 C 3.875 -0.3125 3.765625 -0.3125 3.09375 -0.3125 L 3.09375 0 C 3.4375 -0.015625 3.953125 -0.03125 4.21875 -0.03125 C 4.46875 -0.03125 5 -0.015625 5.328125 0 L 5.328125 -0.3125 C 4.671875 -0.3125 4.5625 -0.3125 4.5625 -0.75 L 4.5625 -2.59375 C 4.5625 -3.625 5.265625 -4.1875 5.90625 -4.1875 C 6.53125 -4.1875 6.640625 -3.65625 6.640625 -3.078125 L 6.640625 -0.75 C 6.640625 -0.3125 6.53125 -0.3125 5.859375 -0.3125 L 5.859375 0 C 6.203125 -0.015625 6.71875 -0.03125 6.984375 -0.03125 C 7.25 -0.03125 7.765625 -0.015625 8.109375 0 L 8.109375 -0.3125 C 7.59375 -0.3125 7.34375 -0.3125 7.328125 -0.609375 L 7.328125 -2.515625 C 7.328125 -3.375 7.328125 -3.671875 7.015625 -4.03125 C 6.875 -4.203125 6.546875 -4.40625 5.96875 -4.40625 C 5.140625 -4.40625 4.6875 -3.8125 4.53125 -3.421875 C 4.390625 -4.296875 3.65625 -4.40625 3.203125 -4.40625 C 2.46875 -4.40625 2 -3.984375 1.71875 -3.359375 L 1.71875 -4.40625 L 0.3125 -4.296875 L 0.3125 -3.984375 C 1.015625 -3.984375 1.09375 -3.921875 1.09375 -3.421875 Z M 1.09375 -3.421875 \"/>\n",
       "</symbol>\n",
       "<symbol overflow=\"visible\" id=\"glyph0-5\">\n",
       "<path style=\"stroke:none;\" d=\"M 1.109375 -2.515625 C 1.171875 -4 2.015625 -4.25 2.359375 -4.25 C 3.375 -4.25 3.484375 -2.90625 3.484375 -2.515625 Z M 1.109375 -2.296875 L 3.890625 -2.296875 C 4.109375 -2.296875 4.140625 -2.296875 4.140625 -2.515625 C 4.140625 -3.5 3.59375 -4.46875 2.359375 -4.46875 C 1.203125 -4.46875 0.28125 -3.4375 0.28125 -2.1875 C 0.28125 -0.859375 1.328125 0.109375 2.46875 0.109375 C 3.6875 0.109375 4.140625 -1 4.140625 -1.1875 C 4.140625 -1.28125 4.0625 -1.3125 4 -1.3125 C 3.921875 -1.3125 3.890625 -1.25 3.875 -1.171875 C 3.53125 -0.140625 2.625 -0.140625 2.53125 -0.140625 C 2.03125 -0.140625 1.640625 -0.4375 1.40625 -0.8125 C 1.109375 -1.28125 1.109375 -1.9375 1.109375 -2.296875 Z M 1.109375 -2.296875 \"/>\n",
       "</symbol>\n",
       "<symbol overflow=\"visible\" id=\"glyph0-6\">\n",
       "<path style=\"stroke:none;\" d=\"M 1.71875 -3.984375 L 3.15625 -3.984375 L 3.15625 -4.296875 L 1.71875 -4.296875 L 1.71875 -6.125 L 1.46875 -6.125 C 1.46875 -5.3125 1.171875 -4.25 0.1875 -4.203125 L 0.1875 -3.984375 L 1.03125 -3.984375 L 1.03125 -1.234375 C 1.03125 -0.015625 1.96875 0.109375 2.328125 0.109375 C 3.03125 0.109375 3.3125 -0.59375 3.3125 -1.234375 L 3.3125 -1.796875 L 3.0625 -1.796875 L 3.0625 -1.25 C 3.0625 -0.515625 2.765625 -0.140625 2.390625 -0.140625 C 1.71875 -0.140625 1.71875 -1.046875 1.71875 -1.21875 Z M 1.71875 -3.984375 \"/>\n",
       "</symbol>\n",
       "<symbol overflow=\"visible\" id=\"glyph0-7\">\n",
       "<path style=\"stroke:none;\" d=\"M 1.765625 -6.921875 L 0.328125 -6.8125 L 0.328125 -6.5 C 1.03125 -6.5 1.109375 -6.4375 1.109375 -5.9375 L 1.109375 -0.75 C 1.109375 -0.3125 1 -0.3125 0.328125 -0.3125 L 0.328125 0 C 0.65625 -0.015625 1.1875 -0.03125 1.4375 -0.03125 C 1.6875 -0.03125 2.171875 -0.015625 2.546875 0 L 2.546875 -0.3125 C 1.875 -0.3125 1.765625 -0.3125 1.765625 -0.75 Z M 1.765625 -6.921875 \"/>\n",
       "</symbol>\n",
       "<symbol overflow=\"visible\" id=\"glyph0-8\">\n",
       "<path style=\"stroke:none;\" d=\"M 4.6875 -2.140625 C 4.6875 -3.40625 3.703125 -4.46875 2.5 -4.46875 C 1.25 -4.46875 0.28125 -3.375 0.28125 -2.140625 C 0.28125 -0.84375 1.3125 0.109375 2.484375 0.109375 C 3.6875 0.109375 4.6875 -0.875 4.6875 -2.140625 Z M 2.5 -0.140625 C 2.0625 -0.140625 1.625 -0.34375 1.359375 -0.8125 C 1.109375 -1.25 1.109375 -1.859375 1.109375 -2.21875 C 1.109375 -2.609375 1.109375 -3.140625 1.34375 -3.578125 C 1.609375 -4.03125 2.078125 -4.25 2.484375 -4.25 C 2.921875 -4.25 3.34375 -4.03125 3.609375 -3.59375 C 3.875 -3.171875 3.875 -2.59375 3.875 -2.21875 C 3.875 -1.859375 3.875 -1.3125 3.65625 -0.875 C 3.421875 -0.421875 2.984375 -0.140625 2.5 -0.140625 Z M 2.5 -0.140625 \"/>\n",
       "</symbol>\n",
       "<symbol overflow=\"visible\" id=\"glyph0-9\">\n",
       "<path style=\"stroke:none;\" d=\"M 2.078125 -1.9375 C 2.296875 -1.890625 3.109375 -1.734375 3.109375 -1.015625 C 3.109375 -0.515625 2.765625 -0.109375 1.984375 -0.109375 C 1.140625 -0.109375 0.78125 -0.671875 0.59375 -1.53125 C 0.5625 -1.65625 0.5625 -1.6875 0.453125 -1.6875 C 0.328125 -1.6875 0.328125 -1.625 0.328125 -1.453125 L 0.328125 -0.125 C 0.328125 0.046875 0.328125 0.109375 0.4375 0.109375 C 0.484375 0.109375 0.5 0.09375 0.6875 -0.09375 C 0.703125 -0.109375 0.703125 -0.125 0.890625 -0.3125 C 1.328125 0.09375 1.78125 0.109375 1.984375 0.109375 C 3.125 0.109375 3.59375 -0.5625 3.59375 -1.28125 C 3.59375 -1.796875 3.296875 -2.109375 3.171875 -2.21875 C 2.84375 -2.546875 2.453125 -2.625 2.03125 -2.703125 C 1.46875 -2.8125 0.8125 -2.9375 0.8125 -3.515625 C 0.8125 -3.875 1.0625 -4.28125 1.921875 -4.28125 C 3.015625 -4.28125 3.078125 -3.375 3.09375 -3.078125 C 3.09375 -2.984375 3.1875 -2.984375 3.203125 -2.984375 C 3.34375 -2.984375 3.34375 -3.03125 3.34375 -3.21875 L 3.34375 -4.234375 C 3.34375 -4.390625 3.34375 -4.46875 3.234375 -4.46875 C 3.1875 -4.46875 3.15625 -4.46875 3.03125 -4.34375 C 3 -4.3125 2.90625 -4.21875 2.859375 -4.1875 C 2.484375 -4.46875 2.078125 -4.46875 1.921875 -4.46875 C 0.703125 -4.46875 0.328125 -3.796875 0.328125 -3.234375 C 0.328125 -2.890625 0.484375 -2.609375 0.75 -2.390625 C 1.078125 -2.140625 1.359375 -2.078125 2.078125 -1.9375 Z M 2.078125 -1.9375 \"/>\n",
       "</symbol>\n",
       "</g>\n",
       "<clipPath id=\"clip1\">\n",
       "  <path d=\"M 21 14 L 22 14 L 22 184.035156 L 21 184.035156 Z M 21 14 \"/>\n",
       "</clipPath>\n",
       "</defs>\n",
       "<g id=\"surface1\">\n",
       "<path style=\"fill:none;stroke-width:0.3985;stroke-linecap:butt;stroke-linejoin:miter;stroke:rgb(0%,0%,0%);stroke-opacity:1;stroke-miterlimit:10;\" d=\"M -63.779781 -21.260125 L 127.103031 -21.260125 \" transform=\"matrix(1,0,0,-1,63.979,141.318)\"/>\n",
       "<path style=\"fill:none;stroke-width:0.31879;stroke-linecap:round;stroke-linejoin:round;stroke:rgb(0%,0%,0%);stroke-opacity:1;stroke-miterlimit:10;\" d=\"M -1.194641 1.593715 C -1.096985 0.996059 0.00067125 0.101528 0.297546 -0.000035 C 0.00067125 -0.0976912 -1.096985 -0.996129 -1.194641 -1.593785 \" transform=\"matrix(1,0,0,-1,191.08136,162.57809)\"/>\n",
       "<g style=\"fill:rgb(0%,0%,0%);fill-opacity:1;\">\n",
       "  <use xlink:href=\"#glyph0-1\" x=\"195.057\" y=\"164.673\"/>\n",
       "  <use xlink:href=\"#glyph0-2\" x=\"200.592221\" y=\"164.673\"/>\n",
       "  <use xlink:href=\"#glyph0-3\" x=\"205.573521\" y=\"164.673\"/>\n",
       "  <use xlink:href=\"#glyph0-2\" x=\"209.475871\" y=\"164.673\"/>\n",
       "  <use xlink:href=\"#glyph0-4\" x=\"214.457171\" y=\"164.673\"/>\n",
       "  <use xlink:href=\"#glyph0-5\" x=\"222.759006\" y=\"164.673\"/>\n",
       "  <use xlink:href=\"#glyph0-6\" x=\"227.186385\" y=\"164.673\"/>\n",
       "  <use xlink:href=\"#glyph0-5\" x=\"231.06084\" y=\"164.673\"/>\n",
       "  <use xlink:href=\"#glyph0-3\" x=\"235.48822\" y=\"164.673\"/>\n",
       "</g>\n",
       "<g clip-path=\"url(#clip1)\" clip-rule=\"nonzero\">\n",
       "<path style=\"fill:none;stroke-width:0.3985;stroke-linecap:butt;stroke-linejoin:miter;stroke:rgb(0%,0%,0%);stroke-opacity:1;stroke-miterlimit:10;\" d=\"M -42.521969 -42.521844 L -42.521969 127.103156 \" transform=\"matrix(1,0,0,-1,63.979,141.318)\"/>\n",
       "</g>\n",
       "<path style=\"fill:none;stroke-width:0.31879;stroke-linecap:round;stroke-linejoin:round;stroke:rgb(0%,0%,0%);stroke-opacity:1;stroke-miterlimit:10;\" d=\"M -1.194516 1.595519 C -1.09686 0.997862 0.00079625 0.099425 0.297671 0.00176875 C 0.00079625 -0.0997938 -1.09686 -0.994325 -1.194516 -1.595888 \" transform=\"matrix(0,-1,-1,0,21.4588,14.21564)\"/>\n",
       "<g style=\"fill:rgb(0%,0%,0%);fill-opacity:1;\">\n",
       "  <use xlink:href=\"#glyph0-7\" x=\"13.655\" y=\"10.239\"/>\n",
       "  <use xlink:href=\"#glyph0-8\" x=\"16.42261\" y=\"10.239\"/>\n",
       "  <use xlink:href=\"#glyph0-9\" x=\"21.40391\" y=\"10.239\"/>\n",
       "  <use xlink:href=\"#glyph0-9\" x=\"25.33316\" y=\"10.239\"/>\n",
       "</g>\n",
       "<path style=\"fill:none;stroke-width:0.3985;stroke-linecap:butt;stroke-linejoin:miter;stroke:rgb(0%,0%,100%);stroke-opacity:1;stroke-miterlimit:10;\" d=\"M 0.00146875 127.560188 C 0.00146875 127.560188 3.841313 110.72425 5.313969 104.638313 C 6.790531 98.556281 9.153813 89.243781 10.630375 83.712531 C 12.103031 78.181281 14.470219 69.7555 15.946781 64.775031 C 17.419438 59.798469 19.786625 52.259406 21.259281 47.833625 C 22.735844 43.41175 25.099125 36.759406 26.575688 32.888313 C 28.048344 29.013313 30.415531 23.251594 31.888188 19.931281 C 33.36475 16.610969 35.731938 11.735969 37.204594 8.970344 C 38.681156 6.204719 41.044438 2.212531 42.521 0.00159375 C 43.993656 -2.21325 46.360844 -5.314812 47.8335 -6.974969 C 49.310063 -8.635125 51.67725 -10.853875 53.149906 -11.959344 C 54.626469 -13.064812 56.98975 -14.396844 58.466313 -14.947625 C 59.938969 -15.502312 62.306156 -15.943719 63.778813 -15.943719 C 65.255375 -15.943719 67.618656 -15.502312 69.095219 -14.947625 C 70.571781 -14.396844 72.935063 -13.064812 74.411625 -11.959344 C 75.884281 -10.853875 78.251469 -8.635125 79.724125 -6.974969 C 81.200688 -5.314812 83.563969 -2.21325 85.040531 0.00159375 C 86.517094 2.212531 88.880375 6.204719 90.356938 8.970344 C 91.829594 11.735969 94.196781 16.610969 95.669438 19.931281 C 97.146 23.251594 99.509281 29.013313 100.985844 32.888313 C 102.4585 36.759406 104.825688 43.41175 106.30225 47.833625 C 107.774906 52.259406 110.142094 59.798469 111.61475 64.775031 C 113.091313 69.7555 115.454594 78.181281 116.931156 83.712531 C 118.403813 89.243781 120.771 98.556281 122.243656 104.638313 C 123.720219 110.72425 127.560063 127.560188 127.560063 127.560188 \" transform=\"matrix(1,0,0,-1,63.979,141.318)\"/>\n",
       "<path style=\"fill:none;stroke-width:0.3985;stroke-linecap:butt;stroke-linejoin:miter;stroke:rgb(100%,0%,0%);stroke-opacity:1;stroke-miterlimit:10;\" d=\"M 8.505375 91.845344 L 41.212406 91.845344 \" transform=\"matrix(1,0,0,-1,63.979,141.318)\"/>\n",
       "<path style=\"fill:none;stroke-width:0.31879;stroke-linecap:round;stroke-linejoin:round;stroke:rgb(100%,0%,0%);stroke-opacity:1;stroke-miterlimit:10;\" d=\"M -1.194226 1.595294 C -1.09657 0.997638 0.00108625 0.0992 0.297961 0.00154375 C 0.00108625 -0.100019 -1.09657 -0.99455 -1.194226 -1.592206 \" transform=\"matrix(1,0,0,-1,105.19032,49.4742)\"/>\n",
       "<path style=\"fill:none;stroke-width:0.3985;stroke-linecap:butt;stroke-linejoin:miter;stroke:rgb(100%,0%,0%);stroke-opacity:1;stroke-dasharray:2.98883,2.98883;stroke-miterlimit:10;\" d=\"M 41.669438 91.845344 L 41.669438 1.275031 \" transform=\"matrix(1,0,0,-1,63.979,141.318)\"/>\n",
       "<path style=\"fill:none;stroke-width:0.3985;stroke-linecap:butt;stroke-linejoin:miter;stroke:rgb(100%,0%,0%);stroke-opacity:1;stroke-miterlimit:10;\" d=\"M 41.669438 1.275031 L 54.392094 1.275031 \" transform=\"matrix(1,0,0,-1,63.979,141.318)\"/>\n",
       "<path style=\"fill:none;stroke-width:0.31879;stroke-linecap:round;stroke-linejoin:round;stroke:rgb(100%,0%,0%);stroke-opacity:1;stroke-miterlimit:10;\" d=\"M -1.195709 1.593241 C -1.094146 0.995585 -0.00039625 0.101054 0.300385 -0.00050875 C -0.00039625 -0.098165 -1.094146 -0.996602 -1.195709 -1.594259 \" transform=\"matrix(1,0,0,-1,118.37149,140.04246)\"/>\n",
       "<path style=\"fill:none;stroke-width:0.3985;stroke-linecap:butt;stroke-linejoin:miter;stroke:rgb(100%,0%,0%);stroke-opacity:1;stroke-dasharray:2.98883,2.98883;stroke-miterlimit:10;\" d=\"M 54.849125 1.275031 L 54.849125 -13.182 \" transform=\"matrix(1,0,0,-1,63.979,141.318)\"/>\n",
       "<path style=\"fill:none;stroke-width:0.3985;stroke-linecap:butt;stroke-linejoin:miter;stroke:rgb(100%,0%,0%);stroke-opacity:1;stroke-miterlimit:10;\" d=\"M 54.849125 -13.182 L 59.919438 -13.182 \" transform=\"matrix(1,0,0,-1,63.979,141.318)\"/>\n",
       "<path style=\"fill:none;stroke-width:0.31879;stroke-linecap:round;stroke-linejoin:round;stroke:rgb(100%,0%,0%);stroke-opacity:1;stroke-miterlimit:10;\" d=\"M -1.196195 1.59287 C -1.094633 0.995214 -0.0008825 0.100683 0.299899 -0.00088 C -0.0008825 -0.0985362 -1.094633 -0.996974 -1.196195 -1.59463 \" transform=\"matrix(1,0,0,-1,123.89932,154.49912)\"/>\n",
       "<path style=\"fill:none;stroke-width:0.3985;stroke-linecap:butt;stroke-linejoin:miter;stroke:rgb(100%,0%,0%);stroke-opacity:1;stroke-dasharray:2.98883,2.98883;stroke-miterlimit:10;\" d=\"M 60.380375 -13.182 L 60.380375 -15.307 \" transform=\"matrix(1,0,0,-1,63.979,141.318)\"/>\n",
       "<path style=\"fill:none;stroke-width:0.3985;stroke-linecap:butt;stroke-linejoin:miter;stroke:rgb(100%,0%,0%);stroke-opacity:1;stroke-miterlimit:10;\" d=\"M 60.380375 -15.307 L 62.048344 -15.307 \" transform=\"matrix(1,0,0,-1,63.979,141.318)\"/>\n",
       "<path style=\"fill:none;stroke-width:0.31879;stroke-linecap:round;stroke-linejoin:round;stroke:rgb(100%,0%,0%);stroke-opacity:1;stroke-miterlimit:10;\" d=\"M -1.197355 1.59403 C -1.095792 0.996374 0.00186375 0.0979363 0.298739 0.00028 C 0.00186375 -0.101282 -1.095792 -0.995814 -1.197355 -1.59347 \" transform=\"matrix(1,0,0,-1,126.02548,156.62528)\"/>\n",
       "<path style=\"fill:none;stroke-width:0.3985;stroke-linecap:butt;stroke-linejoin:miter;stroke:rgb(100%,0%,0%);stroke-opacity:1;stroke-dasharray:2.98883,2.98883;stroke-miterlimit:10;\" d=\"M 62.505375 -15.307 L 62.505375 -15.732781 \" transform=\"matrix(1,0,0,-1,63.979,141.318)\"/>\n",
       "</g>\n",
       "</svg>"
      ],
      "text/plain": [
       "<IPython.core.display.SVG object>"
      ]
     },
     "metadata": {},
     "output_type": "display_data"
    }
   ],
   "source": [
    "display(SVG(filename=\"images/chapter2_perfect.svg\"))"
   ]
  },
  {
   "cell_type": "markdown",
   "metadata": {
    "id": "LFQhXupWNIKt"
   },
   "source": [
    "This basic idea of decreasing the loss is the way we optimize functions."
   ]
  },
  {
   "cell_type": "markdown",
   "metadata": {
    "id": "JqUeTQOQ5Rav"
   },
   "source": [
    "### Calculating Gradients\n",
    "\n",
    "The calculation of `gradients` is based on the calculation of the values of the `derivative` of a function.\n",
    "\n",
    "The gradients will tell us how much we have to change each weight to make our model better. Because, the derivative of a function tells you how much a change in its parameters will change its result.\n",
    "\n",
    "So, from the function above:\n",
    "\n",
    "```\n",
    "the derivative of f(x) is f'(x)=2*x\n",
    "the values of f(1.5)=2.25\n",
    "if we change x by 0.5 then f(-1)=1\n",
    "```"
   ]
  },
  {
   "cell_type": "code",
   "execution_count": null,
   "metadata": {
    "colab": {
     "base_uri": "https://localhost:8080/",
     "height": 396
    },
    "executionInfo": {
     "elapsed": 561,
     "status": "ok",
     "timestamp": 1706713112808,
     "user": {
      "displayName": "Ioannis Petrousov",
      "userId": "16802625713842772964"
     },
     "user_tz": -60
    },
    "id": "zDvIt_8QQlxf",
    "outputId": "fbd74bdb-9eb3-4a90-918b-733135a8fde4"
   },
   "outputs": [
    {
     "data": {
      "image/png": "[encoded data removed]",
      "text/plain": [
       "<Figure size 600x400 with 1 Axes>"
      ]
     },
     "metadata": {},
     "output_type": "display_data"
    }
   ],
   "source": [
    "plot_function(f, 'x', 'x**2')\n",
    "plt.scatter(-1., f(-1.), color='red');"
   ]
  },
  {
   "cell_type": "markdown",
   "metadata": {
    "id": "dH2hu1vPRLHx"
   },
   "source": [
    "One important thing to be aware of is that our function has lots of weights that we need to adjust, so when we calculate the derivative we won't get back one number, but lots of them—a gradient for every weight. But there is nothing mathematically tricky here; you can calculate the derivative with respect to one weight, and treat all the other ones as constant, then repeat that for each other weight. This is how all of the gradients are calculated, for every weight."
   ]
  },
  {
   "cell_type": "markdown",
   "metadata": {
    "id": "TDPOFPIURSHc"
   },
   "source": [
    "PyTorch is able to automatically compute the derivative of nearly any function.\n",
    "\n",
    "Here's an example"
   ]
  },
  {
   "cell_type": "code",
   "execution_count": null,
   "metadata": {
    "colab": {
     "base_uri": "https://localhost:8080/"
    },
    "executionInfo": {
     "elapsed": 7,
     "status": "ok",
     "timestamp": 1706713112808,
     "user": {
      "displayName": "Ioannis Petrousov",
      "userId": "16802625713842772964"
     },
     "user_tz": -60
    },
    "id": "uKHt64J65Rav",
    "outputId": "0a84fd09-b9ae-46c7-e22c-e1f8e195e10e"
   },
   "outputs": [
    {
     "data": {
      "text/plain": [
       "(torch.Size([]), tensor(3., requires_grad=True))"
      ]
     },
     "execution_count": 209,
     "metadata": {},
     "output_type": "execute_result"
    }
   ],
   "source": [
    "xt = tensor(3.).requires_grad_() # This is just a random value\n",
    "xt.size(), xt"
   ]
  },
  {
   "cell_type": "markdown",
   "metadata": {
    "id": "22naD0dURt5s"
   },
   "source": [
    "THe method `requires_grad_` tells PyTorch that we want to calculate gradients with respect to that variable at that value."
   ]
  },
  {
   "cell_type": "code",
   "execution_count": null,
   "metadata": {
    "colab": {
     "base_uri": "https://localhost:8080/"
    },
    "executionInfo": {
     "elapsed": 5,
     "status": "ok",
     "timestamp": 1706713112808,
     "user": {
      "displayName": "Ioannis Petrousov",
      "userId": "16802625713842772964"
     },
     "user_tz": -60
    },
    "id": "CsigNShR5Rav",
    "outputId": "80750302-190c-4c69-e4d6-d2590f5fa378"
   },
   "outputs": [
    {
     "data": {
      "text/plain": [
       "tensor(9., grad_fn=<PowBackward0>)"
      ]
     },
     "execution_count": 210,
     "metadata": {},
     "output_type": "execute_result"
    }
   ],
   "source": [
    "# We calculate the value of our function with the above weight.\n",
    "yt = f(xt)\n",
    "yt"
   ]
  },
  {
   "cell_type": "code",
   "execution_count": null,
   "metadata": {
    "id": "egbd4yB25Rav"
   },
   "outputs": [],
   "source": [
    "# Calculate the gradients for us\n",
    "yt.backward()"
   ]
  },
  {
   "cell_type": "markdown",
   "metadata": {
    "id": "WHvOQWXWSPvC"
   },
   "source": [
    "The \"backward\" here refers to `backpropagation`, which is the name given to the process of calculating the derivative of each layer."
   ]
  },
  {
   "cell_type": "code",
   "execution_count": null,
   "metadata": {
    "colab": {
     "base_uri": "https://localhost:8080/"
    },
    "executionInfo": {
     "elapsed": 424,
     "status": "ok",
     "timestamp": 1706713113229,
     "user": {
      "displayName": "Ioannis Petrousov",
      "userId": "16802625713842772964"
     },
     "user_tz": -60
    },
    "id": "HWDYhw7x5Rav",
    "outputId": "a3e3a697-111e-4422-d8ed-428f37b0c5a7"
   },
   "outputs": [
    {
     "data": {
      "text/plain": [
       "tensor(6.)"
      ]
     },
     "execution_count": 212,
     "metadata": {},
     "output_type": "execute_result"
    }
   ],
   "source": [
    "# View the gradients by checking teh grad attribute\n",
    "xt.grad"
   ]
  },
  {
   "cell_type": "markdown",
   "metadata": {
    "id": "7T51mDW5UEce"
   },
   "source": [
    "We do the same steps but, now using a vector."
   ]
  },
  {
   "cell_type": "code",
   "execution_count": null,
   "metadata": {
    "colab": {
     "base_uri": "https://localhost:8080/"
    },
    "executionInfo": {
     "elapsed": 13,
     "status": "ok",
     "timestamp": 1706713113229,
     "user": {
      "displayName": "Ioannis Petrousov",
      "userId": "16802625713842772964"
     },
     "user_tz": -60
    },
    "id": "IWgJUMwg5Rav",
    "outputId": "b386d7c0-7f66-4c96-fc07-d3ed18199596"
   },
   "outputs": [
    {
     "data": {
      "text/plain": [
       "tensor([ 3.,  4., 10.], requires_grad=True)"
      ]
     },
     "execution_count": 213,
     "metadata": {},
     "output_type": "execute_result"
    }
   ],
   "source": [
    "xt = tensor([3.,4.,10.]).requires_grad_()\n",
    "xt"
   ]
  },
  {
   "cell_type": "code",
   "execution_count": null,
   "metadata": {
    "colab": {
     "base_uri": "https://localhost:8080/"
    },
    "executionInfo": {
     "elapsed": 12,
     "status": "ok",
     "timestamp": 1706713113229,
     "user": {
      "displayName": "Ioannis Petrousov",
      "userId": "16802625713842772964"
     },
     "user_tz": -60
    },
    "id": "7zoFBEFt5Rav",
    "outputId": "abf3dcb8-22cf-4cb3-d1e2-f508ba8cb629"
   },
   "outputs": [
    {
     "data": {
      "text/plain": [
       "tensor(125., grad_fn=<SumBackward0>)"
      ]
     },
     "execution_count": 214,
     "metadata": {},
     "output_type": "execute_result"
    }
   ],
   "source": [
    "def f(x):\n",
    "  return (x**2).sum()\n",
    "\n",
    "yt = f(xt)\n",
    "yt"
   ]
  },
  {
   "cell_type": "code",
   "execution_count": null,
   "metadata": {
    "colab": {
     "base_uri": "https://localhost:8080/"
    },
    "executionInfo": {
     "elapsed": 10,
     "status": "ok",
     "timestamp": 1706713113229,
     "user": {
      "displayName": "Ioannis Petrousov",
      "userId": "16802625713842772964"
     },
     "user_tz": -60
    },
    "id": "pMrvL1RM5Rav",
    "outputId": "771cd537-1332-4a85-9373-9a5db79e4df8"
   },
   "outputs": [
    {
     "data": {
      "text/plain": [
       "tensor([ 6.,  8., 20.])"
      ]
     },
     "execution_count": 215,
     "metadata": {},
     "output_type": "execute_result"
    }
   ],
   "source": [
    "yt.backward()\n",
    "xt.grad"
   ]
  },
  {
   "cell_type": "markdown",
   "metadata": {
    "id": "GXpWhNXfUbdQ"
   },
   "source": [
    "**The gradients only tell us the slope of our function, they don't actually tell us exactly how far to adjust the parameters.** But it gives us some idea of how far; if the slope is very large, then that may suggest that we have more adjustments to do, whereas if the slope is very small, that may suggest that we are close to the optimal value."
   ]
  },
  {
   "cell_type": "markdown",
   "metadata": {
    "id": "aPvPPAtQ5Rav"
   },
   "source": [
    "### Stepping With a Learning Rate"
   ]
  },
  {
   "cell_type": "markdown",
   "metadata": {
    "id": "42jJSYJT5Raw"
   },
   "source": [
    "### An End-to-End SGD Example"
   ]
  },
  {
   "cell_type": "markdown",
   "metadata": {
    "id": "-ELlb0qRVFjY"
   },
   "source": [
    "**Deciding how to change the parameters based on the values of the gradients is an important part of the deep learning process.**\n",
    "\n",
    "**Nearly all approaches start with the basic idea of multiplying the gradient by some small number, called the `learning rate (LR)`.**\n",
    "\n",
    "The `LR` is a number between 0.001 and 0.1.\n",
    "\n",
    "Often, people select a learning rate just by trying a few, and finding which results in the best model after training.\n",
    "\n",
    "We adjust the weights using the `LR` like `w -= gradient(w) * lr`\n",
    "\n",
    "This is known as stepping your parameters, using an optimizer step.\n",
    "\n",
    "The sign in `w -= gradient(w) * lr` shows wether we're increasing or decreasing the parameter. We adjust the parameter towards the direction of the slope.\n",
    "\n",
    "- If the slope is negative = we increase the parameter.\n",
    "- If the slope is positive = we decrease the parameter.\n",
    "\n",
    "**We want to adjust our parameters in the direction of the slope because our goal in deep learning is to minimize the loss.**"
   ]
  },
  {
   "cell_type": "markdown",
   "metadata": {
    "id": "3qbY6P3oXPhP"
   },
   "source": [
    "Illustration of small `LR`"
   ]
  },
  {
   "cell_type": "code",
   "execution_count": null,
   "metadata": {
    "colab": {
     "base_uri": "https://localhost:8080/",
     "height": 267
    },
    "executionInfo": {
     "elapsed": 9,
     "status": "ok",
     "timestamp": 1706713113229,
     "user": {
      "displayName": "Ioannis Petrousov",
      "userId": "16802625713842772964"
     },
     "user_tz": -60
    },
    "id": "j2F1d845XF7P",
    "outputId": "5b368b7e-a443-49ce-a71f-ee0f42c8a42e"
   },
   "outputs": [
    {
     "data": {
      "image/svg+xml": [
       "<svg xmlns=\"http://www.w3.org/2000/svg\" xmlns:xlink=\"http://www.w3.org/1999/xlink\" width=\"242.712pt\" height=\"184.037pt\" viewBox=\"0 0 242.712 184.037\" version=\"1.1\">\n",
       "<defs>\n",
       "<g>\n",
       "<symbol overflow=\"visible\" id=\"glyph0-0\">\n",
       "<path style=\"stroke:none;\" d=\"\"/>\n",
       "</symbol>\n",
       "<symbol overflow=\"visible\" id=\"glyph0-1\">\n",
       "<path style=\"stroke:none;\" d=\"M 1.71875 -3.75 L 1.71875 -4.40625 L 0.28125 -4.296875 L 0.28125 -3.984375 C 0.984375 -3.984375 1.0625 -3.921875 1.0625 -3.484375 L 1.0625 1.171875 C 1.0625 1.625 0.953125 1.625 0.28125 1.625 L 0.28125 1.9375 C 0.625 1.921875 1.140625 1.90625 1.390625 1.90625 C 1.671875 1.90625 2.171875 1.921875 2.515625 1.9375 L 2.515625 1.625 C 1.859375 1.625 1.75 1.625 1.75 1.171875 L 1.75 -0.59375 C 1.796875 -0.421875 2.21875 0.109375 2.96875 0.109375 C 4.15625 0.109375 5.1875 -0.875 5.1875 -2.15625 C 5.1875 -3.421875 4.234375 -4.40625 3.109375 -4.40625 C 2.328125 -4.40625 1.90625 -3.96875 1.71875 -3.75 Z M 1.75 -1.140625 L 1.75 -3.359375 C 2.03125 -3.875 2.515625 -4.15625 3.03125 -4.15625 C 3.765625 -4.15625 4.359375 -3.28125 4.359375 -2.15625 C 4.359375 -0.953125 3.671875 -0.109375 2.9375 -0.109375 C 2.53125 -0.109375 2.15625 -0.3125 1.890625 -0.71875 C 1.75 -0.921875 1.75 -0.9375 1.75 -1.140625 Z M 1.75 -1.140625 \"/>\n",
       "</symbol>\n",
       "<symbol overflow=\"visible\" id=\"glyph0-2\">\n",
       "<path style=\"stroke:none;\" d=\"M 3.3125 -0.75 C 3.359375 -0.359375 3.625 0.0625 4.09375 0.0625 C 4.3125 0.0625 4.921875 -0.078125 4.921875 -0.890625 L 4.921875 -1.453125 L 4.671875 -1.453125 L 4.671875 -0.890625 C 4.671875 -0.3125 4.421875 -0.25 4.3125 -0.25 C 3.984375 -0.25 3.9375 -0.703125 3.9375 -0.75 L 3.9375 -2.734375 C 3.9375 -3.15625 3.9375 -3.546875 3.578125 -3.921875 C 3.1875 -4.3125 2.6875 -4.46875 2.21875 -4.46875 C 1.390625 -4.46875 0.703125 -4 0.703125 -3.34375 C 0.703125 -3.046875 0.90625 -2.875 1.171875 -2.875 C 1.453125 -2.875 1.625 -3.078125 1.625 -3.328125 C 1.625 -3.453125 1.578125 -3.78125 1.109375 -3.78125 C 1.390625 -4.140625 1.875 -4.25 2.1875 -4.25 C 2.6875 -4.25 3.25 -3.859375 3.25 -2.96875 L 3.25 -2.609375 C 2.734375 -2.578125 2.046875 -2.546875 1.421875 -2.25 C 0.671875 -1.90625 0.421875 -1.390625 0.421875 -0.953125 C 0.421875 -0.140625 1.390625 0.109375 2.015625 0.109375 C 2.671875 0.109375 3.125 -0.296875 3.3125 -0.75 Z M 3.25 -2.390625 L 3.25 -1.390625 C 3.25 -0.453125 2.53125 -0.109375 2.078125 -0.109375 C 1.59375 -0.109375 1.1875 -0.453125 1.1875 -0.953125 C 1.1875 -1.5 1.609375 -2.328125 3.25 -2.390625 Z M 3.25 -2.390625 \"/>\n",
       "</symbol>\n",
       "<symbol overflow=\"visible\" id=\"glyph0-3\">\n",
       "<path style=\"stroke:none;\" d=\"M 1.671875 -3.3125 L 1.671875 -4.40625 L 0.28125 -4.296875 L 0.28125 -3.984375 C 0.984375 -3.984375 1.0625 -3.921875 1.0625 -3.421875 L 1.0625 -0.75 C 1.0625 -0.3125 0.953125 -0.3125 0.28125 -0.3125 L 0.28125 0 C 0.671875 -0.015625 1.140625 -0.03125 1.421875 -0.03125 C 1.8125 -0.03125 2.28125 -0.03125 2.6875 0 L 2.6875 -0.3125 L 2.46875 -0.3125 C 1.734375 -0.3125 1.71875 -0.421875 1.71875 -0.78125 L 1.71875 -2.3125 C 1.71875 -3.296875 2.140625 -4.1875 2.890625 -4.1875 C 2.953125 -4.1875 2.984375 -4.1875 3 -4.171875 C 2.96875 -4.171875 2.765625 -4.046875 2.765625 -3.78125 C 2.765625 -3.515625 2.984375 -3.359375 3.203125 -3.359375 C 3.375 -3.359375 3.625 -3.484375 3.625 -3.796875 C 3.625 -4.109375 3.3125 -4.40625 2.890625 -4.40625 C 2.15625 -4.40625 1.796875 -3.734375 1.671875 -3.3125 Z M 1.671875 -3.3125 \"/>\n",
       "</symbol>\n",
       "<symbol overflow=\"visible\" id=\"glyph0-4\">\n",
       "<path style=\"stroke:none;\" d=\"M 1.09375 -3.421875 L 1.09375 -0.75 C 1.09375 -0.3125 0.984375 -0.3125 0.3125 -0.3125 L 0.3125 0 C 0.671875 -0.015625 1.171875 -0.03125 1.453125 -0.03125 C 1.703125 -0.03125 2.21875 -0.015625 2.5625 0 L 2.5625 -0.3125 C 1.890625 -0.3125 1.78125 -0.3125 1.78125 -0.75 L 1.78125 -2.59375 C 1.78125 -3.625 2.5 -4.1875 3.125 -4.1875 C 3.765625 -4.1875 3.875 -3.65625 3.875 -3.078125 L 3.875 -0.75 C 3.875 -0.3125 3.765625 -0.3125 3.09375 -0.3125 L 3.09375 0 C 3.4375 -0.015625 3.953125 -0.03125 4.21875 -0.03125 C 4.46875 -0.03125 5 -0.015625 5.328125 0 L 5.328125 -0.3125 C 4.671875 -0.3125 4.5625 -0.3125 4.5625 -0.75 L 4.5625 -2.59375 C 4.5625 -3.625 5.265625 -4.1875 5.90625 -4.1875 C 6.53125 -4.1875 6.640625 -3.65625 6.640625 -3.078125 L 6.640625 -0.75 C 6.640625 -0.3125 6.53125 -0.3125 5.859375 -0.3125 L 5.859375 0 C 6.203125 -0.015625 6.71875 -0.03125 6.984375 -0.03125 C 7.25 -0.03125 7.765625 -0.015625 8.109375 0 L 8.109375 -0.3125 C 7.59375 -0.3125 7.34375 -0.3125 7.328125 -0.609375 L 7.328125 -2.515625 C 7.328125 -3.375 7.328125 -3.671875 7.015625 -4.03125 C 6.875 -4.203125 6.546875 -4.40625 5.96875 -4.40625 C 5.140625 -4.40625 4.6875 -3.8125 4.53125 -3.421875 C 4.390625 -4.296875 3.65625 -4.40625 3.203125 -4.40625 C 2.46875 -4.40625 2 -3.984375 1.71875 -3.359375 L 1.71875 -4.40625 L 0.3125 -4.296875 L 0.3125 -3.984375 C 1.015625 -3.984375 1.09375 -3.921875 1.09375 -3.421875 Z M 1.09375 -3.421875 \"/>\n",
       "</symbol>\n",
       "<symbol overflow=\"visible\" id=\"glyph0-5\">\n",
       "<path style=\"stroke:none;\" d=\"M 1.109375 -2.515625 C 1.171875 -4 2.015625 -4.25 2.359375 -4.25 C 3.375 -4.25 3.484375 -2.90625 3.484375 -2.515625 Z M 1.109375 -2.296875 L 3.890625 -2.296875 C 4.109375 -2.296875 4.140625 -2.296875 4.140625 -2.515625 C 4.140625 -3.5 3.59375 -4.46875 2.359375 -4.46875 C 1.203125 -4.46875 0.28125 -3.4375 0.28125 -2.1875 C 0.28125 -0.859375 1.328125 0.109375 2.46875 0.109375 C 3.6875 0.109375 4.140625 -1 4.140625 -1.1875 C 4.140625 -1.28125 4.0625 -1.3125 4 -1.3125 C 3.921875 -1.3125 3.890625 -1.25 3.875 -1.171875 C 3.53125 -0.140625 2.625 -0.140625 2.53125 -0.140625 C 2.03125 -0.140625 1.640625 -0.4375 1.40625 -0.8125 C 1.109375 -1.28125 1.109375 -1.9375 1.109375 -2.296875 Z M 1.109375 -2.296875 \"/>\n",
       "</symbol>\n",
       "<symbol overflow=\"visible\" id=\"glyph0-6\">\n",
       "<path style=\"stroke:none;\" d=\"M 1.71875 -3.984375 L 3.15625 -3.984375 L 3.15625 -4.296875 L 1.71875 -4.296875 L 1.71875 -6.125 L 1.46875 -6.125 C 1.46875 -5.3125 1.171875 -4.25 0.1875 -4.203125 L 0.1875 -3.984375 L 1.03125 -3.984375 L 1.03125 -1.234375 C 1.03125 -0.015625 1.96875 0.109375 2.328125 0.109375 C 3.03125 0.109375 3.3125 -0.59375 3.3125 -1.234375 L 3.3125 -1.796875 L 3.0625 -1.796875 L 3.0625 -1.25 C 3.0625 -0.515625 2.765625 -0.140625 2.390625 -0.140625 C 1.71875 -0.140625 1.71875 -1.046875 1.71875 -1.21875 Z M 1.71875 -3.984375 \"/>\n",
       "</symbol>\n",
       "<symbol overflow=\"visible\" id=\"glyph0-7\">\n",
       "<path style=\"stroke:none;\" d=\"M 1.765625 -6.921875 L 0.328125 -6.8125 L 0.328125 -6.5 C 1.03125 -6.5 1.109375 -6.4375 1.109375 -5.9375 L 1.109375 -0.75 C 1.109375 -0.3125 1 -0.3125 0.328125 -0.3125 L 0.328125 0 C 0.65625 -0.015625 1.1875 -0.03125 1.4375 -0.03125 C 1.6875 -0.03125 2.171875 -0.015625 2.546875 0 L 2.546875 -0.3125 C 1.875 -0.3125 1.765625 -0.3125 1.765625 -0.75 Z M 1.765625 -6.921875 \"/>\n",
       "</symbol>\n",
       "<symbol overflow=\"visible\" id=\"glyph0-8\">\n",
       "<path style=\"stroke:none;\" d=\"M 4.6875 -2.140625 C 4.6875 -3.40625 3.703125 -4.46875 2.5 -4.46875 C 1.25 -4.46875 0.28125 -3.375 0.28125 -2.140625 C 0.28125 -0.84375 1.3125 0.109375 2.484375 0.109375 C 3.6875 0.109375 4.6875 -0.875 4.6875 -2.140625 Z M 2.5 -0.140625 C 2.0625 -0.140625 1.625 -0.34375 1.359375 -0.8125 C 1.109375 -1.25 1.109375 -1.859375 1.109375 -2.21875 C 1.109375 -2.609375 1.109375 -3.140625 1.34375 -3.578125 C 1.609375 -4.03125 2.078125 -4.25 2.484375 -4.25 C 2.921875 -4.25 3.34375 -4.03125 3.609375 -3.59375 C 3.875 -3.171875 3.875 -2.59375 3.875 -2.21875 C 3.875 -1.859375 3.875 -1.3125 3.65625 -0.875 C 3.421875 -0.421875 2.984375 -0.140625 2.5 -0.140625 Z M 2.5 -0.140625 \"/>\n",
       "</symbol>\n",
       "<symbol overflow=\"visible\" id=\"glyph0-9\">\n",
       "<path style=\"stroke:none;\" d=\"M 2.078125 -1.9375 C 2.296875 -1.890625 3.109375 -1.734375 3.109375 -1.015625 C 3.109375 -0.515625 2.765625 -0.109375 1.984375 -0.109375 C 1.140625 -0.109375 0.78125 -0.671875 0.59375 -1.53125 C 0.5625 -1.65625 0.5625 -1.6875 0.453125 -1.6875 C 0.328125 -1.6875 0.328125 -1.625 0.328125 -1.453125 L 0.328125 -0.125 C 0.328125 0.046875 0.328125 0.109375 0.4375 0.109375 C 0.484375 0.109375 0.5 0.09375 0.6875 -0.09375 C 0.703125 -0.109375 0.703125 -0.125 0.890625 -0.3125 C 1.328125 0.09375 1.78125 0.109375 1.984375 0.109375 C 3.125 0.109375 3.59375 -0.5625 3.59375 -1.28125 C 3.59375 -1.796875 3.296875 -2.109375 3.171875 -2.21875 C 2.84375 -2.546875 2.453125 -2.625 2.03125 -2.703125 C 1.46875 -2.8125 0.8125 -2.9375 0.8125 -3.515625 C 0.8125 -3.875 1.0625 -4.28125 1.921875 -4.28125 C 3.015625 -4.28125 3.078125 -3.375 3.09375 -3.078125 C 3.09375 -2.984375 3.1875 -2.984375 3.203125 -2.984375 C 3.34375 -2.984375 3.34375 -3.03125 3.34375 -3.21875 L 3.34375 -4.234375 C 3.34375 -4.390625 3.34375 -4.46875 3.234375 -4.46875 C 3.1875 -4.46875 3.15625 -4.46875 3.03125 -4.34375 C 3 -4.3125 2.90625 -4.21875 2.859375 -4.1875 C 2.484375 -4.46875 2.078125 -4.46875 1.921875 -4.46875 C 0.703125 -4.46875 0.328125 -3.796875 0.328125 -3.234375 C 0.328125 -2.890625 0.484375 -2.609375 0.75 -2.390625 C 1.078125 -2.140625 1.359375 -2.078125 2.078125 -1.9375 Z M 2.078125 -1.9375 \"/>\n",
       "</symbol>\n",
       "</g>\n",
       "<clipPath id=\"clip1\">\n",
       "  <path d=\"M 21 14 L 22 14 L 22 184.035156 L 21 184.035156 Z M 21 14 \"/>\n",
       "</clipPath>\n",
       "</defs>\n",
       "<g id=\"surface1\">\n",
       "<path style=\"fill:none;stroke-width:0.3985;stroke-linecap:butt;stroke-linejoin:miter;stroke:rgb(0%,0%,0%);stroke-opacity:1;stroke-miterlimit:10;\" d=\"M -63.779781 -21.260125 L 127.103031 -21.260125 \" transform=\"matrix(1,0,0,-1,63.979,141.318)\"/>\n",
       "<path style=\"fill:none;stroke-width:0.31879;stroke-linecap:round;stroke-linejoin:round;stroke:rgb(0%,0%,0%);stroke-opacity:1;stroke-miterlimit:10;\" d=\"M -1.194641 1.593715 C -1.096985 0.996059 0.00067125 0.101528 0.297546 -0.000035 C 0.00067125 -0.0976912 -1.096985 -0.996129 -1.194641 -1.593785 \" transform=\"matrix(1,0,0,-1,191.08136,162.57809)\"/>\n",
       "<g style=\"fill:rgb(0%,0%,0%);fill-opacity:1;\">\n",
       "  <use xlink:href=\"#glyph0-1\" x=\"195.057\" y=\"164.673\"/>\n",
       "  <use xlink:href=\"#glyph0-2\" x=\"200.592221\" y=\"164.673\"/>\n",
       "  <use xlink:href=\"#glyph0-3\" x=\"205.573521\" y=\"164.673\"/>\n",
       "  <use xlink:href=\"#glyph0-2\" x=\"209.475871\" y=\"164.673\"/>\n",
       "  <use xlink:href=\"#glyph0-4\" x=\"214.457171\" y=\"164.673\"/>\n",
       "  <use xlink:href=\"#glyph0-5\" x=\"222.759006\" y=\"164.673\"/>\n",
       "  <use xlink:href=\"#glyph0-6\" x=\"227.186385\" y=\"164.673\"/>\n",
       "  <use xlink:href=\"#glyph0-5\" x=\"231.06084\" y=\"164.673\"/>\n",
       "  <use xlink:href=\"#glyph0-3\" x=\"235.48822\" y=\"164.673\"/>\n",
       "</g>\n",
       "<g clip-path=\"url(#clip1)\" clip-rule=\"nonzero\">\n",
       "<path style=\"fill:none;stroke-width:0.3985;stroke-linecap:butt;stroke-linejoin:miter;stroke:rgb(0%,0%,0%);stroke-opacity:1;stroke-miterlimit:10;\" d=\"M -42.521969 -42.521844 L -42.521969 127.103156 \" transform=\"matrix(1,0,0,-1,63.979,141.318)\"/>\n",
       "</g>\n",
       "<path style=\"fill:none;stroke-width:0.31879;stroke-linecap:round;stroke-linejoin:round;stroke:rgb(0%,0%,0%);stroke-opacity:1;stroke-miterlimit:10;\" d=\"M -1.194516 1.595519 C -1.09686 0.997862 0.00079625 0.099425 0.297671 0.00176875 C 0.00079625 -0.0997938 -1.09686 -0.994325 -1.194516 -1.595888 \" transform=\"matrix(0,-1,-1,0,21.4588,14.21564)\"/>\n",
       "<g style=\"fill:rgb(0%,0%,0%);fill-opacity:1;\">\n",
       "  <use xlink:href=\"#glyph0-7\" x=\"13.655\" y=\"10.239\"/>\n",
       "  <use xlink:href=\"#glyph0-8\" x=\"16.42261\" y=\"10.239\"/>\n",
       "  <use xlink:href=\"#glyph0-9\" x=\"21.40391\" y=\"10.239\"/>\n",
       "  <use xlink:href=\"#glyph0-9\" x=\"25.33316\" y=\"10.239\"/>\n",
       "</g>\n",
       "<path style=\"fill:none;stroke-width:0.3985;stroke-linecap:butt;stroke-linejoin:miter;stroke:rgb(0%,0%,100%);stroke-opacity:1;stroke-miterlimit:10;\" d=\"M 0.00146875 127.560188 C 0.00146875 127.560188 3.841313 110.72425 5.313969 104.638313 C 6.790531 98.556281 9.153813 89.243781 10.630375 83.712531 C 12.103031 78.181281 14.470219 69.7555 15.946781 64.775031 C 17.419438 59.798469 19.786625 52.259406 21.259281 47.833625 C 22.735844 43.41175 25.099125 36.759406 26.575688 32.888313 C 28.048344 29.013313 30.415531 23.251594 31.888188 19.931281 C 33.36475 16.610969 35.731938 11.735969 37.204594 8.970344 C 38.681156 6.204719 41.044438 2.212531 42.521 0.00159375 C 43.993656 -2.21325 46.360844 -5.314812 47.8335 -6.974969 C 49.310063 -8.635125 51.67725 -10.853875 53.149906 -11.959344 C 54.626469 -13.064812 56.98975 -14.396844 58.466313 -14.947625 C 59.938969 -15.502312 62.306156 -15.943719 63.778813 -15.943719 C 65.255375 -15.943719 67.618656 -15.502312 69.095219 -14.947625 C 70.571781 -14.396844 72.935063 -13.064812 74.411625 -11.959344 C 75.884281 -10.853875 78.251469 -8.635125 79.724125 -6.974969 C 81.200688 -5.314812 83.563969 -2.21325 85.040531 0.00159375 C 86.517094 2.212531 88.880375 6.204719 90.356938 8.970344 C 91.829594 11.735969 94.196781 16.610969 95.669438 19.931281 C 97.146 23.251594 99.509281 29.013313 100.985844 32.888313 C 102.4585 36.759406 104.825688 43.41175 106.30225 47.833625 C 107.774906 52.259406 110.142094 59.798469 111.61475 64.775031 C 113.091313 69.7555 115.454594 78.181281 116.931156 83.712531 C 118.403813 89.243781 120.771 98.556281 122.243656 104.638313 C 123.720219 110.72425 127.560063 127.560188 127.560063 127.560188 \" transform=\"matrix(1,0,0,-1,63.979,141.318)\"/>\n",
       "<path style=\"fill:none;stroke-width:0.3985;stroke-linecap:butt;stroke-linejoin:miter;stroke:rgb(100%,0%,0%);stroke-opacity:1;stroke-miterlimit:10;\" d=\"M 8.505375 91.845344 L 16.126469 91.845344 \" transform=\"matrix(1,0,0,-1,63.979,141.318)\"/>\n",
       "<path style=\"fill:none;stroke-width:0.31879;stroke-linecap:round;stroke-linejoin:round;stroke:rgb(100%,0%,0%);stroke-opacity:1;stroke-miterlimit:10;\" d=\"M -1.19729 1.595294 C -1.095727 0.997638 0.00192875 0.0992 0.298804 0.00154375 C 0.00192875 -0.100019 -1.095727 -0.99455 -1.19729 -1.592206 \" transform=\"matrix(1,0,0,-1,80.10354,49.4742)\"/>\n",
       "<path style=\"fill:none;stroke-width:0.3985;stroke-linecap:butt;stroke-linejoin:miter;stroke:rgb(100%,0%,0%);stroke-opacity:1;stroke-dasharray:2.98883,2.98883;stroke-miterlimit:10;\" d=\"M 16.5835 91.845344 L 16.5835 62.079719 \" transform=\"matrix(1,0,0,-1,63.979,141.318)\"/>\n",
       "<path style=\"fill:none;stroke-width:0.3985;stroke-linecap:butt;stroke-linejoin:miter;stroke:rgb(100%,0%,0%);stroke-opacity:1;stroke-miterlimit:10;\" d=\"M 16.5835 62.079719 L 23.353031 62.079719 \" transform=\"matrix(1,0,0,-1,63.979,141.318)\"/>\n",
       "<path style=\"fill:none;stroke-width:0.31879;stroke-linecap:round;stroke-linejoin:round;stroke:rgb(100%,0%,0%);stroke-opacity:1;stroke-miterlimit:10;\" d=\"M -1.195181 1.593709 C -1.097525 0.996053 0.00013125 0.101521 0.297006 -0.00004125 C 0.00013125 -0.0976975 -1.097525 -0.996135 -1.195181 -1.593791 \" transform=\"matrix(1,0,0,-1,87.3319,79.23824)\"/>\n",
       "<path style=\"fill:none;stroke-width:0.3985;stroke-linecap:butt;stroke-linejoin:miter;stroke:rgb(100%,0%,0%);stroke-opacity:1;stroke-dasharray:2.98883,2.98883;stroke-miterlimit:10;\" d=\"M 23.810063 62.079719 L 23.810063 40.392219 \" transform=\"matrix(1,0,0,-1,63.979,141.318)\"/>\n",
       "<path style=\"fill:none;stroke-width:0.3985;stroke-linecap:butt;stroke-linejoin:miter;stroke:rgb(100%,0%,0%);stroke-opacity:1;stroke-miterlimit:10;\" d=\"M 23.810063 40.392219 L 29.306156 40.392219 \" transform=\"matrix(1,0,0,-1,63.979,141.318)\"/>\n",
       "<path style=\"fill:none;stroke-width:0.31879;stroke-linecap:round;stroke-linejoin:round;stroke:rgb(100%,0%,0%);stroke-opacity:1;stroke-miterlimit:10;\" d=\"M -1.194866 1.595815 C -1.09721 0.998159 0.00044625 0.0997213 0.297321 -0.00184125 C 0.00044625 -0.0994975 -1.09721 -0.997935 -1.194866 -1.595591 \" transform=\"matrix(1,0,0,-1,93.28471,100.92394)\"/>\n",
       "<path style=\"fill:none;stroke-width:0.3985;stroke-linecap:butt;stroke-linejoin:miter;stroke:rgb(100%,0%,0%);stroke-opacity:1;stroke-dasharray:2.98883,2.98883;stroke-miterlimit:10;\" d=\"M 29.763188 40.392219 L 29.763188 24.66175 \" transform=\"matrix(1,0,0,-1,63.979,141.318)\"/>\n",
       "<path style=\"fill:none;stroke-width:0.3985;stroke-linecap:butt;stroke-linejoin:miter;stroke:rgb(100%,0%,0%);stroke-opacity:1;stroke-miterlimit:10;\" d=\"M 29.763188 24.66175 L 34.407719 24.66175 \" transform=\"matrix(1,0,0,-1,63.979,141.318)\"/>\n",
       "<path style=\"fill:none;stroke-width:0.31879;stroke-linecap:round;stroke-linejoin:round;stroke:rgb(100%,0%,0%);stroke-opacity:1;stroke-miterlimit:10;\" d=\"M -1.196174 1.59371 C -1.094611 0.996054 -0.00086125 0.101523 0.29992 -0.00004 C -0.00086125 -0.0976962 -1.094611 -0.996134 -1.196174 -1.59379 \" transform=\"matrix(1,0,0,-1,98.38758,116.65621)\"/>\n",
       "<path style=\"fill:none;stroke-width:0.3985;stroke-linecap:butt;stroke-linejoin:miter;stroke:rgb(100%,0%,0%);stroke-opacity:1;stroke-dasharray:2.98883,2.98883;stroke-miterlimit:10;\" d=\"M 34.868656 24.66175 L 34.868656 13.607063 \" transform=\"matrix(1,0,0,-1,63.979,141.318)\"/>\n",
       "<path style=\"fill:none;stroke-width:0.3985;stroke-linecap:butt;stroke-linejoin:miter;stroke:rgb(100%,0%,0%);stroke-opacity:1;stroke-miterlimit:10;\" d=\"M 34.868656 13.607063 L 38.661625 13.607063 \" transform=\"matrix(1,0,0,-1,63.979,141.318)\"/>\n",
       "<path style=\"fill:none;stroke-width:0.31879;stroke-linecap:round;stroke-linejoin:round;stroke:rgb(100%,0%,0%);stroke-opacity:1;stroke-miterlimit:10;\" d=\"M -1.193907 1.594063 C -1.096251 0.996406 0.001405 0.0979688 0.29828 0.0003125 C 0.001405 -0.10125 -1.096251 -0.995781 -1.193907 -1.593437 \" transform=\"matrix(1,0,0,-1,102.63922,127.71125)\"/>\n",
       "<path style=\"fill:none;stroke-width:0.3985;stroke-linecap:butt;stroke-linejoin:miter;stroke:rgb(100%,0%,0%);stroke-opacity:1;stroke-dasharray:2.98883,2.98883;stroke-miterlimit:10;\" d=\"M 39.118656 13.607063 L 39.118656 5.103156 \" transform=\"matrix(1,0,0,-1,63.979,141.318)\"/>\n",
       "<path style=\"fill:none;stroke-width:0.3985;stroke-linecap:butt;stroke-linejoin:miter;stroke:rgb(100%,0%,0%);stroke-opacity:1;stroke-miterlimit:10;\" d=\"M 39.118656 5.103156 L 42.060063 5.103156 \" transform=\"matrix(1,0,0,-1,63.979,141.318)\"/>\n",
       "<path style=\"fill:none;stroke-width:0.31879;stroke-linecap:round;stroke-linejoin:round;stroke:rgb(100%,0%,0%);stroke-opacity:1;stroke-miterlimit:10;\" d=\"M -1.19717 1.594706 C -1.095607 0.99705 -0.0018575 0.0986125 0.298924 0.00095625 C -0.0018575 -0.100606 -1.095607 -0.995137 -1.19717 -1.592794 \" transform=\"matrix(1,0,0,-1,106.04092,136.2158)\"/>\n",
       "<path style=\"fill:none;stroke-width:0.3985;stroke-linecap:butt;stroke-linejoin:miter;stroke:rgb(100%,0%,0%);stroke-opacity:1;stroke-dasharray:2.98883,2.98883;stroke-miterlimit:10;\" d=\"M 42.521 5.103156 L 42.521 0.00159375 \" transform=\"matrix(1,0,0,-1,63.979,141.318)\"/>\n",
       "<path style=\"fill:none;stroke-width:0.3985;stroke-linecap:butt;stroke-linejoin:miter;stroke:rgb(100%,0%,0%);stroke-opacity:1;stroke-miterlimit:10;\" d=\"M 42.521 0.00159375 L 45.462406 0.00159375 \" transform=\"matrix(1,0,0,-1,63.979,141.318)\"/>\n",
       "<path style=\"fill:none;stroke-width:0.31879;stroke-linecap:round;stroke-linejoin:round;stroke:rgb(100%,0%,0%);stroke-opacity:1;stroke-miterlimit:10;\" d=\"M -1.196516 1.595344 C -1.094954 0.997688 -0.00120375 0.09925 0.299577 0.00159375 C -0.00120375 -0.0999687 -1.094954 -0.9945 -1.196516 -1.592156 \" transform=\"matrix(1,0,0,-1,109.44261,141.318)\"/>\n",
       "<path style=\"fill:none;stroke-width:0.3985;stroke-linecap:butt;stroke-linejoin:miter;stroke:rgb(100%,0%,0%);stroke-opacity:1;stroke-dasharray:2.98883,2.98883;stroke-miterlimit:10;\" d=\"M 45.923344 0.00159375 L 45.923344 -4.678094 \" transform=\"matrix(1,0,0,-1,63.979,141.318)\"/>\n",
       "<path style=\"fill:none;stroke-width:0.3985;stroke-linecap:butt;stroke-linejoin:miter;stroke:rgb(100%,0%,0%);stroke-opacity:1;stroke-miterlimit:10;\" d=\"M 45.923344 -4.678094 L 48.013188 -4.678094 \" transform=\"matrix(1,0,0,-1,63.979,141.318)\"/>\n",
       "<path style=\"fill:none;stroke-width:0.31879;stroke-linecap:round;stroke-linejoin:round;stroke:rgb(100%,0%,0%);stroke-opacity:1;stroke-miterlimit:10;\" d=\"M -1.196835 1.592876 C -1.095272 0.99522 -0.0015225 0.100689 0.299259 -0.00087375 C -0.0015225 -0.09853 -1.095272 -0.996967 -1.196835 -1.594624 \" transform=\"matrix(1,0,0,-1,111.99371,145.99522)\"/>\n",
       "<path style=\"fill:none;stroke-width:0.3985;stroke-linecap:butt;stroke-linejoin:miter;stroke:rgb(100%,0%,0%);stroke-opacity:1;stroke-dasharray:2.98883,2.98883;stroke-miterlimit:10;\" d=\"M 48.474125 -4.678094 L 48.474125 -7.654656 \" transform=\"matrix(1,0,0,-1,63.979,141.318)\"/>\n",
       "</g>\n",
       "</svg>"
      ],
      "text/plain": [
       "<IPython.core.display.SVG object>"
      ]
     },
     "metadata": {},
     "output_type": "display_data"
    }
   ],
   "source": [
    "display(SVG(filename=\"images/chapter2_small.svg\"))"
   ]
  },
  {
   "cell_type": "markdown",
   "metadata": {
    "id": "I_wJU9lhXesh"
   },
   "source": [
    "Illustration of a too large `LR`"
   ]
  },
  {
   "cell_type": "code",
   "execution_count": null,
   "metadata": {
    "colab": {
     "base_uri": "https://localhost:8080/",
     "height": 267
    },
    "executionInfo": {
     "elapsed": 8,
     "status": "ok",
     "timestamp": 1706713113229,
     "user": {
      "displayName": "Ioannis Petrousov",
      "userId": "16802625713842772964"
     },
     "user_tz": -60
    },
    "id": "01uoYCM4XaEY",
    "outputId": "cef2c581-6328-46a6-d3fb-cb292e88b017"
   },
   "outputs": [
    {
     "data": {
      "image/svg+xml": [
       "<svg xmlns=\"http://www.w3.org/2000/svg\" xmlns:xlink=\"http://www.w3.org/1999/xlink\" width=\"242.712pt\" height=\"184.037pt\" viewBox=\"0 0 242.712 184.037\" version=\"1.1\">\n",
       "<defs>\n",
       "<g>\n",
       "<symbol overflow=\"visible\" id=\"glyph0-0\">\n",
       "<path style=\"stroke:none;\" d=\"\"/>\n",
       "</symbol>\n",
       "<symbol overflow=\"visible\" id=\"glyph0-1\">\n",
       "<path style=\"stroke:none;\" d=\"M 1.71875 -3.75 L 1.71875 -4.40625 L 0.28125 -4.296875 L 0.28125 -3.984375 C 0.984375 -3.984375 1.0625 -3.921875 1.0625 -3.484375 L 1.0625 1.171875 C 1.0625 1.625 0.953125 1.625 0.28125 1.625 L 0.28125 1.9375 C 0.625 1.921875 1.140625 1.90625 1.390625 1.90625 C 1.671875 1.90625 2.171875 1.921875 2.515625 1.9375 L 2.515625 1.625 C 1.859375 1.625 1.75 1.625 1.75 1.171875 L 1.75 -0.59375 C 1.796875 -0.421875 2.21875 0.109375 2.96875 0.109375 C 4.15625 0.109375 5.1875 -0.875 5.1875 -2.15625 C 5.1875 -3.421875 4.234375 -4.40625 3.109375 -4.40625 C 2.328125 -4.40625 1.90625 -3.96875 1.71875 -3.75 Z M 1.75 -1.140625 L 1.75 -3.359375 C 2.03125 -3.875 2.515625 -4.15625 3.03125 -4.15625 C 3.765625 -4.15625 4.359375 -3.28125 4.359375 -2.15625 C 4.359375 -0.953125 3.671875 -0.109375 2.9375 -0.109375 C 2.53125 -0.109375 2.15625 -0.3125 1.890625 -0.71875 C 1.75 -0.921875 1.75 -0.9375 1.75 -1.140625 Z M 1.75 -1.140625 \"/>\n",
       "</symbol>\n",
       "<symbol overflow=\"visible\" id=\"glyph0-2\">\n",
       "<path style=\"stroke:none;\" d=\"M 3.3125 -0.75 C 3.359375 -0.359375 3.625 0.0625 4.09375 0.0625 C 4.3125 0.0625 4.921875 -0.078125 4.921875 -0.890625 L 4.921875 -1.453125 L 4.671875 -1.453125 L 4.671875 -0.890625 C 4.671875 -0.3125 4.421875 -0.25 4.3125 -0.25 C 3.984375 -0.25 3.9375 -0.703125 3.9375 -0.75 L 3.9375 -2.734375 C 3.9375 -3.15625 3.9375 -3.546875 3.578125 -3.921875 C 3.1875 -4.3125 2.6875 -4.46875 2.21875 -4.46875 C 1.390625 -4.46875 0.703125 -4 0.703125 -3.34375 C 0.703125 -3.046875 0.90625 -2.875 1.171875 -2.875 C 1.453125 -2.875 1.625 -3.078125 1.625 -3.328125 C 1.625 -3.453125 1.578125 -3.78125 1.109375 -3.78125 C 1.390625 -4.140625 1.875 -4.25 2.1875 -4.25 C 2.6875 -4.25 3.25 -3.859375 3.25 -2.96875 L 3.25 -2.609375 C 2.734375 -2.578125 2.046875 -2.546875 1.421875 -2.25 C 0.671875 -1.90625 0.421875 -1.390625 0.421875 -0.953125 C 0.421875 -0.140625 1.390625 0.109375 2.015625 0.109375 C 2.671875 0.109375 3.125 -0.296875 3.3125 -0.75 Z M 3.25 -2.390625 L 3.25 -1.390625 C 3.25 -0.453125 2.53125 -0.109375 2.078125 -0.109375 C 1.59375 -0.109375 1.1875 -0.453125 1.1875 -0.953125 C 1.1875 -1.5 1.609375 -2.328125 3.25 -2.390625 Z M 3.25 -2.390625 \"/>\n",
       "</symbol>\n",
       "<symbol overflow=\"visible\" id=\"glyph0-3\">\n",
       "<path style=\"stroke:none;\" d=\"M 1.671875 -3.3125 L 1.671875 -4.40625 L 0.28125 -4.296875 L 0.28125 -3.984375 C 0.984375 -3.984375 1.0625 -3.921875 1.0625 -3.421875 L 1.0625 -0.75 C 1.0625 -0.3125 0.953125 -0.3125 0.28125 -0.3125 L 0.28125 0 C 0.671875 -0.015625 1.140625 -0.03125 1.421875 -0.03125 C 1.8125 -0.03125 2.28125 -0.03125 2.6875 0 L 2.6875 -0.3125 L 2.46875 -0.3125 C 1.734375 -0.3125 1.71875 -0.421875 1.71875 -0.78125 L 1.71875 -2.3125 C 1.71875 -3.296875 2.140625 -4.1875 2.890625 -4.1875 C 2.953125 -4.1875 2.984375 -4.1875 3 -4.171875 C 2.96875 -4.171875 2.765625 -4.046875 2.765625 -3.78125 C 2.765625 -3.515625 2.984375 -3.359375 3.203125 -3.359375 C 3.375 -3.359375 3.625 -3.484375 3.625 -3.796875 C 3.625 -4.109375 3.3125 -4.40625 2.890625 -4.40625 C 2.15625 -4.40625 1.796875 -3.734375 1.671875 -3.3125 Z M 1.671875 -3.3125 \"/>\n",
       "</symbol>\n",
       "<symbol overflow=\"visible\" id=\"glyph0-4\">\n",
       "<path style=\"stroke:none;\" d=\"M 1.09375 -3.421875 L 1.09375 -0.75 C 1.09375 -0.3125 0.984375 -0.3125 0.3125 -0.3125 L 0.3125 0 C 0.671875 -0.015625 1.171875 -0.03125 1.453125 -0.03125 C 1.703125 -0.03125 2.21875 -0.015625 2.5625 0 L 2.5625 -0.3125 C 1.890625 -0.3125 1.78125 -0.3125 1.78125 -0.75 L 1.78125 -2.59375 C 1.78125 -3.625 2.5 -4.1875 3.125 -4.1875 C 3.765625 -4.1875 3.875 -3.65625 3.875 -3.078125 L 3.875 -0.75 C 3.875 -0.3125 3.765625 -0.3125 3.09375 -0.3125 L 3.09375 0 C 3.4375 -0.015625 3.953125 -0.03125 4.21875 -0.03125 C 4.46875 -0.03125 5 -0.015625 5.328125 0 L 5.328125 -0.3125 C 4.671875 -0.3125 4.5625 -0.3125 4.5625 -0.75 L 4.5625 -2.59375 C 4.5625 -3.625 5.265625 -4.1875 5.90625 -4.1875 C 6.53125 -4.1875 6.640625 -3.65625 6.640625 -3.078125 L 6.640625 -0.75 C 6.640625 -0.3125 6.53125 -0.3125 5.859375 -0.3125 L 5.859375 0 C 6.203125 -0.015625 6.71875 -0.03125 6.984375 -0.03125 C 7.25 -0.03125 7.765625 -0.015625 8.109375 0 L 8.109375 -0.3125 C 7.59375 -0.3125 7.34375 -0.3125 7.328125 -0.609375 L 7.328125 -2.515625 C 7.328125 -3.375 7.328125 -3.671875 7.015625 -4.03125 C 6.875 -4.203125 6.546875 -4.40625 5.96875 -4.40625 C 5.140625 -4.40625 4.6875 -3.8125 4.53125 -3.421875 C 4.390625 -4.296875 3.65625 -4.40625 3.203125 -4.40625 C 2.46875 -4.40625 2 -3.984375 1.71875 -3.359375 L 1.71875 -4.40625 L 0.3125 -4.296875 L 0.3125 -3.984375 C 1.015625 -3.984375 1.09375 -3.921875 1.09375 -3.421875 Z M 1.09375 -3.421875 \"/>\n",
       "</symbol>\n",
       "<symbol overflow=\"visible\" id=\"glyph0-5\">\n",
       "<path style=\"stroke:none;\" d=\"M 1.109375 -2.515625 C 1.171875 -4 2.015625 -4.25 2.359375 -4.25 C 3.375 -4.25 3.484375 -2.90625 3.484375 -2.515625 Z M 1.109375 -2.296875 L 3.890625 -2.296875 C 4.109375 -2.296875 4.140625 -2.296875 4.140625 -2.515625 C 4.140625 -3.5 3.59375 -4.46875 2.359375 -4.46875 C 1.203125 -4.46875 0.28125 -3.4375 0.28125 -2.1875 C 0.28125 -0.859375 1.328125 0.109375 2.46875 0.109375 C 3.6875 0.109375 4.140625 -1 4.140625 -1.1875 C 4.140625 -1.28125 4.0625 -1.3125 4 -1.3125 C 3.921875 -1.3125 3.890625 -1.25 3.875 -1.171875 C 3.53125 -0.140625 2.625 -0.140625 2.53125 -0.140625 C 2.03125 -0.140625 1.640625 -0.4375 1.40625 -0.8125 C 1.109375 -1.28125 1.109375 -1.9375 1.109375 -2.296875 Z M 1.109375 -2.296875 \"/>\n",
       "</symbol>\n",
       "<symbol overflow=\"visible\" id=\"glyph0-6\">\n",
       "<path style=\"stroke:none;\" d=\"M 1.71875 -3.984375 L 3.15625 -3.984375 L 3.15625 -4.296875 L 1.71875 -4.296875 L 1.71875 -6.125 L 1.46875 -6.125 C 1.46875 -5.3125 1.171875 -4.25 0.1875 -4.203125 L 0.1875 -3.984375 L 1.03125 -3.984375 L 1.03125 -1.234375 C 1.03125 -0.015625 1.96875 0.109375 2.328125 0.109375 C 3.03125 0.109375 3.3125 -0.59375 3.3125 -1.234375 L 3.3125 -1.796875 L 3.0625 -1.796875 L 3.0625 -1.25 C 3.0625 -0.515625 2.765625 -0.140625 2.390625 -0.140625 C 1.71875 -0.140625 1.71875 -1.046875 1.71875 -1.21875 Z M 1.71875 -3.984375 \"/>\n",
       "</symbol>\n",
       "<symbol overflow=\"visible\" id=\"glyph0-7\">\n",
       "<path style=\"stroke:none;\" d=\"M 1.765625 -6.921875 L 0.328125 -6.8125 L 0.328125 -6.5 C 1.03125 -6.5 1.109375 -6.4375 1.109375 -5.9375 L 1.109375 -0.75 C 1.109375 -0.3125 1 -0.3125 0.328125 -0.3125 L 0.328125 0 C 0.65625 -0.015625 1.1875 -0.03125 1.4375 -0.03125 C 1.6875 -0.03125 2.171875 -0.015625 2.546875 0 L 2.546875 -0.3125 C 1.875 -0.3125 1.765625 -0.3125 1.765625 -0.75 Z M 1.765625 -6.921875 \"/>\n",
       "</symbol>\n",
       "<symbol overflow=\"visible\" id=\"glyph0-8\">\n",
       "<path style=\"stroke:none;\" d=\"M 4.6875 -2.140625 C 4.6875 -3.40625 3.703125 -4.46875 2.5 -4.46875 C 1.25 -4.46875 0.28125 -3.375 0.28125 -2.140625 C 0.28125 -0.84375 1.3125 0.109375 2.484375 0.109375 C 3.6875 0.109375 4.6875 -0.875 4.6875 -2.140625 Z M 2.5 -0.140625 C 2.0625 -0.140625 1.625 -0.34375 1.359375 -0.8125 C 1.109375 -1.25 1.109375 -1.859375 1.109375 -2.21875 C 1.109375 -2.609375 1.109375 -3.140625 1.34375 -3.578125 C 1.609375 -4.03125 2.078125 -4.25 2.484375 -4.25 C 2.921875 -4.25 3.34375 -4.03125 3.609375 -3.59375 C 3.875 -3.171875 3.875 -2.59375 3.875 -2.21875 C 3.875 -1.859375 3.875 -1.3125 3.65625 -0.875 C 3.421875 -0.421875 2.984375 -0.140625 2.5 -0.140625 Z M 2.5 -0.140625 \"/>\n",
       "</symbol>\n",
       "<symbol overflow=\"visible\" id=\"glyph0-9\">\n",
       "<path style=\"stroke:none;\" d=\"M 2.078125 -1.9375 C 2.296875 -1.890625 3.109375 -1.734375 3.109375 -1.015625 C 3.109375 -0.515625 2.765625 -0.109375 1.984375 -0.109375 C 1.140625 -0.109375 0.78125 -0.671875 0.59375 -1.53125 C 0.5625 -1.65625 0.5625 -1.6875 0.453125 -1.6875 C 0.328125 -1.6875 0.328125 -1.625 0.328125 -1.453125 L 0.328125 -0.125 C 0.328125 0.046875 0.328125 0.109375 0.4375 0.109375 C 0.484375 0.109375 0.5 0.09375 0.6875 -0.09375 C 0.703125 -0.109375 0.703125 -0.125 0.890625 -0.3125 C 1.328125 0.09375 1.78125 0.109375 1.984375 0.109375 C 3.125 0.109375 3.59375 -0.5625 3.59375 -1.28125 C 3.59375 -1.796875 3.296875 -2.109375 3.171875 -2.21875 C 2.84375 -2.546875 2.453125 -2.625 2.03125 -2.703125 C 1.46875 -2.8125 0.8125 -2.9375 0.8125 -3.515625 C 0.8125 -3.875 1.0625 -4.28125 1.921875 -4.28125 C 3.015625 -4.28125 3.078125 -3.375 3.09375 -3.078125 C 3.09375 -2.984375 3.1875 -2.984375 3.203125 -2.984375 C 3.34375 -2.984375 3.34375 -3.03125 3.34375 -3.21875 L 3.34375 -4.234375 C 3.34375 -4.390625 3.34375 -4.46875 3.234375 -4.46875 C 3.1875 -4.46875 3.15625 -4.46875 3.03125 -4.34375 C 3 -4.3125 2.90625 -4.21875 2.859375 -4.1875 C 2.484375 -4.46875 2.078125 -4.46875 1.921875 -4.46875 C 0.703125 -4.46875 0.328125 -3.796875 0.328125 -3.234375 C 0.328125 -2.890625 0.484375 -2.609375 0.75 -2.390625 C 1.078125 -2.140625 1.359375 -2.078125 2.078125 -1.9375 Z M 2.078125 -1.9375 \"/>\n",
       "</symbol>\n",
       "</g>\n",
       "<clipPath id=\"clip1\">\n",
       "  <path d=\"M 21 14 L 22 14 L 22 184.035156 L 21 184.035156 Z M 21 14 \"/>\n",
       "</clipPath>\n",
       "</defs>\n",
       "<g id=\"surface1\">\n",
       "<path style=\"fill:none;stroke-width:0.3985;stroke-linecap:butt;stroke-linejoin:miter;stroke:rgb(0%,0%,0%);stroke-opacity:1;stroke-miterlimit:10;\" d=\"M -63.779781 -21.260125 L 127.103031 -21.260125 \" transform=\"matrix(1,0,0,-1,63.979,141.318)\"/>\n",
       "<path style=\"fill:none;stroke-width:0.31879;stroke-linecap:round;stroke-linejoin:round;stroke:rgb(0%,0%,0%);stroke-opacity:1;stroke-miterlimit:10;\" d=\"M -1.194641 1.593715 C -1.096985 0.996059 0.00067125 0.101528 0.297546 -0.000035 C 0.00067125 -0.0976912 -1.096985 -0.996129 -1.194641 -1.593785 \" transform=\"matrix(1,0,0,-1,191.08136,162.57809)\"/>\n",
       "<g style=\"fill:rgb(0%,0%,0%);fill-opacity:1;\">\n",
       "  <use xlink:href=\"#glyph0-1\" x=\"195.057\" y=\"164.673\"/>\n",
       "  <use xlink:href=\"#glyph0-2\" x=\"200.592221\" y=\"164.673\"/>\n",
       "  <use xlink:href=\"#glyph0-3\" x=\"205.573521\" y=\"164.673\"/>\n",
       "  <use xlink:href=\"#glyph0-2\" x=\"209.475871\" y=\"164.673\"/>\n",
       "  <use xlink:href=\"#glyph0-4\" x=\"214.457171\" y=\"164.673\"/>\n",
       "  <use xlink:href=\"#glyph0-5\" x=\"222.759006\" y=\"164.673\"/>\n",
       "  <use xlink:href=\"#glyph0-6\" x=\"227.186385\" y=\"164.673\"/>\n",
       "  <use xlink:href=\"#glyph0-5\" x=\"231.06084\" y=\"164.673\"/>\n",
       "  <use xlink:href=\"#glyph0-3\" x=\"235.48822\" y=\"164.673\"/>\n",
       "</g>\n",
       "<g clip-path=\"url(#clip1)\" clip-rule=\"nonzero\">\n",
       "<path style=\"fill:none;stroke-width:0.3985;stroke-linecap:butt;stroke-linejoin:miter;stroke:rgb(0%,0%,0%);stroke-opacity:1;stroke-miterlimit:10;\" d=\"M -42.521969 -42.521844 L -42.521969 127.103156 \" transform=\"matrix(1,0,0,-1,63.979,141.318)\"/>\n",
       "</g>\n",
       "<path style=\"fill:none;stroke-width:0.31879;stroke-linecap:round;stroke-linejoin:round;stroke:rgb(0%,0%,0%);stroke-opacity:1;stroke-miterlimit:10;\" d=\"M -1.194516 1.595519 C -1.09686 0.997862 0.00079625 0.099425 0.297671 0.00176875 C 0.00079625 -0.0997938 -1.09686 -0.994325 -1.194516 -1.595888 \" transform=\"matrix(0,-1,-1,0,21.4588,14.21564)\"/>\n",
       "<g style=\"fill:rgb(0%,0%,0%);fill-opacity:1;\">\n",
       "  <use xlink:href=\"#glyph0-7\" x=\"13.655\" y=\"10.239\"/>\n",
       "  <use xlink:href=\"#glyph0-8\" x=\"16.42261\" y=\"10.239\"/>\n",
       "  <use xlink:href=\"#glyph0-9\" x=\"21.40391\" y=\"10.239\"/>\n",
       "  <use xlink:href=\"#glyph0-9\" x=\"25.33316\" y=\"10.239\"/>\n",
       "</g>\n",
       "<path style=\"fill:none;stroke-width:0.3985;stroke-linecap:butt;stroke-linejoin:miter;stroke:rgb(0%,0%,100%);stroke-opacity:1;stroke-miterlimit:10;\" d=\"M 0.00146875 127.560188 C 0.00146875 127.560188 3.841313 110.72425 5.313969 104.638313 C 6.790531 98.556281 9.153813 89.243781 10.630375 83.712531 C 12.103031 78.181281 14.470219 69.7555 15.946781 64.775031 C 17.419438 59.798469 19.786625 52.259406 21.259281 47.833625 C 22.735844 43.41175 25.099125 36.759406 26.575688 32.888313 C 28.048344 29.013313 30.415531 23.251594 31.888188 19.931281 C 33.36475 16.610969 35.731938 11.735969 37.204594 8.970344 C 38.681156 6.204719 41.044438 2.212531 42.521 0.00159375 C 43.993656 -2.21325 46.360844 -5.314812 47.8335 -6.974969 C 49.310063 -8.635125 51.67725 -10.853875 53.149906 -11.959344 C 54.626469 -13.064812 56.98975 -14.396844 58.466313 -14.947625 C 59.938969 -15.502312 62.306156 -15.943719 63.778813 -15.943719 C 65.255375 -15.943719 67.618656 -15.502312 69.095219 -14.947625 C 70.571781 -14.396844 72.935063 -13.064812 74.411625 -11.959344 C 75.884281 -10.853875 78.251469 -8.635125 79.724125 -6.974969 C 81.200688 -5.314812 83.563969 -2.21325 85.040531 0.00159375 C 86.517094 2.212531 88.880375 6.204719 90.356938 8.970344 C 91.829594 11.735969 94.196781 16.610969 95.669438 19.931281 C 97.146 23.251594 99.509281 29.013313 100.985844 32.888313 C 102.4585 36.759406 104.825688 43.41175 106.30225 47.833625 C 107.774906 52.259406 110.142094 59.798469 111.61475 64.775031 C 113.091313 69.7555 115.454594 78.181281 116.931156 83.712531 C 118.403813 89.243781 120.771 98.556281 122.243656 104.638313 C 123.720219 110.72425 127.560063 127.560188 127.560063 127.560188 \" transform=\"matrix(1,0,0,-1,63.979,141.318)\"/>\n",
       "<path style=\"fill:none;stroke-width:0.3985;stroke-linecap:butt;stroke-linejoin:miter;stroke:rgb(100%,0%,0%);stroke-opacity:1;stroke-miterlimit:10;\" d=\"M 42.521 0.00159375 L 93.087406 0.00159375 \" transform=\"matrix(1,0,0,-1,63.979,141.318)\"/>\n",
       "<path style=\"fill:none;stroke-width:0.31879;stroke-linecap:round;stroke-linejoin:round;stroke:rgb(100%,0%,0%);stroke-opacity:1;stroke-miterlimit:10;\" d=\"M -1.193966 1.595344 C -1.09631 0.997688 0.00134625 0.09925 0.298221 0.00159375 C 0.00134625 -0.0999687 -1.09631 -0.9945 -1.193966 -1.592156 \" transform=\"matrix(1,0,0,-1,157.06506,141.318)\"/>\n",
       "<path style=\"fill:none;stroke-width:0.3985;stroke-linecap:butt;stroke-linejoin:miter;stroke:rgb(100%,0%,0%);stroke-opacity:1;stroke-dasharray:2.98883,2.98883;stroke-miterlimit:10;\" d=\"M 93.544438 0.00159375 L 93.544438 15.306281 \" transform=\"matrix(1,0,0,-1,63.979,141.318)\"/>\n",
       "<path style=\"fill:none;stroke-width:0.3985;stroke-linecap:butt;stroke-linejoin:miter;stroke:rgb(100%,0%,0%);stroke-opacity:1;stroke-miterlimit:10;\" d=\"M 93.544438 15.306281 L 22.567875 15.306281 \" transform=\"matrix(1,0,0,-1,63.979,141.318)\"/>\n",
       "<path style=\"fill:none;stroke-width:0.31879;stroke-linecap:round;stroke-linejoin:round;stroke:rgb(100%,0%,0%);stroke-opacity:1;stroke-miterlimit:10;\" d=\"M -1.194237 1.594749 C -1.096581 0.997092 0.001075 0.098655 0.29795 0.00099875 C 0.001075 -0.100564 -1.096581 -0.995095 -1.194237 -1.592751 \" transform=\"matrix(-1,0,0,1,86.54795,126.01072)\"/>\n",
       "<path style=\"fill:none;stroke-width:0.3985;stroke-linecap:butt;stroke-linejoin:miter;stroke:rgb(100%,0%,0%);stroke-opacity:1;stroke-dasharray:2.98883,2.98883;stroke-miterlimit:10;\" d=\"M 22.110844 15.306281 L 22.110844 45.497688 \" transform=\"matrix(1,0,0,-1,63.979,141.318)\"/>\n",
       "<path style=\"fill:none;stroke-width:0.3985;stroke-linecap:butt;stroke-linejoin:miter;stroke:rgb(100%,0%,0%);stroke-opacity:1;stroke-miterlimit:10;\" d=\"M 22.110844 45.497688 L 121.575688 45.497688 \" transform=\"matrix(1,0,0,-1,63.979,141.318)\"/>\n",
       "<path style=\"fill:none;stroke-width:0.31879;stroke-linecap:round;stroke-linejoin:round;stroke:rgb(100%,0%,0%);stroke-opacity:1;stroke-miterlimit:10;\" d=\"M -1.194125 1.594508 C -1.096469 0.996851 0.0011875 0.0984138 0.298063 0.0007575 C 0.0011875 -0.100805 -1.096469 -0.995336 -1.194125 -1.592992 \" transform=\"matrix(1,0,0,-1,185.5535,95.82107)\"/>\n",
       "<path style=\"fill:none;stroke-width:0.3985;stroke-linecap:butt;stroke-linejoin:miter;stroke:rgb(100%,0%,0%);stroke-opacity:1;stroke-dasharray:2.98883,2.98883;stroke-miterlimit:10;\" d=\"M 122.032719 45.497688 L 122.032719 103.747688 \" transform=\"matrix(1,0,0,-1,63.979,141.318)\"/>\n",
       "<path style=\"fill:none;stroke-width:0.3985;stroke-linecap:butt;stroke-linejoin:miter;stroke:rgb(100%,0%,0%);stroke-opacity:1;stroke-miterlimit:10;\" d=\"M 122.032719 103.747688 L -17.400875 103.747688 \" transform=\"matrix(1,0,0,-1,63.979,141.318)\"/>\n",
       "<path style=\"fill:none;stroke-width:0.31879;stroke-linecap:round;stroke-linejoin:round;stroke:rgb(100%,0%,0%);stroke-opacity:1;stroke-miterlimit:10;\" d=\"M -1.194537 1.595462 C -1.096881 0.997806 0.000775 0.0993687 0.29765 0.0017125 C 0.000775 -0.09985 -1.096881 -0.994381 -1.194537 -1.595944 \" transform=\"matrix(-1,0,0,1,46.5789,37.5686)\"/>\n",
       "<path style=\"fill:none;stroke-width:0.3985;stroke-linecap:butt;stroke-linejoin:miter;stroke:rgb(100%,0%,0%);stroke-opacity:1;stroke-dasharray:2.98883,2.98883;stroke-miterlimit:10;\" d=\"M -17.857906 103.747688 L -17.857906 127.560188 \" transform=\"matrix(1,0,0,-1,63.979,141.318)\"/>\n",
       "</g>\n",
       "</svg>"
      ],
      "text/plain": [
       "<IPython.core.display.SVG object>"
      ]
     },
     "metadata": {},
     "output_type": "display_data"
    }
   ],
   "source": [
    "display(SVG(filename=\"images/chapter2_div.svg\"))"
   ]
  },
  {
   "cell_type": "markdown",
   "metadata": {
    "id": "UOx_To4OX2OK"
   },
   "source": [
    "If the learning rate is too high, it may also \"bounce\" around"
   ]
  },
  {
   "cell_type": "code",
   "execution_count": null,
   "metadata": {
    "colab": {
     "base_uri": "https://localhost:8080/",
     "height": 267
    },
    "executionInfo": {
     "elapsed": 7,
     "status": "ok",
     "timestamp": 1706713113229,
     "user": {
      "displayName": "Ioannis Petrousov",
      "userId": "16802625713842772964"
     },
     "user_tz": -60
    },
    "id": "eUgPjRX6XqnK",
    "outputId": "599c8ca7-92f9-48ef-ee75-7f5da3a2eff6"
   },
   "outputs": [
    {
     "data": {
      "image/svg+xml": [
       "<svg xmlns=\"http://www.w3.org/2000/svg\" xmlns:xlink=\"http://www.w3.org/1999/xlink\" width=\"242.712pt\" height=\"184.037pt\" viewBox=\"0 0 242.712 184.037\" version=\"1.1\">\n",
       "<defs>\n",
       "<g>\n",
       "<symbol overflow=\"visible\" id=\"glyph0-0\">\n",
       "<path style=\"stroke:none;\" d=\"\"/>\n",
       "</symbol>\n",
       "<symbol overflow=\"visible\" id=\"glyph0-1\">\n",
       "<path style=\"stroke:none;\" d=\"M 1.71875 -3.75 L 1.71875 -4.40625 L 0.28125 -4.296875 L 0.28125 -3.984375 C 0.984375 -3.984375 1.0625 -3.921875 1.0625 -3.484375 L 1.0625 1.171875 C 1.0625 1.625 0.953125 1.625 0.28125 1.625 L 0.28125 1.9375 C 0.625 1.921875 1.140625 1.90625 1.390625 1.90625 C 1.671875 1.90625 2.171875 1.921875 2.515625 1.9375 L 2.515625 1.625 C 1.859375 1.625 1.75 1.625 1.75 1.171875 L 1.75 -0.59375 C 1.796875 -0.421875 2.21875 0.109375 2.96875 0.109375 C 4.15625 0.109375 5.1875 -0.875 5.1875 -2.15625 C 5.1875 -3.421875 4.234375 -4.40625 3.109375 -4.40625 C 2.328125 -4.40625 1.90625 -3.96875 1.71875 -3.75 Z M 1.75 -1.140625 L 1.75 -3.359375 C 2.03125 -3.875 2.515625 -4.15625 3.03125 -4.15625 C 3.765625 -4.15625 4.359375 -3.28125 4.359375 -2.15625 C 4.359375 -0.953125 3.671875 -0.109375 2.9375 -0.109375 C 2.53125 -0.109375 2.15625 -0.3125 1.890625 -0.71875 C 1.75 -0.921875 1.75 -0.9375 1.75 -1.140625 Z M 1.75 -1.140625 \"/>\n",
       "</symbol>\n",
       "<symbol overflow=\"visible\" id=\"glyph0-2\">\n",
       "<path style=\"stroke:none;\" d=\"M 3.3125 -0.75 C 3.359375 -0.359375 3.625 0.0625 4.09375 0.0625 C 4.3125 0.0625 4.921875 -0.078125 4.921875 -0.890625 L 4.921875 -1.453125 L 4.671875 -1.453125 L 4.671875 -0.890625 C 4.671875 -0.3125 4.421875 -0.25 4.3125 -0.25 C 3.984375 -0.25 3.9375 -0.703125 3.9375 -0.75 L 3.9375 -2.734375 C 3.9375 -3.15625 3.9375 -3.546875 3.578125 -3.921875 C 3.1875 -4.3125 2.6875 -4.46875 2.21875 -4.46875 C 1.390625 -4.46875 0.703125 -4 0.703125 -3.34375 C 0.703125 -3.046875 0.90625 -2.875 1.171875 -2.875 C 1.453125 -2.875 1.625 -3.078125 1.625 -3.328125 C 1.625 -3.453125 1.578125 -3.78125 1.109375 -3.78125 C 1.390625 -4.140625 1.875 -4.25 2.1875 -4.25 C 2.6875 -4.25 3.25 -3.859375 3.25 -2.96875 L 3.25 -2.609375 C 2.734375 -2.578125 2.046875 -2.546875 1.421875 -2.25 C 0.671875 -1.90625 0.421875 -1.390625 0.421875 -0.953125 C 0.421875 -0.140625 1.390625 0.109375 2.015625 0.109375 C 2.671875 0.109375 3.125 -0.296875 3.3125 -0.75 Z M 3.25 -2.390625 L 3.25 -1.390625 C 3.25 -0.453125 2.53125 -0.109375 2.078125 -0.109375 C 1.59375 -0.109375 1.1875 -0.453125 1.1875 -0.953125 C 1.1875 -1.5 1.609375 -2.328125 3.25 -2.390625 Z M 3.25 -2.390625 \"/>\n",
       "</symbol>\n",
       "<symbol overflow=\"visible\" id=\"glyph0-3\">\n",
       "<path style=\"stroke:none;\" d=\"M 1.671875 -3.3125 L 1.671875 -4.40625 L 0.28125 -4.296875 L 0.28125 -3.984375 C 0.984375 -3.984375 1.0625 -3.921875 1.0625 -3.421875 L 1.0625 -0.75 C 1.0625 -0.3125 0.953125 -0.3125 0.28125 -0.3125 L 0.28125 0 C 0.671875 -0.015625 1.140625 -0.03125 1.421875 -0.03125 C 1.8125 -0.03125 2.28125 -0.03125 2.6875 0 L 2.6875 -0.3125 L 2.46875 -0.3125 C 1.734375 -0.3125 1.71875 -0.421875 1.71875 -0.78125 L 1.71875 -2.3125 C 1.71875 -3.296875 2.140625 -4.1875 2.890625 -4.1875 C 2.953125 -4.1875 2.984375 -4.1875 3 -4.171875 C 2.96875 -4.171875 2.765625 -4.046875 2.765625 -3.78125 C 2.765625 -3.515625 2.984375 -3.359375 3.203125 -3.359375 C 3.375 -3.359375 3.625 -3.484375 3.625 -3.796875 C 3.625 -4.109375 3.3125 -4.40625 2.890625 -4.40625 C 2.15625 -4.40625 1.796875 -3.734375 1.671875 -3.3125 Z M 1.671875 -3.3125 \"/>\n",
       "</symbol>\n",
       "<symbol overflow=\"visible\" id=\"glyph0-4\">\n",
       "<path style=\"stroke:none;\" d=\"M 1.09375 -3.421875 L 1.09375 -0.75 C 1.09375 -0.3125 0.984375 -0.3125 0.3125 -0.3125 L 0.3125 0 C 0.671875 -0.015625 1.171875 -0.03125 1.453125 -0.03125 C 1.703125 -0.03125 2.21875 -0.015625 2.5625 0 L 2.5625 -0.3125 C 1.890625 -0.3125 1.78125 -0.3125 1.78125 -0.75 L 1.78125 -2.59375 C 1.78125 -3.625 2.5 -4.1875 3.125 -4.1875 C 3.765625 -4.1875 3.875 -3.65625 3.875 -3.078125 L 3.875 -0.75 C 3.875 -0.3125 3.765625 -0.3125 3.09375 -0.3125 L 3.09375 0 C 3.4375 -0.015625 3.953125 -0.03125 4.21875 -0.03125 C 4.46875 -0.03125 5 -0.015625 5.328125 0 L 5.328125 -0.3125 C 4.671875 -0.3125 4.5625 -0.3125 4.5625 -0.75 L 4.5625 -2.59375 C 4.5625 -3.625 5.265625 -4.1875 5.90625 -4.1875 C 6.53125 -4.1875 6.640625 -3.65625 6.640625 -3.078125 L 6.640625 -0.75 C 6.640625 -0.3125 6.53125 -0.3125 5.859375 -0.3125 L 5.859375 0 C 6.203125 -0.015625 6.71875 -0.03125 6.984375 -0.03125 C 7.25 -0.03125 7.765625 -0.015625 8.109375 0 L 8.109375 -0.3125 C 7.59375 -0.3125 7.34375 -0.3125 7.328125 -0.609375 L 7.328125 -2.515625 C 7.328125 -3.375 7.328125 -3.671875 7.015625 -4.03125 C 6.875 -4.203125 6.546875 -4.40625 5.96875 -4.40625 C 5.140625 -4.40625 4.6875 -3.8125 4.53125 -3.421875 C 4.390625 -4.296875 3.65625 -4.40625 3.203125 -4.40625 C 2.46875 -4.40625 2 -3.984375 1.71875 -3.359375 L 1.71875 -4.40625 L 0.3125 -4.296875 L 0.3125 -3.984375 C 1.015625 -3.984375 1.09375 -3.921875 1.09375 -3.421875 Z M 1.09375 -3.421875 \"/>\n",
       "</symbol>\n",
       "<symbol overflow=\"visible\" id=\"glyph0-5\">\n",
       "<path style=\"stroke:none;\" d=\"M 1.109375 -2.515625 C 1.171875 -4 2.015625 -4.25 2.359375 -4.25 C 3.375 -4.25 3.484375 -2.90625 3.484375 -2.515625 Z M 1.109375 -2.296875 L 3.890625 -2.296875 C 4.109375 -2.296875 4.140625 -2.296875 4.140625 -2.515625 C 4.140625 -3.5 3.59375 -4.46875 2.359375 -4.46875 C 1.203125 -4.46875 0.28125 -3.4375 0.28125 -2.1875 C 0.28125 -0.859375 1.328125 0.109375 2.46875 0.109375 C 3.6875 0.109375 4.140625 -1 4.140625 -1.1875 C 4.140625 -1.28125 4.0625 -1.3125 4 -1.3125 C 3.921875 -1.3125 3.890625 -1.25 3.875 -1.171875 C 3.53125 -0.140625 2.625 -0.140625 2.53125 -0.140625 C 2.03125 -0.140625 1.640625 -0.4375 1.40625 -0.8125 C 1.109375 -1.28125 1.109375 -1.9375 1.109375 -2.296875 Z M 1.109375 -2.296875 \"/>\n",
       "</symbol>\n",
       "<symbol overflow=\"visible\" id=\"glyph0-6\">\n",
       "<path style=\"stroke:none;\" d=\"M 1.71875 -3.984375 L 3.15625 -3.984375 L 3.15625 -4.296875 L 1.71875 -4.296875 L 1.71875 -6.125 L 1.46875 -6.125 C 1.46875 -5.3125 1.171875 -4.25 0.1875 -4.203125 L 0.1875 -3.984375 L 1.03125 -3.984375 L 1.03125 -1.234375 C 1.03125 -0.015625 1.96875 0.109375 2.328125 0.109375 C 3.03125 0.109375 3.3125 -0.59375 3.3125 -1.234375 L 3.3125 -1.796875 L 3.0625 -1.796875 L 3.0625 -1.25 C 3.0625 -0.515625 2.765625 -0.140625 2.390625 -0.140625 C 1.71875 -0.140625 1.71875 -1.046875 1.71875 -1.21875 Z M 1.71875 -3.984375 \"/>\n",
       "</symbol>\n",
       "<symbol overflow=\"visible\" id=\"glyph0-7\">\n",
       "<path style=\"stroke:none;\" d=\"M 1.765625 -6.921875 L 0.328125 -6.8125 L 0.328125 -6.5 C 1.03125 -6.5 1.109375 -6.4375 1.109375 -5.9375 L 1.109375 -0.75 C 1.109375 -0.3125 1 -0.3125 0.328125 -0.3125 L 0.328125 0 C 0.65625 -0.015625 1.1875 -0.03125 1.4375 -0.03125 C 1.6875 -0.03125 2.171875 -0.015625 2.546875 0 L 2.546875 -0.3125 C 1.875 -0.3125 1.765625 -0.3125 1.765625 -0.75 Z M 1.765625 -6.921875 \"/>\n",
       "</symbol>\n",
       "<symbol overflow=\"visible\" id=\"glyph0-8\">\n",
       "<path style=\"stroke:none;\" d=\"M 4.6875 -2.140625 C 4.6875 -3.40625 3.703125 -4.46875 2.5 -4.46875 C 1.25 -4.46875 0.28125 -3.375 0.28125 -2.140625 C 0.28125 -0.84375 1.3125 0.109375 2.484375 0.109375 C 3.6875 0.109375 4.6875 -0.875 4.6875 -2.140625 Z M 2.5 -0.140625 C 2.0625 -0.140625 1.625 -0.34375 1.359375 -0.8125 C 1.109375 -1.25 1.109375 -1.859375 1.109375 -2.21875 C 1.109375 -2.609375 1.109375 -3.140625 1.34375 -3.578125 C 1.609375 -4.03125 2.078125 -4.25 2.484375 -4.25 C 2.921875 -4.25 3.34375 -4.03125 3.609375 -3.59375 C 3.875 -3.171875 3.875 -2.59375 3.875 -2.21875 C 3.875 -1.859375 3.875 -1.3125 3.65625 -0.875 C 3.421875 -0.421875 2.984375 -0.140625 2.5 -0.140625 Z M 2.5 -0.140625 \"/>\n",
       "</symbol>\n",
       "<symbol overflow=\"visible\" id=\"glyph0-9\">\n",
       "<path style=\"stroke:none;\" d=\"M 2.078125 -1.9375 C 2.296875 -1.890625 3.109375 -1.734375 3.109375 -1.015625 C 3.109375 -0.515625 2.765625 -0.109375 1.984375 -0.109375 C 1.140625 -0.109375 0.78125 -0.671875 0.59375 -1.53125 C 0.5625 -1.65625 0.5625 -1.6875 0.453125 -1.6875 C 0.328125 -1.6875 0.328125 -1.625 0.328125 -1.453125 L 0.328125 -0.125 C 0.328125 0.046875 0.328125 0.109375 0.4375 0.109375 C 0.484375 0.109375 0.5 0.09375 0.6875 -0.09375 C 0.703125 -0.109375 0.703125 -0.125 0.890625 -0.3125 C 1.328125 0.09375 1.78125 0.109375 1.984375 0.109375 C 3.125 0.109375 3.59375 -0.5625 3.59375 -1.28125 C 3.59375 -1.796875 3.296875 -2.109375 3.171875 -2.21875 C 2.84375 -2.546875 2.453125 -2.625 2.03125 -2.703125 C 1.46875 -2.8125 0.8125 -2.9375 0.8125 -3.515625 C 0.8125 -3.875 1.0625 -4.28125 1.921875 -4.28125 C 3.015625 -4.28125 3.078125 -3.375 3.09375 -3.078125 C 3.09375 -2.984375 3.1875 -2.984375 3.203125 -2.984375 C 3.34375 -2.984375 3.34375 -3.03125 3.34375 -3.21875 L 3.34375 -4.234375 C 3.34375 -4.390625 3.34375 -4.46875 3.234375 -4.46875 C 3.1875 -4.46875 3.15625 -4.46875 3.03125 -4.34375 C 3 -4.3125 2.90625 -4.21875 2.859375 -4.1875 C 2.484375 -4.46875 2.078125 -4.46875 1.921875 -4.46875 C 0.703125 -4.46875 0.328125 -3.796875 0.328125 -3.234375 C 0.328125 -2.890625 0.484375 -2.609375 0.75 -2.390625 C 1.078125 -2.140625 1.359375 -2.078125 2.078125 -1.9375 Z M 2.078125 -1.9375 \"/>\n",
       "</symbol>\n",
       "</g>\n",
       "<clipPath id=\"clip1\">\n",
       "  <path d=\"M 21 14 L 22 14 L 22 184.035156 L 21 184.035156 Z M 21 14 \"/>\n",
       "</clipPath>\n",
       "</defs>\n",
       "<g id=\"surface1\">\n",
       "<path style=\"fill:none;stroke-width:0.3985;stroke-linecap:butt;stroke-linejoin:miter;stroke:rgb(0%,0%,0%);stroke-opacity:1;stroke-miterlimit:10;\" d=\"M -63.779781 -21.260125 L 127.103031 -21.260125 \" transform=\"matrix(1,0,0,-1,63.979,141.318)\"/>\n",
       "<path style=\"fill:none;stroke-width:0.31879;stroke-linecap:round;stroke-linejoin:round;stroke:rgb(0%,0%,0%);stroke-opacity:1;stroke-miterlimit:10;\" d=\"M -1.194641 1.593715 C -1.096985 0.996059 0.00067125 0.101528 0.297546 -0.000035 C 0.00067125 -0.0976912 -1.096985 -0.996129 -1.194641 -1.593785 \" transform=\"matrix(1,0,0,-1,191.08136,162.57809)\"/>\n",
       "<g style=\"fill:rgb(0%,0%,0%);fill-opacity:1;\">\n",
       "  <use xlink:href=\"#glyph0-1\" x=\"195.057\" y=\"164.673\"/>\n",
       "  <use xlink:href=\"#glyph0-2\" x=\"200.592221\" y=\"164.673\"/>\n",
       "  <use xlink:href=\"#glyph0-3\" x=\"205.573521\" y=\"164.673\"/>\n",
       "  <use xlink:href=\"#glyph0-2\" x=\"209.475871\" y=\"164.673\"/>\n",
       "  <use xlink:href=\"#glyph0-4\" x=\"214.457171\" y=\"164.673\"/>\n",
       "  <use xlink:href=\"#glyph0-5\" x=\"222.759006\" y=\"164.673\"/>\n",
       "  <use xlink:href=\"#glyph0-6\" x=\"227.186385\" y=\"164.673\"/>\n",
       "  <use xlink:href=\"#glyph0-5\" x=\"231.06084\" y=\"164.673\"/>\n",
       "  <use xlink:href=\"#glyph0-3\" x=\"235.48822\" y=\"164.673\"/>\n",
       "</g>\n",
       "<g clip-path=\"url(#clip1)\" clip-rule=\"nonzero\">\n",
       "<path style=\"fill:none;stroke-width:0.3985;stroke-linecap:butt;stroke-linejoin:miter;stroke:rgb(0%,0%,0%);stroke-opacity:1;stroke-miterlimit:10;\" d=\"M -42.521969 -42.521844 L -42.521969 127.103156 \" transform=\"matrix(1,0,0,-1,63.979,141.318)\"/>\n",
       "</g>\n",
       "<path style=\"fill:none;stroke-width:0.31879;stroke-linecap:round;stroke-linejoin:round;stroke:rgb(0%,0%,0%);stroke-opacity:1;stroke-miterlimit:10;\" d=\"M -1.194516 1.595519 C -1.09686 0.997862 0.00079625 0.099425 0.297671 0.00176875 C 0.00079625 -0.0997938 -1.09686 -0.994325 -1.194516 -1.595888 \" transform=\"matrix(0,-1,-1,0,21.4588,14.21564)\"/>\n",
       "<g style=\"fill:rgb(0%,0%,0%);fill-opacity:1;\">\n",
       "  <use xlink:href=\"#glyph0-7\" x=\"13.655\" y=\"10.239\"/>\n",
       "  <use xlink:href=\"#glyph0-8\" x=\"16.42261\" y=\"10.239\"/>\n",
       "  <use xlink:href=\"#glyph0-9\" x=\"21.40391\" y=\"10.239\"/>\n",
       "  <use xlink:href=\"#glyph0-9\" x=\"25.33316\" y=\"10.239\"/>\n",
       "</g>\n",
       "<path style=\"fill:none;stroke-width:0.3985;stroke-linecap:butt;stroke-linejoin:miter;stroke:rgb(0%,0%,100%);stroke-opacity:1;stroke-miterlimit:10;\" d=\"M 0.00146875 127.560188 C 0.00146875 127.560188 3.841313 110.72425 5.313969 104.638313 C 6.790531 98.556281 9.153813 89.243781 10.630375 83.712531 C 12.103031 78.181281 14.470219 69.7555 15.946781 64.775031 C 17.419438 59.798469 19.786625 52.259406 21.259281 47.833625 C 22.735844 43.41175 25.099125 36.759406 26.575688 32.888313 C 28.048344 29.013313 30.415531 23.251594 31.888188 19.931281 C 33.36475 16.610969 35.731938 11.735969 37.204594 8.970344 C 38.681156 6.204719 41.044438 2.212531 42.521 0.00159375 C 43.993656 -2.21325 46.360844 -5.314812 47.8335 -6.974969 C 49.310063 -8.635125 51.67725 -10.853875 53.149906 -11.959344 C 54.626469 -13.064812 56.98975 -14.396844 58.466313 -14.947625 C 59.938969 -15.502312 62.306156 -15.943719 63.778813 -15.943719 C 65.255375 -15.943719 67.618656 -15.502312 69.095219 -14.947625 C 70.571781 -14.396844 72.935063 -13.064812 74.411625 -11.959344 C 75.884281 -10.853875 78.251469 -8.635125 79.724125 -6.974969 C 81.200688 -5.314812 83.563969 -2.21325 85.040531 0.00159375 C 86.517094 2.212531 88.880375 6.204719 90.356938 8.970344 C 91.829594 11.735969 94.196781 16.610969 95.669438 19.931281 C 97.146 23.251594 99.509281 29.013313 100.985844 32.888313 C 102.4585 36.759406 104.825688 43.41175 106.30225 47.833625 C 107.774906 52.259406 110.142094 59.798469 111.61475 64.775031 C 113.091313 69.7555 115.454594 78.181281 116.931156 83.712531 C 118.403813 89.243781 120.771 98.556281 122.243656 104.638313 C 123.720219 110.72425 127.560063 127.560188 127.560063 127.560188 \" transform=\"matrix(1,0,0,-1,63.979,141.318)\"/>\n",
       "<path style=\"fill:none;stroke-width:0.3985;stroke-linecap:butt;stroke-linejoin:miter;stroke:rgb(100%,0%,0%);stroke-opacity:1;stroke-miterlimit:10;\" d=\"M 8.505375 91.845344 L 115.622563 91.845344 \" transform=\"matrix(1,0,0,-1,63.979,141.318)\"/>\n",
       "<path style=\"fill:none;stroke-width:0.31879;stroke-linecap:round;stroke-linejoin:round;stroke:rgb(100%,0%,0%);stroke-opacity:1;stroke-miterlimit:10;\" d=\"M -1.19444 1.595294 C -1.096784 0.997638 0.0008725 0.0992 0.297748 0.00154375 C 0.0008725 -0.100019 -1.096784 -0.99455 -1.19444 -1.592206 \" transform=\"matrix(1,0,0,-1,179.60069,49.4742)\"/>\n",
       "<path style=\"fill:none;stroke-width:0.3985;stroke-linecap:butt;stroke-linejoin:miter;stroke:rgb(100%,0%,0%);stroke-opacity:1;stroke-dasharray:2.98883,2.98883;stroke-miterlimit:10;\" d=\"M 116.079594 91.845344 L 116.079594 81.212531 \" transform=\"matrix(1,0,0,-1,63.979,141.318)\"/>\n",
       "<path style=\"fill:none;stroke-width:0.3985;stroke-linecap:butt;stroke-linejoin:miter;stroke:rgb(100%,0%,0%);stroke-opacity:1;stroke-miterlimit:10;\" d=\"M 116.079594 81.212531 L 14.48975 81.212531 \" transform=\"matrix(1,0,0,-1,63.979,141.318)\"/>\n",
       "<path style=\"fill:none;stroke-width:0.31879;stroke-linecap:round;stroke-linejoin:round;stroke:rgb(100%,0%,0%);stroke-opacity:1;stroke-miterlimit:10;\" d=\"M -1.195063 1.594949 C -1.097406 0.997292 0.00025 0.098855 0.297125 0.00119875 C 0.00025 -0.100364 -1.097406 -0.994895 -1.195063 -1.592551 \" transform=\"matrix(-1,0,0,1,78.469,60.10427)\"/>\n",
       "<path style=\"fill:none;stroke-width:0.3985;stroke-linecap:butt;stroke-linejoin:miter;stroke:rgb(100%,0%,0%);stroke-opacity:1;stroke-dasharray:2.98883,2.98883;stroke-miterlimit:10;\" d=\"M 14.032719 81.212531 L 14.032719 71.860969 \" transform=\"matrix(1,0,0,-1,63.979,141.318)\"/>\n",
       "<path style=\"fill:none;stroke-width:0.3985;stroke-linecap:butt;stroke-linejoin:miter;stroke:rgb(100%,0%,0%);stroke-opacity:1;stroke-miterlimit:10;\" d=\"M 14.032719 71.860969 L 110.521 71.860969 \" transform=\"matrix(1,0,0,-1,63.979,141.318)\"/>\n",
       "<path style=\"fill:none;stroke-width:0.31879;stroke-linecap:round;stroke-linejoin:round;stroke:rgb(100%,0%,0%);stroke-opacity:1;stroke-miterlimit:10;\" d=\"M -1.193803 1.595469 C -1.096146 0.997813 0.00151 0.099375 0.298385 0.00171875 C 0.00151 -0.0998437 -1.096146 -0.994375 -1.193803 -1.595937 \" transform=\"matrix(1,0,0,-1,174.49849,69.45875)\"/>\n",
       "<path style=\"fill:none;stroke-width:0.3985;stroke-linecap:butt;stroke-linejoin:miter;stroke:rgb(100%,0%,0%);stroke-opacity:1;stroke-dasharray:2.98883,2.98883;stroke-miterlimit:10;\" d=\"M 110.978031 71.860969 L 110.978031 63.357063 \" transform=\"matrix(1,0,0,-1,63.979,141.318)\"/>\n",
       "<path style=\"fill:none;stroke-width:0.3985;stroke-linecap:butt;stroke-linejoin:miter;stroke:rgb(100%,0%,0%);stroke-opacity:1;stroke-miterlimit:10;\" d=\"M 110.978031 63.357063 L 19.165531 63.357063 \" transform=\"matrix(1,0,0,-1,63.979,141.318)\"/>\n",
       "<path style=\"fill:none;stroke-width:0.31879;stroke-linecap:round;stroke-linejoin:round;stroke:rgb(100%,0%,0%);stroke-opacity:1;stroke-miterlimit:10;\" d=\"M -1.193594 1.595914 C -1.095937 0.994351 0.00171875 0.09982 0.298594 -0.0017425 C 0.00171875 -0.0993988 -1.095937 -0.997836 -1.193594 -1.595493 \" transform=\"matrix(-1,0,0,1,83.14625,77.96268)\"/>\n",
       "<path style=\"fill:none;stroke-width:0.3985;stroke-linecap:butt;stroke-linejoin:miter;stroke:rgb(100%,0%,0%);stroke-opacity:1;stroke-dasharray:2.98883,2.98883;stroke-miterlimit:10;\" d=\"M 18.7085 63.357063 L 18.7085 55.700813 \" transform=\"matrix(1,0,0,-1,63.979,141.318)\"/>\n",
       "<path style=\"fill:none;stroke-width:0.3985;stroke-linecap:butt;stroke-linejoin:miter;stroke:rgb(100%,0%,0%);stroke-opacity:1;stroke-miterlimit:10;\" d=\"M 18.7085 55.700813 L 105.841313 55.700813 \" transform=\"matrix(1,0,0,-1,63.979,141.318)\"/>\n",
       "<path style=\"fill:none;stroke-width:0.31879;stroke-linecap:round;stroke-linejoin:round;stroke:rgb(100%,0%,0%);stroke-opacity:1;stroke-miterlimit:10;\" d=\"M -1.19622 1.593213 C -1.094658 0.995556 -0.0009075 0.101025 0.299874 -0.0005375 C -0.0009075 -0.0981937 -1.094658 -0.996631 -1.19622 -1.594287 \" transform=\"matrix(1,0,0,-1,169.82122,85.61665)\"/>\n",
       "<path style=\"fill:none;stroke-width:0.3985;stroke-linecap:butt;stroke-linejoin:miter;stroke:rgb(100%,0%,0%);stroke-opacity:1;stroke-dasharray:2.98883,2.98883;stroke-miterlimit:10;\" d=\"M 106.30225 55.700813 L 106.30225 48.47425 \" transform=\"matrix(1,0,0,-1,63.979,141.318)\"/>\n",
       "<path style=\"fill:none;stroke-width:0.3985;stroke-linecap:butt;stroke-linejoin:miter;stroke:rgb(100%,0%,0%);stroke-opacity:1;stroke-miterlimit:10;\" d=\"M 106.30225 48.47425 L 23.419438 48.47425 \" transform=\"matrix(1,0,0,-1,63.979,141.318)\"/>\n",
       "<path style=\"fill:none;stroke-width:0.31879;stroke-linecap:round;stroke-linejoin:round;stroke:rgb(100%,0%,0%);stroke-opacity:1;stroke-miterlimit:10;\" d=\"M -1.19585 1.59249 C -1.094288 0.994834 -0.0005375 0.100302 0.300244 -0.00126 C -0.0005375 -0.0989163 -1.094288 -0.997354 -1.19585 -1.59501 \" transform=\"matrix(-1,0,0,1,87.3979,92.84501)\"/>\n",
       "<path style=\"fill:none;stroke-width:0.3985;stroke-linecap:butt;stroke-linejoin:miter;stroke:rgb(100%,0%,0%);stroke-opacity:1;stroke-dasharray:2.98883,2.98883;stroke-miterlimit:10;\" d=\"M 22.962406 48.47425 L 22.962406 42.095344 \" transform=\"matrix(1,0,0,-1,63.979,141.318)\"/>\n",
       "<path style=\"fill:none;stroke-width:0.3985;stroke-linecap:butt;stroke-linejoin:miter;stroke:rgb(100%,0%,0%);stroke-opacity:1;stroke-miterlimit:10;\" d=\"M 22.962406 42.095344 L 102.017094 42.095344 \" transform=\"matrix(1,0,0,-1,63.979,141.318)\"/>\n",
       "<path style=\"fill:none;stroke-width:0.31879;stroke-linecap:round;stroke-linejoin:round;stroke:rgb(100%,0%,0%);stroke-opacity:1;stroke-miterlimit:10;\" d=\"M -1.193799 1.593864 C -1.096142 0.996207 0.00151375 0.09777 0.298389 0.00011375 C 0.00151375 -0.101449 -1.096142 -0.99598 -1.193799 -1.593636 \" transform=\"matrix(1,0,0,-1,165.99458,99.22277)\"/>\n",
       "<path style=\"fill:none;stroke-width:0.3985;stroke-linecap:butt;stroke-linejoin:miter;stroke:rgb(100%,0%,0%);stroke-opacity:1;stroke-dasharray:2.98883,2.98883;stroke-miterlimit:10;\" d=\"M 102.474125 42.095344 L 102.474125 36.568 \" transform=\"matrix(1,0,0,-1,63.979,141.318)\"/>\n",
       "</g>\n",
       "</svg>"
      ],
      "text/plain": [
       "<IPython.core.display.SVG object>"
      ]
     },
     "metadata": {},
     "output_type": "display_data"
    }
   ],
   "source": [
    "display(SVG(\"images/chapter2_bouncy.svg\"))"
   ]
  },
  {
   "cell_type": "markdown",
   "metadata": {
    "id": "HTwAqkOeYipF"
   },
   "source": [
    "Lets build a model of how the speed changes over time."
   ]
  },
  {
   "cell_type": "code",
   "execution_count": null,
   "metadata": {
    "colab": {
     "base_uri": "https://localhost:8080/"
    },
    "executionInfo": {
     "elapsed": 7,
     "status": "ok",
     "timestamp": 1706713113229,
     "user": {
      "displayName": "Ioannis Petrousov",
      "userId": "16802625713842772964"
     },
     "user_tz": -60
    },
    "id": "HDmG_cLa5Raw",
    "outputId": "2a9f63d4-8f9a-476a-dd0b-7a9b30355bdf"
   },
   "outputs": [
    {
     "data": {
      "text/plain": [
       "tensor([ 0.,  1.,  2.,  3.,  4.,  5.,  6.,  7.,  8.,  9., 10., 11., 12., 13., 14., 15., 16., 17., 18., 19.])"
      ]
     },
     "execution_count": 219,
     "metadata": {},
     "output_type": "execute_result"
    }
   ],
   "source": [
    "time = torch.arange(0,20).float(); time"
   ]
  },
  {
   "cell_type": "markdown",
   "metadata": {
    "id": "hHEUL_SYYn3x"
   },
   "source": [
    "Random speed numbers over time.\n",
    "\n",
    "We randomly guess that the speed function is a quadratic one of the form `a*(time**2)+(b*time)+c`."
   ]
  },
  {
   "cell_type": "code",
   "execution_count": null,
   "metadata": {
    "colab": {
     "base_uri": "https://localhost:8080/",
     "height": 434
    },
    "executionInfo": {
     "elapsed": 303,
     "status": "ok",
     "timestamp": 1706713113527,
     "user": {
      "displayName": "Ioannis Petrousov",
      "userId": "16802625713842772964"
     },
     "user_tz": -60
    },
    "id": "VuW9G9O65Raw",
    "outputId": "72f1370e-68a0-499c-d1a1-3b644ba7f11f"
   },
   "outputs": [
    {
     "data": {
      "image/png": "[encoded data removed]",
      "text/plain": [
       "<Figure size 640x480 with 1 Axes>"
      ]
     },
     "metadata": {},
     "output_type": "display_data"
    }
   ],
   "source": [
    "speed = torch.randn(20)*3 + 0.75*(time-9.5)**2 + 1 # f(x)=ax^2+by+c\n",
    "plt.scatter(time,speed);"
   ]
  },
  {
   "cell_type": "markdown",
   "metadata": {
    "id": "YRFB-xx6ZYgd"
   },
   "source": [
    "We want to distinguish clearly between the function's input (the time when we are measuring the coaster's speed) and its parameters (the values that define which quadratic we're trying). So, let's collect the parameters in one argument and thus separate the input, t, and the parameters, params, in the function's signature:"
   ]
  },
  {
   "cell_type": "code",
   "execution_count": null,
   "metadata": {
    "id": "eQdsU8FJ5Raw"
   },
   "outputs": [],
   "source": [
    "# Define the speed function in python.\n",
    "def speed_function(t, params):\n",
    "    a,b,c = params\n",
    "    return a*(t**2) + (b*t) + c"
   ]
  },
  {
   "cell_type": "markdown",
   "metadata": {
    "id": "CEWXP5mdZscg"
   },
   "source": [
    "By picking the quadratic function above, we simplified our problem of finding the speed (of the rollercoaster) by finding the \"best\" values for `a`, `b` and `c` (which predict the speed).\n",
    "\n",
    "But, what do we mean by \"best\"? We define this by choosing a loss function which will return a value based on a prediction and a target."
   ]
  },
  {
   "cell_type": "code",
   "execution_count": null,
   "metadata": {
    "id": "HVG_avq25Raw"
   },
   "outputs": [],
   "source": [
    "def mse(preds, targets):\n",
    "  return ((preds-targets)**2).mean()"
   ]
  },
  {
   "cell_type": "markdown",
   "metadata": {
    "id": "Uu9W3M9XakSm"
   },
   "source": [
    "Let's work throught the 7 steps."
   ]
  },
  {
   "cell_type": "markdown",
   "metadata": {
    "id": "jcqDelEA5Raw"
   },
   "source": [
    "#### Step 1: Initialize the parameters"
   ]
  },
  {
   "cell_type": "code",
   "execution_count": null,
   "metadata": {
    "colab": {
     "base_uri": "https://localhost:8080/"
    },
    "executionInfo": {
     "elapsed": 7,
     "status": "ok",
     "timestamp": 1706713113527,
     "user": {
      "displayName": "Ioannis Petrousov",
      "userId": "16802625713842772964"
     },
     "user_tz": -60
    },
    "id": "rBSZmEXZ5Raw",
    "outputId": "952bcd58-53ac-45f2-fb4e-721d1f3e7d00"
   },
   "outputs": [
    {
     "data": {
      "text/plain": [
       "tensor([0.6930, 0.8300, 0.8325], requires_grad=True)"
      ]
     },
     "execution_count": 223,
     "metadata": {},
     "output_type": "execute_result"
    }
   ],
   "source": [
    "params = torch.randn(3).requires_grad_()\n",
    "params"
   ]
  },
  {
   "cell_type": "code",
   "execution_count": null,
   "metadata": {
    "id": "zkyiUpRk5Raw"
   },
   "outputs": [],
   "source": [
    "orig_params = params.clone()"
   ]
  },
  {
   "cell_type": "markdown",
   "metadata": {
    "id": "gjtM1LXK5Raw"
   },
   "source": [
    "#### Step 2: Calculate the predictions"
   ]
  },
  {
   "cell_type": "code",
   "execution_count": null,
   "metadata": {
    "id": "paZUtQFA5Raw"
   },
   "outputs": [],
   "source": [
    "# Let's create a function which illustrates our prediction compared to the targets\n",
    "def show_preds(preds, ax=None):\n",
    "    if ax is None: ax=plt.subplots()[1]\n",
    "    ax.scatter(time, speed)\n",
    "    ax.scatter(time, to_np(preds), color='red')\n",
    "    ax.set_ylim(-300,100)"
   ]
  },
  {
   "cell_type": "code",
   "execution_count": null,
   "metadata": {
    "id": "IdX3Nulu5Raw"
   },
   "outputs": [],
   "source": [
    "preds = speed_function(time, params)"
   ]
  },
  {
   "cell_type": "code",
   "execution_count": null,
   "metadata": {
    "colab": {
     "base_uri": "https://localhost:8080/",
     "height": 441
    },
    "executionInfo": {
     "elapsed": 736,
     "status": "ok",
     "timestamp": 1706713114260,
     "user": {
      "displayName": "Ioannis Petrousov",
      "userId": "16802625713842772964"
     },
     "user_tz": -60
    },
    "id": "0H3ba76C5Raw",
    "outputId": "6ee7e1ab-2d76-4023-943a-08b3724648d6"
   },
   "outputs": [
    {
     "data": {
      "image/png": "[encoded data removed]",
      "text/plain": [
       "<Figure size 640x480 with 1 Axes>"
      ]
     },
     "metadata": {},
     "output_type": "display_data"
    }
   ],
   "source": [
    "show_preds(preds)"
   ]
  },
  {
   "cell_type": "markdown",
   "metadata": {
    "id": "zT0O6cbgbNhD"
   },
   "source": [
    "We can see here, that our `predictions`(red) are not anywhere close to the real values of the speed (blue)."
   ]
  },
  {
   "cell_type": "markdown",
   "metadata": {
    "id": "QK1aBolo5Raw"
   },
   "source": [
    "#### Step 3: Calculate the loss"
   ]
  },
  {
   "cell_type": "code",
   "execution_count": null,
   "metadata": {
    "colab": {
     "base_uri": "https://localhost:8080/"
    },
    "executionInfo": {
     "elapsed": 14,
     "status": "ok",
     "timestamp": 1706713114260,
     "user": {
      "displayName": "Ioannis Petrousov",
      "userId": "16802625713842772964"
     },
     "user_tz": -60
    },
    "id": "6Wq01Ojz5Rax",
    "outputId": "289d9898-7efc-49fa-fccf-b3c9ce6ee441"
   },
   "outputs": [
    {
     "data": {
      "text/plain": [
       "tensor(11231.5703, grad_fn=<MeanBackward0>)"
      ]
     },
     "execution_count": 228,
     "metadata": {},
     "output_type": "execute_result"
    }
   ],
   "source": [
    "loss = mse(preds, speed)\n",
    "loss"
   ]
  },
  {
   "cell_type": "markdown",
   "metadata": {
    "id": "eEqZJopV5Rax"
   },
   "source": [
    "#### Step 4: Calculate the gradients"
   ]
  },
  {
   "cell_type": "markdown",
   "metadata": {
    "id": "GsS4Qa9nbmCw"
   },
   "source": [
    "We calculate the derivative of the function we are trying to optimize. In this case, this is the `loss` function.\n",
    "\n",
    "We calculate the gradients of the `loss` function on the `parameter` values."
   ]
  },
  {
   "cell_type": "code",
   "execution_count": null,
   "metadata": {
    "colab": {
     "base_uri": "https://localhost:8080/"
    },
    "executionInfo": {
     "elapsed": 12,
     "status": "ok",
     "timestamp": 1706713114260,
     "user": {
      "displayName": "Ioannis Petrousov",
      "userId": "16802625713842772964"
     },
     "user_tz": -60
    },
    "id": "DZEl9gJD5Rax",
    "outputId": "a23f299e-fa4d-4d20-ed5d-c709d5fc2eec"
   },
   "outputs": [
    {
     "data": {
      "text/plain": [
       "tensor([34525.8047,  2224.3140,   135.0935])"
      ]
     },
     "execution_count": 229,
     "metadata": {},
     "output_type": "execute_result"
    }
   ],
   "source": [
    "loss.backward()\n",
    "params.grad # This shows how much loss will change if we adjust the a, b and c parameters respectively"
   ]
  },
  {
   "cell_type": "code",
   "execution_count": null,
   "metadata": {
    "colab": {
     "base_uri": "https://localhost:8080/"
    },
    "executionInfo": {
     "elapsed": 10,
     "status": "ok",
     "timestamp": 1706713114260,
     "user": {
      "displayName": "Ioannis Petrousov",
      "userId": "16802625713842772964"
     },
     "user_tz": -60
    },
    "id": "nXyXTAZe5Rax",
    "outputId": "cc32dabe-b07e-4f3d-f952-8790e9e88524"
   },
   "outputs": [
    {
     "data": {
      "text/plain": [
       "tensor([0.3453, 0.0222, 0.0014])"
      ]
     },
     "execution_count": 230,
     "metadata": {},
     "output_type": "execute_result"
    }
   ],
   "source": [
    "params.grad * 1e-5 # We don't want to make big adjustments, as noted above, so we scale the gradients to smaller values."
   ]
  },
  {
   "cell_type": "code",
   "execution_count": null,
   "metadata": {
    "colab": {
     "base_uri": "https://localhost:8080/"
    },
    "executionInfo": {
     "elapsed": 7,
     "status": "ok",
     "timestamp": 1706713114260,
     "user": {
      "displayName": "Ioannis Petrousov",
      "userId": "16802625713842772964"
     },
     "user_tz": -60
    },
    "id": "a9sYVen35Rax",
    "outputId": "d7072d05-7912-4198-c092-88a9b67a90cd"
   },
   "outputs": [
    {
     "data": {
      "text/plain": [
       "tensor([0.6930, 0.8300, 0.8325], requires_grad=True)"
      ]
     },
     "execution_count": 231,
     "metadata": {},
     "output_type": "execute_result"
    }
   ],
   "source": [
    "params"
   ]
  },
  {
   "cell_type": "code",
   "execution_count": null,
   "metadata": {
    "colab": {
     "base_uri": "https://localhost:8080/"
    },
    "executionInfo": {
     "elapsed": 5,
     "status": "ok",
     "timestamp": 1706713114260,
     "user": {
      "displayName": "Ioannis Petrousov",
      "userId": "16802625713842772964"
     },
     "user_tz": -60
    },
    "id": "F_TA-zZ9dFpC",
    "outputId": "65f61b81-7801-41ce-d53b-cdb920af91f4"
   },
   "outputs": [
    {
     "data": {
      "text/plain": [
       "tensor([34525.8047,  2224.3140,   135.0935])"
      ]
     },
     "execution_count": 232,
     "metadata": {},
     "output_type": "execute_result"
    }
   ],
   "source": [
    "params.grad.data"
   ]
  },
  {
   "cell_type": "markdown",
   "metadata": {
    "id": "kWN0N-DZ5Rax"
   },
   "source": [
    "#### Step 5: Step the weights.\n",
    "\n",
    "We updated the parameters based on the gradients we just calculated."
   ]
  },
  {
   "cell_type": "code",
   "execution_count": null,
   "metadata": {
    "id": "_oa441YG5Rax"
   },
   "outputs": [],
   "source": [
    "lr = 1e-5\n",
    "params.data -= lr * params.grad.data\n",
    "params.grad = None # This is the important bit, we need to reset the gradients on the parameters"
   ]
  },
  {
   "cell_type": "code",
   "execution_count": null,
   "metadata": {
    "colab": {
     "base_uri": "https://localhost:8080/"
    },
    "executionInfo": {
     "elapsed": 4,
     "status": "ok",
     "timestamp": 1706713114261,
     "user": {
      "displayName": "Ioannis Petrousov",
      "userId": "16802625713842772964"
     },
     "user_tz": -60
    },
    "id": "5N4-fefq5Rax",
    "outputId": "7dacdbe2-486c-46fe-c5d3-aadfd7fc933a"
   },
   "outputs": [
    {
     "data": {
      "text/plain": [
       "tensor(2643.0776, grad_fn=<MeanBackward0>)"
      ]
     },
     "execution_count": 234,
     "metadata": {},
     "output_type": "execute_result"
    }
   ],
   "source": [
    "preds = speed_function(time,params)\n",
    "mse(preds, speed)"
   ]
  },
  {
   "cell_type": "code",
   "execution_count": null,
   "metadata": {
    "colab": {
     "base_uri": "https://localhost:8080/",
     "height": 441
    },
    "executionInfo": {
     "elapsed": 528,
     "status": "ok",
     "timestamp": 1706713114786,
     "user": {
      "displayName": "Ioannis Petrousov",
      "userId": "16802625713842772964"
     },
     "user_tz": -60
    },
    "id": "W5KjaB3D5Rax",
    "outputId": "225b854f-b7e7-4c3d-aa03-874dc7d9b911"
   },
   "outputs": [
    {
     "data": {
      "image/png": "[encoded data removed]",
      "text/plain": [
       "<Figure size 640x480 with 1 Axes>"
      ]
     },
     "metadata": {},
     "output_type": "display_data"
    }
   ],
   "source": [
    "show_preds(preds)"
   ]
  },
  {
   "cell_type": "markdown",
   "metadata": {
    "id": "80Ig4pwyeKtR"
   },
   "source": [
    "We can see that the origina `loss` has decreased.\n",
    "\n",
    "We are going to create a function to apply a single step."
   ]
  },
  {
   "cell_type": "code",
   "execution_count": null,
   "metadata": {
    "id": "mfestbuk5Rax"
   },
   "outputs": [],
   "source": [
    "def apply_step(params, prn=True):\n",
    "    preds = speed_function(time, params)\n",
    "    loss = mse(preds, speed)\n",
    "    loss.backward()\n",
    "    params.data -= lr * params.grad.data\n",
    "    params.grad = None\n",
    "    if prn: print(loss.item())\n",
    "    return preds"
   ]
  },
  {
   "cell_type": "markdown",
   "metadata": {
    "id": "bKWnDIUs5Rax"
   },
   "source": [
    "#### Step 6: Repeat the process"
   ]
  },
  {
   "cell_type": "code",
   "execution_count": null,
   "metadata": {
    "colab": {
     "base_uri": "https://localhost:8080/"
    },
    "executionInfo": {
     "elapsed": 4,
     "status": "ok",
     "timestamp": 1706713114786,
     "user": {
      "displayName": "Ioannis Petrousov",
      "userId": "16802625713842772964"
     },
     "user_tz": -60
    },
    "id": "gYWsLAaJ5Rax",
    "outputId": "264eb4cb-fa9d-4c3f-f188-7d6b5379f009"
   },
   "outputs": [
    {
     "name": "stdout",
     "output_type": "stream",
     "text": [
      "2643.07763671875\n",
      "1017.8688354492188\n",
      "710.3269653320312\n",
      "652.127685546875\n",
      "641.1117553710938\n",
      "639.0242919921875\n",
      "638.6265869140625\n",
      "638.5484619140625\n",
      "638.5308837890625\n",
      "638.524658203125\n",
      "638.5206909179688\n",
      "638.5171508789062\n",
      "638.513671875\n",
      "638.5101928710938\n",
      "638.5067138671875\n",
      "638.5032348632812\n",
      "638.4996337890625\n",
      "638.4962158203125\n",
      "638.49267578125\n",
      "638.4892578125\n"
     ]
    }
   ],
   "source": [
    "for i in range(20):\n",
    "  apply_step(params)"
   ]
  },
  {
   "cell_type": "code",
   "execution_count": null,
   "metadata": {
    "id": "7TjPtxia5Rax"
   },
   "outputs": [],
   "source": [
    "params = orig_params.detach().requires_grad_() # IDK"
   ]
  },
  {
   "cell_type": "markdown",
   "metadata": {
    "id": "4fH4lPJjfJTc"
   },
   "source": [
    "We plot to show how the `predictions` approach the actual values."
   ]
  },
  {
   "cell_type": "code",
   "execution_count": null,
   "metadata": {
    "colab": {
     "base_uri": "https://localhost:8080/",
     "height": 300
    },
    "executionInfo": {
     "elapsed": 1099,
     "status": "ok",
     "timestamp": 1706713115883,
     "user": {
      "displayName": "Ioannis Petrousov",
      "userId": "16802625713842772964"
     },
     "user_tz": -60
    },
    "id": "GAzslcr-5Ray",
    "outputId": "b40c9b42-af91-4a79-ec15-45218554cb2c"
   },
   "outputs": [
    {
     "data": {
      "image/png": "[encoded data removed]",
      "text/plain": [
       "<Figure size 1200x300 with 4 Axes>"
      ]
     },
     "metadata": {},
     "output_type": "display_data"
    }
   ],
   "source": [
    "_,axs = plt.subplots(1,4,figsize=(12,3))\n",
    "for ax in axs: show_preds(apply_step(params, False), ax)\n",
    "plt.tight_layout()"
   ]
  },
  {
   "cell_type": "markdown",
   "metadata": {
    "id": "QFnwB2Fu5Ray"
   },
   "source": [
    "#### Step 7: stop"
   ]
  },
  {
   "cell_type": "markdown",
   "metadata": {
    "id": "RwCr8o2p5Ray"
   },
   "source": [
    "### Summarizing Gradient Descent"
   ]
  },
  {
   "cell_type": "code",
   "execution_count": null,
   "metadata": {
    "colab": {
     "base_uri": "https://localhost:8080/",
     "height": 125
    },
    "executionInfo": {
     "elapsed": 4,
     "status": "ok",
     "timestamp": 1706713115883,
     "user": {
      "displayName": "Ioannis Petrousov",
      "userId": "16802625713842772964"
     },
     "user_tz": -60
    },
    "id": "1OCkDjfA5Ray",
    "outputId": "0b2c0530-feb0-4219-eb7a-223abef532b6"
   },
   "outputs": [
    {
     "data": {
      "image/svg+xml": [
       "<?xml version=\"1.0\" encoding=\"UTF-8\" standalone=\"no\"?>\n",
       "<!DOCTYPE svg PUBLIC \"-//W3C//DTD SVG 1.1//EN\"\n",
       " \"http://www.w3.org/Graphics/SVG/1.1/DTD/svg11.dtd\">\n",
       "<!-- Generated by graphviz version 2.43.0 (0)\n",
       " -->\n",
       "<!-- Title: G Pages: 1 -->\n",
       "<svg width=\"591pt\" height=\"78pt\"\n",
       " viewBox=\"0.00 0.00 591.49 78.00\" xmlns=\"http://www.w3.org/2000/svg\" xmlns:xlink=\"http://www.w3.org/1999/xlink\">\n",
       "<g id=\"graph0\" class=\"graph\" transform=\"scale(1 1) rotate(0) translate(4 74)\">\n",
       "<title>G</title>\n",
       "<polygon fill=\"white\" stroke=\"transparent\" points=\"-4,4 -4,-74 587.49,-74 587.49,4 -4,4\"/>\n",
       "<!-- init -->\n",
       "<g id=\"node1\" class=\"node\">\n",
       "<title>init</title>\n",
       "<ellipse fill=\"none\" stroke=\"black\" cx=\"27\" cy=\"-18\" rx=\"27\" ry=\"18\"/>\n",
       "<text text-anchor=\"middle\" x=\"27\" y=\"-14.3\" font-family=\"Times,serif\" font-size=\"14.00\">init</text>\n",
       "</g>\n",
       "<!-- predict -->\n",
       "<g id=\"node2\" class=\"node\">\n",
       "<title>predict</title>\n",
       "<ellipse fill=\"none\" stroke=\"black\" cx=\"126.1\" cy=\"-18\" rx=\"35.19\" ry=\"18\"/>\n",
       "<text text-anchor=\"middle\" x=\"126.1\" y=\"-14.3\" font-family=\"Times,serif\" font-size=\"14.00\">predict</text>\n",
       "</g>\n",
       "<!-- init&#45;&gt;predict -->\n",
       "<g id=\"edge1\" class=\"edge\">\n",
       "<title>init&#45;&gt;predict</title>\n",
       "<path fill=\"none\" stroke=\"black\" d=\"M54.02,-18C62.26,-18 71.62,-18 80.78,-18\"/>\n",
       "<polygon fill=\"black\" stroke=\"black\" points=\"80.96,-21.5 90.96,-18 80.96,-14.5 80.96,-21.5\"/>\n",
       "</g>\n",
       "<!-- loss -->\n",
       "<g id=\"node3\" class=\"node\">\n",
       "<title>loss</title>\n",
       "<ellipse fill=\"none\" stroke=\"black\" cx=\"225.19\" cy=\"-52\" rx=\"27\" ry=\"18\"/>\n",
       "<text text-anchor=\"middle\" x=\"225.19\" y=\"-48.3\" font-family=\"Times,serif\" font-size=\"14.00\">loss</text>\n",
       "</g>\n",
       "<!-- predict&#45;&gt;loss -->\n",
       "<g id=\"edge2\" class=\"edge\">\n",
       "<title>predict&#45;&gt;loss</title>\n",
       "<path fill=\"none\" stroke=\"black\" d=\"M155.44,-27.93C166.61,-31.84 179.52,-36.36 191.11,-40.42\"/>\n",
       "<polygon fill=\"black\" stroke=\"black\" points=\"190.29,-43.84 200.88,-43.84 192.6,-37.23 190.29,-43.84\"/>\n",
       "</g>\n",
       "<!-- gradient -->\n",
       "<g id=\"node4\" class=\"node\">\n",
       "<title>gradient</title>\n",
       "<ellipse fill=\"none\" stroke=\"black\" cx=\"361.84\" cy=\"-52\" rx=\"39.79\" ry=\"18\"/>\n",
       "<text text-anchor=\"middle\" x=\"361.84\" y=\"-48.3\" font-family=\"Times,serif\" font-size=\"14.00\">gradient</text>\n",
       "</g>\n",
       "<!-- loss&#45;&gt;gradient -->\n",
       "<g id=\"edge3\" class=\"edge\">\n",
       "<title>loss&#45;&gt;gradient</title>\n",
       "<path fill=\"none\" stroke=\"black\" d=\"M252.47,-52C269.35,-52 291.8,-52 311.88,-52\"/>\n",
       "<polygon fill=\"black\" stroke=\"black\" points=\"312.13,-55.5 322.13,-52 312.13,-48.5 312.13,-55.5\"/>\n",
       "</g>\n",
       "<!-- step -->\n",
       "<g id=\"node5\" class=\"node\">\n",
       "<title>step</title>\n",
       "<ellipse fill=\"none\" stroke=\"black\" cx=\"465.49\" cy=\"-18\" rx=\"27\" ry=\"18\"/>\n",
       "<text text-anchor=\"middle\" x=\"465.49\" y=\"-14.3\" font-family=\"Times,serif\" font-size=\"14.00\">step</text>\n",
       "</g>\n",
       "<!-- gradient&#45;&gt;step -->\n",
       "<g id=\"edge4\" class=\"edge\">\n",
       "<title>gradient&#45;&gt;step</title>\n",
       "<path fill=\"none\" stroke=\"black\" d=\"M394.17,-41.52C405.92,-37.59 419.32,-33.11 431.25,-29.12\"/>\n",
       "<polygon fill=\"black\" stroke=\"black\" points=\"432.48,-32.4 440.85,-25.91 430.26,-25.76 432.48,-32.4\"/>\n",
       "</g>\n",
       "<!-- step&#45;&gt;predict -->\n",
       "<g id=\"edge6\" class=\"edge\">\n",
       "<title>step&#45;&gt;predict</title>\n",
       "<path fill=\"none\" stroke=\"black\" d=\"M438.29,-18C380.72,-18 242.6,-18 171.32,-18\"/>\n",
       "<polygon fill=\"black\" stroke=\"black\" points=\"171.3,-14.5 161.3,-18 171.3,-21.5 171.3,-14.5\"/>\n",
       "<text text-anchor=\"middle\" x=\"287.19\" y=\"-21.8\" font-family=\"Times,serif\" font-size=\"14.00\">repeat</text>\n",
       "</g>\n",
       "<!-- stop -->\n",
       "<g id=\"node6\" class=\"node\">\n",
       "<title>stop</title>\n",
       "<ellipse fill=\"none\" stroke=\"black\" cx=\"556.49\" cy=\"-18\" rx=\"27\" ry=\"18\"/>\n",
       "<text text-anchor=\"middle\" x=\"556.49\" y=\"-14.3\" font-family=\"Times,serif\" font-size=\"14.00\">stop</text>\n",
       "</g>\n",
       "<!-- step&#45;&gt;stop -->\n",
       "<g id=\"edge5\" class=\"edge\">\n",
       "<title>step&#45;&gt;stop</title>\n",
       "<path fill=\"none\" stroke=\"black\" d=\"M492.71,-18C501.04,-18 510.4,-18 519.3,-18\"/>\n",
       "<polygon fill=\"black\" stroke=\"black\" points=\"519.45,-21.5 529.45,-18 519.45,-14.5 519.45,-21.5\"/>\n",
       "</g>\n",
       "</g>\n",
       "</svg>\n"
      ],
      "text/plain": [
       "<graphviz.sources.Source at 0x7b97ecd222f0>"
      ]
     },
     "execution_count": 240,
     "metadata": {},
     "output_type": "execute_result"
    }
   ],
   "source": [
    "gv('''\n",
    "init->predict->loss->gradient->step->stop\n",
    "step->predict[label=repeat]\n",
    "''')"
   ]
  },
  {
   "cell_type": "markdown",
   "metadata": {
    "id": "-ZfZD-Ouh1Zq"
   },
   "source": [
    "The same process, as above, can also be applied to transfer learning. In this case, the parameters come from a pretrained model.\n",
    "\n",
    "All of that we just saw can be transposed directly to the MNIST dataset, except for the loss function. Let's now see how we can define a good training objective."
   ]
  },
  {
   "cell_type": "markdown",
   "metadata": {
    "id": "Oi5tdbdA5Ray"
   },
   "source": [
    "## The MNIST Loss Function\n",
    "\n",
    "We already have our independent variables `x` —these are the images themselves.\n",
    "\n",
    "We concatenate them all into a single tensor, and also change them from a list of matrices (a rank-3 tensor) to a list of vectors (a rank-2 tensor).\n",
    "\n",
    "We can do this using view, which is a PyTorch method that changes the shape of a tensor without changing its contents.\n",
    "\n",
    "`-1` is a special parameter to view that means \"make this axis as big as necessary to fit all the data\":"
   ]
  },
  {
   "cell_type": "code",
   "execution_count": null,
   "metadata": {
    "id": "zH-phtSj5Ray"
   },
   "outputs": [],
   "source": [
    "train_x = torch.cat([stacked_threes, stacked_sevens]).view(-1, 28*28) # docs: https://pytorch.org/docs/stable/generated/torch.Tensor.view.html#torch.Tensor.view"
   ]
  },
  {
   "cell_type": "markdown",
   "metadata": {
    "id": "6FZ09SEXjUgO"
   },
   "source": [
    "We need a label for each image. We'll use `1` for 3s and `0` for 7s:"
   ]
  },
  {
   "cell_type": "code",
   "execution_count": null,
   "metadata": {
    "colab": {
     "base_uri": "https://localhost:8080/"
    },
    "executionInfo": {
     "elapsed": 20,
     "status": "ok",
     "timestamp": 1706713116267,
     "user": {
      "displayName": "Ioannis Petrousov",
      "userId": "16802625713842772964"
     },
     "user_tz": -60
    },
    "id": "FpO4IDNd5Ray",
    "outputId": "df89f52e-1243-4b59-b129-7175d3175541"
   },
   "outputs": [
    {
     "data": {
      "text/plain": [
       "(torch.Size([12396, 784]), torch.Size([12396, 1]))"
      ]
     },
     "execution_count": 242,
     "metadata": {},
     "output_type": "execute_result"
    }
   ],
   "source": [
    "train_y = tensor([1]*len(threes) + [0]*len(sevens)).unsqueeze(1) # docs: https://pytorch.org/docs/stable/generated/torch.unsqueeze.html#torch-unsqueeze\n",
    "train_x.shape,train_y.shape"
   ]
  },
  {
   "cell_type": "code",
   "execution_count": null,
   "metadata": {
    "id": "3K7Cm8lr5Ray"
   },
   "outputs": [],
   "source": [
    "# valid_3_tensors are the validation images, we could also stack them and do the same as with stacked_threes\n",
    "valid_x = torch.cat([valid_3_tensors, valid_7_tensors]).view(-1, 28*28)\n",
    "valid_y = tensor([1]*len(valid_3_tensors) + [0]*len(valid_7_tensors)).unsqueeze(1)\n",
    "valid_dset = list(zip(valid_x, valid_y))"
   ]
  },
  {
   "cell_type": "code",
   "execution_count": null,
   "metadata": {
    "id": "P8w3mY7d5Ray"
   },
   "outputs": [],
   "source": [
    "# Initialize random parameters\n",
    "def init_params(size, std=1.0):\n",
    "  \"\"\" Return a set of random parameter \"\"\"\n",
    "  return (torch.randn(size)*std).requires_grad_()"
   ]
  },
  {
   "cell_type": "code",
   "execution_count": null,
   "metadata": {
    "id": "1YUOT_Zm5Ray"
   },
   "outputs": [],
   "source": [
    "weights = init_params((28*28,1))"
   ]
  },
  {
   "cell_type": "code",
   "execution_count": null,
   "metadata": {
    "id": "8SZDU3Sv5Ray"
   },
   "outputs": [],
   "source": [
    "bias = init_params(1)"
   ]
  },
  {
   "cell_type": "markdown",
   "metadata": {
    "id": "SJvD18E3nbMl"
   },
   "source": [
    "The function `weights*pixels` won't be flexible enough—it is always equal to `0` when the pixels are equal to `0`. So, we add a random `bias` to compensate for that.\n",
    "\n",
    "In neural networks, the `w` in the equation `y=w*x+b` is called the `weights`, and the `b` is called the `bias`. **Together, the weights and bias make up the parameters.**"
   ]
  },
  {
   "cell_type": "code",
   "execution_count": null,
   "metadata": {
    "colab": {
     "base_uri": "https://localhost:8080/"
    },
    "executionInfo": {
     "elapsed": 20,
     "status": "ok",
     "timestamp": 1706713116268,
     "user": {
      "displayName": "Ioannis Petrousov",
      "userId": "16802625713842772964"
     },
     "user_tz": -60
    },
    "id": "AfQed52inDDQ",
    "outputId": "ec69b10d-757a-47f3-e037-a39a87d9e95d"
   },
   "outputs": [
    {
     "data": {
      "text/plain": [
       "(tensor([[-0.0744],\n",
       "         [ 1.6374],\n",
       "         [ 0.4509],\n",
       "         [ 0.1214],\n",
       "         [-0.8981],\n",
       "         [-1.9608],\n",
       "         [-0.7001],\n",
       "         [ 0.9125],\n",
       "         [ 2.9114],\n",
       "         [-1.5774]], grad_fn=<SliceBackward0>),\n",
       " tensor([-1.7600], requires_grad=True))"
      ]
     },
     "execution_count": 247,
     "metadata": {},
     "output_type": "execute_result"
    }
   ],
   "source": [
    "weights[0:10], bias"
   ]
  },
  {
   "cell_type": "code",
   "execution_count": null,
   "metadata": {
    "colab": {
     "base_uri": "https://localhost:8080/"
    },
    "executionInfo": {
     "elapsed": 18,
     "status": "ok",
     "timestamp": 1706713116268,
     "user": {
      "displayName": "Ioannis Petrousov",
      "userId": "16802625713842772964"
     },
     "user_tz": -60
    },
    "id": "_STYDXmm5Ray",
    "outputId": "159ee0ef-32ea-4695-a326-a6217293abfc"
   },
   "outputs": [
    {
     "data": {
      "text/plain": [
       "tensor([4.6791], grad_fn=<AddBackward0>)"
      ]
     },
     "execution_count": 248,
     "metadata": {},
     "output_type": "execute_result"
    }
   ],
   "source": [
    "# Calculate the prediction for an image\n",
    "(train_x[10]*weights.T).sum() + bias # y=w*x+b"
   ]
  },
  {
   "cell_type": "markdown",
   "metadata": {
    "id": "wa8WvzCAoGVr"
   },
   "source": [
    "We could use a `for` loop to calculate the predictions for each image. However, that would've been slow because **python's `for loop` are slow. Thus we use the matrix multiplication operator -`@`.**"
   ]
  },
  {
   "cell_type": "code",
   "execution_count": null,
   "metadata": {
    "colab": {
     "base_uri": "https://localhost:8080/",
     "height": 315
    },
    "executionInfo": {
     "elapsed": 17,
     "status": "ok",
     "timestamp": 1706713116268,
     "user": {
      "displayName": "Ioannis Petrousov",
      "userId": "16802625713842772964"
     },
     "user_tz": -60
    },
    "id": "vIVF3XT6oZTF",
    "outputId": "9af115a8-2434-4dec-fe93-67ac584c09b3"
   },
   "outputs": [
    {
     "data": {
      "image/svg+xml": [
       "<svg xmlns:dc=\"http://purl.org/dc/elements/1.1/\" xmlns:cc=\"http://creativecommons.org/ns#\" xmlns:rdf=\"http://www.w3.org/1999/02/22-rdf-syntax-ns#\" xmlns:svg=\"http://www.w3.org/2000/svg\" xmlns=\"http://www.w3.org/2000/svg\" xmlns:sodipodi=\"http://sodipodi.sourceforge.net/DTD/sodipodi-0.dtd\" xmlns:inkscape=\"http://www.inkscape.org/namespaces/inkscape\" width=\"250pt\" height=\"220pt\" id=\"svg2\" sodipodi:version=\"0.32\" inkscape:version=\"0.45+devel\" sodipodi:docbase=\"/home/sphinx/images/wikipedia\" sodipodi:docname=\"Matrix_multiplication_diagram_2.svg\" version=\"1.0\" inkscape:output_extension=\"org.inkscape.output.svg.inkscape\">\n",
       "  <sodipodi:namedview id=\"base\" pagecolor=\"#ffffff\" bordercolor=\"#666666\" borderopacity=\"1.0\" inkscape:pageopacity=\"0.0\" inkscape:pageshadow=\"2\" inkscape:zoom=\"3.5490909\" inkscape:cx=\"156.25\" inkscape:cy=\"193.85246\" inkscape:document-units=\"px\" inkscape:current-layer=\"g7545\" showgrid=\"false\" inkscape:window-width=\"1280\" inkscape:window-height=\"701\" inkscape:window-x=\"0\" inkscape:window-y=\"0\" inkscape:grid-bbox=\"false\" inkscape:object-bbox=\"false\" inkscape:object-paths=\"false\" inkscape:object-nodes=\"false\" inkscape:guide-bbox=\"false\"/>\n",
       "  <defs id=\"defs4\">\n",
       "    <inkscape:perspective sodipodi:type=\"inkscape:persp3d\" id=\"perspective2667\" inkscape:vp_x=\"-50 : 600 : 1\" inkscape:vp_y=\"0 : 1000 : 0\" inkscape:vp_z=\"700 : 600 : 1\" inkscape:persp3d-origin=\"300 : 400 : 1\"/>\n",
       "    <inkscape:perspective sodipodi:type=\"inkscape:persp3d\" id=\"perspective2635\" inkscape:vp_x=\"-50 : 600 : 1\" inkscape:vp_y=\"0 : 1000 : 0\" inkscape:vp_z=\"700 : 600 : 1\" inkscape:persp3d-origin=\"300 : 400 : 1\"/>\n",
       "    <inkscape:perspective sodipodi:type=\"inkscape:persp3d\" id=\"perspective2619\" inkscape:vp_x=\"-50 : 600 : 1\" inkscape:vp_y=\"0 : 1000 : 0\" inkscape:vp_z=\"700 : 600 : 1\" inkscape:persp3d-origin=\"300 : 400 : 1\"/>\n",
       "    <inkscape:perspective sodipodi:type=\"inkscape:persp3d\" id=\"perspective2617\" inkscape:vp_x=\"-50 : 600 : 1\" inkscape:vp_y=\"0 : 1000 : 0\" inkscape:vp_z=\"700 : 600 : 1\" inkscape:persp3d-origin=\"300 : 400 : 1\"/>\n",
       "    <inkscape:perspective sodipodi:type=\"inkscape:persp3d\" id=\"perspective2607\" inkscape:vp_x=\"-50 : 600 : 1\" inkscape:vp_y=\"0 : 1000 : 0\" inkscape:vp_z=\"700 : 600 : 1\" inkscape:persp3d-origin=\"300 : 400 : 1\"/>\n",
       "    <inkscape:perspective sodipodi:type=\"inkscape:persp3d\" id=\"perspective2605\" inkscape:vp_x=\"-50 : 600 : 1\" inkscape:vp_y=\"0 : 1000 : 0\" inkscape:vp_z=\"700 : 600 : 1\" inkscape:persp3d-origin=\"300 : 400 : 1\"/>\n",
       "    <inkscape:perspective sodipodi:type=\"inkscape:persp3d\" id=\"perspective2603\" inkscape:vp_x=\"-50 : 600 : 1\" inkscape:vp_y=\"0 : 1000 : 0\" inkscape:vp_z=\"700 : 600 : 1\" inkscape:persp3d-origin=\"300 : 400 : 1\"/>\n",
       "    <inkscape:perspective sodipodi:type=\"inkscape:persp3d\" id=\"perspective2601\" inkscape:vp_x=\"-50 : 600 : 1\" inkscape:vp_y=\"0 : 1000 : 0\" inkscape:vp_z=\"700 : 600 : 1\" inkscape:persp3d-origin=\"300 : 400 : 1\"/>\n",
       "    <inkscape:perspective sodipodi:type=\"inkscape:persp3d\" id=\"perspective2557\" inkscape:vp_x=\"-50 : 600 : 1\" inkscape:vp_y=\"0 : 1000 : 0\" inkscape:vp_z=\"700 : 600 : 1\" inkscape:persp3d-origin=\"300 : 400 : 1\"/>\n",
       "    <inkscape:perspective sodipodi:type=\"inkscape:persp3d\" id=\"perspective2556\" inkscape:vp_x=\"-50 : 600 : 1\" inkscape:vp_y=\"0 : 1000 : 0\" inkscape:vp_z=\"700 : 600 : 1\" inkscape:persp3d-origin=\"300 : 400 : 1\"/>\n",
       "    <inkscape:perspective sodipodi:type=\"inkscape:persp3d\" id=\"perspective2555\" inkscape:vp_x=\"-50 : 600 : 1\" inkscape:vp_y=\"0 : 1000 : 0\" inkscape:vp_z=\"700 : 600 : 1\" inkscape:persp3d-origin=\"300 : 400 : 1\"/>\n",
       "    <inkscape:perspective sodipodi:type=\"inkscape:persp3d\" id=\"perspective2545\" inkscape:vp_x=\"-50 : 600 : 1\" inkscape:vp_y=\"0 : 1000 : 0\" inkscape:vp_z=\"700 : 600 : 1\" inkscape:persp3d-origin=\"300 : 400 : 1\"/>\n",
       "    <marker style=\"overflow:visible\" orient=\"auto\" id=\"Arrow1Mstart\" refY=\"0.0\" inkscape:stockid=\"Arrow1Mstart\" refX=\"0.0\">\n",
       "      <path style=\"fill-rule:evenodd;stroke:#000000;stroke-width:1.0pt;marker-start:none\" transform=\"scale(0.4) translate(10)\" id=\"path3275\" d=\"M 0.0,0.0 L 5.0,-5.0 L -12.5,0.0 L 5.0,5.0 L 0.0,0.0 z \"/>\n",
       "    </marker>\n",
       "    <marker style=\"overflow:visible;\" orient=\"auto\" id=\"Arrow1Mend\" refY=\"0.0\" inkscape:stockid=\"Arrow1Mend\" refX=\"0.0\">\n",
       "      <path style=\"fill-rule:evenodd;stroke:#000000;stroke-width:1.0pt;marker-start:none;\" transform=\"scale(0.4) rotate(180) translate(10)\" id=\"path3278\" d=\"M 0.0,0.0 L 5.0,-5.0 L -12.5,0.0 L 5.0,5.0 L 0.0,0.0 z \"/>\n",
       "    </marker>\n",
       "    <marker style=\"overflow:visible;\" orient=\"auto\" id=\"Arrow2Send\" refY=\"0.0\" inkscape:stockid=\"Arrow2Send\" refX=\"0.0\">\n",
       "      <path style=\"font-size:12.0;fill-rule:evenodd;stroke-width:0.62500000;stroke-linejoin:round;\" transform=\"scale(0.3) rotate(180) translate(-2.3)\" id=\"path4318\" d=\"M 8.7185878,4.0337352 L -2.2072895,0.016013256 L 8.7185884,-4.0017078 C 6.9730900,-1.6296469 6.9831476,1.6157441 8.7185878,4.0337352 z \"/>\n",
       "    </marker>\n",
       "    <marker style=\"overflow:visible;\" orient=\"auto\" id=\"Arrow1Send\" refY=\"0.0\" inkscape:stockid=\"Arrow1Send\" refX=\"0.0\">\n",
       "      <path style=\"fill-rule:evenodd;stroke:#000000;stroke-width:1.0pt;marker-start:none;\" transform=\"scale(0.2) rotate(180) translate(6)\" id=\"path4300\" d=\"M 0.0,0.0 L 5.0,-5.0 L -12.5,0.0 L 5.0,5.0 L 0.0,0.0 z \"/>\n",
       "    </marker>\n",
       "    <marker style=\"overflow:visible;\" orient=\"auto\" id=\"Arrow1Lend\" refY=\"0.0\" inkscape:stockid=\"Arrow1Lend\" refX=\"0.0\">\n",
       "      <path style=\"fill-rule:evenodd;stroke:#000000;stroke-width:1.0pt;marker-start:none;\" transform=\"scale(0.8) rotate(180) translate(12.5)\" id=\"path4288\" d=\"M 0.0,0.0 L 5.0,-5.0 L -12.5,0.0 L 5.0,5.0 L 0.0,0.0 z \"/>\n",
       "    </marker>\n",
       "    <marker style=\"overflow:visible;\" orient=\"auto\" id=\"Arrow2Lend\" refY=\"0.0\" inkscape:stockid=\"Arrow2Lend\" refX=\"0.0\">\n",
       "      <path style=\"font-size:12.0;fill-rule:evenodd;stroke-width:0.62500000;stroke-linejoin:round;\" transform=\"scale(1.1) rotate(180) translate(1)\" id=\"path4306\" d=\"M 8.7185878,4.0337352 L -2.2072895,0.016013256 L 8.7185884,-4.0017078 C 6.9730900,-1.6296469 6.9831476,1.6157441 8.7185878,4.0337352 z \"/>\n",
       "    </marker>\n",
       "  </defs>\n",
       "  <metadata id=\"metadata7\">\n",
       "    <rdf:RDF>\n",
       "      <cc:Work rdf:about=\"\">\n",
       "        <dc:format>image/svg+xml</dc:format>\n",
       "        <dc:type rdf:resource=\"http://purl.org/dc/dcmitype/StillImage\"/>\n",
       "        <dc:title>Matrix multiplication diagram</dc:title>\n",
       "        <cc:license rdf:resource=\"http://creativecommons.org/licenses/by-sa/2.5/\"/>\n",
       "        <dc:date>2007-08-11</dc:date>\n",
       "        <dc:subject>\n",
       "          <rdf:Bag>\n",
       "            <rdf:li>mathematics</rdf:li>\n",
       "            <rdf:li>matrix</rdf:li>\n",
       "            <rdf:li>mutliplication</rdf:li>\n",
       "          </rdf:Bag>\n",
       "        </dc:subject>\n",
       "        <dc:creator>\n",
       "          <cc:Agent>\n",
       "            <dc:title/>\n",
       "          </cc:Agent>\n",
       "        </dc:creator>\n",
       "        <dc:rights>\n",
       "          <cc:Agent>\n",
       "            <dc:title/>\n",
       "          </cc:Agent>\n",
       "        </dc:rights>\n",
       "        <dc:publisher>\n",
       "          <cc:Agent>\n",
       "            <dc:title/>\n",
       "          </cc:Agent>\n",
       "        </dc:publisher>\n",
       "        <dc:identifier/>\n",
       "        <dc:source/>\n",
       "        <dc:relation/>\n",
       "        <dc:language/>\n",
       "        <dc:coverage/>\n",
       "        <dc:description/>\n",
       "        <dc:contributor>\n",
       "          <cc:Agent>\n",
       "            <dc:title/>\n",
       "          </cc:Agent>\n",
       "        </dc:contributor>\n",
       "      </cc:Work>\n",
       "      <cc:License rdf:about=\"http://creativecommons.org/licenses/by-sa/2.5/\">\n",
       "        <cc:permits rdf:resource=\"http://web.resource.org/cc/Reproduction\"/>\n",
       "        <cc:permits rdf:resource=\"http://web.resource.org/cc/Distribution\"/>\n",
       "        <cc:requires rdf:resource=\"http://web.resource.org/cc/Notice\"/>\n",
       "        <cc:requires rdf:resource=\"http://web.resource.org/cc/Attribution\"/>\n",
       "        <cc:permits rdf:resource=\"http://web.resource.org/cc/DerivativeWorks\"/>\n",
       "        <cc:requires rdf:resource=\"http://web.resource.org/cc/ShareAlike\"/>\n",
       "      </cc:License>\n",
       "    </rdf:RDF>\n",
       "  </metadata>\n",
       "  <g inkscape:label=\"Calque 1\" style=\"display:inline\" id=\"layer1\" inkscape:groupmode=\"layer\">\n",
       "    <text style=\"font-size:31.54535294px;font-style:normal;font-variant:normal;font-weight:normal;font-stretch:normal;text-align:start;line-height:125%;writing-mode:lr-tb;text-anchor:start;fill:#000000;fill-opacity:1;stroke:none;stroke-width:1px;stroke-linecap:butt;stroke-linejoin:miter;stroke-opacity:1;font-family:Bitstream Vera Sans\" id=\"text1400\" sodipodi:linespacing=\"125%\" y=\"207.9886\" x=\"2.7350435\" xml:space=\"preserve\" transform=\"scale(1.04324, 0.958555)\"><tspan sodipodi:role=\"line\" id=\"tspan1402\" y=\"207.9886\" x=\"2.7350435\">A</tspan></text>\n",
       "    <text style=\"font-size:31.54535294px;font-style:normal;font-variant:normal;font-weight:normal;font-stretch:normal;text-align:start;line-height:125%;writing-mode:lr-tb;text-anchor:start;fill:#000000;fill-opacity:1;stroke:none;stroke-width:1px;stroke-linecap:butt;stroke-linejoin:miter;stroke-opacity:1;font-family:Bitstream Vera Sans\" id=\"text1404\" sodipodi:linespacing=\"125%\" y=\"25.195688\" x=\"187.27748\" xml:space=\"preserve\" transform=\"scale(1.04324, 0.958555)\"><tspan sodipodi:role=\"line\" id=\"tspan1406\" y=\"25.195688\" x=\"187.27748\">B</tspan></text>\n",
       "    <g id=\"g7530\" transform=\"matrix(1.64546, 0, 0, 1.5119, -2.00765, -1.07901)\">\n",
       "      <path style=\"fill:none;fill-opacity:0.75;fill-rule:evenodd;stroke:#000000;stroke-width:1.31710899;stroke-linecap:butt;stroke-linejoin:miter;stroke-miterlimit:4;stroke-dasharray:none;stroke-opacity:1;display:inline\" d=\"M 102.05358,171.56709 L 91.160716,171.56709 L 91.160716,81.647188 L 102.05358,81.647188\" sodipodi:nodetypes=\"cccc\" id=\"path2328\"/>\n",
       "      <path style=\"fill:none;fill-opacity:0.75;fill-rule:evenodd;stroke:#000000;stroke-width:1.31710899;stroke-linecap:butt;stroke-linejoin:miter;stroke-miterlimit:4;stroke-dasharray:none;stroke-opacity:1;display:inline\" d=\"M 151.69643,171.56709 L 162.58929,171.56709 L 162.58929,81.647188 L 151.69643,81.647188\" sodipodi:nodetypes=\"cccc\" id=\"path2330\"/>\n",
       "      <g id=\"g7518\">\n",
       "        <path style=\"fill:#73d216;fill-opacity:1;fill-rule:nonzero;stroke:#3465a4;stroke-width:3;stroke-miterlimit:4;stroke-dasharray:none;stroke-opacity:1\" id=\"path2285\" sodipodi:cx=\"26.071428\" sodipodi:cy=\"499.14789\" sodipodi:type=\"arc\" d=\"M 32.5,499.14789 A 6.4285712,6.4285712 0 1 1 19.642857,499.14789 A 6.4285712,6.4285712 0 1 1 32.5,499.14789 z\" transform=\"translate(120.862, -362.505)\" sodipodi:rx=\"6.4285712\" sodipodi:ry=\"6.4285712\"/>\n",
       "        <path style=\"fill:#edd400;fill-opacity:1;fill-rule:nonzero;stroke:#ef2929;stroke-width:3;stroke-miterlimit:4;stroke-dasharray:none;stroke-opacity:1\" id=\"path4037\" sodipodi:cx=\"26.071428\" sodipodi:cy=\"499.14789\" sodipodi:type=\"arc\" d=\"M 32.5,499.14789 A 6.4285712,6.4285712 0 1 1 19.642857,499.14789 A 6.4285712,6.4285712 0 1 1 32.5,499.14789 z\" transform=\"translate(101.164, -402.527)\" sodipodi:rx=\"6.4285712\" sodipodi:ry=\"6.4285712\"/>\n",
       "        <g id=\"g7463\" transform=\"translate(0.313445)\">\n",
       "          <g transform=\"matrix(1.03319, 0, 0, 1, -3.19616, 0)\" id=\"g7457\">\n",
       "            <path style=\"fill:none;fill-opacity:0.75;fill-rule:evenodd;stroke:#000000;stroke-width:0.98380649px;stroke-linecap:square;stroke-linejoin:miter;stroke-opacity:1\" d=\"M 97.475841,146.60977 L 153.6734,146.60977\" sodipodi:nodetypes=\"cc\" id=\"path6463\"/>\n",
       "            <rect style=\"fill:none;fill-opacity:1;stroke:#000000;stroke-width:0.98380649;stroke-linecap:butt;stroke-linejoin:miter;stroke-miterlimit:3.79999995;stroke-dasharray:none;stroke-opacity:1\" id=\"rect6465\" width=\"57.586479\" y=\"86.244034\" x=\"96.796043\" height=\"80.5\"/>\n",
       "            <path style=\"fill:none;fill-opacity:0.75;fill-rule:evenodd;stroke:#000000;stroke-width:0.98380649px;stroke-linecap:square;stroke-linejoin:miter;stroke-opacity:1;display:inline\" d=\"M 97.497365,126.47551 L 153.69493,126.47551\" sodipodi:nodetypes=\"cc\" id=\"path6467\"/>\n",
       "            <path style=\"fill:none;fill-opacity:0.75;fill-rule:evenodd;stroke:#000000;stroke-width:0.98380649px;stroke-linecap:square;stroke-linejoin:miter;stroke-opacity:1;display:inline\" d=\"M 97.497365,106.34125 L 153.69493,106.34125\" sodipodi:nodetypes=\"cc\" id=\"path6469\"/>\n",
       "          </g>\n",
       "          <path style=\"fill:none;fill-rule:evenodd;stroke:#000000;stroke-width:0.99999994px;stroke-linecap:square;stroke-linejoin:miter;stroke-opacity:1\" id=\"path6471\" d=\"M 116.89899,86.743777 L 116.89899,166.24942\"/>\n",
       "          <path style=\"fill:none;fill-rule:evenodd;stroke:#000000;stroke-width:0.99999994px;stroke-linecap:square;stroke-linejoin:miter;stroke-opacity:1;display:inline\" id=\"path7455\" d=\"M 137.00194,86.738391 L 137.00194,166.24403\"/>\n",
       "        </g>\n",
       "      </g>\n",
       "    </g>\n",
       "    <g id=\"g7545\" transform=\"matrix(1.64546, 0, 0, 1.5119, -2.00765, -1.07901)\">\n",
       "      <path style=\"fill:none;fill-opacity:0.75;fill-rule:evenodd;stroke:#000000;stroke-width:1.31710899;stroke-linecap:butt;stroke-linejoin:miter;stroke-miterlimit:4;stroke-dasharray:none;stroke-opacity:1\" d=\"M 31.25,171.99999 L 20.357143,171.99999 L 20.357143,82.080086 L 31.25,82.080086\" sodipodi:nodetypes=\"cccc\" id=\"path1388\"/>\n",
       "      <path style=\"fill:none;fill-opacity:0.75;fill-rule:evenodd;stroke:#000000;stroke-width:1.31710899;stroke-linecap:butt;stroke-linejoin:miter;stroke-miterlimit:4;stroke-dasharray:none;stroke-opacity:1;display:inline\" d=\"M 64.5733,172 L 75.466157,172 L 75.466157,82.080086 L 64.5733,82.080086\" sodipodi:nodetypes=\"cccc\" id=\"path2326\"/>\n",
       "      <g transform=\"translate(-1.40085)\" id=\"g6389\">\n",
       "        <path style=\"fill:none;fill-opacity:0.75;fill-rule:evenodd;stroke:#000000;stroke-width:1px;stroke-linecap:square;stroke-linejoin:miter;stroke-opacity:1\" d=\"M 28.869325,146.60977 L 69.734349,146.60977\" sodipodi:nodetypes=\"cc\" id=\"path1358\"/>\n",
       "        <g id=\"g7478\">\n",
       "          <rect style=\"fill:none;fill-opacity:1;stroke:#000000;stroke-width:1;stroke-linecap:butt;stroke-linejoin:miter;stroke-miterlimit:3.79999995;stroke-dasharray:none;stroke-opacity:1\" id=\"rect4491\" width=\"41.875\" y=\"86.244034\" x=\"28.375\" height=\"80.5\"/>\n",
       "          <path style=\"fill:none;fill-opacity:0.75;fill-rule:evenodd;stroke:#000000;stroke-width:1px;stroke-linecap:square;stroke-linejoin:miter;stroke-opacity:1;display:inline\" id=\"path5462\" sodipodi:nodetypes=\"cc\" d=\"M 28.884976,126.47551 L 69.75,126.47551\"/>\n",
       "          <path style=\"fill:none;fill-opacity:0.75;fill-rule:evenodd;stroke:#000000;stroke-width:1px;stroke-linecap:square;stroke-linejoin:miter;stroke-opacity:1;display:inline\" id=\"path5464\" sodipodi:nodetypes=\"cc\" d=\"M 28.884976,106.34125 L 69.75,106.34125\"/>\n",
       "        </g>\n",
       "        <path style=\"fill:none;fill-rule:evenodd;stroke:#000000;stroke-width:1px;stroke-linecap:square;stroke-linejoin:miter;stroke-opacity:1\" d=\"M 49.3125,86.379661 L 49.3125,166.59816\" id=\"path5418\"/>\n",
       "      </g>\n",
       "      <rect style=\"fill:none;fill-opacity:1;stroke:#edd400;stroke-width:2.49002862;stroke-linecap:square;stroke-linejoin:miter;stroke-miterlimit:3.79999995;stroke-dasharray:none;stroke-opacity:1\" id=\"rect7476\" width=\"38.816055\" y=\"87.771233\" x=\"28.422049\" height=\"16.742577\"/>\n",
       "      <rect style=\"fill:none;fill-opacity:1;stroke:#73d216;stroke-width:2.49014163;stroke-linecap:square;stroke-linejoin:miter;stroke-miterlimit:3.79999995;stroke-dasharray:none;stroke-opacity:1\" id=\"rect7478\" width=\"38.90078\" y=\"128.10184\" x=\"28.42288\" height=\"16.722221\"/>\n",
       "    </g>\n",
       "    <g id=\"g6464\" transform=\"matrix(1.70534, 0, 0, 1.37977, -2.1939, -1.28831)\" style=\"opacity:1\">\n",
       "      <g id=\"g6472\" style=\"opacity:1\" transform=\"matrix(0.577914, 0, 0, 1.09576, 44.5553, -0.235716)\">\n",
       "        <path style=\"opacity:1;fill:#ef2929;fill-opacity:1;fill-rule:evenodd;stroke:none;stroke-width:4.5;stroke-linecap:butt;stroke-linejoin:miter;stroke-miterlimit:4;stroke-dasharray:none;stroke-opacity:1;display:inline\" id=\"path5416\" d=\"M 37.28125,94.40625 L 37.28125,98.90625 L 108.8125,98.90625 L 108.8125,94.40625 L 37.28125,94.40625 z\"/>\n",
       "        <path style=\"font-size:12px;fill:#ef2929;fill-rule:evenodd;stroke-width:0.625;stroke-linejoin:round\" id=\"path6470\" d=\"M 102.13562,91.197224 L 116.88555,96.621149 L 102.13562,102.04507 C 104.49204,98.84279 104.47846,94.461512 102.13562,91.197224 z\"/>\n",
       "      </g>\n",
       "      <text xml:space=\"preserve\" style=\"font-size:12.3389492px;font-style:normal;font-weight:normal;fill:#000000;fill-opacity:1;stroke:none;stroke-width:1px;stroke-linecap:butt;stroke-linejoin:miter;stroke-opacity:1;font-family:Bitstream Vera Sans\" x=\"33.145538\" y=\"100.70789\" id=\"text3312\" transform=\"scale(0.938382, 1.06566)\"><tspan sodipodi:role=\"line\" id=\"tspan3314\" x=\"33.145538\" y=\"100.70789\" style=\"font-size:9.25421238px\">a<tspan dy=\"2.0564916\" style=\"font-size:5.14122868px\" id=\"tspan2534\">1,1</tspan></tspan></text>\n",
       "      <text xml:space=\"preserve\" style=\"font-size:12.3389492px;font-style:normal;font-weight:normal;opacity:1;fill:#000000;fill-opacity:1;stroke:none;stroke-width:1px;stroke-linecap:butt;stroke-linejoin:miter;stroke-opacity:1;display:inline;font-family:Bitstream Vera Sans\" x=\"32.955677\" y=\"142.02773\" id=\"text3194\" transform=\"scale(0.938382, 1.06566)\"><tspan sodipodi:role=\"line\" id=\"tspan3196\" x=\"32.955677\" y=\"142.02773\" style=\"font-size:9.25421238px\">a<tspan dy=\"2.0564916\" style=\"font-size:5.14122868px\" id=\"tspan3198\">3,1</tspan></tspan></text>\n",
       "      <text xml:space=\"preserve\" style=\"font-size:12.3389492px;font-style:normal;font-weight:normal;opacity:1;fill:#000000;fill-opacity:1;stroke:none;stroke-width:1px;stroke-linecap:butt;stroke-linejoin:miter;stroke-opacity:1;display:inline;font-family:Bitstream Vera Sans\" x=\"51.532799\" y=\"142.31792\" id=\"text3200\" transform=\"scale(0.938382, 1.06566)\"><tspan sodipodi:role=\"line\" id=\"tspan3202\" x=\"51.532799\" y=\"142.31792\" style=\"font-size:9.25421238px\">a<tspan dy=\"2.0564916\" style=\"font-size:5.14122868px\" id=\"tspan3204\">3,2</tspan></tspan></text>\n",
       "      <g id=\"g2633\">\n",
       "        <text transform=\"scale(0.938382, 1.06566)\" id=\"text2621\" y=\"121.0079\" x=\"33.059025\" style=\"font-size:12.3389492px;font-style:normal;font-weight:normal;opacity:1;fill:#808080;fill-opacity:1;stroke:none;stroke-width:1px;stroke-linecap:butt;stroke-linejoin:miter;stroke-opacity:1;display:inline;font-family:Bitstream Vera Sans\" xml:space=\"preserve\"><tspan style=\"font-size:9.25421238px;fill:#808080\" y=\"121.0079\" x=\"33.059025\" id=\"tspan2623\" sodipodi:role=\"line\">a<tspan id=\"tspan2625\" style=\"font-size:5.14122868px;fill:#808080\" dy=\"2.0564916\">2,1</tspan></tspan></text>\n",
       "        <text transform=\"scale(0.938382, 1.06566)\" id=\"text2627\" y=\"121.36169\" x=\"51.813751\" style=\"font-size:12.33894825px;font-style:normal;font-weight:normal;fill:#808080;fill-opacity:1;stroke:none;stroke-width:1px;stroke-linecap:butt;stroke-linejoin:miter;stroke-opacity:1;display:inline;font-family:Bitstream Vera Sans\" xml:space=\"preserve\"><tspan style=\"font-size:9.3846159px;fill:#808080\" y=\"121.36169\" x=\"51.813751\" id=\"tspan2629\" sodipodi:role=\"line\">a<tspan id=\"tspan2631\" style=\"font-size:5.362638px;fill:#808080\" dy=\"2.0564914\">2,2</tspan></tspan></text>\n",
       "      </g>\n",
       "      <g style=\"opacity:1;display:inline\" id=\"g2637\" transform=\"translate(-0.479447, 44.1094)\">\n",
       "        <text transform=\"scale(0.938382, 1.06566)\" id=\"text2639\" y=\"121.0079\" x=\"33.059025\" style=\"font-size:12.3389492px;font-style:normal;font-weight:normal;opacity:1;fill:#808080;fill-opacity:1;stroke:none;stroke-width:1px;stroke-linecap:butt;stroke-linejoin:miter;stroke-opacity:1;display:inline;font-family:Bitstream Vera Sans\" xml:space=\"preserve\"><tspan style=\"font-size:9.25421238px;fill:#808080\" y=\"121.0079\" x=\"33.059025\" id=\"tspan2641\" sodipodi:role=\"line\">a<tspan id=\"tspan2643\" style=\"font-size:5.14122868px;fill:#808080\" dy=\"2.0564916\">4,1</tspan></tspan></text>\n",
       "        <text transform=\"scale(0.938382, 1.06566)\" id=\"text2645\" y=\"121.36169\" x=\"51.813751\" style=\"font-size:12.33894825px;font-style:normal;font-weight:normal;fill:#808080;fill-opacity:1;stroke:none;stroke-width:1px;stroke-linecap:butt;stroke-linejoin:miter;stroke-opacity:1;display:inline;font-family:Bitstream Vera Sans\" xml:space=\"preserve\"><tspan style=\"font-size:9.3846159px;fill:#808080\" y=\"121.36169\" x=\"51.813751\" id=\"tspan2647\" sodipodi:role=\"line\">a<tspan id=\"tspan2649\" style=\"font-size:5.362638px;fill:#808080\" dy=\"2.0564914\">4,2</tspan></tspan></text>\n",
       "      </g>\n",
       "    </g>\n",
       "    <g style=\"fill:#3465a4\" id=\"g6492\" transform=\"matrix(1.12139, 0, 0, 1.5119, 68.8604, -1.07901)\">\n",
       "      <path style=\"fill:#3465a4;fill-opacity:1;fill-rule:evenodd;stroke:none;stroke-width:4.5;stroke-linecap:butt;stroke-linejoin:miter;stroke-miterlimit:4;stroke-dasharray:none;stroke-opacity:1\" d=\"M 37.28125,134.40625 L 37.28125,138.90625 L 129.125,138.90625 L 129.125,134.40625 L 37.28125,134.40625 z\" id=\"path2294\"/>\n",
       "      <path style=\"font-size:12px;fill:#3465a4;fill-rule:evenodd;stroke-width:0.625;stroke-linejoin:round\" d=\"M 120.47432,131.21867 L 135.22425,136.64259 L 120.47432,142.06652 C 122.83074,138.86423 122.81716,134.48296 120.47432,131.21867 z\" id=\"path6498\"/>\n",
       "    </g>\n",
       "    <g id=\"g7739\" transform=\"matrix(1.64546, 0, 0, 1.5119, -2.00765, -1.07901)\">\n",
       "      <path style=\"fill:none;fill-opacity:0.75;fill-rule:evenodd;stroke:#000000;stroke-width:1.31710899;stroke-linecap:butt;stroke-linejoin:miter;stroke-miterlimit:4;stroke-dasharray:none;stroke-opacity:1;display:inline\" id=\"path6458\" sodipodi:nodetypes=\"cccc\" d=\"M 102.05358,72.090424 L 91.160716,72.090424 L 91.160716,19.647186 L 102.05358,19.647186\"/>\n",
       "      <path style=\"fill:none;fill-opacity:0.75;fill-rule:evenodd;stroke:#000000;stroke-width:1.31710899;stroke-linecap:butt;stroke-linejoin:miter;stroke-miterlimit:4;stroke-dasharray:none;stroke-opacity:1;display:inline\" id=\"path6460\" sodipodi:nodetypes=\"cccc\" d=\"M 151.69643,72.090424 L 162.58929,72.090424 L 162.58929,19.647186 L 151.69643,19.647186\"/>\n",
       "      <g transform=\"translate(0.375)\" id=\"g7510\">\n",
       "        <rect style=\"fill:none;fill-opacity:1;stroke:#000000;stroke-width:0.99999994;stroke-linecap:butt;stroke-linejoin:miter;stroke-miterlimit:3.79999995;stroke-dasharray:none;stroke-opacity:1\" id=\"rect6420\" width=\"41.875\" transform=\"matrix(0, -1, 1, 0, 0, 0)\" y=\"96.25\" x=\"-66.806305\" height=\"60.375\"/>\n",
       "        <path style=\"fill:none;fill-opacity:0.75;fill-rule:evenodd;stroke:#000000;stroke-width:1px;stroke-linecap:square;stroke-linejoin:miter;stroke-opacity:1;display:inline\" d=\"M 136.48148,66.296329 L 136.48148,25.431305\" sodipodi:nodetypes=\"cc\" id=\"path6422\"/>\n",
       "        <path style=\"fill:none;fill-opacity:0.75;fill-rule:evenodd;stroke:#000000;stroke-width:1px;stroke-linecap:square;stroke-linejoin:miter;stroke-opacity:1;display:inline\" d=\"M 116.34722,66.296329 L 116.34722,25.431305\" sodipodi:nodetypes=\"cc\" id=\"path6424\"/>\n",
       "        <path style=\"fill:none;fill-rule:evenodd;stroke:#000000;stroke-width:0.99999994px;stroke-linecap:square;stroke-linejoin:miter;stroke-opacity:1\" d=\"M 96.260574,45.868805 L 156.41667,45.868805\" id=\"path6426\"/>\n",
       "        <rect style=\"fill:none;fill-opacity:1;stroke:#edd400;stroke-width:2.42053151;stroke-linecap:square;stroke-linejoin:miter;stroke-miterlimit:3.79999995;stroke-dasharray:none;stroke-opacity:1\" id=\"rect7500\" width=\"38.15583\" transform=\"matrix(0, 1, -1, 0, 0, 0)\" y=\"-134.90015\" x=\"26.798586\" height=\"16.994709\"/>\n",
       "        <rect style=\"fill:none;fill-opacity:1;stroke:#73d216;stroke-width:2.33166838;stroke-linecap:square;stroke-linejoin:miter;stroke-miterlimit:3.79999995;stroke-dasharray:none;stroke-opacity:1\" id=\"rect7508\" width=\"38.327728\" transform=\"matrix(0, 1, -1, 0, 0, 0)\" y=\"-155.14755\" x=\"26.712637\" height=\"17.180845\"/>\n",
       "      </g>\n",
       "    </g>\n",
       "    <g style=\"fill:#3465a4\" id=\"g6484\" transform=\"matrix(1.64546, 0, 0, 0.967041, -1.3906, 66.9559)\">\n",
       "      <path style=\"fill:#3465a4;fill-opacity:1;fill-rule:evenodd;stroke:none;stroke-width:4.5;stroke-linecap:butt;stroke-linejoin:miter;stroke-miterlimit:4;stroke-dasharray:none;stroke-opacity:1;display:inline\" d=\"M 144.21875,33.40625 L 144.21875,118.78125 L 148.71875,118.78125 L 148.71875,33.40625 L 144.21875,33.40625 z\" id=\"path6456\"/>\n",
       "      <path style=\"font-size:12px;fill:#3465a4;fill-rule:evenodd;stroke-width:0.625;stroke-linejoin:round\" d=\"M 151.92392,110.11757 L 146.5,124.8675 L 141.07607,110.11757 C 144.27836,112.47399 148.65963,112.46041 151.92392,110.11757 z\" id=\"path6490\"/>\n",
       "    </g>\n",
       "    <g style=\"fill:#ef2929\" id=\"g6476\" transform=\"matrix(1.64546, 0, 0, 0.54009, -1.3906, 81.2187)\">\n",
       "      <path style=\"fill:#ef2929;fill-opacity:1;fill-rule:evenodd;stroke:none;stroke-width:4.5;stroke-linecap:butt;stroke-linejoin:miter;stroke-miterlimit:4;stroke-dasharray:none;stroke-opacity:1;display:inline\" d=\"M 124.21875,33.40625 L 124.21875,78.59375 L 128.71875,78.59375 L 128.71875,33.40625 L 124.21875,33.40625 z\" id=\"path6446\"/>\n",
       "      <path style=\"font-size:12px;fill:#ef2929;fill-rule:evenodd;stroke-width:0.625;stroke-linejoin:round\" d=\"M 131.90957,69.935261 L 126.48565,84.685196 L 121.06172,69.935261 C 124.26401,72.291684 128.64528,72.278106 131.90957,69.935261 z\" id=\"path6482\"/>\n",
       "    </g>\n",
       "    <text xml:space=\"preserve\" style=\"font-size:18.92720985px;font-style:normal;font-weight:normal;fill:#000000;fill-opacity:1;stroke:none;stroke-width:1px;stroke-linecap:butt;stroke-linejoin:miter;stroke-opacity:1;display:inline;font-family:Bitstream Vera Sans\" x=\"77.508934\" y=\"153.67857\" id=\"text2559\" transform=\"scale(1.04324, 0.958555)\"><tspan sodipodi:role=\"line\" id=\"tspan2561\" x=\"77.508934\" y=\"153.67857\" style=\"font-size:14.39544106px\">a<tspan dy=\"3.1545351\" style=\"font-size:8.22596645px\" id=\"tspan2563\">1,2</tspan></tspan></text>\n",
       "    <text xml:space=\"preserve\" style=\"font-size:18.92720985px;font-style:normal;font-weight:normal;opacity:1;fill:#000000;fill-opacity:1;stroke:none;stroke-width:1px;stroke-linecap:butt;stroke-linejoin:miter;stroke-opacity:1;display:inline;font-family:Bitstream Vera Sans\" x=\"186.68127\" y=\"60.148842\" id=\"text3182\" transform=\"scale(1.04324, 0.958555)\"><tspan sodipodi:role=\"line\" id=\"tspan3184\" x=\"186.68127\" y=\"60.148842\" style=\"font-size:12.61814022px\"><tspan style=\"font-size:14.39544106px\" id=\"tspan3229\">b</tspan><tspan style=\"font-size:8.22596645px\" id=\"tspan3186\" dy=\"3.1545351\">1,2</tspan></tspan></text>\n",
       "    <text xml:space=\"preserve\" style=\"font-size:18.92720985px;font-style:normal;font-weight:normal;opacity:1;fill:#000000;fill-opacity:1;stroke:none;stroke-width:1px;stroke-linecap:butt;stroke-linejoin:miter;stroke-opacity:1;display:inline;font-family:Bitstream Vera Sans\" x=\"186.87546\" y=\"89.329178\" id=\"text3188\" transform=\"scale(1.04324, 0.958555)\"><tspan sodipodi:role=\"line\" id=\"tspan3190\" x=\"186.87546\" y=\"89.329178\" style=\"font-size:12.61814022px\"><tspan style=\"font-size:14.39544106px\" id=\"tspan3231\">b</tspan><tspan style=\"font-size:8.22596645px\" id=\"tspan3192\" dy=\"3.1545351\">2,2</tspan></tspan></text>\n",
       "    <text xml:space=\"preserve\" style=\"font-size:18.92720985px;font-style:normal;font-weight:normal;opacity:1;fill:#000000;fill-opacity:1;stroke:none;stroke-width:1px;stroke-linecap:butt;stroke-linejoin:miter;stroke-opacity:1;display:inline;font-family:Bitstream Vera Sans\" x=\"218.30501\" y=\"60.885384\" id=\"text3226\" transform=\"scale(1.04324, 0.958555)\"><tspan sodipodi:role=\"line\" id=\"tspan3228\" x=\"218.30501\" y=\"60.885384\" style=\"font-size:12.61814022px\"><tspan style=\"font-size:14.39544106px\" id=\"tspan3226\">b</tspan><tspan style=\"font-size:8.22596645px\" id=\"tspan3230\" dy=\"3.1545351\">1,3</tspan></tspan></text>\n",
       "    <text xml:space=\"preserve\" style=\"font-size:18.92720985px;font-style:normal;font-weight:normal;opacity:1;fill:#000000;fill-opacity:1;stroke:none;stroke-width:1px;stroke-linecap:butt;stroke-linejoin:miter;stroke-opacity:1;display:inline;font-family:Bitstream Vera Sans\" x=\"218.15356\" y=\"89.950317\" id=\"text3232\" transform=\"scale(1.04324, 0.958555)\"><tspan sodipodi:role=\"line\" id=\"tspan3234\" x=\"218.15356\" y=\"89.950317\" style=\"font-size:12.61814022px\"><tspan style=\"font-size:14.39544106px\" id=\"tspan3233\">b</tspan><tspan style=\"font-size:8.22596645px\" id=\"tspan3236\" dy=\"3.1545351\">2,3</tspan></tspan></text>\n",
       "    <text xml:space=\"preserve\" style=\"font-size:18.92720985000000056px;font-style:normal;font-weight:normal;opacity:1;fill:#999999;fill-opacity:1;stroke:none;stroke-width:1px;stroke-linecap:butt;stroke-linejoin:miter;stroke-opacity:1;display:inline;font-family:Bitstream Vera Sans\" x=\"153.94395\" y=\"59.262863\" id=\"text2665\" transform=\"scale(1.04324, 0.958555)\"><tspan sodipodi:role=\"line\" id=\"tspan2667\" x=\"153.94395\" y=\"59.262863\" style=\"font-size:12.61814022000000080px;fill:#999999\"><tspan style=\"font-size:14.39544105999999957px;fill:#999999\" id=\"tspan2669\">b</tspan><tspan style=\"font-size:8.22596644999999960px;fill:#999999\" id=\"tspan2671\" dy=\"3.1545351\">1,1</tspan></tspan></text>\n",
       "    <text xml:space=\"preserve\" style=\"font-size:18.92720985000000056px;font-style:normal;font-weight:normal;opacity:1;fill:#999999;fill-opacity:1;stroke:none;stroke-width:1px;stroke-linecap:butt;stroke-linejoin:miter;stroke-opacity:1;display:inline;font-family:Bitstream Vera Sans\" x=\"153.40378\" y=\"89.245232\" id=\"text2673\" transform=\"scale(1.04324, 0.958555)\"><tspan sodipodi:role=\"line\" id=\"tspan2675\" x=\"153.40378\" y=\"89.245232\" style=\"font-size:12.61814022000000080px;fill:#999999\"><tspan style=\"font-size:14.39544105999999957px;fill:#999999\" id=\"tspan2677\">b</tspan><tspan style=\"font-size:8.22596644999999960px;fill:#999999\" id=\"tspan2679\" dy=\"3.1545351\">2,1</tspan></tspan></text>\n",
       "  </g>\n",
       "</svg>"
      ],
      "text/plain": [
       "<IPython.core.display.SVG object>"
      ]
     },
     "metadata": {},
     "output_type": "display_data"
    }
   ],
   "source": [
    "# What matrix multiplication looks like\n",
    "display(SVG(\"images/matmul2.svg\"))"
   ]
  },
  {
   "cell_type": "code",
   "execution_count": null,
   "metadata": {
    "colab": {
     "base_uri": "https://localhost:8080/"
    },
    "executionInfo": {
     "elapsed": 16,
     "status": "ok",
     "timestamp": 1706713116268,
     "user": {
      "displayName": "Ioannis Petrousov",
      "userId": "16802625713842772964"
     },
     "user_tz": -60
    },
    "id": "njYh8SGD5Ray",
    "outputId": "d5d13952-04ea-4469-bdf7-dc6547136651"
   },
   "outputs": [
    {
     "data": {
      "text/plain": [
       "tensor([[13.7334],\n",
       "        [-0.3154],\n",
       "        [ 4.8783],\n",
       "        ...,\n",
       "        [-5.1974],\n",
       "        [-0.7339],\n",
       "        [ 6.7047]], grad_fn=<AddBackward0>)"
      ]
     },
     "execution_count": 250,
     "metadata": {},
     "output_type": "execute_result"
    }
   ],
   "source": [
    "# Create the matrix multiplication function\n",
    "def linear1(xb):\n",
    "  \"\"\" Runs the matrix multiplication of xb@weights+bias \"\"\"\n",
    "  return xb@weights + bias\n",
    "preds = linear1(train_x)\n",
    "preds"
   ]
  },
  {
   "cell_type": "code",
   "execution_count": null,
   "metadata": {
    "colab": {
     "base_uri": "https://localhost:8080/"
    },
    "executionInfo": {
     "elapsed": 14,
     "status": "ok",
     "timestamp": 1706713116268,
     "user": {
      "displayName": "Ioannis Petrousov",
      "userId": "16802625713842772964"
     },
     "user_tz": -60
    },
    "id": "GQFQY8B_5Ray",
    "outputId": "168441d6-63fa-4e9d-95d6-bef78d566a56"
   },
   "outputs": [
    {
     "data": {
      "text/plain": [
       "tensor([[ True],\n",
       "        [False],\n",
       "        [ True],\n",
       "        ...,\n",
       "        [ True],\n",
       "        [ True],\n",
       "        [False]])"
      ]
     },
     "execution_count": 251,
     "metadata": {},
     "output_type": "execute_result"
    }
   ],
   "source": [
    "# We check the accuracy\n",
    "corrects = (preds>0.0).float() == train_y\n",
    "corrects"
   ]
  },
  {
   "cell_type": "code",
   "execution_count": null,
   "metadata": {
    "colab": {
     "base_uri": "https://localhost:8080/"
    },
    "executionInfo": {
     "elapsed": 12,
     "status": "ok",
     "timestamp": 1706713116268,
     "user": {
      "displayName": "Ioannis Petrousov",
      "userId": "16802625713842772964"
     },
     "user_tz": -60
    },
    "id": "AsCxlZAE5Raz",
    "outputId": "c12b805e-538c-4484-9126-c190609f8e68"
   },
   "outputs": [
    {
     "data": {
      "text/plain": [
       "0.6502904295921326"
      ]
     },
     "execution_count": 252,
     "metadata": {},
     "output_type": "execute_result"
    }
   ],
   "source": [
    "# Overall accuracy\n",
    "corrects.float().mean().item()"
   ]
  },
  {
   "cell_type": "markdown",
   "metadata": {
    "id": "hpfg-K_mpdMo"
   },
   "source": [
    "Let's see what the change in accuracy is for a small change in one of the weights."
   ]
  },
  {
   "cell_type": "code",
   "execution_count": null,
   "metadata": {
    "id": "Z0LXgCIT5Raz"
   },
   "outputs": [],
   "source": [
    "with torch.no_grad():\n",
    "  weights[0] *= 1.0001"
   ]
  },
  {
   "cell_type": "code",
   "execution_count": null,
   "metadata": {
    "colab": {
     "base_uri": "https://localhost:8080/"
    },
    "executionInfo": {
     "elapsed": 11,
     "status": "ok",
     "timestamp": 1706713116268,
     "user": {
      "displayName": "Ioannis Petrousov",
      "userId": "16802625713842772964"
     },
     "user_tz": -60
    },
    "id": "hyjARvaP5Raz",
    "outputId": "1f7a73d7-34dc-47ba-8b84-31742fdf4d9a"
   },
   "outputs": [
    {
     "data": {
      "text/plain": [
       "0.6502904295921326"
      ]
     },
     "execution_count": 254,
     "metadata": {},
     "output_type": "execute_result"
    }
   ],
   "source": [
    "# Re calculate the predictions\n",
    "preds = linear1(train_x)\n",
    "((preds>0.0).float() == train_y).float().mean().item()"
   ]
  },
  {
   "cell_type": "markdown",
   "metadata": {
    "id": "OWBAzeI8p_kA"
   },
   "source": [
    "Here we see no change in the the `accuracy`! Why?\n",
    "\n",
    "As we've seen, we need gradients in order to improve our model using SGD, and in order to calculate gradients** we need some loss function that represents how good our model is**. That is because **the gradients are a measure of how that loss function changes with small tweaks to the weights**.\n",
    "\n",
    "Why can we not use `accuracy` for improving our model?\n",
    "\n",
    "The gradient of a function is its slope, or its steepness, which can be defined as rise over run—that is, how much the value of the function goes up or down, divided by how much we changed the input. We can write this in mathematically as: `(y_new - y_old) / (x_new - x_old)`. This gives us a good approximation of the gradient when `x_new` is very similar to `x_old`, **meaning that their difference is very small**. But `accuracy` only changes at all when a prediction changes from a 3 to a 7, or vice versa.\n",
    "\n",
    "So, the problem is that **a small change in `weights` from `x_old to x_new` isn't likely to cause any prediction to change**, so `(y_new - y_old)` will almost always be `0`. **In other words, the gradient is 0 almost everywhere.**\n",
    "\n",
    "Instead, we need a loss function which, when our weights result in slightly better predictions, gives us a slightly better loss. In this case it means if the correct answer is a `3` the score is a little higher, or if the correct answer is `7`, the score is a little lower.\n",
    "\n",
    "Let's construct such a loss function."
   ]
  },
  {
   "cell_type": "markdown",
   "metadata": {
    "id": "iljRr6GzvDsI"
   },
   "source": [
    "The `loss` function will take 2 inputs, just like before. The inputs are the `predictions` and the `targets` values.\n",
    "\n",
    "It will calculate the distance between them return it as an average number.\n",
    "\n",
    "Assume we have 2 tensors.\n",
    "`targets`: shows the actual labels\n",
    "`predictions`: shows the predicted label/values from the model"
   ]
  },
  {
   "cell_type": "code",
   "execution_count": null,
   "metadata": {
    "id": "49--ypmC5Raz"
   },
   "outputs": [],
   "source": [
    "trgts  = tensor([1,0,1])\n",
    "prds   = tensor([0.9, 0.4, 0.2])"
   ]
  },
  {
   "cell_type": "markdown",
   "metadata": {
    "id": "ddfikiXbvzo-"
   },
   "source": [
    "Here's a first try at a `loss` function that `measures the distance between predictions and targets`.\n",
    "\n",
    "this function will measure how distant each prediction is from `1` if it should be `1`, and how distant it is from `0` if it should be `0`, and then it will take the mean of all those distances. **So, it actually measures the loss.**\n",
    "\n",
    "Since we need a scalar for the final loss, mnist_loss takes the mean of the previous tensor"
   ]
  },
  {
   "cell_type": "code",
   "execution_count": null,
   "metadata": {
    "id": "CMeCEsAq5Raz"
   },
   "outputs": [],
   "source": [
    "def mnist_loss(predictions, targets):\n",
    "    return torch.where(targets==1, 1-predictions, predictions).mean()"
   ]
  },
  {
   "cell_type": "code",
   "execution_count": null,
   "metadata": {
    "colab": {
     "base_uri": "https://localhost:8080/"
    },
    "executionInfo": {
     "elapsed": 9,
     "status": "ok",
     "timestamp": 1706713116268,
     "user": {
      "displayName": "Ioannis Petrousov",
      "userId": "16802625713842772964"
     },
     "user_tz": -60
    },
    "id": "DKeQ-_025Raz",
    "outputId": "6e89648f-e402-4703-ee6d-e81e9697dcba"
   },
   "outputs": [
    {
     "data": {
      "text/plain": [
       "tensor([0.1000, 0.4000, 0.8000])"
      ]
     },
     "execution_count": 257,
     "metadata": {},
     "output_type": "execute_result"
    }
   ],
   "source": [
    "torch.where(trgts==1, 1-prds, prds)"
   ]
  },
  {
   "cell_type": "code",
   "execution_count": null,
   "metadata": {
    "colab": {
     "base_uri": "https://localhost:8080/"
    },
    "executionInfo": {
     "elapsed": 8,
     "status": "ok",
     "timestamp": 1706713116268,
     "user": {
      "displayName": "Ioannis Petrousov",
      "userId": "16802625713842772964"
     },
     "user_tz": -60
    },
    "id": "kdw-rFQj5Raz",
    "outputId": "54bee26d-16a5-43d0-a80c-7655cd91708d"
   },
   "outputs": [
    {
     "data": {
      "text/plain": [
       "tensor(0.4333)"
      ]
     },
     "execution_count": 258,
     "metadata": {},
     "output_type": "execute_result"
    }
   ],
   "source": [
    "# So, average loss is\n",
    "mnist_loss(prds,trgts)"
   ]
  },
  {
   "cell_type": "code",
   "execution_count": null,
   "metadata": {
    "colab": {
     "base_uri": "https://localhost:8080/"
    },
    "executionInfo": {
     "elapsed": 7,
     "status": "ok",
     "timestamp": 1706713116268,
     "user": {
      "displayName": "Ioannis Petrousov",
      "userId": "16802625713842772964"
     },
     "user_tz": -60
    },
    "id": "OWifihfL5Raz",
    "outputId": "7a1db665-6d85-4d3f-cfa3-71c943e43711"
   },
   "outputs": [
    {
     "data": {
      "text/plain": [
       "tensor(0.2333)"
      ]
     },
     "execution_count": 259,
     "metadata": {},
     "output_type": "execute_result"
    }
   ],
   "source": [
    "# If we modify our predictions a little closer to the targets, we get a smaller loss\n",
    "mnist_loss(tensor([0.9, 0.4, 0.8]),trgts)"
   ]
  },
  {
   "cell_type": "markdown",
   "metadata": {
    "id": "wp-PR_NDMYwZ"
   },
   "source": [
    "There's a problem with `mnist_loss()`. As it's currently defined **it assumes that the predictions are always between 0 and 1**. However, as we can see bellow, they are not. We need to ensure that this is actually the case! As it happens, there is a function that does exactly that—let's take a look."
   ]
  },
  {
   "cell_type": "code",
   "execution_count": null,
   "metadata": {
    "colab": {
     "base_uri": "https://localhost:8080/"
    },
    "executionInfo": {
     "elapsed": 6,
     "status": "ok",
     "timestamp": 1706713116268,
     "user": {
      "displayName": "Ioannis Petrousov",
      "userId": "16802625713842772964"
     },
     "user_tz": -60
    },
    "id": "77J2gauxMO-k",
    "outputId": "9f9395b8-c545-475c-8a7c-768f44d49a0a"
   },
   "outputs": [
    {
     "data": {
      "text/plain": [
       "tensor([[13.7334],\n",
       "        [-0.3154],\n",
       "        [ 4.8783],\n",
       "        ...,\n",
       "        [-5.1974],\n",
       "        [-0.7339],\n",
       "        [ 6.7047]], grad_fn=<AddBackward0>)"
      ]
     },
     "execution_count": 260,
     "metadata": {},
     "output_type": "execute_result"
    }
   ],
   "source": [
    "preds"
   ]
  },
  {
   "cell_type": "code",
   "execution_count": null,
   "metadata": {
    "colab": {
     "base_uri": "https://localhost:8080/"
    },
    "executionInfo": {
     "elapsed": 252,
     "status": "ok",
     "timestamp": 1706713116515,
     "user": {
      "displayName": "Ioannis Petrousov",
      "userId": "16802625713842772964"
     },
     "user_tz": -60
    },
    "id": "69tfY7YwMwrX",
    "outputId": "6ec5a3b2-733c-4ff0-9070-ec32e3088e80"
   },
   "outputs": [
    {
     "data": {
      "text/plain": [
       "tensor(0.4825)"
      ]
     },
     "execution_count": 261,
     "metadata": {},
     "output_type": "execute_result"
    }
   ],
   "source": [
    "# The following will not generate a useful number\n",
    "mnist_loss(train_x, train_y)"
   ]
  },
  {
   "cell_type": "markdown",
   "metadata": {
    "id": "hlF1wCDQ5Raz"
   },
   "source": [
    "### Sigmoid\n",
    "\n",
    "The sigmoid function always outputs a number between 0 and 1. It's defined as follows:"
   ]
  },
  {
   "cell_type": "code",
   "execution_count": null,
   "metadata": {
    "id": "UeaWAxMH5Raz"
   },
   "outputs": [],
   "source": [
    "def sigmoid(x):\n",
    "  return 1/(1+torch.exp(-x))"
   ]
  },
  {
   "cell_type": "code",
   "execution_count": null,
   "metadata": {
    "colab": {
     "base_uri": "https://localhost:8080/",
     "height": 396
    },
    "executionInfo": {
     "elapsed": 721,
     "status": "ok",
     "timestamp": 1706713117234,
     "user": {
      "displayName": "Ioannis Petrousov",
      "userId": "16802625713842772964"
     },
     "user_tz": -60
    },
    "id": "Hi69euce5Raz",
    "outputId": "dc7d3f02-772c-4d89-e697-a544f8662cc9"
   },
   "outputs": [
    {
     "data": {
      "image/png": "[encoded data removed]",
      "text/plain": [
       "<Figure size 600x400 with 1 Axes>"
      ]
     },
     "metadata": {},
     "output_type": "display_data"
    }
   ],
   "source": [
    "plot_function(torch.sigmoid, title='Sigmoid', min=-4, max=4)"
   ]
  },
  {
   "cell_type": "markdown",
   "metadata": {
    "id": "3lILyyqv0GV8"
   },
   "source": [
    "This function takes any values (positive or negative) and produces a values between 0 and 1.\n",
    "\n",
    "It's also a smooth curve which only goes up which makes it easier for SGD to find meaningful gradients.\n",
    "\n",
    "Let's update `mnist_loss()` to apply the `sigmoid` function on the `predictions` first."
   ]
  },
  {
   "cell_type": "code",
   "execution_count": null,
   "metadata": {
    "id": "fJdongpZ5Raz"
   },
   "outputs": [],
   "source": [
    "def mnist_loss(predictions, targets):\n",
    "    predictions = predictions.sigmoid()\n",
    "    return torch.where(targets==1, 1-predictions, predictions).mean()"
   ]
  },
  {
   "cell_type": "code",
   "execution_count": null,
   "metadata": {
    "colab": {
     "base_uri": "https://localhost:8080/",
     "height": 372
    },
    "executionInfo": {
     "elapsed": 515,
     "status": "ok",
     "timestamp": 1706713117746,
     "user": {
      "displayName": "Ioannis Petrousov",
      "userId": "16802625713842772964"
     },
     "user_tz": -60
    },
    "id": "RmIo5ZZd0-gd",
    "outputId": "2d3652f1-752c-49b0-da96-8373464a7931"
   },
   "outputs": [
    {
     "data": {
      "image/png": "[encoded data removed]",
      "text/plain": [
       "<Figure size 600x400 with 1 Axes>"
      ]
     },
     "metadata": {},
     "output_type": "display_data"
    }
   ],
   "source": [
    "plot_function(torch.sigmoid, min=float(preds.min()), max=float(preds.max()))"
   ]
  },
  {
   "cell_type": "markdown",
   "metadata": {
    "id": "tN-T4K5m159x"
   },
   "source": [
    "Now we can be confident our loss function will work, even if the predictions are not between 0 and 1. All that is required is that a higher prediction corresponds to higher confidence-an image is a 3.\n",
    "\n",
    "So why did we define a `loss` function even though we had the `accuracy`?\n",
    "\n",
    "The key difference is that **the metric is to drive human understanding** and **the loss is to drive automated learning**. To drive automated learning, **the loss must be a function that has a meaningful derivative**. It can't have big flat sections and large jumps, but instead must be reasonably smooth. This is why we designed a loss function that would respond to small changes in confidence level. This requirement means that sometimes it does not really reflect exactly what we are trying to achieve, but is rather a compromise between our real goal and a function that can be optimized using its gradient. The loss function is calculated for each item in our dataset, and then at the end of an epoch the loss values are all averaged and the overall mean is reported for the epoch.\n",
    "\n",
    "Metrics, on the other hand, are the numbers that we really care about. These are the values that are printed at the end of each epoch that tell us how our model is really doing. **It is important that we learn to focus on these metrics, rather than the loss, when judging the performance of a model.**"
   ]
  },
  {
   "cell_type": "markdown",
   "metadata": {
    "id": "_Jvb74Vd5Raz"
   },
   "source": [
    "### SGD and Mini-Batches\n",
    "\n",
    "We calculate the average loss for a few data items at a time. This is called a mini-batch.\n",
    "\n",
    "The number of items in the `mini-batch` is called the `batch size`.\n",
    "\n",
    "The `batch size` will define the trainin speed and accuracy of the model.\n",
    "\n",
    "To train the model more effectively, we want to randomly shuffle our dataset on every epoch, before we creating `mini-batches`.\n",
    "\n",
    "The `DataLoader` does this for us."
   ]
  },
  {
   "cell_type": "code",
   "execution_count": null,
   "metadata": {
    "colab": {
     "base_uri": "https://localhost:8080/"
    },
    "executionInfo": {
     "elapsed": 18,
     "status": "ok",
     "timestamp": 1706713117746,
     "user": {
      "displayName": "Ioannis Petrousov",
      "userId": "16802625713842772964"
     },
     "user_tz": -60
    },
    "id": "zj6MNQDw5Raz",
    "outputId": "a644b648-e7ad-4fdc-c174-f3e5926e9101"
   },
   "outputs": [
    {
     "data": {
      "text/plain": [
       "[tensor([13,  0, 11,  4, 12]),\n",
       " tensor([10,  1,  7, 14,  3]),\n",
       " tensor([9, 2, 8, 5, 6])]"
      ]
     },
     "execution_count": 266,
     "metadata": {},
     "output_type": "execute_result"
    }
   ],
   "source": [
    "coll = range(15)\n",
    "dl = DataLoader(coll, batch_size=5, shuffle=True)\n",
    "list(dl)"
   ]
  },
  {
   "cell_type": "markdown",
   "metadata": {
    "id": "8ItK2Pyb4bcZ"
   },
   "source": [
    "To train our model we need a collection of independent and dependent variables, which represent our inputs and targets.\n",
    "\n",
    "`x` is independent = inputs (predictions)\n",
    "`y` is dependent = targets (label)\n",
    "\n",
    "The collection of tupples of independent and dependent variables is known as `Dataset`. For example:"
   ]
  },
  {
   "cell_type": "code",
   "execution_count": null,
   "metadata": {
    "colab": {
     "base_uri": "https://localhost:8080/"
    },
    "executionInfo": {
     "elapsed": 15,
     "status": "ok",
     "timestamp": 1706713117746,
     "user": {
      "displayName": "Ioannis Petrousov",
      "userId": "16802625713842772964"
     },
     "user_tz": -60
    },
    "id": "M3zUMK6m5Ra0",
    "outputId": "9f401de2-c204-4ad3-fa7a-a6363ab47fab"
   },
   "outputs": [
    {
     "data": {
      "text/plain": [
       "(#26) [(0, 'a'),(1, 'b'),(2, 'c'),(3, 'd'),(4, 'e'),(5, 'f'),(6, 'g'),(7, 'h'),(8, 'i'),(9, 'j')...]"
      ]
     },
     "execution_count": 267,
     "metadata": {},
     "output_type": "execute_result"
    }
   ],
   "source": [
    "ds = L(enumerate(string.ascii_lowercase))\n",
    "ds"
   ]
  },
  {
   "cell_type": "markdown",
   "metadata": {
    "id": "Wvj6_6i55VJf"
   },
   "source": [
    "When we pass a `Dataset` to a `DataLoader` we get `mini-batches`.\n",
    "\n",
    "These `mini-batches` are `tupples` or `tensors`."
   ]
  },
  {
   "cell_type": "code",
   "execution_count": null,
   "metadata": {
    "colab": {
     "base_uri": "https://localhost:8080/"
    },
    "executionInfo": {
     "elapsed": 13,
     "status": "ok",
     "timestamp": 1706713117746,
     "user": {
      "displayName": "Ioannis Petrousov",
      "userId": "16802625713842772964"
     },
     "user_tz": -60
    },
    "id": "PhwH6IaE5Ra0",
    "outputId": "a1adea8d-8c94-46bc-cb9f-9c49e35a1932"
   },
   "outputs": [
    {
     "data": {
      "text/plain": [
       "[(tensor([14,  8,  5, 11, 25, 16]), ('o', 'i', 'f', 'l', 'z', 'q')),\n",
       " (tensor([18,  6, 13, 20,  7,  1]), ('s', 'g', 'n', 'u', 'h', 'b')),\n",
       " (tensor([ 2,  4, 22, 12,  0, 10]), ('c', 'e', 'w', 'm', 'a', 'k')),\n",
       " (tensor([17, 15, 21,  9, 24,  3]), ('r', 'p', 'v', 'j', 'y', 'd')),\n",
       " (tensor([19, 23]), ('t', 'x'))]"
      ]
     },
     "execution_count": 268,
     "metadata": {},
     "output_type": "execute_result"
    }
   ],
   "source": [
    "dl = DataLoader(ds, batch_size=6, shuffle=True)\n",
    "list(dl)"
   ]
  },
  {
   "cell_type": "markdown",
   "metadata": {
    "id": "DL641ISz5Ra0"
   },
   "source": [
    "## Putting It All Together\n",
    "\n",
    "We are going to put our `loss` and `SGD` functions together in our 7 step approach."
   ]
  },
  {
   "cell_type": "code",
   "execution_count": null,
   "metadata": {
    "colab": {
     "base_uri": "https://localhost:8080/",
     "height": 125
    },
    "executionInfo": {
     "elapsed": 12,
     "status": "ok",
     "timestamp": 1706713117746,
     "user": {
      "displayName": "Ioannis Petrousov",
      "userId": "16802625713842772964"
     },
     "user_tz": -60
    },
    "id": "UYjxtAPUgyNF",
    "outputId": "09b66e7e-3fa2-40df-e90a-00469bafcd54"
   },
   "outputs": [
    {
     "data": {
      "image/svg+xml": [
       "<?xml version=\"1.0\" encoding=\"UTF-8\" standalone=\"no\"?>\n",
       "<!DOCTYPE svg PUBLIC \"-//W3C//DTD SVG 1.1//EN\"\n",
       " \"http://www.w3.org/Graphics/SVG/1.1/DTD/svg11.dtd\">\n",
       "<!-- Generated by graphviz version 2.43.0 (0)\n",
       " -->\n",
       "<!-- Title: G Pages: 1 -->\n",
       "<svg width=\"591pt\" height=\"78pt\"\n",
       " viewBox=\"0.00 0.00 591.49 78.00\" xmlns=\"http://www.w3.org/2000/svg\" xmlns:xlink=\"http://www.w3.org/1999/xlink\">\n",
       "<g id=\"graph0\" class=\"graph\" transform=\"scale(1 1) rotate(0) translate(4 74)\">\n",
       "<title>G</title>\n",
       "<polygon fill=\"white\" stroke=\"transparent\" points=\"-4,4 -4,-74 587.49,-74 587.49,4 -4,4\"/>\n",
       "<!-- init -->\n",
       "<g id=\"node1\" class=\"node\">\n",
       "<title>init</title>\n",
       "<ellipse fill=\"none\" stroke=\"black\" cx=\"27\" cy=\"-18\" rx=\"27\" ry=\"18\"/>\n",
       "<text text-anchor=\"middle\" x=\"27\" y=\"-14.3\" font-family=\"Times,serif\" font-size=\"14.00\">init</text>\n",
       "</g>\n",
       "<!-- predict -->\n",
       "<g id=\"node2\" class=\"node\">\n",
       "<title>predict</title>\n",
       "<ellipse fill=\"none\" stroke=\"black\" cx=\"126.1\" cy=\"-18\" rx=\"35.19\" ry=\"18\"/>\n",
       "<text text-anchor=\"middle\" x=\"126.1\" y=\"-14.3\" font-family=\"Times,serif\" font-size=\"14.00\">predict</text>\n",
       "</g>\n",
       "<!-- init&#45;&gt;predict -->\n",
       "<g id=\"edge1\" class=\"edge\">\n",
       "<title>init&#45;&gt;predict</title>\n",
       "<path fill=\"none\" stroke=\"black\" d=\"M54.02,-18C62.26,-18 71.62,-18 80.78,-18\"/>\n",
       "<polygon fill=\"black\" stroke=\"black\" points=\"80.96,-21.5 90.96,-18 80.96,-14.5 80.96,-21.5\"/>\n",
       "</g>\n",
       "<!-- loss -->\n",
       "<g id=\"node3\" class=\"node\">\n",
       "<title>loss</title>\n",
       "<ellipse fill=\"none\" stroke=\"black\" cx=\"225.19\" cy=\"-52\" rx=\"27\" ry=\"18\"/>\n",
       "<text text-anchor=\"middle\" x=\"225.19\" y=\"-48.3\" font-family=\"Times,serif\" font-size=\"14.00\">loss</text>\n",
       "</g>\n",
       "<!-- predict&#45;&gt;loss -->\n",
       "<g id=\"edge2\" class=\"edge\">\n",
       "<title>predict&#45;&gt;loss</title>\n",
       "<path fill=\"none\" stroke=\"black\" d=\"M155.44,-27.93C166.61,-31.84 179.52,-36.36 191.11,-40.42\"/>\n",
       "<polygon fill=\"black\" stroke=\"black\" points=\"190.29,-43.84 200.88,-43.84 192.6,-37.23 190.29,-43.84\"/>\n",
       "</g>\n",
       "<!-- gradient -->\n",
       "<g id=\"node4\" class=\"node\">\n",
       "<title>gradient</title>\n",
       "<ellipse fill=\"none\" stroke=\"black\" cx=\"361.84\" cy=\"-52\" rx=\"39.79\" ry=\"18\"/>\n",
       "<text text-anchor=\"middle\" x=\"361.84\" y=\"-48.3\" font-family=\"Times,serif\" font-size=\"14.00\">gradient</text>\n",
       "</g>\n",
       "<!-- loss&#45;&gt;gradient -->\n",
       "<g id=\"edge3\" class=\"edge\">\n",
       "<title>loss&#45;&gt;gradient</title>\n",
       "<path fill=\"none\" stroke=\"black\" d=\"M252.47,-52C269.35,-52 291.8,-52 311.88,-52\"/>\n",
       "<polygon fill=\"black\" stroke=\"black\" points=\"312.13,-55.5 322.13,-52 312.13,-48.5 312.13,-55.5\"/>\n",
       "</g>\n",
       "<!-- step -->\n",
       "<g id=\"node5\" class=\"node\">\n",
       "<title>step</title>\n",
       "<ellipse fill=\"none\" stroke=\"black\" cx=\"465.49\" cy=\"-18\" rx=\"27\" ry=\"18\"/>\n",
       "<text text-anchor=\"middle\" x=\"465.49\" y=\"-14.3\" font-family=\"Times,serif\" font-size=\"14.00\">step</text>\n",
       "</g>\n",
       "<!-- gradient&#45;&gt;step -->\n",
       "<g id=\"edge4\" class=\"edge\">\n",
       "<title>gradient&#45;&gt;step</title>\n",
       "<path fill=\"none\" stroke=\"black\" d=\"M394.17,-41.52C405.92,-37.59 419.32,-33.11 431.25,-29.12\"/>\n",
       "<polygon fill=\"black\" stroke=\"black\" points=\"432.48,-32.4 440.85,-25.91 430.26,-25.76 432.48,-32.4\"/>\n",
       "</g>\n",
       "<!-- step&#45;&gt;predict -->\n",
       "<g id=\"edge6\" class=\"edge\">\n",
       "<title>step&#45;&gt;predict</title>\n",
       "<path fill=\"none\" stroke=\"black\" d=\"M438.29,-18C380.72,-18 242.6,-18 171.32,-18\"/>\n",
       "<polygon fill=\"black\" stroke=\"black\" points=\"171.3,-14.5 161.3,-18 171.3,-21.5 171.3,-14.5\"/>\n",
       "<text text-anchor=\"middle\" x=\"287.19\" y=\"-21.8\" font-family=\"Times,serif\" font-size=\"14.00\">repeat</text>\n",
       "</g>\n",
       "<!-- stop -->\n",
       "<g id=\"node6\" class=\"node\">\n",
       "<title>stop</title>\n",
       "<ellipse fill=\"none\" stroke=\"black\" cx=\"556.49\" cy=\"-18\" rx=\"27\" ry=\"18\"/>\n",
       "<text text-anchor=\"middle\" x=\"556.49\" y=\"-14.3\" font-family=\"Times,serif\" font-size=\"14.00\">stop</text>\n",
       "</g>\n",
       "<!-- step&#45;&gt;stop -->\n",
       "<g id=\"edge5\" class=\"edge\">\n",
       "<title>step&#45;&gt;stop</title>\n",
       "<path fill=\"none\" stroke=\"black\" d=\"M492.71,-18C501.04,-18 510.4,-18 519.3,-18\"/>\n",
       "<polygon fill=\"black\" stroke=\"black\" points=\"519.45,-21.5 529.45,-18 519.45,-14.5 519.45,-21.5\"/>\n",
       "</g>\n",
       "</g>\n",
       "</svg>\n"
      ],
      "text/plain": [
       "<graphviz.sources.Source at 0x7b97f4103ac0>"
      ]
     },
     "execution_count": 269,
     "metadata": {},
     "output_type": "execute_result"
    }
   ],
   "source": [
    "gv('''\n",
    "init->predict->loss->gradient->step->stop\n",
    "step->predict[label=repeat]\n",
    "''')"
   ]
  },
  {
   "cell_type": "markdown",
   "metadata": {
    "id": "FpJhqeF_hM2n"
   },
   "source": [
    "### Prepare datasets\n",
    "\n",
    "Before doing anyting, we need to prepare out datasets"
   ]
  },
  {
   "cell_type": "code",
   "execution_count": null,
   "metadata": {
    "colab": {
     "base_uri": "https://localhost:8080/"
    },
    "executionInfo": {
     "elapsed": 11,
     "status": "ok",
     "timestamp": 1706713117746,
     "user": {
      "displayName": "Ioannis Petrousov",
      "userId": "16802625713842772964"
     },
     "user_tz": -60
    },
    "id": "oMiSSpaubryD",
    "outputId": "cb14b164-0cd1-4464-88a5-45524497ee46"
   },
   "outputs": [
    {
     "data": {
      "text/plain": [
       "(torch.Size([12396, 784]), torch.Size([12396, 1]))"
      ]
     },
     "execution_count": 270,
     "metadata": {},
     "output_type": "execute_result"
    }
   ],
   "source": [
    "train_x = torch.cat([stacked_threes, stacked_sevens]).view(-1, 28*28)\n",
    "train_y = tensor([1]*len(threes) + [0]*len(sevens)).unsqueeze(1)\n",
    "train_x.shape, train_y.shape"
   ]
  },
  {
   "cell_type": "markdown",
   "metadata": {
    "id": "KwjrTwvvlsQq"
   },
   "source": [
    "A Dataset in PyTorch is required to return a tuple of `(x,y)` when indexed."
   ]
  },
  {
   "cell_type": "code",
   "execution_count": null,
   "metadata": {
    "colab": {
     "base_uri": "https://localhost:8080/"
    },
    "executionInfo": {
     "elapsed": 10,
     "status": "ok",
     "timestamp": 1706713117746,
     "user": {
      "displayName": "Ioannis Petrousov",
      "userId": "16802625713842772964"
     },
     "user_tz": -60
    },
    "id": "9ZqQiFbd5Ray",
    "outputId": "d20b4efc-9a3c-49c8-9d12-86ccabffe694"
   },
   "outputs": [
    {
     "data": {
      "text/plain": [
       "(torch.Size([784]), tensor([1]), torch.Tensor, torch.Tensor)"
      ]
     },
     "execution_count": 271,
     "metadata": {},
     "output_type": "execute_result"
    }
   ],
   "source": [
    "# Demonstration of how creating a Dataset works using only built-in Python\n",
    "train_dataset = list(zip(train_x, train_y)) # Collection of independent and dependent variables\n",
    "x,y = train_dataset[0]\n",
    "x.shape, y, type(x), type(y)"
   ]
  },
  {
   "cell_type": "code",
   "execution_count": null,
   "metadata": {
    "colab": {
     "base_uri": "https://localhost:8080/"
    },
    "executionInfo": {
     "elapsed": 305,
     "status": "ok",
     "timestamp": 1706713287503,
     "user": {
      "displayName": "Ioannis Petrousov",
      "userId": "16802625713842772964"
     },
     "user_tz": -60
    },
    "id": "_OK4JXR35Ra0",
    "outputId": "feb386cf-ce3a-4b03-ef0d-cf4f2580ffae"
   },
   "outputs": [
    {
     "data": {
      "text/plain": [
       "(torch.Size([256, 784]), torch.Size([256, 1]))"
      ]
     },
     "execution_count": 309,
     "metadata": {},
     "output_type": "execute_result"
    }
   ],
   "source": [
    "# Create the DataLoader for the training dataset\n",
    "train_dl = DataLoader(train_dataset, batch_size=256, shuffle=True) # Why the images have not been randomized ? ? ? ?\n",
    "xb,yb = first(train_dl)\n",
    "xb.shape,yb.shape # Just a single tensor pair in the dataset"
   ]
  },
  {
   "cell_type": "code",
   "execution_count": null,
   "metadata": {
    "id": "Zg1l6kk8J9eM"
   },
   "outputs": [],
   "source": [
    "#valid_3_tensors = torch.stack([tensor(Image.open(o))\n",
    "#                            for o in (path/'valid'/'3').ls()])\n",
    "#valid_3_tensors = valid_3_tensors.float()/255\n",
    "#-------------------------------------------------------------------\n",
    "\n",
    "# valid_3_tensors are the validation images, we could also stack them and do the same as with stacked_threes\n",
    "valid_x = torch.cat([valid_3_tensors, valid_7_tensors]).view(-1, 28*28)\n",
    "valid_y = tensor([1]*len(valid_3_tensors) + [0]*len(valid_7_tensors)).unsqueeze(1)\n",
    "valid_dataset = list(zip(valid_x, valid_y))"
   ]
  },
  {
   "cell_type": "code",
   "execution_count": null,
   "metadata": {
    "id": "zAcZeQM05Ra0"
   },
   "outputs": [],
   "source": [
    "# Create the DataLoader for the validation dataset; the values are not randomized\n",
    "valid_dl = DataLoader(valid_dataset, batch_size=256, shuffle=True)"
   ]
  },
  {
   "cell_type": "markdown",
   "metadata": {
    "id": "0MN-u1vRirlS"
   },
   "source": [
    "### Let's test our approach with a small mini-batch first\n",
    "\n",
    "That's to test our understanding and validate the approach."
   ]
  },
  {
   "cell_type": "code",
   "execution_count": null,
   "metadata": {
    "id": "nJl82wGni6ap"
   },
   "outputs": [],
   "source": [
    "# 1. Initialize params\n",
    "weights = init_params((28*28,1))\n",
    "bias = init_params(1)\n",
    "params = weights, bias\n",
    "\n",
    "# Create a mini-batch of 10 items\n",
    "train_batch = train_x[:10]\n",
    "valid_batch = valid_y[:10]\n",
    "\n",
    "# 2. Calculate the predictions\n",
    "preds = linear1(train_batch)\n",
    "\n",
    "# 3. Calculate the loss\n",
    "loss = mnist_loss(preds, valid_batch)\n",
    "\n",
    "# 4. Calculate the gradient\n",
    "loss.backward()\n",
    "\n",
    "# 5. Update parameters (step)\n",
    "for p in params:\n",
    "  p.data -= p.grad * lr\n",
    "  p.grad.zero_() # Note this is an inline replacement"
   ]
  },
  {
   "cell_type": "markdown",
   "metadata": {
    "id": "YQVNqGnglBZu"
   },
   "source": [
    "Let's see the accuracy of the model."
   ]
  },
  {
   "cell_type": "code",
   "execution_count": null,
   "metadata": {
    "colab": {
     "base_uri": "https://localhost:8080/"
    },
    "executionInfo": {
     "elapsed": 7,
     "status": "ok",
     "timestamp": 1706713117747,
     "user": {
      "displayName": "Ioannis Petrousov",
      "userId": "16802625713842772964"
     },
     "user_tz": -60
    },
    "id": "WGBREr-D9OPr",
    "outputId": "99ae61f8-3e44-449a-c359-c23d932856d4"
   },
   "outputs": [
    {
     "data": {
      "text/plain": [
       "tensor([[1],\n",
       "        [1],\n",
       "        [1],\n",
       "        [1],\n",
       "        [1],\n",
       "        [1],\n",
       "        [1],\n",
       "        [1],\n",
       "        [1],\n",
       "        [1]])"
      ]
     },
     "execution_count": 276,
     "metadata": {},
     "output_type": "execute_result"
    }
   ],
   "source": [
    "valid_batch"
   ]
  },
  {
   "cell_type": "code",
   "execution_count": null,
   "metadata": {
    "colab": {
     "base_uri": "https://localhost:8080/"
    },
    "executionInfo": {
     "elapsed": 294,
     "status": "ok",
     "timestamp": 1706713118035,
     "user": {
      "displayName": "Ioannis Petrousov",
      "userId": "16802625713842772964"
     },
     "user_tz": -60
    },
    "id": "6dQclzsHk94E",
    "outputId": "f16b7616-cb62-4dd1-acf7-38bb16dea70b"
   },
   "outputs": [
    {
     "data": {
      "text/plain": [
       "(tensor([[ 2.3889],\n",
       "         [ 9.1074],\n",
       "         [10.5157],\n",
       "         [-2.9623],\n",
       "         [ 4.1610],\n",
       "         [11.6520],\n",
       "         [ 2.6821],\n",
       "         [ 7.2328],\n",
       "         [ 0.8178],\n",
       "         [ 2.5266]], grad_fn=<AddBackward0>),\n",
       " tensor([[ True],\n",
       "         [ True],\n",
       "         [ True],\n",
       "         [False],\n",
       "         [ True],\n",
       "         [ True],\n",
       "         [ True],\n",
       "         [ True],\n",
       "         [ True],\n",
       "         [ True]]))"
      ]
     },
     "execution_count": 277,
     "metadata": {},
     "output_type": "execute_result"
    }
   ],
   "source": [
    "preds, (preds>0.0).float() == valid_batch"
   ]
  },
  {
   "cell_type": "code",
   "execution_count": null,
   "metadata": {
    "colab": {
     "base_uri": "https://localhost:8080/"
    },
    "executionInfo": {
     "elapsed": 6,
     "status": "ok",
     "timestamp": 1706713118035,
     "user": {
      "displayName": "Ioannis Petrousov",
      "userId": "16802625713842772964"
     },
     "user_tz": -60
    },
    "id": "eYcbf2UDmGpz",
    "outputId": "80461550-3115-484f-ab38-12da2d023f46"
   },
   "outputs": [
    {
     "data": {
      "text/plain": [
       "tensor(0.9000)"
      ]
     },
     "execution_count": 278,
     "metadata": {},
     "output_type": "execute_result"
    }
   ],
   "source": [
    "# Calculate the average accuracy\n",
    "preds = preds.sigmoid()\n",
    "correct = (preds>0.5) == valid_batch\n",
    "correct.float().mean() # This should correspond to the result from the accuracy calculation"
   ]
  },
  {
   "cell_type": "code",
   "execution_count": null,
   "metadata": {
    "colab": {
     "base_uri": "https://localhost:8080/"
    },
    "executionInfo": {
     "elapsed": 5,
     "status": "ok",
     "timestamp": 1706713118035,
     "user": {
      "displayName": "Ioannis Petrousov",
      "userId": "16802625713842772964"
     },
     "user_tz": -60
    },
    "id": "qcy1JgsDmx3K",
    "outputId": "ded5c9af-bf0d-4cf3-ef28-d41e958423d6"
   },
   "outputs": [
    {
     "data": {
      "text/plain": [
       "tensor(0.1495, grad_fn=<MeanBackward0>)"
      ]
     },
     "execution_count": 279,
     "metadata": {},
     "output_type": "execute_result"
    }
   ],
   "source": [
    "loss"
   ]
  },
  {
   "cell_type": "markdown",
   "metadata": {
    "id": "XFBbDqH_g7o6"
   },
   "source": [
    "### Put everything together for a larger dataset\n",
    "\n",
    "`train_dl` and `valid_dl`\n",
    "\n"
   ]
  },
  {
   "cell_type": "code",
   "execution_count": null,
   "metadata": {
    "colab": {
     "base_uri": "https://localhost:8080/"
    },
    "executionInfo": {
     "elapsed": 5,
     "status": "ok",
     "timestamp": 1706713118035,
     "user": {
      "displayName": "Ioannis Petrousov",
      "userId": "16802625713842772964"
     },
     "user_tz": -60
    },
    "id": "qho-th6-qQnA",
    "outputId": "9cec5e19-0fea-449f-b28d-a5eb47208fae"
   },
   "outputs": [
    {
     "data": {
      "text/plain": [
       "(torch.Size([12396, 784]), torch.Size([12396, 1]))"
      ]
     },
     "execution_count": 280,
     "metadata": {},
     "output_type": "execute_result"
    }
   ],
   "source": [
    "train_x.shape, train_y.shape"
   ]
  },
  {
   "cell_type": "code",
   "execution_count": null,
   "metadata": {
    "id": "Lg3Gqi8vB5P6"
   },
   "outputs": [],
   "source": [
    "# 1. Init the params\n",
    "def set_params():\n",
    "  weights = init_params((28*28,1))\n",
    "  bias = init_params(1)\n",
    "  return weights, bias\n"
   ]
  },
  {
   "cell_type": "code",
   "execution_count": null,
   "metadata": {
    "id": "qfRlkoYmCP57"
   },
   "outputs": [],
   "source": [
    "# 2. Calculate the predictions, loss\n",
    "def calc_grad(xb, yb, model):\n",
    "  preds = model(xb)\n",
    "  loss = mnist_loss(preds, yb)\n",
    "  loss.backward()"
   ]
  },
  {
   "cell_type": "code",
   "execution_count": null,
   "metadata": {
    "id": "fzBeL1JH5Ra0"
   },
   "outputs": [],
   "source": [
    "# 3. Calculate gradient and Update parameters (step)\n",
    "def train_epoch(model, lr, params):\n",
    "  \"\"\" Trains the model for one epoch. Training for one epoch is equal to the training on the size of the mini-batch-256 images \"\"\"\n",
    "  for xb, yb, in train_dl: # Extracts each mini-batch from the DataLoader\n",
    "    calc_grad(xb, yb, model)\n",
    "    for p in params:\n",
    "      p.data -= p.grad * lr\n",
    "      p.grad.zero_()"
   ]
  },
  {
   "cell_type": "code",
   "execution_count": null,
   "metadata": {
    "id": "BZINoJbkCXt8"
   },
   "outputs": [],
   "source": [
    "# Print the average accuracy of the model\n",
    "def batch_accuracy(xb, yb):\n",
    "    preds = xb.sigmoid()\n",
    "    correct = (preds>0.5) == yb\n",
    "    return correct.float().mean()"
   ]
  },
  {
   "cell_type": "code",
   "execution_count": null,
   "metadata": {
    "id": "1NJvBk22CYxT"
   },
   "outputs": [],
   "source": [
    "def validate_epoch(model):\n",
    "  \"\"\" Returns mean accuracy from the validation dataloader \"\"\"\n",
    "  total_accuracy = []\n",
    "  for xb, yb in valid_dl:\n",
    "    total_accuracy.append(batch_accuracy(model(xb), yb))\n",
    "  return round(torch.stack(total_accuracy).mean().item(), 4)"
   ]
  },
  {
   "cell_type": "code",
   "execution_count": null,
   "metadata": {
    "colab": {
     "base_uri": "https://localhost:8080/"
    },
    "executionInfo": {
     "elapsed": 3,
     "status": "ok",
     "timestamp": 1706714032970,
     "user": {
      "displayName": "Ioannis Petrousov",
      "userId": "16802625713842772964"
     },
     "user_tz": -60
    },
    "id": "PbumljYx_rdL",
    "outputId": "b37cec03-901a-42ee-8aa9-958b5c405579"
   },
   "outputs": [
    {
     "data": {
      "text/plain": [
       "0.9765"
      ]
     },
     "execution_count": 353,
     "metadata": {},
     "output_type": "execute_result"
    }
   ],
   "source": [
    "params = set_params()\n",
    "lr = 1.\n",
    "params = weights,bias\n",
    "train_epoch(linear1, lr, params)\n",
    "validate_epoch(linear1)"
   ]
  },
  {
   "cell_type": "markdown",
   "metadata": {
    "id": "yXmujnkUBVQM"
   },
   "source": [
    "Let's train the model for a few epochs."
   ]
  },
  {
   "cell_type": "code",
   "execution_count": null,
   "metadata": {
    "colab": {
     "base_uri": "https://localhost:8080/"
    },
    "executionInfo": {
     "elapsed": 1835,
     "status": "ok",
     "timestamp": 1706713895487,
     "user": {
      "displayName": "Ioannis Petrousov",
      "userId": "16802625713842772964"
     },
     "user_tz": -60
    },
    "id": "hzpRwtggBR8A",
    "outputId": "392ad434-4063-4695-b2be-a8dee7f814ba"
   },
   "outputs": [
    {
     "name": "stdout",
     "output_type": "stream",
     "text": [
      "0.8474 0.926 0.9459 0.9574 0.9623 0.9641 0.9657 0.9666 0.9676 0.9685 0.969 0.9705 0.9716 0.972 0.9721 0.9726 0.9735 0.9735 0.974 0.9755 "
     ]
    }
   ],
   "source": [
    "weights = init_params((28*28,1))\n",
    "bias = init_params(1)\n",
    "parameters = weights, bias\n",
    "lr = 1\n",
    "\n",
    "for e in range(20):\n",
    "  train_epoch(linear1, lr, parameters)\n",
    "  print(validate_epoch(linear1), end=\" \") # Outputs the accuracy for each epoch;Should be going UP"
   ]
  },
  {
   "cell_type": "markdown",
   "metadata": {
    "id": "ko9ZDjqs5Ra1"
   },
   "source": [
    "### Creating an Optimizer\n",
    "\n",
    "An `optimizer` is an object that performs the `SGD` In PyTorch.\n",
    "\n",
    "`PyTorch` provides the bundle of a `model` and `parameters` (`weights` and `bias`) in a single module. That module is called `nn.Linear`.\n",
    "\n",
    "It contains both the weights and biases in a single class. Here's how we replicate our model from the previous section:"
   ]
  },
  {
   "cell_type": "code",
   "execution_count": null,
   "metadata": {
    "id": "DhKuSWLH5Ra1"
   },
   "outputs": [],
   "source": [
    "linear_model = nn.Linear(28*28,1) # Applies a linear transformation to the incoming data :math:`y = xA^T + b`"
   ]
  },
  {
   "cell_type": "code",
   "execution_count": null,
   "metadata": {
    "colab": {
     "base_uri": "https://localhost:8080/"
    },
    "executionInfo": {
     "elapsed": 295,
     "status": "ok",
     "timestamp": 1706715783385,
     "user": {
      "displayName": "Ioannis Petrousov",
      "userId": "16802625713842772964"
     },
     "user_tz": -60
    },
    "id": "RE13l5Io5Ra1",
    "outputId": "a55d50ac-0cfd-42d5-b641-198ac8b5d1c3"
   },
   "outputs": [
    {
     "data": {
      "text/plain": [
       "(torch.Size([1, 784]), torch.Size([1]))"
      ]
     },
     "execution_count": 392,
     "metadata": {},
     "output_type": "execute_result"
    }
   ],
   "source": [
    "w,b = linear_model.parameters()\n",
    "w.shape,b.shape"
   ]
  },
  {
   "cell_type": "markdown",
   "metadata": {
    "id": "iVsfu8wsIRcw"
   },
   "source": [
    "We can use this information to create an optimizer:"
   ]
  },
  {
   "cell_type": "code",
   "execution_count": null,
   "metadata": {
    "id": "hS_EHHiV5Ra1"
   },
   "outputs": [],
   "source": [
    "class BasicOptimizer:\n",
    "    \"\"\" Our handwriten basic optimizer \"\"\"\n",
    "\n",
    "    def __init__(self, params, lr):\n",
    "      self.params = list(params)\n",
    "      self.lr = lr\n",
    "\n",
    "    def step(self, *args, **kwargs):\n",
    "        for p in self.params:\n",
    "          p.data -= p.grad.data * self.lr\n",
    "\n",
    "    def zero_grad(self, *args, **kwargs):\n",
    "        for p in self.params:\n",
    "          p.grad = None"
   ]
  },
  {
   "cell_type": "code",
   "execution_count": null,
   "metadata": {
    "id": "eLT1nTnP5Ra1"
   },
   "outputs": [],
   "source": [
    "# Create our optimizer\n",
    "opt = BasicOptimizer(linear_model.parameters(), lr)"
   ]
  },
  {
   "cell_type": "markdown",
   "metadata": {
    "id": "b7lp4GZOJIEl"
   },
   "source": [
    "Since our model handles the creation of weghts and bias, we simplify our training loop."
   ]
  },
  {
   "cell_type": "code",
   "execution_count": null,
   "metadata": {
    "id": "jwd_5ahf5Ra1"
   },
   "outputs": [],
   "source": [
    "def train_epoch(model):\n",
    "    \"\"\" New function which trains the model without handling parameter update \"\"\"\n",
    "    for xb, yb in train_dl:\n",
    "        calc_grad(xb, yb, model)\n",
    "        opt.step() # The optimizer handler parameter update\n",
    "        opt.zero_grad()"
   ]
  },
  {
   "cell_type": "code",
   "execution_count": null,
   "metadata": {
    "colab": {
     "base_uri": "https://localhost:8080/"
    },
    "executionInfo": {
     "elapsed": 2,
     "status": "ok",
     "timestamp": 1706715845683,
     "user": {
      "displayName": "Ioannis Petrousov",
      "userId": "16802625713842772964"
     },
     "user_tz": -60
    },
    "id": "CefWNz2h5Ra1",
    "outputId": "a34c73c0-3ecb-4efc-990c-63f41360c57e"
   },
   "outputs": [
    {
     "data": {
      "text/plain": [
       "0.4695"
      ]
     },
     "execution_count": 402,
     "metadata": {},
     "output_type": "execute_result"
    }
   ],
   "source": [
    "validate_epoch(linear_model) # if you re-run this after the model has been trained, it should be higher than before."
   ]
  },
  {
   "cell_type": "code",
   "execution_count": null,
   "metadata": {
    "id": "GaFj4ZFo5Ra1"
   },
   "outputs": [],
   "source": [
    "def train_model(model, epochs):\n",
    "    \"\"\" Trains the model for a number of epochs \"\"\"\n",
    "    for _ in range(epochs):\n",
    "        train_epoch(model)\n",
    "        print(validate_epoch(model), end=' ')"
   ]
  },
  {
   "cell_type": "code",
   "execution_count": null,
   "metadata": {
    "colab": {
     "base_uri": "https://localhost:8080/"
    },
    "executionInfo": {
     "elapsed": 2000,
     "status": "ok",
     "timestamp": 1706715850616,
     "user": {
      "displayName": "Ioannis Petrousov",
      "userId": "16802625713842772964"
     },
     "user_tz": -60
    },
    "id": "6M-agavM5Ra1",
    "outputId": "df9acf5d-f405-4aa1-8144-e118d622f90a"
   },
   "outputs": [
    {
     "name": "stdout",
     "output_type": "stream",
     "text": [
      "0.9721 0.975 0.977 0.9784 0.977 0.978 0.9784 0.9794 0.9789 0.9804 0.9794 0.9794 0.9794 0.9808 0.9814 0.9808 0.9824 0.9829 0.9829 0.9823 "
     ]
    }
   ],
   "source": [
    "train_model(linear_model, 20)"
   ]
  },
  {
   "cell_type": "markdown",
   "metadata": {
    "id": "GC4jp1HeMejS"
   },
   "source": [
    "`fastai` provides `SGD` class which does the same thing as our hand-writen `BasicOptimizer()`."
   ]
  },
  {
   "cell_type": "code",
   "execution_count": null,
   "metadata": {
    "colab": {
     "base_uri": "https://localhost:8080/"
    },
    "executionInfo": {
     "elapsed": 2074,
     "status": "ok",
     "timestamp": 1706715953040,
     "user": {
      "displayName": "Ioannis Petrousov",
      "userId": "16802625713842772964"
     },
     "user_tz": -60
    },
    "id": "RSAnKNzI5Ra2",
    "outputId": "11075e9d-65f1-4808-b147-f9cb1969e2b7"
   },
   "outputs": [
    {
     "name": "stdout",
     "output_type": "stream",
     "text": [
      "0.9695 0.9754 0.9759 0.977 0.9794 0.9784 0.9794 0.9789 0.9803 0.9794 0.9799 0.9804 0.9814 0.9814 0.9813 0.9819 0.9819 0.9818 0.9814 0.9819 "
     ]
    }
   ],
   "source": [
    "linear_model = nn.Linear(28*28,1) # Re-define the model\n",
    "opt = SGD(linear_model.parameters(), lr) # Initialize optimizer, docs: https://docs.fast.ai/optimizer.html#sgd\n",
    "train_model(linear_model, 20) # Train the model"
   ]
  },
  {
   "cell_type": "markdown",
   "metadata": {
    "id": "VWWuVh6CNr0V"
   },
   "source": [
    "We are gradually substibutin the hand-writen function with functions provided by `fastai`.\n",
    "\n",
    "`fastai` also provides `Learner.fit`, which substitutes `train_model()`.\n",
    "\n",
    "To create a `Learner` we first need to create a `DataLoaders`, by passing in our **training and validation DataLoaders**:"
   ]
  },
  {
   "cell_type": "code",
   "execution_count": null,
   "metadata": {
    "id": "71BDgbja5Ra2"
   },
   "outputs": [],
   "source": [
    "dls = DataLoaders(train_dl, valid_dl)"
   ]
  },
  {
   "cell_type": "code",
   "execution_count": null,
   "metadata": {
    "id": "mMg8bUws5Ra2"
   },
   "outputs": [],
   "source": [
    "learn = Learner(dls, nn.Linear(28*28,1), opt_func=SGD,\n",
    "                loss_func=mnist_loss, metrics=batch_accuracy)"
   ]
  },
  {
   "cell_type": "code",
   "execution_count": null,
   "metadata": {
    "colab": {
     "base_uri": "https://localhost:8080/",
     "height": 363
    },
    "executionInfo": {
     "elapsed": 2032,
     "status": "ok",
     "timestamp": 1706716602026,
     "user": {
      "displayName": "Ioannis Petrousov",
      "userId": "16802625713842772964"
     },
     "user_tz": -60
    },
    "id": "lMQF0d7w5Ra2",
    "outputId": "cf780790-9b36-4e9c-b95f-ef19d346acec"
   },
   "outputs": [
    {
     "data": {
      "text/html": [
       "\n",
       "<style>\n",
       "    /* Turns off some styling */\n",
       "    progress {\n",
       "        /* gets rid of default border in Firefox and Opera. */\n",
       "        border: none;\n",
       "        /* Needs to be in here for Safari polyfill so background images work as expected. */\n",
       "        background-size: auto;\n",
       "    }\n",
       "    progress:not([value]), progress:not([value])::-webkit-progress-bar {\n",
       "        background: repeating-linear-gradient(45deg, #7e7e7e, #7e7e7e 10px, #5c5c5c 10px, #5c5c5c 20px);\n",
       "    }\n",
       "    .progress-bar-interrupted, .progress-bar-interrupted::-webkit-progress-bar {\n",
       "        background: #F44336;\n",
       "    }\n",
       "</style>\n"
      ],
      "text/plain": [
       "<IPython.core.display.HTML object>"
      ]
     },
     "metadata": {},
     "output_type": "display_data"
    },
    {
     "data": {
      "text/html": [
       "<table border=\"1\" class=\"dataframe\">\n",
       "  <thead>\n",
       "    <tr style=\"text-align: left;\">\n",
       "      <th>epoch</th>\n",
       "      <th>train_loss</th>\n",
       "      <th>valid_loss</th>\n",
       "      <th>batch_accuracy</th>\n",
       "      <th>time</th>\n",
       "    </tr>\n",
       "  </thead>\n",
       "  <tbody>\n",
       "    <tr>\n",
       "      <td>0</td>\n",
       "      <td>0.057947</td>\n",
       "      <td>0.040850</td>\n",
       "      <td>0.971541</td>\n",
       "      <td>00:00</td>\n",
       "    </tr>\n",
       "    <tr>\n",
       "      <td>1</td>\n",
       "      <td>0.039965</td>\n",
       "      <td>0.034251</td>\n",
       "      <td>0.974975</td>\n",
       "      <td>00:00</td>\n",
       "    </tr>\n",
       "    <tr>\n",
       "      <td>2</td>\n",
       "      <td>0.032434</td>\n",
       "      <td>0.031637</td>\n",
       "      <td>0.976448</td>\n",
       "      <td>00:00</td>\n",
       "    </tr>\n",
       "    <tr>\n",
       "      <td>3</td>\n",
       "      <td>0.028085</td>\n",
       "      <td>0.029360</td>\n",
       "      <td>0.977920</td>\n",
       "      <td>00:00</td>\n",
       "    </tr>\n",
       "    <tr>\n",
       "      <td>4</td>\n",
       "      <td>0.025726</td>\n",
       "      <td>0.027982</td>\n",
       "      <td>0.978410</td>\n",
       "      <td>00:00</td>\n",
       "    </tr>\n",
       "    <tr>\n",
       "      <td>5</td>\n",
       "      <td>0.023891</td>\n",
       "      <td>0.026874</td>\n",
       "      <td>0.979392</td>\n",
       "      <td>00:00</td>\n",
       "    </tr>\n",
       "    <tr>\n",
       "      <td>6</td>\n",
       "      <td>0.022417</td>\n",
       "      <td>0.026797</td>\n",
       "      <td>0.978901</td>\n",
       "      <td>00:00</td>\n",
       "    </tr>\n",
       "    <tr>\n",
       "      <td>7</td>\n",
       "      <td>0.021609</td>\n",
       "      <td>0.025318</td>\n",
       "      <td>0.979392</td>\n",
       "      <td>00:00</td>\n",
       "    </tr>\n",
       "    <tr>\n",
       "      <td>8</td>\n",
       "      <td>0.021054</td>\n",
       "      <td>0.025304</td>\n",
       "      <td>0.979882</td>\n",
       "      <td>00:00</td>\n",
       "    </tr>\n",
       "    <tr>\n",
       "      <td>9</td>\n",
       "      <td>0.020276</td>\n",
       "      <td>0.024675</td>\n",
       "      <td>0.979882</td>\n",
       "      <td>00:00</td>\n",
       "    </tr>\n",
       "  </tbody>\n",
       "</table>"
      ],
      "text/plain": [
       "<IPython.core.display.HTML object>"
      ]
     },
     "metadata": {},
     "output_type": "display_data"
    }
   ],
   "source": [
    "learn.fit(10, lr=lr) # train the model for 10 epochs"
   ]
  },
  {
   "cell_type": "markdown",
   "metadata": {
    "id": "jpRxAvlZPUt3"
   },
   "source": [
    "We have gradually substibuted out hand-writen functions with ones provides by `fastai` and `pytorch`.\n",
    "\n",
    "The point here is that these are just libraries which implement our basic-handwriten functionality.\n",
    "\n",
    "With these classes, we can now replace our linear model with a neural network."
   ]
  },
  {
   "cell_type": "markdown",
   "metadata": {
    "id": "3dVAuP_N5Ra2"
   },
   "source": [
    "## Adding a Nonlinearity"
   ]
  },
  {
   "cell_type": "markdown",
   "metadata": {
    "id": "UAAGpt6UR5a9"
   },
   "source": [
    "So far we have a general procedure for optimizing the parameters of a function, and we have tried it out on a very boring function: a simple linear classifier. A linear classifier is very constrained in terms of what it can do. To make it a bit more complex (and able to handle more tasks), we need to add something nonlinear between two linear classifiers—this is what gives us a neural network.\n",
    "\n",
    "Here is the entire definition of a basic neural network:"
   ]
  },
  {
   "cell_type": "code",
   "execution_count": null,
   "metadata": {
    "id": "nTKXzNyv5Ra2"
   },
   "outputs": [],
   "source": [
    "def simple_net(xb):\n",
    "    \"\"\" Returns a non-linear neural network \"\"\"\n",
    "    res = xb@w1 + b1 # Layer 1\n",
    "    res = res.max(tensor(0.0)) #Layer 2 # Takes either the number of res, or 0.0 == ReLU\n",
    "    res = res@w2 + b2 # Layer 3\n",
    "    return res"
   ]
  },
  {
   "cell_type": "markdown",
   "metadata": {
    "id": "nrsPLw9wSHv6"
   },
   "source": [
    "`simple_net()` consists is two linear classifiers with a max function between them.\n",
    "\n",
    "Next we initialize the parameters."
   ]
  },
  {
   "cell_type": "code",
   "execution_count": null,
   "metadata": {
    "id": "2wOoBIY25Ra2"
   },
   "outputs": [],
   "source": [
    "w1 = init_params((28*28,30))\n",
    "b1 = init_params(30)\n",
    "w2 = init_params((30,1))\n",
    "b2 = init_params(1)"
   ]
  },
  {
   "cell_type": "markdown",
   "metadata": {
    "id": "iEQL_r7MS8zt"
   },
   "source": [
    "`w1` has 30 output activations. Which means that `w2` must have 30 input activations, so they match.\n",
    "\n",
    "That **means that the first layer can construct 30 different features**, each representing some **different mix of pixels**. You **can change that 30 to anything you like**, to make the model more or less complex.\n",
    "\n",
    "`res.max(tensor(0.0))` is called a rectified linear unit, also known as ReLU. In `pytcorch` it's defined as `F.relu`. It replaces every negative number into 0."
   ]
  },
  {
   "cell_type": "code",
   "execution_count": null,
   "metadata": {
    "colab": {
     "base_uri": "https://localhost:8080/",
     "height": 372
    },
    "executionInfo": {
     "elapsed": 699,
     "status": "ok",
     "timestamp": 1706717864728,
     "user": {
      "displayName": "Ioannis Petrousov",
      "userId": "16802625713842772964"
     },
     "user_tz": -60
    },
    "id": "XSKCNeIK5Ra2",
    "outputId": "dbc3a51b-bfb8-4385-8227-eb38439da873"
   },
   "outputs": [
    {
     "data": {
      "image/png": "[encoded data removed]",
      "text/plain": [
       "<Figure size 600x400 with 1 Axes>"
      ]
     },
     "metadata": {},
     "output_type": "display_data"
    }
   ],
   "source": [
    "plot_function(F.relu)"
   ]
  },
  {
   "cell_type": "markdown",
   "metadata": {
    "id": "4V6OZ5pfUeIP"
   },
   "source": [
    "Mathematically, we say the **composition of two linear functions is another linear function**.\n",
    "\n",
    "This means that if we just add 2 linear function, without a non-linear one in between, why not just replace the 2 linear functions with one?\n",
    "\n",
    "So, if we can stack as many linear classifiers as we want on top of each other, and without nonlinear functions between them, it will just be the same as one linear classifier.\n",
    "\n",
    "The basic idea is that by using more linear layers, we can have our model do more computation, and therefore model more complex functions. But there's no point just putting one linear layer directly after another one, because when we multiply things together and then add them up multiple times, that could be replaced by multiplying different things together and adding them up just once! That is to say, a series of any number of linear layers in a row can be replaced with a single linear layer with a different set of parameters."
   ]
  },
  {
   "cell_type": "markdown",
   "metadata": {
    "id": "MqOjutRFVkLl"
   },
   "source": [
    "It's proven in the `universa approximation theorem` that the `simple_net()` function can solve and computable problem to an arbitrary high level of accuracy. How? By finding the right paramters for `w1` and `w2` and making the matrices large enough.\n",
    "\n",
    "For any arbitrarily wiggly function, we can approximate it as a bunch of lines joined together; to make it closer to the wiggly function, we just have to use shorter lines.\n",
    "\n",
    "This is known as the universal approximation theorem.\n",
    "\n",
    "The 3 lines of code in `simple_net()` are known as layers.\n",
    "**bold text**\n",
    "\n",
    " - the first and thirs layers are linear\n",
    " - the second (middle) layer known as variously nonlinear - **activation function**\n",
    "\n",
    " Just as before, we can replace this hand-writen code with `pytorch` functions."
   ]
  },
  {
   "cell_type": "code",
   "execution_count": null,
   "metadata": {
    "id": "NRckfBcX5Ra2"
   },
   "outputs": [],
   "source": [
    "simple_net = nn.Sequential(\n",
    "    nn.Linear(28*28,30), # Layer 1 - linear\n",
    "    nn.ReLU(), # Layer 2 nonlinear - activation function\n",
    "    nn.Linear(30,1) # Layer 3 - linear\n",
    ")"
   ]
  },
  {
   "cell_type": "markdown",
   "metadata": {
    "id": "qWcuX-X0Yl7Z"
   },
   "source": [
    "\n",
    "\n",
    "Let's combine the `simple_net` in a `Learner`. Remember `Learner()` replaces the `train_model()`."
   ]
  },
  {
   "cell_type": "code",
   "execution_count": null,
   "metadata": {
    "id": "2ktZVYUT5Ra2"
   },
   "outputs": [],
   "source": [
    "learn = Learner(dls, simple_net, opt_func=SGD,\n",
    "                loss_func=mnist_loss, metrics=batch_accuracy)"
   ]
  },
  {
   "cell_type": "code",
   "execution_count": null,
   "metadata": {
    "colab": {
     "base_uri": "https://localhost:8080/",
     "height": 1000
    },
    "executionInfo": {
     "elapsed": 10028,
     "status": "ok",
     "timestamp": 1706719215556,
     "user": {
      "displayName": "Ioannis Petrousov",
      "userId": "16802625713842772964"
     },
     "user_tz": -60
    },
    "id": "eC_vid8G5Ra2",
    "outputId": "e8d9068b-87f3-4c61-eda8-13e6ca2e0b45"
   },
   "outputs": [
    {
     "data": {
      "text/html": [
       "\n",
       "<style>\n",
       "    /* Turns off some styling */\n",
       "    progress {\n",
       "        /* gets rid of default border in Firefox and Opera. */\n",
       "        border: none;\n",
       "        /* Needs to be in here for Safari polyfill so background images work as expected. */\n",
       "        background-size: auto;\n",
       "    }\n",
       "    progress:not([value]), progress:not([value])::-webkit-progress-bar {\n",
       "        background: repeating-linear-gradient(45deg, #7e7e7e, #7e7e7e 10px, #5c5c5c 10px, #5c5c5c 20px);\n",
       "    }\n",
       "    .progress-bar-interrupted, .progress-bar-interrupted::-webkit-progress-bar {\n",
       "        background: #F44336;\n",
       "    }\n",
       "</style>\n"
      ],
      "text/plain": [
       "<IPython.core.display.HTML object>"
      ]
     },
     "metadata": {},
     "output_type": "display_data"
    },
    {
     "data": {
      "text/html": [
       "<table border=\"1\" class=\"dataframe\">\n",
       "  <thead>\n",
       "    <tr style=\"text-align: left;\">\n",
       "      <th>epoch</th>\n",
       "      <th>train_loss</th>\n",
       "      <th>valid_loss</th>\n",
       "      <th>batch_accuracy</th>\n",
       "      <th>time</th>\n",
       "    </tr>\n",
       "  </thead>\n",
       "  <tbody>\n",
       "    <tr>\n",
       "      <td>0</td>\n",
       "      <td>0.241012</td>\n",
       "      <td>0.094161</td>\n",
       "      <td>0.967125</td>\n",
       "      <td>00:00</td>\n",
       "    </tr>\n",
       "    <tr>\n",
       "      <td>1</td>\n",
       "      <td>0.112714</td>\n",
       "      <td>0.053751</td>\n",
       "      <td>0.969087</td>\n",
       "      <td>00:00</td>\n",
       "    </tr>\n",
       "    <tr>\n",
       "      <td>2</td>\n",
       "      <td>0.068293</td>\n",
       "      <td>0.044084</td>\n",
       "      <td>0.971050</td>\n",
       "      <td>00:00</td>\n",
       "    </tr>\n",
       "    <tr>\n",
       "      <td>3</td>\n",
       "      <td>0.048716</td>\n",
       "      <td>0.039193</td>\n",
       "      <td>0.972522</td>\n",
       "      <td>00:00</td>\n",
       "    </tr>\n",
       "    <tr>\n",
       "      <td>4</td>\n",
       "      <td>0.039307</td>\n",
       "      <td>0.036248</td>\n",
       "      <td>0.973013</td>\n",
       "      <td>00:00</td>\n",
       "    </tr>\n",
       "    <tr>\n",
       "      <td>5</td>\n",
       "      <td>0.033997</td>\n",
       "      <td>0.034171</td>\n",
       "      <td>0.974485</td>\n",
       "      <td>00:00</td>\n",
       "    </tr>\n",
       "    <tr>\n",
       "      <td>6</td>\n",
       "      <td>0.030846</td>\n",
       "      <td>0.032576</td>\n",
       "      <td>0.976448</td>\n",
       "      <td>00:00</td>\n",
       "    </tr>\n",
       "    <tr>\n",
       "      <td>7</td>\n",
       "      <td>0.028058</td>\n",
       "      <td>0.031129</td>\n",
       "      <td>0.976938</td>\n",
       "      <td>00:00</td>\n",
       "    </tr>\n",
       "    <tr>\n",
       "      <td>8</td>\n",
       "      <td>0.026582</td>\n",
       "      <td>0.030268</td>\n",
       "      <td>0.976448</td>\n",
       "      <td>00:00</td>\n",
       "    </tr>\n",
       "    <tr>\n",
       "      <td>9</td>\n",
       "      <td>0.025285</td>\n",
       "      <td>0.029341</td>\n",
       "      <td>0.976938</td>\n",
       "      <td>00:00</td>\n",
       "    </tr>\n",
       "    <tr>\n",
       "      <td>10</td>\n",
       "      <td>0.024490</td>\n",
       "      <td>0.028551</td>\n",
       "      <td>0.976938</td>\n",
       "      <td>00:00</td>\n",
       "    </tr>\n",
       "    <tr>\n",
       "      <td>11</td>\n",
       "      <td>0.023397</td>\n",
       "      <td>0.027861</td>\n",
       "      <td>0.976938</td>\n",
       "      <td>00:00</td>\n",
       "    </tr>\n",
       "    <tr>\n",
       "      <td>12</td>\n",
       "      <td>0.022211</td>\n",
       "      <td>0.027103</td>\n",
       "      <td>0.977429</td>\n",
       "      <td>00:00</td>\n",
       "    </tr>\n",
       "    <tr>\n",
       "      <td>13</td>\n",
       "      <td>0.022018</td>\n",
       "      <td>0.026471</td>\n",
       "      <td>0.978410</td>\n",
       "      <td>00:00</td>\n",
       "    </tr>\n",
       "    <tr>\n",
       "      <td>14</td>\n",
       "      <td>0.021476</td>\n",
       "      <td>0.026062</td>\n",
       "      <td>0.978901</td>\n",
       "      <td>00:00</td>\n",
       "    </tr>\n",
       "    <tr>\n",
       "      <td>15</td>\n",
       "      <td>0.020951</td>\n",
       "      <td>0.025640</td>\n",
       "      <td>0.978901</td>\n",
       "      <td>00:00</td>\n",
       "    </tr>\n",
       "    <tr>\n",
       "      <td>16</td>\n",
       "      <td>0.020200</td>\n",
       "      <td>0.025415</td>\n",
       "      <td>0.979882</td>\n",
       "      <td>00:00</td>\n",
       "    </tr>\n",
       "    <tr>\n",
       "      <td>17</td>\n",
       "      <td>0.019824</td>\n",
       "      <td>0.025001</td>\n",
       "      <td>0.979882</td>\n",
       "      <td>00:00</td>\n",
       "    </tr>\n",
       "    <tr>\n",
       "      <td>18</td>\n",
       "      <td>0.019339</td>\n",
       "      <td>0.024592</td>\n",
       "      <td>0.979882</td>\n",
       "      <td>00:00</td>\n",
       "    </tr>\n",
       "    <tr>\n",
       "      <td>19</td>\n",
       "      <td>0.019095</td>\n",
       "      <td>0.024143</td>\n",
       "      <td>0.979882</td>\n",
       "      <td>00:00</td>\n",
       "    </tr>\n",
       "    <tr>\n",
       "      <td>20</td>\n",
       "      <td>0.018851</td>\n",
       "      <td>0.023699</td>\n",
       "      <td>0.979882</td>\n",
       "      <td>00:00</td>\n",
       "    </tr>\n",
       "    <tr>\n",
       "      <td>21</td>\n",
       "      <td>0.018528</td>\n",
       "      <td>0.023695</td>\n",
       "      <td>0.979392</td>\n",
       "      <td>00:00</td>\n",
       "    </tr>\n",
       "    <tr>\n",
       "      <td>22</td>\n",
       "      <td>0.018137</td>\n",
       "      <td>0.023261</td>\n",
       "      <td>0.980373</td>\n",
       "      <td>00:00</td>\n",
       "    </tr>\n",
       "    <tr>\n",
       "      <td>23</td>\n",
       "      <td>0.018168</td>\n",
       "      <td>0.023081</td>\n",
       "      <td>0.979882</td>\n",
       "      <td>00:00</td>\n",
       "    </tr>\n",
       "    <tr>\n",
       "      <td>24</td>\n",
       "      <td>0.017711</td>\n",
       "      <td>0.022785</td>\n",
       "      <td>0.980373</td>\n",
       "      <td>00:00</td>\n",
       "    </tr>\n",
       "    <tr>\n",
       "      <td>25</td>\n",
       "      <td>0.017681</td>\n",
       "      <td>0.022435</td>\n",
       "      <td>0.981354</td>\n",
       "      <td>00:00</td>\n",
       "    </tr>\n",
       "    <tr>\n",
       "      <td>26</td>\n",
       "      <td>0.016941</td>\n",
       "      <td>0.022393</td>\n",
       "      <td>0.980864</td>\n",
       "      <td>00:00</td>\n",
       "    </tr>\n",
       "    <tr>\n",
       "      <td>27</td>\n",
       "      <td>0.017362</td>\n",
       "      <td>0.021979</td>\n",
       "      <td>0.980864</td>\n",
       "      <td>00:00</td>\n",
       "    </tr>\n",
       "    <tr>\n",
       "      <td>28</td>\n",
       "      <td>0.016950</td>\n",
       "      <td>0.021604</td>\n",
       "      <td>0.981354</td>\n",
       "      <td>00:00</td>\n",
       "    </tr>\n",
       "    <tr>\n",
       "      <td>29</td>\n",
       "      <td>0.017115</td>\n",
       "      <td>0.021820</td>\n",
       "      <td>0.981354</td>\n",
       "      <td>00:00</td>\n",
       "    </tr>\n",
       "    <tr>\n",
       "      <td>30</td>\n",
       "      <td>0.016872</td>\n",
       "      <td>0.021470</td>\n",
       "      <td>0.981354</td>\n",
       "      <td>00:00</td>\n",
       "    </tr>\n",
       "    <tr>\n",
       "      <td>31</td>\n",
       "      <td>0.016574</td>\n",
       "      <td>0.021309</td>\n",
       "      <td>0.981845</td>\n",
       "      <td>00:00</td>\n",
       "    </tr>\n",
       "    <tr>\n",
       "      <td>32</td>\n",
       "      <td>0.016342</td>\n",
       "      <td>0.021029</td>\n",
       "      <td>0.981354</td>\n",
       "      <td>00:00</td>\n",
       "    </tr>\n",
       "    <tr>\n",
       "      <td>33</td>\n",
       "      <td>0.015918</td>\n",
       "      <td>0.020978</td>\n",
       "      <td>0.982336</td>\n",
       "      <td>00:00</td>\n",
       "    </tr>\n",
       "    <tr>\n",
       "      <td>34</td>\n",
       "      <td>0.016107</td>\n",
       "      <td>0.020672</td>\n",
       "      <td>0.982336</td>\n",
       "      <td>00:00</td>\n",
       "    </tr>\n",
       "    <tr>\n",
       "      <td>35</td>\n",
       "      <td>0.015738</td>\n",
       "      <td>0.020612</td>\n",
       "      <td>0.982336</td>\n",
       "      <td>00:00</td>\n",
       "    </tr>\n",
       "    <tr>\n",
       "      <td>36</td>\n",
       "      <td>0.015670</td>\n",
       "      <td>0.020496</td>\n",
       "      <td>0.982826</td>\n",
       "      <td>00:00</td>\n",
       "    </tr>\n",
       "    <tr>\n",
       "      <td>37</td>\n",
       "      <td>0.015337</td>\n",
       "      <td>0.020213</td>\n",
       "      <td>0.982336</td>\n",
       "      <td>00:00</td>\n",
       "    </tr>\n",
       "    <tr>\n",
       "      <td>38</td>\n",
       "      <td>0.015291</td>\n",
       "      <td>0.020216</td>\n",
       "      <td>0.982826</td>\n",
       "      <td>00:00</td>\n",
       "    </tr>\n",
       "    <tr>\n",
       "      <td>39</td>\n",
       "      <td>0.014812</td>\n",
       "      <td>0.020020</td>\n",
       "      <td>0.982336</td>\n",
       "      <td>00:00</td>\n",
       "    </tr>\n",
       "  </tbody>\n",
       "</table>"
      ],
      "text/plain": [
       "<IPython.core.display.HTML object>"
      ]
     },
     "metadata": {},
     "output_type": "display_data"
    }
   ],
   "source": [
    "learn.fit(40, 0.1) # Run training for 40 epochs with lr=0.1"
   ]
  },
  {
   "cell_type": "markdown",
   "metadata": {
    "id": "GnrfBe8uZTcA"
   },
   "source": [
    "The numbers generated from the training, such as `accuracy` and `loss`, are recorded in the `learn.recorder.values`.\n",
    "\n",
    "Let's plot `accuracy` over training."
   ]
  },
  {
   "cell_type": "code",
   "execution_count": null,
   "metadata": {
    "colab": {
     "base_uri": "https://localhost:8080/",
     "height": 434
    },
    "executionInfo": {
     "elapsed": 630,
     "status": "ok",
     "timestamp": 1706719502675,
     "user": {
      "displayName": "Ioannis Petrousov",
      "userId": "16802625713842772964"
     },
     "user_tz": -60
    },
    "id": "DQtWOCwZ5Ra2",
    "outputId": "bb31124c-cdfa-443f-d64a-edd1b38b43ff"
   },
   "outputs": [
    {
     "data": {
      "image/png": "[encoded data removed]",
      "text/plain": [
       "<Figure size 640x480 with 1 Axes>"
      ]
     },
     "metadata": {},
     "output_type": "display_data"
    }
   ],
   "source": [
    "plt.plot(L(learn.recorder.values).itemgot(2));"
   ]
  },
  {
   "cell_type": "code",
   "execution_count": null,
   "metadata": {
    "colab": {
     "base_uri": "https://localhost:8080/"
    },
    "executionInfo": {
     "elapsed": 370,
     "status": "ok",
     "timestamp": 1706719590126,
     "user": {
      "displayName": "Ioannis Petrousov",
      "userId": "16802625713842772964"
     },
     "user_tz": -60
    },
    "id": "C9W5YuZl5Ra3",
    "outputId": "dfa5fc83-e856-4ae4-8575-78d1e3db43c9"
   },
   "outputs": [
    {
     "data": {
      "text/plain": [
       "0.98233562707901"
      ]
     },
     "execution_count": 431,
     "metadata": {},
     "output_type": "execute_result"
    }
   ],
   "source": [
    "# Final accuracy\n",
    "learn.recorder.values[-1][2]"
   ]
  },
  {
   "cell_type": "code",
   "execution_count": null,
   "metadata": {
    "colab": {
     "base_uri": "https://localhost:8080/",
     "height": 455
    },
    "executionInfo": {
     "elapsed": 702,
     "status": "ok",
     "timestamp": 1706719652571,
     "user": {
      "displayName": "Ioannis Petrousov",
      "userId": "16802625713842772964"
     },
     "user_tz": -60
    },
    "id": "frJ6wyjFamlp",
    "outputId": "7b3028ed-fa73-4b9e-bea1-93d4af365b75"
   },
   "outputs": [
    {
     "data": {
      "text/plain": [
       "[<matplotlib.lines.Line2D at 0x7b97c5500670>]"
      ]
     },
     "execution_count": 432,
     "metadata": {},
     "output_type": "execute_result"
    },
    {
     "data": {
      "image/png": "[encoded data removed]",
      "text/plain": [
       "<Figure size 640x480 with 1 Axes>"
      ]
     },
     "metadata": {},
     "output_type": "display_data"
    }
   ],
   "source": [
    "# Plot training loss over epochs\n",
    "plt.plot(L(learn.recorder.values).itemgot(0))"
   ]
  },
  {
   "cell_type": "markdown",
   "metadata": {
    "id": "pZrtrODkcDI8"
   },
   "source": [
    "At this point we have deciphered the magic:\n",
    "\n",
    "1. A function that can solve any problem to any level of accuracy (the neural network) given the correct set of parameters\n",
    "2. A way to find the best set of parameters for any function (stochastic gradient descent)\n",
    "\n",
    "**This combination of simple techniques can really solve any problem.**"
   ]
  },
  {
   "cell_type": "markdown",
   "metadata": {
    "id": "PNd1cwPd5Ra3"
   },
   "source": [
    "### Going Deeper"
   ]
  },
  {
   "cell_type": "markdown",
   "metadata": {
    "id": "LqwuDLIZdAvD"
   },
   "source": [
    "There is no need to stop at just two linear layers. We can add as many as we want, as long as we **add a nonlinearity between each pair of linear layers**.\n",
    "\n",
    "However, the deeper the model, the harder it gets to optimize the parameters.\n",
    "\n",
    "We already know that a single nonlinearity with two linear layers is enough to approximate any function. So, why use deeper models? The reason is performance. With a deeper model (that is, one with more layers) we do not need to use as many parameters; it turns out that we can use smaller matrices with more layers, and get better results than we would get with larger matrices, and few layers.\n",
    "\n",
    "- `more layers` == smaller pamaters matrices == increased performance == increased accuracy\n",
    "- `less layers` == larger pameter matrices == decreased performance == decreased accuracy\n",
    "\n",
    "That means that we can train the model more quickly, and it will take up less memory.\n",
    "\n",
    "Today, it is extremely unusual to find anybody using a neural network with just one nonlinearity.\n",
    "\n",
    "Here's one with 18 layers."
   ]
  },
  {
   "cell_type": "code",
   "execution_count": null,
   "metadata": {
    "colab": {
     "base_uri": "https://localhost:8080/",
     "height": 81
    },
    "executionInfo": {
     "elapsed": 26246,
     "status": "ok",
     "timestamp": 1706720647005,
     "user": {
      "displayName": "Ioannis Petrousov",
      "userId": "16802625713842772964"
     },
     "user_tz": -60
    },
    "id": "9ryfxK165Ra3",
    "outputId": "7f8e1bea-8c65-4ca5-aad2-27d57de6155f"
   },
   "outputs": [
    {
     "data": {
      "text/html": [
       "\n",
       "<style>\n",
       "    /* Turns off some styling */\n",
       "    progress {\n",
       "        /* gets rid of default border in Firefox and Opera. */\n",
       "        border: none;\n",
       "        /* Needs to be in here for Safari polyfill so background images work as expected. */\n",
       "        background-size: auto;\n",
       "    }\n",
       "    progress:not([value]), progress:not([value])::-webkit-progress-bar {\n",
       "        background: repeating-linear-gradient(45deg, #7e7e7e, #7e7e7e 10px, #5c5c5c 10px, #5c5c5c 20px);\n",
       "    }\n",
       "    .progress-bar-interrupted, .progress-bar-interrupted::-webkit-progress-bar {\n",
       "        background: #F44336;\n",
       "    }\n",
       "</style>\n"
      ],
      "text/plain": [
       "<IPython.core.display.HTML object>"
      ]
     },
     "metadata": {},
     "output_type": "display_data"
    },
    {
     "data": {
      "text/html": [
       "<table border=\"1\" class=\"dataframe\">\n",
       "  <thead>\n",
       "    <tr style=\"text-align: left;\">\n",
       "      <th>epoch</th>\n",
       "      <th>train_loss</th>\n",
       "      <th>valid_loss</th>\n",
       "      <th>accuracy</th>\n",
       "      <th>time</th>\n",
       "    </tr>\n",
       "  </thead>\n",
       "  <tbody>\n",
       "    <tr>\n",
       "      <td>0</td>\n",
       "      <td>0.090305</td>\n",
       "      <td>0.013248</td>\n",
       "      <td>0.995093</td>\n",
       "      <td>00:24</td>\n",
       "    </tr>\n",
       "  </tbody>\n",
       "</table>"
      ],
      "text/plain": [
       "<IPython.core.display.HTML object>"
      ]
     },
     "metadata": {},
     "output_type": "display_data"
    }
   ],
   "source": [
    "dls = ImageDataLoaders.from_folder(path)\n",
    "learn = vision_learner(dls, resnet18, pretrained=False,\n",
    "                    loss_func=F.cross_entropy, metrics=accuracy)\n",
    "learn.fit_one_cycle(1, 0.1)"
   ]
  },
  {
   "cell_type": "markdown",
   "metadata": {
    "id": "DU3bHEbkeo_X"
   },
   "source": [
    "We can see here that with a training of 1 epoch, the NN returns an accuracy of almost 100%. This is quite the difference compared to our neural network (with 3 layers)."
   ]
  },
  {
   "cell_type": "markdown",
   "metadata": {
    "id": "oA7CRE6r5Ra3"
   },
   "source": [
    "## Jargon Recap\n",
    "\n",
    "A neural network contains a lot of numbers, but they are only of two types: numbers that are calculated, and the parameters that these numbers are calculated from. This gives us the two most important pieces of jargon to learn:\n",
    "\n",
    "Activations:: Numbers that are calculated (both by linear and nonlinear layers)\n",
    "Parameters:: Numbers that are randomly initialized, and optimized (that is, the numbers that define the model)\n",
    "\n",
    "Activations and parameters are all contained in tensors.\n",
    "\n",
    "A NN typically alternates between a linear and nonlinear function in each layer.\n",
    "\n",
    "Sometimes a nonlinearity is referred to as an activation function.\n",
    "\n",
    "`ReLU`: Function that returns 0 for negative numbers and doesn't change positive numbers.\n",
    "\n",
    "`Mini-batch`:\n",
    "A small group of inputs and labels gathered together in two arrays. A gradient descent step is updated on this batch (rather than a whole epoch).\n",
    "\n",
    "`Forward pass`: Applying the model to some input and computing the predictions.\n",
    "\n",
    "`Loss`: A value that represents how well (or badly) our model is doing.\n",
    "\n",
    "`Gradient`: The derivative of the loss with respect to some parameter of the model.B\n",
    "\n",
    "`Backward pass`: Computing the gradients of the loss with respect to all model parameters.\n",
    "\n",
    "`Gradient descent`: Taking a step in the directions opposite to the gradients to make the model parameters a little bit better.\n",
    "\n",
    "`Learning rate`: The size of the step we take when applying `SGD` to update the parameters of the model."
   ]
  },
  {
   "cell_type": "markdown",
   "metadata": {
    "id": "PNPKT_I95Ra3"
   },
   "source": [
    "## Questionnaire"
   ]
  },
  {
   "cell_type": "markdown",
   "metadata": {
    "id": "E1f2QosK5Ra3"
   },
   "source": [
    "1. How is a grayscale image represented on a computer? How about a color image?\n",
    "1. How are the files and folders in the `MNIST_SAMPLE` dataset structured? Why?\n",
    "1. Explain how the \"pixel similarity\" approach to classifying digits works.\n",
    "1. What is a list comprehension? Create one now that selects odd numbers from a list and doubles them.\n",
    "1. What is a \"rank-3 tensor\"?\n",
    "1. What is the difference between tensor rank and shape? How do you get the rank from the shape?\n",
    "1. What are RMSE and L1 norm?\n",
    "1. How can you apply a calculation on thousands of numbers at once, many thousands of times faster than a Python loop?\n",
    "1. Create a 3×3 tensor or array containing the numbers from 1 to 9. Double it. Select the bottom-right four numbers.\n",
    "1. What is broadcasting?\n",
    "1. Are metrics generally calculated using the training set, or the validation set? Why?\n",
    "1. What is SGD?\n",
    "1. Why does SGD use mini-batches?\n",
    "1. What are the seven steps in SGD for machine learning?\n",
    "1. How do we initialize the weights in a model?\n",
    "1. What is \"loss\"?\n",
    "1. Why can't we always use a high learning rate?\n",
    "1. What is a \"gradient\"?\n",
    "1. Do you need to know how to calculate gradients yourself?\n",
    "1. Why can't we use accuracy as a loss function?\n",
    "1. Draw the sigmoid function. What is special about its shape?\n",
    "1. What is the difference between a loss function and a metric?\n",
    "1. What is the function to calculate new weights using a learning rate?\n",
    "1. What does the `DataLoader` class do?\n",
    "1. Write pseudocode showing the basic steps taken in each epoch for SGD.\n",
    "1. Create a function that, if passed two arguments `[1,2,3,4]` and `'abcd'`, returns `[(1, 'a'), (2, 'b'), (3, 'c'), (4, 'd')]`. What is special about that output data structure?\n",
    "1. What does `view` do in PyTorch?\n",
    "1. What are the \"bias\" parameters in a neural network? Why do we need them?\n",
    "1. What does the `@` operator do in Python?\n",
    "1. What does the `backward` method do?\n",
    "1. Why do we have to zero the gradients?\n",
    "1. What information do we have to pass to `Learner`?\n",
    "1. Show Python or pseudocode for the basic steps of a training loop.\n",
    "1. What is \"ReLU\"? Draw a plot of it for values from `-2` to `+2`.\n",
    "1. What is an \"activation function\"?\n",
    "1. What's the difference between `F.relu` and `nn.ReLU`?\n",
    "1. The universal approximation theorem shows that any function can be approximated as closely as needed using just one nonlinearity. So why do we normally use more?"
   ]
  },
  {
   "cell_type": "markdown",
   "metadata": {
    "id": "Fo-LZn3O5Ra3"
   },
   "source": [
    "### Further Research"
   ]
  },
  {
   "cell_type": "markdown",
   "metadata": {
    "id": "ztmEMh255Ra3"
   },
   "source": [
    "1. Create your own implementation of `Learner` from scratch, based on the training loop shown in this chapter.\n",
    "1. Complete all the steps in this chapter using the full MNIST datasets (that is, for all digits, not just 3s and 7s). This is a significant project and will take you quite a bit of time to complete! You'll need to do some of your own research to figure out how to overcome some obstacles you'll meet on the way."
   ]
  },
  {
   "cell_type": "code",
   "execution_count": null,
   "metadata": {
    "id": "3FR7FBhP5Ra3"
   },
   "outputs": [],
   "source": []
  }
 ],
 "metadata": {
  "accelerator": "TPU",
  "colab": {
   "collapsed_sections": [
    "0MN-u1vRirlS"
   ],
   "provenance": []
  },
  "jupytext": {
   "split_at_heading": true
  },
  "kernelspec": {
   "display_name": "Python 3 (ipykernel)",
   "language": "python",
   "name": "python3"
  },
  "language_info": {
   "codemirror_mode": {
    "name": "ipython",
    "version": 3
   },
   "file_extension": ".py",
   "mimetype": "text/x-python",
   "name": "python",
   "nbconvert_exporter": "python",
   "pygments_lexer": "ipython3",
   "version": "3.10.10"
  }
 },
 "nbformat": 4,
 "nbformat_minor": 4
}
