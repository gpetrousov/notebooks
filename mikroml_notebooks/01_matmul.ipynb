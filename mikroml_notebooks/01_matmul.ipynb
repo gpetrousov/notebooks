{
 "cells": [
  {
   "cell_type": "markdown",
   "id": "faae0fec-de10-41c8-9e8a-dfa62c8d31c8",
   "metadata": {},
   "source": [
    "# Matrix multiplication from scratch\n",
    "\n",
    "The idea is to use as little external libraries as possible - rely on native Python."
   ]
  },
  {
   "cell_type": "markdown",
   "id": "2b4f7d3e-0500-4e2d-ba45-b4a71296cb6a",
   "metadata": {},
   "source": [
    "## Get the data - MNIST"
   ]
  },
  {
   "cell_type": "code",
   "execution_count": 98,
   "id": "35aa90b6-c9c6-46df-a90a-7a00522116d8",
   "metadata": {
    "tags": []
   },
   "outputs": [],
   "source": [
    "#| default_exp matmul"
   ]
  },
  {
   "cell_type": "code",
   "execution_count": 96,
   "id": "f3bc2155-8e80-427b-9a6e-cf2c3e401e78",
   "metadata": {
    "tags": []
   },
   "outputs": [],
   "source": [
    "import urllib.request\n",
    "from pathlib import Path"
   ]
  },
  {
   "cell_type": "code",
   "execution_count": 97,
   "id": "1ec9fb3d-2410-41d9-be5e-eaac3773406b",
   "metadata": {
    "tags": []
   },
   "outputs": [],
   "source": [
    "MNIST_URL = \"https://github.com/mnielsen/neural-networks-and-deep-learning/blob/master/data/mnist.pkl.gz?raw=true\""
   ]
  },
  {
   "cell_type": "code",
   "execution_count": 4,
   "id": "309a1c28-0a51-4a69-a3ea-740758190545",
   "metadata": {},
   "outputs": [],
   "source": [
    "# Create data path\n",
    "data_path = Path(\"../data\")\n",
    "data_path.mkdir(parents=True, exist_ok=True)"
   ]
  },
  {
   "cell_type": "code",
   "execution_count": 5,
   "id": "179f19f4-5b4e-4d8c-977d-f46a101ac286",
   "metadata": {},
   "outputs": [
    {
     "data": {
      "text/plain": [
       "PosixPath('../data')"
      ]
     },
     "execution_count": 5,
     "metadata": {},
     "output_type": "execute_result"
    }
   ],
   "source": [
    "data_path"
   ]
  },
  {
   "cell_type": "code",
   "execution_count": 99,
   "id": "28cc188a-e7d0-4da6-bebe-c3ba1bddedd7",
   "metadata": {},
   "outputs": [
    {
     "data": {
      "text/plain": [
       "Path('../data/mnist.pkl.gz')"
      ]
     },
     "execution_count": 99,
     "metadata": {},
     "output_type": "execute_result"
    }
   ],
   "source": [
    "# Download data\n",
    "data_gz = data_path/\"mnist.pkl.gz\"\n",
    "if not data_gz:\n",
    "    urllib.request.urlretrieve(MNIST_URL, data_path/\"mnist.pkl.gz\")\n",
    "data_gz"
   ]
  },
  {
   "cell_type": "code",
   "execution_count": 7,
   "id": "2dc589a5-4b8b-49da-aadc-8680e41ffdbc",
   "metadata": {},
   "outputs": [
    {
     "name": "stdout",
     "output_type": "stream",
     "text": [
      "total 16656\n",
      "drwxr-xr-x 1 master master       24 Mar  5 09:53 .\n",
      "drwxr-xr-x 1 master master      266 Mar  5 10:52 ..\n",
      "-rw-r--r-- 1 master master 17051982 Mar  5 09:53 mnist.pkl.gz\n"
     ]
    }
   ],
   "source": [
    "!ls -la ../data"
   ]
  },
  {
   "cell_type": "markdown",
   "id": "b5a65ce7-f65f-4fae-b615-73b9fafc3646",
   "metadata": {},
   "source": [
    "## Unzip"
   ]
  },
  {
   "cell_type": "code",
   "execution_count": 8,
   "id": "8042be43-bad8-4c7f-bc5d-0c8740d9f7e3",
   "metadata": {},
   "outputs": [],
   "source": [
    "import gzip, pickle"
   ]
  },
  {
   "cell_type": "code",
   "execution_count": 9,
   "id": "661e785f-4c39-4ff0-9de6-3e4982ec4ed9",
   "metadata": {},
   "outputs": [],
   "source": [
    "with gzip.open(data_gz, mode='rb') as unzip_data:\n",
    "    obj = pickle.load(unzip_data, encoding=\"latin-1\")\n",
    "    ((x_train, y_train), (x_valid, y_valid), _) = obj # Destructuring"
   ]
  },
  {
   "cell_type": "code",
   "execution_count": 10,
   "id": "f1ab0423-f690-4833-aab8-79566a820142",
   "metadata": {
    "tags": []
   },
   "outputs": [
    {
     "data": {
      "text/plain": [
       "[0.0,\n",
       " 0.0,\n",
       " 0.0,\n",
       " 0.0,\n",
       " 0.0,\n",
       " 0.0,\n",
       " 0.0,\n",
       " 0.0,\n",
       " 0.0,\n",
       " 0.0,\n",
       " 0.0,\n",
       " 0.0,\n",
       " 0.0,\n",
       " 0.0,\n",
       " 0.0,\n",
       " 0.0,\n",
       " 0.0,\n",
       " 0.0,\n",
       " 0.0,\n",
       " 0.0]"
      ]
     },
     "execution_count": 10,
     "metadata": {},
     "output_type": "execute_result"
    }
   ],
   "source": [
    "list(x_train[0])[:20] # First image"
   ]
  },
  {
   "cell_type": "code",
   "execution_count": 11,
   "id": "55af2161-9c82-4233-b215-1d59bfaa2a50",
   "metadata": {},
   "outputs": [
    {
     "data": {
      "text/plain": [
       "784"
      ]
     },
     "execution_count": 11,
     "metadata": {},
     "output_type": "execute_result"
    }
   ],
   "source": [
    "len(x_train[0]) # 28x28 - flattened list"
   ]
  },
  {
   "cell_type": "code",
   "execution_count": 12,
   "id": "2432ee3b-6058-47ce-81ea-92cc1023db28",
   "metadata": {},
   "outputs": [
    {
     "data": {
      "text/plain": [
       "[0.0,\n",
       " 0.0,\n",
       " 0.0,\n",
       " 0.19140625,\n",
       " 0.9296875,\n",
       " 0.98828125,\n",
       " 0.98828125,\n",
       " 0.98828125,\n",
       " 0.98828125,\n",
       " 0.98828125]"
      ]
     },
     "execution_count": 12,
     "metadata": {},
     "output_type": "execute_result"
    }
   ],
   "source": [
    "list1 = list(x_train[0])\n",
    "vals_1 = list1[200: 210]\n",
    "vals_1"
   ]
  },
  {
   "cell_type": "markdown",
   "id": "befa411b-920c-4761-8b21-eb13be612a22",
   "metadata": {},
   "source": [
    "## Create array of 28x28"
   ]
  },
  {
   "cell_type": "code",
   "execution_count": 13,
   "id": "4ef5db9a-6891-46a3-8c70-a3a82ae4a867",
   "metadata": {},
   "outputs": [],
   "source": [
    "#| export\n",
    "def chuncks(list_vals, step):\n",
    "    \"\"\"\n",
    "    Is an iterator to return chuncks of list values\n",
    "    \"\"\"\n",
    "    for i in range(0, len(list_vals), step):\n",
    "        yield list_vals[i:i+step]"
   ]
  },
  {
   "cell_type": "code",
   "execution_count": 14,
   "id": "58a6f4c4-70a2-4609-847f-0148e2e3b320",
   "metadata": {},
   "outputs": [],
   "source": [
    "vals_1_iter = chuncks(vals_1, 5)"
   ]
  },
  {
   "cell_type": "markdown",
   "id": "2ed198d2-dfab-4fd9-a786-47584848ce9a",
   "metadata": {},
   "source": [
    "You need to define the iterator so that it keeps returns the next values instead of reseting."
   ]
  },
  {
   "cell_type": "code",
   "execution_count": 15,
   "id": "595578ef-9985-4b0f-b957-4413471efc8d",
   "metadata": {},
   "outputs": [
    {
     "data": {
      "text/plain": [
       "[0.0, 0.0, 0.0, 0.19140625, 0.9296875]"
      ]
     },
     "execution_count": 15,
     "metadata": {},
     "output_type": "execute_result"
    }
   ],
   "source": [
    "next(vals_1_iter)"
   ]
  },
  {
   "cell_type": "code",
   "execution_count": 16,
   "id": "f360256d-8e54-4dc4-9f36-dab38074925b",
   "metadata": {},
   "outputs": [
    {
     "data": {
      "text/plain": [
       "[0.98828125, 0.98828125, 0.98828125, 0.98828125, 0.98828125]"
      ]
     },
     "execution_count": 16,
     "metadata": {},
     "output_type": "execute_result"
    }
   ],
   "source": [
    "next(vals_1_iter)"
   ]
  },
  {
   "cell_type": "markdown",
   "id": "64ca3746-a3ac-426b-9d47-6018ae69922e",
   "metadata": {},
   "source": [
    "If you apply `list()` on the `iterator` it will return all the values."
   ]
  },
  {
   "cell_type": "code",
   "execution_count": 17,
   "id": "acdd4fe6-16e6-495b-b8f4-eab6b132a455",
   "metadata": {},
   "outputs": [],
   "source": [
    "first_image_array = list(chuncks(x_train[0], 28)) # Return all values at once"
   ]
  },
  {
   "cell_type": "code",
   "execution_count": 18,
   "id": "b669ba09-02cd-4cad-a05a-5b475a0f9053",
   "metadata": {},
   "outputs": [
    {
     "data": {
      "text/plain": [
       "(28, 28)"
      ]
     },
     "execution_count": 18,
     "metadata": {},
     "output_type": "execute_result"
    }
   ],
   "source": [
    "len(first_image_array), len(first_image_array[0])"
   ]
  },
  {
   "cell_type": "code",
   "execution_count": 19,
   "id": "19812a30-fe21-4453-92cb-6c296e1393b7",
   "metadata": {},
   "outputs": [
    {
     "data": {
      "text/plain": [
       "[array([0., 0., 0., 0., 0., 0., 0., 0., 0., 0., 0., 0., 0., 0., 0., 0., 0.,\n",
       "        0., 0., 0., 0., 0., 0., 0., 0., 0., 0., 0.], dtype=float32),\n",
       " array([0., 0., 0., 0., 0., 0., 0., 0., 0., 0., 0., 0., 0., 0., 0., 0., 0.,\n",
       "        0., 0., 0., 0., 0., 0., 0., 0., 0., 0., 0.], dtype=float32),\n",
       " array([0., 0., 0., 0., 0., 0., 0., 0., 0., 0., 0., 0., 0., 0., 0., 0., 0.,\n",
       "        0., 0., 0., 0., 0., 0., 0., 0., 0., 0., 0.], dtype=float32),\n",
       " array([0., 0., 0., 0., 0., 0., 0., 0., 0., 0., 0., 0., 0., 0., 0., 0., 0.,\n",
       "        0., 0., 0., 0., 0., 0., 0., 0., 0., 0., 0.], dtype=float32),\n",
       " array([0., 0., 0., 0., 0., 0., 0., 0., 0., 0., 0., 0., 0., 0., 0., 0., 0.,\n",
       "        0., 0., 0., 0., 0., 0., 0., 0., 0., 0., 0.], dtype=float32),\n",
       " array([0.        , 0.        , 0.        , 0.        , 0.        ,\n",
       "        0.        , 0.        , 0.        , 0.        , 0.        ,\n",
       "        0.        , 0.        , 0.01171875, 0.0703125 , 0.0703125 ,\n",
       "        0.0703125 , 0.4921875 , 0.53125   , 0.68359375, 0.1015625 ,\n",
       "        0.6484375 , 0.99609375, 0.96484375, 0.49609375, 0.        ,\n",
       "        0.        , 0.        , 0.        ], dtype=float32),\n",
       " array([0.        , 0.        , 0.        , 0.        , 0.        ,\n",
       "        0.        , 0.        , 0.        , 0.1171875 , 0.140625  ,\n",
       "        0.3671875 , 0.6015625 , 0.6640625 , 0.98828125, 0.98828125,\n",
       "        0.98828125, 0.98828125, 0.98828125, 0.87890625, 0.671875  ,\n",
       "        0.98828125, 0.9453125 , 0.76171875, 0.25      , 0.        ,\n",
       "        0.        , 0.        , 0.        ], dtype=float32),\n",
       " array([0.        , 0.        , 0.        , 0.        , 0.        ,\n",
       "        0.        , 0.        , 0.19140625, 0.9296875 , 0.98828125,\n",
       "        0.98828125, 0.98828125, 0.98828125, 0.98828125, 0.98828125,\n",
       "        0.98828125, 0.98828125, 0.98046875, 0.36328125, 0.3203125 ,\n",
       "        0.3203125 , 0.21875   , 0.15234375, 0.        , 0.        ,\n",
       "        0.        , 0.        , 0.        ], dtype=float32),\n",
       " array([0.        , 0.        , 0.        , 0.        , 0.        ,\n",
       "        0.        , 0.        , 0.0703125 , 0.85546875, 0.98828125,\n",
       "        0.98828125, 0.98828125, 0.98828125, 0.98828125, 0.7734375 ,\n",
       "        0.7109375 , 0.96484375, 0.94140625, 0.        , 0.        ,\n",
       "        0.        , 0.        , 0.        , 0.        , 0.        ,\n",
       "        0.        , 0.        , 0.        ], dtype=float32),\n",
       " array([0.        , 0.        , 0.        , 0.        , 0.        ,\n",
       "        0.        , 0.        , 0.        , 0.3125    , 0.609375  ,\n",
       "        0.41796875, 0.98828125, 0.98828125, 0.80078125, 0.04296875,\n",
       "        0.        , 0.16796875, 0.6015625 , 0.        , 0.        ,\n",
       "        0.        , 0.        , 0.        , 0.        , 0.        ,\n",
       "        0.        , 0.        , 0.        ], dtype=float32),\n",
       " array([0.        , 0.        , 0.        , 0.        , 0.        ,\n",
       "        0.        , 0.        , 0.        , 0.        , 0.0546875 ,\n",
       "        0.00390625, 0.6015625 , 0.98828125, 0.3515625 , 0.        ,\n",
       "        0.        , 0.        , 0.        , 0.        , 0.        ,\n",
       "        0.        , 0.        , 0.        , 0.        , 0.        ,\n",
       "        0.        , 0.        , 0.        ], dtype=float32),\n",
       " array([0.        , 0.        , 0.        , 0.        , 0.        ,\n",
       "        0.        , 0.        , 0.        , 0.        , 0.        ,\n",
       "        0.        , 0.54296875, 0.98828125, 0.7421875 , 0.0078125 ,\n",
       "        0.        , 0.        , 0.        , 0.        , 0.        ,\n",
       "        0.        , 0.        , 0.        , 0.        , 0.        ,\n",
       "        0.        , 0.        , 0.        ], dtype=float32),\n",
       " array([0.        , 0.        , 0.        , 0.        , 0.        ,\n",
       "        0.        , 0.        , 0.        , 0.        , 0.        ,\n",
       "        0.        , 0.04296875, 0.7421875 , 0.98828125, 0.2734375 ,\n",
       "        0.        , 0.        , 0.        , 0.        , 0.        ,\n",
       "        0.        , 0.        , 0.        , 0.        , 0.        ,\n",
       "        0.        , 0.        , 0.        ], dtype=float32),\n",
       " array([0.        , 0.        , 0.        , 0.        , 0.        ,\n",
       "        0.        , 0.        , 0.        , 0.        , 0.        ,\n",
       "        0.        , 0.        , 0.13671875, 0.94140625, 0.87890625,\n",
       "        0.625     , 0.421875  , 0.00390625, 0.        , 0.        ,\n",
       "        0.        , 0.        , 0.        , 0.        , 0.        ,\n",
       "        0.        , 0.        , 0.        ], dtype=float32),\n",
       " array([0.        , 0.        , 0.        , 0.        , 0.        ,\n",
       "        0.        , 0.        , 0.        , 0.        , 0.        ,\n",
       "        0.        , 0.        , 0.        , 0.31640625, 0.9375    ,\n",
       "        0.98828125, 0.98828125, 0.46484375, 0.09765625, 0.        ,\n",
       "        0.        , 0.        , 0.        , 0.        , 0.        ,\n",
       "        0.        , 0.        , 0.        ], dtype=float32),\n",
       " array([0.        , 0.        , 0.        , 0.        , 0.        ,\n",
       "        0.        , 0.        , 0.        , 0.        , 0.        ,\n",
       "        0.        , 0.        , 0.        , 0.        , 0.17578125,\n",
       "        0.7265625 , 0.98828125, 0.98828125, 0.5859375 , 0.10546875,\n",
       "        0.        , 0.        , 0.        , 0.        , 0.        ,\n",
       "        0.        , 0.        , 0.        ], dtype=float32),\n",
       " array([0.        , 0.        , 0.        , 0.        , 0.        ,\n",
       "        0.        , 0.        , 0.        , 0.        , 0.        ,\n",
       "        0.        , 0.        , 0.        , 0.        , 0.        ,\n",
       "        0.0625    , 0.36328125, 0.984375  , 0.98828125, 0.73046875,\n",
       "        0.        , 0.        , 0.        , 0.        , 0.        ,\n",
       "        0.        , 0.        , 0.        ], dtype=float32),\n",
       " array([0.        , 0.        , 0.        , 0.        , 0.        ,\n",
       "        0.        , 0.        , 0.        , 0.        , 0.        ,\n",
       "        0.        , 0.        , 0.        , 0.        , 0.        ,\n",
       "        0.        , 0.        , 0.97265625, 0.98828125, 0.97265625,\n",
       "        0.25      , 0.        , 0.        , 0.        , 0.        ,\n",
       "        0.        , 0.        , 0.        ], dtype=float32),\n",
       " array([0.        , 0.        , 0.        , 0.        , 0.        ,\n",
       "        0.        , 0.        , 0.        , 0.        , 0.        ,\n",
       "        0.        , 0.        , 0.        , 0.        , 0.1796875 ,\n",
       "        0.5078125 , 0.71484375, 0.98828125, 0.98828125, 0.80859375,\n",
       "        0.0078125 , 0.        , 0.        , 0.        , 0.        ,\n",
       "        0.        , 0.        , 0.        ], dtype=float32),\n",
       " array([0.        , 0.        , 0.        , 0.        , 0.        ,\n",
       "        0.        , 0.        , 0.        , 0.        , 0.        ,\n",
       "        0.        , 0.        , 0.15234375, 0.578125  , 0.89453125,\n",
       "        0.98828125, 0.98828125, 0.98828125, 0.9765625 , 0.7109375 ,\n",
       "        0.        , 0.        , 0.        , 0.        , 0.        ,\n",
       "        0.        , 0.        , 0.        ], dtype=float32),\n",
       " array([0.        , 0.        , 0.        , 0.        , 0.        ,\n",
       "        0.        , 0.        , 0.        , 0.        , 0.        ,\n",
       "        0.09375   , 0.4453125 , 0.86328125, 0.98828125, 0.98828125,\n",
       "        0.98828125, 0.98828125, 0.78515625, 0.3046875 , 0.        ,\n",
       "        0.        , 0.        , 0.        , 0.        , 0.        ,\n",
       "        0.        , 0.        , 0.        ], dtype=float32),\n",
       " array([0.        , 0.        , 0.        , 0.        , 0.        ,\n",
       "        0.        , 0.        , 0.        , 0.08984375, 0.2578125 ,\n",
       "        0.83203125, 0.98828125, 0.98828125, 0.98828125, 0.98828125,\n",
       "        0.7734375 , 0.31640625, 0.0078125 , 0.        , 0.        ,\n",
       "        0.        , 0.        , 0.        , 0.        , 0.        ,\n",
       "        0.        , 0.        , 0.        ], dtype=float32),\n",
       " array([0.        , 0.        , 0.        , 0.        , 0.        ,\n",
       "        0.        , 0.0703125 , 0.66796875, 0.85546875, 0.98828125,\n",
       "        0.98828125, 0.98828125, 0.98828125, 0.76171875, 0.3125    ,\n",
       "        0.03515625, 0.        , 0.        , 0.        , 0.        ,\n",
       "        0.        , 0.        , 0.        , 0.        , 0.        ,\n",
       "        0.        , 0.        , 0.        ], dtype=float32),\n",
       " array([0.        , 0.        , 0.        , 0.        , 0.21484375,\n",
       "        0.671875  , 0.8828125 , 0.98828125, 0.98828125, 0.98828125,\n",
       "        0.98828125, 0.953125  , 0.51953125, 0.04296875, 0.        ,\n",
       "        0.        , 0.        , 0.        , 0.        , 0.        ,\n",
       "        0.        , 0.        , 0.        , 0.        , 0.        ,\n",
       "        0.        , 0.        , 0.        ], dtype=float32),\n",
       " array([0.        , 0.        , 0.        , 0.        , 0.53125   ,\n",
       "        0.98828125, 0.98828125, 0.98828125, 0.828125  , 0.52734375,\n",
       "        0.515625  , 0.0625    , 0.        , 0.        , 0.        ,\n",
       "        0.        , 0.        , 0.        , 0.        , 0.        ,\n",
       "        0.        , 0.        , 0.        , 0.        , 0.        ,\n",
       "        0.        , 0.        , 0.        ], dtype=float32),\n",
       " array([0., 0., 0., 0., 0., 0., 0., 0., 0., 0., 0., 0., 0., 0., 0., 0., 0.,\n",
       "        0., 0., 0., 0., 0., 0., 0., 0., 0., 0., 0.], dtype=float32),\n",
       " array([0., 0., 0., 0., 0., 0., 0., 0., 0., 0., 0., 0., 0., 0., 0., 0., 0.,\n",
       "        0., 0., 0., 0., 0., 0., 0., 0., 0., 0., 0.], dtype=float32),\n",
       " array([0., 0., 0., 0., 0., 0., 0., 0., 0., 0., 0., 0., 0., 0., 0., 0., 0.,\n",
       "        0., 0., 0., 0., 0., 0., 0., 0., 0., 0., 0.], dtype=float32)]"
      ]
     },
     "execution_count": 19,
     "metadata": {},
     "output_type": "execute_result"
    }
   ],
   "source": [
    "first_image_array"
   ]
  },
  {
   "cell_type": "code",
   "execution_count": 20,
   "id": "3fc74158-0d13-4368-9a8b-bfbce61792e1",
   "metadata": {},
   "outputs": [],
   "source": [
    "# Show first image: https://matplotlib.org/stable/api/_as_gen/matplotlib.pyplot.imshow.html#matplotlib-pyplot-imshow"
   ]
  },
  {
   "cell_type": "code",
   "execution_count": 21,
   "id": "b67a9788-5666-4c29-b497-25b985c11337",
   "metadata": {},
   "outputs": [
    {
     "data": {
      "text/plain": [
       "<matplotlib.image.AxesImage at 0x7fea65fe5990>"
      ]
     },
     "execution_count": 21,
     "metadata": {},
     "output_type": "execute_result"
    },
    {
     "data": {
      "image/png": "[encoded data removed]",
      "text/plain": [
       "<Figure size 640x480 with 1 Axes>"
      ]
     },
     "metadata": {},
     "output_type": "display_data"
    }
   ],
   "source": [
    "import matplotlib\n",
    "import matplotlib.pyplot\n",
    "matplotlib.pyplot.imshow(list(chuncks(x_train[0], 28)), cmap=\"gray\")"
   ]
  },
  {
   "cell_type": "code",
   "execution_count": 22,
   "id": "da36e746-81bf-4003-9a64-f43339638c20",
   "metadata": {},
   "outputs": [],
   "source": [
    "# Conveniences\n",
    "import matplotlib.pyplot as plt\n",
    "import matplotlib as mpl"
   ]
  },
  {
   "cell_type": "code",
   "execution_count": 23,
   "id": "e5c4bb74-8c32-493c-8172-b5495d580e3b",
   "metadata": {},
   "outputs": [
    {
     "data": {
      "text/plain": [
       "<matplotlib.image.AxesImage at 0x7fea65e89f60>"
      ]
     },
     "execution_count": 23,
     "metadata": {},
     "output_type": "execute_result"
    },
    {
     "data": {
      "image/png": "[encoded data removed]",
      "text/plain": [
       "<Figure size 640x480 with 1 Axes>"
      ]
     },
     "metadata": {},
     "output_type": "display_data"
    }
   ],
   "source": [
    "mpl.rcParams[\"image.cmap\"] = \"gray\"\n",
    "plt.imshow(first_image_array)"
   ]
  },
  {
   "cell_type": "markdown",
   "id": "3a48af29-cb37-4563-b51b-6773d6ff6668",
   "metadata": {},
   "source": [
    "#### Hint of itertools\n",
    "\n",
    "Since we're not using `numpy` we implement it from scratch.\n",
    "\n",
    "Iterators create the yield the list values when requested instead of storing them all in memory - lazy loading."
   ]
  },
  {
   "cell_type": "code",
   "execution_count": 24,
   "id": "a6fe80aa-868b-4cc8-8099-477bb56d3aa7",
   "metadata": {},
   "outputs": [],
   "source": [
    "vals_10 = chuncks(list1[200: 210], 1)"
   ]
  },
  {
   "cell_type": "code",
   "execution_count": 25,
   "id": "e59d1c9f-6962-4189-b580-b8c783a56d40",
   "metadata": {},
   "outputs": [
    {
     "data": {
      "text/plain": [
       "[0.0]"
      ]
     },
     "execution_count": 25,
     "metadata": {},
     "output_type": "execute_result"
    }
   ],
   "source": [
    "next(vals_10)"
   ]
  },
  {
   "cell_type": "code",
   "execution_count": 26,
   "id": "6dd6df94-556c-421c-9b98-a7c029fb3e21",
   "metadata": {},
   "outputs": [
    {
     "data": {
      "text/plain": [
       "[0.0]"
      ]
     },
     "execution_count": 26,
     "metadata": {},
     "output_type": "execute_result"
    }
   ],
   "source": [
    "next(vals_10)"
   ]
  },
  {
   "cell_type": "code",
   "execution_count": 27,
   "id": "044b4b84-6efa-4902-9f39-45ee70bceb84",
   "metadata": {},
   "outputs": [
    {
     "data": {
      "text/plain": [
       "[0.0]"
      ]
     },
     "execution_count": 27,
     "metadata": {},
     "output_type": "execute_result"
    }
   ],
   "source": [
    "next(vals_10)"
   ]
  },
  {
   "cell_type": "code",
   "execution_count": 28,
   "id": "b9590586-432c-407d-9e9c-0abeebafed68",
   "metadata": {},
   "outputs": [
    {
     "data": {
      "text/plain": [
       "[0.19140625]"
      ]
     },
     "execution_count": 28,
     "metadata": {},
     "output_type": "execute_result"
    }
   ],
   "source": [
    "next(vals_10)"
   ]
  },
  {
   "cell_type": "code",
   "execution_count": 29,
   "id": "e782aa20-255f-4af7-bca1-43717333832b",
   "metadata": {},
   "outputs": [
    {
     "data": {
      "text/plain": [
       "[0.9296875]"
      ]
     },
     "execution_count": 29,
     "metadata": {},
     "output_type": "execute_result"
    }
   ],
   "source": [
    "next(vals_10)"
   ]
  },
  {
   "cell_type": "code",
   "execution_count": 30,
   "id": "0496cc36-98ee-4204-bfa5-8d9479fc71dd",
   "metadata": {},
   "outputs": [],
   "source": [
    "from itertools import islice"
   ]
  },
  {
   "cell_type": "markdown",
   "id": "ed703d28-eba4-4e1e-9576-89d9c34163ce",
   "metadata": {},
   "source": [
    "On its own, `islice()` returns an iterable, but if you call `list` on it, it will return all the items of the iterable - ot until the `step`."
   ]
  },
  {
   "cell_type": "code",
   "execution_count": 31,
   "id": "1fa80975-a872-448e-b057-e917a0af31d3",
   "metadata": {},
   "outputs": [],
   "source": [
    "it = iter(vals_1)"
   ]
  },
  {
   "cell_type": "code",
   "execution_count": 32,
   "id": "160e039e-8424-4f3e-954b-5413688375e9",
   "metadata": {},
   "outputs": [
    {
     "data": {
      "text/plain": [
       "[0.0, 0.0, 0.0, 0.19140625, 0.9296875]"
      ]
     },
     "execution_count": 32,
     "metadata": {},
     "output_type": "execute_result"
    }
   ],
   "source": [
    "list(islice(it, 5))"
   ]
  },
  {
   "cell_type": "code",
   "execution_count": 33,
   "id": "1fa28b66-08b1-42ff-9a7c-a416d5d207bc",
   "metadata": {},
   "outputs": [
    {
     "data": {
      "text/plain": [
       "[0.98828125, 0.98828125, 0.98828125, 0.98828125, 0.98828125]"
      ]
     },
     "execution_count": 33,
     "metadata": {},
     "output_type": "execute_result"
    }
   ],
   "source": [
    "list(islice(it, 5))"
   ]
  },
  {
   "cell_type": "markdown",
   "id": "5cb7ddfe-561a-4af7-b774-658bf73fc7d6",
   "metadata": {},
   "source": [
    "We can take any `list` and turn it into an `iterator` by passing it to `iter()`."
   ]
  },
  {
   "cell_type": "code",
   "execution_count": 34,
   "id": "be8b067d-dcd0-477a-aaa6-f9d32f9a84c4",
   "metadata": {},
   "outputs": [],
   "source": [
    "lst1 = list(x_train[0])\n",
    "it1 = iter(lst1)"
   ]
  },
  {
   "cell_type": "code",
   "execution_count": 35,
   "id": "d0491224-c836-4ed1-8e42-52852b2bef64",
   "metadata": {},
   "outputs": [],
   "source": [
    "img = list(iter(lambda: list(islice(it1, 28)), []))"
   ]
  },
  {
   "cell_type": "code",
   "execution_count": 36,
   "id": "353ef68e-2127-4a05-9579-eafc09e25f09",
   "metadata": {},
   "outputs": [
    {
     "data": {
      "text/plain": [
       "<matplotlib.image.AxesImage at 0x7fea655ca020>"
      ]
     },
     "execution_count": 36,
     "metadata": {},
     "output_type": "execute_result"
    },
    {
     "data": {
      "image/png": "[encoded data removed]",
      "text/plain": [
       "<Figure size 640x480 with 1 Axes>"
      ]
     },
     "metadata": {},
     "output_type": "display_data"
    }
   ],
   "source": [
    "plt.imshow(img)"
   ]
  },
  {
   "cell_type": "markdown",
   "id": "22963bda-04a9-445e-80c0-2233e35a2fbc",
   "metadata": {},
   "source": [
    "---"
   ]
  },
  {
   "cell_type": "markdown",
   "id": "644ce2ee-579f-465e-8aae-261864cbf34f",
   "metadata": {},
   "source": [
    "## Matrix and Tensor\n"
   ]
  },
  {
   "cell_type": "code",
   "execution_count": 37,
   "id": "aadfc245-5ec1-49f6-9566-f044fab07971",
   "metadata": {},
   "outputs": [
    {
     "data": {
      "text/plain": [
       "list"
      ]
     },
     "execution_count": 37,
     "metadata": {},
     "output_type": "execute_result"
    }
   ],
   "source": [
    "type(img)"
   ]
  },
  {
   "cell_type": "code",
   "execution_count": 38,
   "id": "f7570395-d993-4a8e-8401-31072189c1b7",
   "metadata": {},
   "outputs": [
    {
     "data": {
      "text/plain": [
       "0.09375"
      ]
     },
     "execution_count": 38,
     "metadata": {},
     "output_type": "execute_result"
    }
   ],
   "source": [
    "img[20][10]"
   ]
  },
  {
   "cell_type": "markdown",
   "id": "4e475693-5985-4ebf-ad7b-da47c7f3ae9a",
   "metadata": {},
   "source": [
    "We can index the list like above, however, we want to be able to index matrixes using `img[20, 10]` - like `numpy`. Eseentially, we're rewriteing the functionality of `numpy` because the challenge is that we cannot use it.\n",
    "\n",
    "We need to write a class which can support that indexing."
   ]
  },
  {
   "cell_type": "code",
   "execution_count": 39,
   "id": "a59920a3-e87f-447c-bff1-22ecf9129b5d",
   "metadata": {},
   "outputs": [],
   "source": [
    "class Matrix:\n",
    "    \n",
    "    def __init__(self, xs):\n",
    "        self.xs = xs\n",
    "        \n",
    "    def __getitem__(self, idxs):\n",
    "        x = idxs[0]\n",
    "        y = idxs[1]\n",
    "        return self.xs[x][y]"
   ]
  },
  {
   "cell_type": "code",
   "execution_count": 40,
   "id": "ab0f4285-6e83-4077-86e4-23f3b0d0b6e8",
   "metadata": {},
   "outputs": [],
   "source": [
    "matrix_img = Matrix(img)"
   ]
  },
  {
   "cell_type": "code",
   "execution_count": 41,
   "id": "6927fe38-5c91-4289-a14a-3f44e4c37262",
   "metadata": {},
   "outputs": [
    {
     "data": {
      "text/plain": [
       "0.09375"
      ]
     },
     "execution_count": 41,
     "metadata": {},
     "output_type": "execute_result"
    }
   ],
   "source": [
    "matrix_img[20, 10]"
   ]
  },
  {
   "cell_type": "code",
   "execution_count": 42,
   "id": "2601dc69-7b0d-4ceb-aae0-e39109469cbc",
   "metadata": {},
   "outputs": [],
   "source": [
    "import torch"
   ]
  },
  {
   "cell_type": "code",
   "execution_count": 43,
   "id": "17228b50-e032-451c-829b-e47f49f42d35",
   "metadata": {},
   "outputs": [
    {
     "data": {
      "text/plain": [
       "tensor([[0.0000, 0.0000, 0.0000, 0.0000, 0.0000, 0.0000, 0.0000, 0.0000, 0.0000,\n",
       "         0.0000, 0.0000, 0.0000, 0.0000, 0.0000, 0.0000, 0.0000, 0.0000, 0.0000,\n",
       "         0.0000, 0.0000, 0.0000, 0.0000, 0.0000, 0.0000, 0.0000, 0.0000, 0.0000,\n",
       "         0.0000],\n",
       "        [0.0000, 0.0000, 0.0000, 0.0000, 0.0000, 0.0000, 0.0000, 0.0000, 0.0000,\n",
       "         0.0000, 0.0000, 0.0000, 0.0000, 0.0000, 0.0000, 0.0000, 0.0000, 0.0000,\n",
       "         0.0000, 0.0000, 0.0000, 0.0000, 0.0000, 0.0000, 0.0000, 0.0000, 0.0000,\n",
       "         0.0000],\n",
       "        [0.0000, 0.0000, 0.0000, 0.0000, 0.0000, 0.0000, 0.0000, 0.0000, 0.0000,\n",
       "         0.0000, 0.0000, 0.0000, 0.0000, 0.0000, 0.0000, 0.0000, 0.0000, 0.0000,\n",
       "         0.0000, 0.0000, 0.0000, 0.0000, 0.0000, 0.0000, 0.0000, 0.0000, 0.0000,\n",
       "         0.0000],\n",
       "        [0.0000, 0.0000, 0.0000, 0.0000, 0.0000, 0.0000, 0.0000, 0.0000, 0.0000,\n",
       "         0.0000, 0.0000, 0.0000, 0.0000, 0.0000, 0.0000, 0.0000, 0.0000, 0.0000,\n",
       "         0.0000, 0.0000, 0.0000, 0.0000, 0.0000, 0.0000, 0.0000, 0.0000, 0.0000,\n",
       "         0.0000],\n",
       "        [0.0000, 0.0000, 0.0000, 0.0000, 0.0000, 0.0000, 0.0000, 0.0000, 0.0000,\n",
       "         0.0000, 0.0000, 0.0000, 0.0000, 0.0000, 0.0000, 0.0000, 0.0000, 0.0000,\n",
       "         0.0000, 0.0000, 0.0000, 0.0000, 0.0000, 0.0000, 0.0000, 0.0000, 0.0000,\n",
       "         0.0000],\n",
       "        [0.0000, 0.0000, 0.0000, 0.0000, 0.0000, 0.0000, 0.0000, 0.0000, 0.0000,\n",
       "         0.0000, 0.0000, 0.0000, 0.0117, 0.0703, 0.0703, 0.0703, 0.4922, 0.5312,\n",
       "         0.6836, 0.1016, 0.6484, 0.9961, 0.9648, 0.4961, 0.0000, 0.0000, 0.0000,\n",
       "         0.0000],\n",
       "        [0.0000, 0.0000, 0.0000, 0.0000, 0.0000, 0.0000, 0.0000, 0.0000, 0.1172,\n",
       "         0.1406, 0.3672, 0.6016, 0.6641, 0.9883, 0.9883, 0.9883, 0.9883, 0.9883,\n",
       "         0.8789, 0.6719, 0.9883, 0.9453, 0.7617, 0.2500, 0.0000, 0.0000, 0.0000,\n",
       "         0.0000],\n",
       "        [0.0000, 0.0000, 0.0000, 0.0000, 0.0000, 0.0000, 0.0000, 0.1914, 0.9297,\n",
       "         0.9883, 0.9883, 0.9883, 0.9883, 0.9883, 0.9883, 0.9883, 0.9883, 0.9805,\n",
       "         0.3633, 0.3203, 0.3203, 0.2188, 0.1523, 0.0000, 0.0000, 0.0000, 0.0000,\n",
       "         0.0000],\n",
       "        [0.0000, 0.0000, 0.0000, 0.0000, 0.0000, 0.0000, 0.0000, 0.0703, 0.8555,\n",
       "         0.9883, 0.9883, 0.9883, 0.9883, 0.9883, 0.7734, 0.7109, 0.9648, 0.9414,\n",
       "         0.0000, 0.0000, 0.0000, 0.0000, 0.0000, 0.0000, 0.0000, 0.0000, 0.0000,\n",
       "         0.0000],\n",
       "        [0.0000, 0.0000, 0.0000, 0.0000, 0.0000, 0.0000, 0.0000, 0.0000, 0.3125,\n",
       "         0.6094, 0.4180, 0.9883, 0.9883, 0.8008, 0.0430, 0.0000, 0.1680, 0.6016,\n",
       "         0.0000, 0.0000, 0.0000, 0.0000, 0.0000, 0.0000, 0.0000, 0.0000, 0.0000,\n",
       "         0.0000],\n",
       "        [0.0000, 0.0000, 0.0000, 0.0000, 0.0000, 0.0000, 0.0000, 0.0000, 0.0000,\n",
       "         0.0547, 0.0039, 0.6016, 0.9883, 0.3516, 0.0000, 0.0000, 0.0000, 0.0000,\n",
       "         0.0000, 0.0000, 0.0000, 0.0000, 0.0000, 0.0000, 0.0000, 0.0000, 0.0000,\n",
       "         0.0000],\n",
       "        [0.0000, 0.0000, 0.0000, 0.0000, 0.0000, 0.0000, 0.0000, 0.0000, 0.0000,\n",
       "         0.0000, 0.0000, 0.5430, 0.9883, 0.7422, 0.0078, 0.0000, 0.0000, 0.0000,\n",
       "         0.0000, 0.0000, 0.0000, 0.0000, 0.0000, 0.0000, 0.0000, 0.0000, 0.0000,\n",
       "         0.0000],\n",
       "        [0.0000, 0.0000, 0.0000, 0.0000, 0.0000, 0.0000, 0.0000, 0.0000, 0.0000,\n",
       "         0.0000, 0.0000, 0.0430, 0.7422, 0.9883, 0.2734, 0.0000, 0.0000, 0.0000,\n",
       "         0.0000, 0.0000, 0.0000, 0.0000, 0.0000, 0.0000, 0.0000, 0.0000, 0.0000,\n",
       "         0.0000],\n",
       "        [0.0000, 0.0000, 0.0000, 0.0000, 0.0000, 0.0000, 0.0000, 0.0000, 0.0000,\n",
       "         0.0000, 0.0000, 0.0000, 0.1367, 0.9414, 0.8789, 0.6250, 0.4219, 0.0039,\n",
       "         0.0000, 0.0000, 0.0000, 0.0000, 0.0000, 0.0000, 0.0000, 0.0000, 0.0000,\n",
       "         0.0000],\n",
       "        [0.0000, 0.0000, 0.0000, 0.0000, 0.0000, 0.0000, 0.0000, 0.0000, 0.0000,\n",
       "         0.0000, 0.0000, 0.0000, 0.0000, 0.3164, 0.9375, 0.9883, 0.9883, 0.4648,\n",
       "         0.0977, 0.0000, 0.0000, 0.0000, 0.0000, 0.0000, 0.0000, 0.0000, 0.0000,\n",
       "         0.0000],\n",
       "        [0.0000, 0.0000, 0.0000, 0.0000, 0.0000, 0.0000, 0.0000, 0.0000, 0.0000,\n",
       "         0.0000, 0.0000, 0.0000, 0.0000, 0.0000, 0.1758, 0.7266, 0.9883, 0.9883,\n",
       "         0.5859, 0.1055, 0.0000, 0.0000, 0.0000, 0.0000, 0.0000, 0.0000, 0.0000,\n",
       "         0.0000],\n",
       "        [0.0000, 0.0000, 0.0000, 0.0000, 0.0000, 0.0000, 0.0000, 0.0000, 0.0000,\n",
       "         0.0000, 0.0000, 0.0000, 0.0000, 0.0000, 0.0000, 0.0625, 0.3633, 0.9844,\n",
       "         0.9883, 0.7305, 0.0000, 0.0000, 0.0000, 0.0000, 0.0000, 0.0000, 0.0000,\n",
       "         0.0000],\n",
       "        [0.0000, 0.0000, 0.0000, 0.0000, 0.0000, 0.0000, 0.0000, 0.0000, 0.0000,\n",
       "         0.0000, 0.0000, 0.0000, 0.0000, 0.0000, 0.0000, 0.0000, 0.0000, 0.9727,\n",
       "         0.9883, 0.9727, 0.2500, 0.0000, 0.0000, 0.0000, 0.0000, 0.0000, 0.0000,\n",
       "         0.0000],\n",
       "        [0.0000, 0.0000, 0.0000, 0.0000, 0.0000, 0.0000, 0.0000, 0.0000, 0.0000,\n",
       "         0.0000, 0.0000, 0.0000, 0.0000, 0.0000, 0.1797, 0.5078, 0.7148, 0.9883,\n",
       "         0.9883, 0.8086, 0.0078, 0.0000, 0.0000, 0.0000, 0.0000, 0.0000, 0.0000,\n",
       "         0.0000],\n",
       "        [0.0000, 0.0000, 0.0000, 0.0000, 0.0000, 0.0000, 0.0000, 0.0000, 0.0000,\n",
       "         0.0000, 0.0000, 0.0000, 0.1523, 0.5781, 0.8945, 0.9883, 0.9883, 0.9883,\n",
       "         0.9766, 0.7109, 0.0000, 0.0000, 0.0000, 0.0000, 0.0000, 0.0000, 0.0000,\n",
       "         0.0000],\n",
       "        [0.0000, 0.0000, 0.0000, 0.0000, 0.0000, 0.0000, 0.0000, 0.0000, 0.0000,\n",
       "         0.0000, 0.0938, 0.4453, 0.8633, 0.9883, 0.9883, 0.9883, 0.9883, 0.7852,\n",
       "         0.3047, 0.0000, 0.0000, 0.0000, 0.0000, 0.0000, 0.0000, 0.0000, 0.0000,\n",
       "         0.0000],\n",
       "        [0.0000, 0.0000, 0.0000, 0.0000, 0.0000, 0.0000, 0.0000, 0.0000, 0.0898,\n",
       "         0.2578, 0.8320, 0.9883, 0.9883, 0.9883, 0.9883, 0.7734, 0.3164, 0.0078,\n",
       "         0.0000, 0.0000, 0.0000, 0.0000, 0.0000, 0.0000, 0.0000, 0.0000, 0.0000,\n",
       "         0.0000],\n",
       "        [0.0000, 0.0000, 0.0000, 0.0000, 0.0000, 0.0000, 0.0703, 0.6680, 0.8555,\n",
       "         0.9883, 0.9883, 0.9883, 0.9883, 0.7617, 0.3125, 0.0352, 0.0000, 0.0000,\n",
       "         0.0000, 0.0000, 0.0000, 0.0000, 0.0000, 0.0000, 0.0000, 0.0000, 0.0000,\n",
       "         0.0000],\n",
       "        [0.0000, 0.0000, 0.0000, 0.0000, 0.2148, 0.6719, 0.8828, 0.9883, 0.9883,\n",
       "         0.9883, 0.9883, 0.9531, 0.5195, 0.0430, 0.0000, 0.0000, 0.0000, 0.0000,\n",
       "         0.0000, 0.0000, 0.0000, 0.0000, 0.0000, 0.0000, 0.0000, 0.0000, 0.0000,\n",
       "         0.0000],\n",
       "        [0.0000, 0.0000, 0.0000, 0.0000, 0.5312, 0.9883, 0.9883, 0.9883, 0.8281,\n",
       "         0.5273, 0.5156, 0.0625, 0.0000, 0.0000, 0.0000, 0.0000, 0.0000, 0.0000,\n",
       "         0.0000, 0.0000, 0.0000, 0.0000, 0.0000, 0.0000, 0.0000, 0.0000, 0.0000,\n",
       "         0.0000],\n",
       "        [0.0000, 0.0000, 0.0000, 0.0000, 0.0000, 0.0000, 0.0000, 0.0000, 0.0000,\n",
       "         0.0000, 0.0000, 0.0000, 0.0000, 0.0000, 0.0000, 0.0000, 0.0000, 0.0000,\n",
       "         0.0000, 0.0000, 0.0000, 0.0000, 0.0000, 0.0000, 0.0000, 0.0000, 0.0000,\n",
       "         0.0000],\n",
       "        [0.0000, 0.0000, 0.0000, 0.0000, 0.0000, 0.0000, 0.0000, 0.0000, 0.0000,\n",
       "         0.0000, 0.0000, 0.0000, 0.0000, 0.0000, 0.0000, 0.0000, 0.0000, 0.0000,\n",
       "         0.0000, 0.0000, 0.0000, 0.0000, 0.0000, 0.0000, 0.0000, 0.0000, 0.0000,\n",
       "         0.0000],\n",
       "        [0.0000, 0.0000, 0.0000, 0.0000, 0.0000, 0.0000, 0.0000, 0.0000, 0.0000,\n",
       "         0.0000, 0.0000, 0.0000, 0.0000, 0.0000, 0.0000, 0.0000, 0.0000, 0.0000,\n",
       "         0.0000, 0.0000, 0.0000, 0.0000, 0.0000, 0.0000, 0.0000, 0.0000, 0.0000,\n",
       "         0.0000]])"
      ]
     },
     "execution_count": 43,
     "metadata": {},
     "output_type": "execute_result"
    }
   ],
   "source": [
    "img_tensor = torch.tensor(img)\n",
    "img_tensor"
   ]
  },
  {
   "cell_type": "code",
   "execution_count": 44,
   "id": "9e61d3a8-702e-4b0d-97c4-e2ff44ee653c",
   "metadata": {},
   "outputs": [
    {
     "data": {
      "text/plain": [
       "tensor(0.0938)"
      ]
     },
     "execution_count": 44,
     "metadata": {},
     "output_type": "execute_result"
    }
   ],
   "source": [
    "img_tensor[20, 10]"
   ]
  },
  {
   "cell_type": "markdown",
   "id": "60df576c-d18c-47ec-9866-a46ef7945974",
   "metadata": {},
   "source": [
    "Now we can convert all of our lists into tensors."
   ]
  },
  {
   "cell_type": "code",
   "execution_count": 45,
   "id": "081a5312-3bf1-47f5-8d98-c6276c7fe289",
   "metadata": {},
   "outputs": [],
   "source": [
    "x_train, y_train, x_valid, y_valid = map(torch.tensor, (x_train, y_train, x_valid, y_valid))"
   ]
  },
  {
   "cell_type": "code",
   "execution_count": 46,
   "id": "b1c0647e-a223-41ee-8027-06951c09c1a6",
   "metadata": {},
   "outputs": [
    {
     "data": {
      "text/plain": [
       "(torch.Size([50000, 784]), 'torch.FloatTensor', torch.float32)"
      ]
     },
     "execution_count": 46,
     "metadata": {},
     "output_type": "execute_result"
    }
   ],
   "source": [
    "x_train.shape, x_train.type(), x_train.dtype"
   ]
  },
  {
   "cell_type": "markdown",
   "id": "10f1351e-ec3b-458f-92ee-26341eb2a45a",
   "metadata": {},
   "source": [
    "[Tensor](https://pytorch.org/docs/stable/tensors.html)"
   ]
  },
  {
   "cell_type": "code",
   "execution_count": 47,
   "id": "67dc024d-b1e5-441d-bf4b-abd44b0e9423",
   "metadata": {},
   "outputs": [
    {
     "data": {
      "text/plain": [
       "torch.Size([50000, 28, 28])"
      ]
     },
     "execution_count": 47,
     "metadata": {},
     "output_type": "execute_result"
    }
   ],
   "source": [
    "imgs = x_train.reshape(-1, 28, 28)\n",
    "imgs.shape"
   ]
  },
  {
   "cell_type": "code",
   "execution_count": 48,
   "id": "5d14924a-208f-4de2-8c59-210b7979890f",
   "metadata": {},
   "outputs": [
    {
     "data": {
      "text/plain": [
       "(tensor(0), tensor(9))"
      ]
     },
     "execution_count": 48,
     "metadata": {},
     "output_type": "execute_result"
    }
   ],
   "source": [
    "y_train.min(), y_train.max()"
   ]
  },
  {
   "cell_type": "markdown",
   "id": "031dfb17-d9fb-480f-b52b-86f3192a5868",
   "metadata": {},
   "source": [
    "## Matrix multiplication\n",
    "\n",
    "Same as Ch. 17 from the book."
   ]
  },
  {
   "attachments": {
    "9ea6de13-cc45-4a43-8a62-3b68af8a6762.png": {
     "image/png": "[encoded data removed]"
    }
   },
   "cell_type": "markdown",
   "id": "98bb2e43-a1ee-484a-99e6-661a9be3c97e",
   "metadata": {},
   "source": [
    "![image.png](attachment:9ea6de13-cc45-4a43-8a62-3b68af8a6762.png)"
   ]
  },
  {
   "cell_type": "code",
   "execution_count": 49,
   "id": "f6984295-f1de-4b6b-8152-434c973e0967",
   "metadata": {},
   "outputs": [
    {
     "data": {
      "text/plain": [
       "torch.Size([5, 784])"
      ]
     },
     "execution_count": 49,
     "metadata": {},
     "output_type": "execute_result"
    }
   ],
   "source": [
    "m1 = x_train[:5]\n",
    "m1.shape"
   ]
  },
  {
   "cell_type": "code",
   "execution_count": 50,
   "id": "3ba46a30-6b35-4a09-9dbf-9da95e2112d6",
   "metadata": {},
   "outputs": [],
   "source": [
    "torch.manual_seed(1)\n",
    "m2 = torch.rand(size=(784, 10)) # Where 10 is the number of categories in MNIST"
   ]
  },
  {
   "cell_type": "code",
   "execution_count": 51,
   "id": "99434852-ed53-4521-b303-bade8dab2553",
   "metadata": {},
   "outputs": [
    {
     "data": {
      "text/plain": [
       "(torch.Size([5, 784]), torch.Size([784, 10]))"
      ]
     },
     "execution_count": 51,
     "metadata": {},
     "output_type": "execute_result"
    }
   ],
   "source": [
    "m1.shape, m2.shape # ij*jk -> ik Einsum notation"
   ]
  },
  {
   "cell_type": "markdown",
   "id": "330454ef-6a3d-42aa-a5ab-3366cd008a3a",
   "metadata": {},
   "source": [
    "### Simplest algorithmic implementation"
   ]
  },
  {
   "cell_type": "code",
   "execution_count": 52,
   "id": "3a58d271-13a8-4974-8892-70c64904bfd9",
   "metadata": {},
   "outputs": [],
   "source": [
    "def matmul_v1(x, w):\n",
    "    \"\"\"\n",
    "    THe simplest algorithmic implementation of matrix multiplication.\n",
    "    \"\"\"\n",
    "    xn_row, xn_col = x.shape\n",
    "    wn_row, wn_col = w.shape\n",
    "    assert xn_col == wn_row # j == j\n",
    "    c = torch.zeros(size=(xn_row, wn_col))\n",
    "    for i in range(xn_row): # 5 == batch size\n",
    "        for j in range(wn_col): # 10 == nof neurons/activations\n",
    "            for k in range(xn_col): # 784 == nof inputs\n",
    "                c[i, j] += x[i, k] * w[k, j]\n",
    "    return c"
   ]
  },
  {
   "cell_type": "code",
   "execution_count": 53,
   "id": "6cceb32e-06c1-4454-a4d2-3e7ee73bf884",
   "metadata": {},
   "outputs": [
    {
     "data": {
      "text/plain": [
       "torch.Size([5, 10])"
      ]
     },
     "execution_count": 53,
     "metadata": {},
     "output_type": "execute_result"
    }
   ],
   "source": [
    "c = matmul_v1(m1, m2)\n",
    "c.shape"
   ]
  },
  {
   "cell_type": "code",
   "execution_count": 54,
   "id": "8a204530-356b-4a08-903b-10bce2b98b2c",
   "metadata": {},
   "outputs": [
    {
     "data": {
      "text/plain": [
       "tensor([[52.7774, 50.3767, 57.5645, 57.7793, 53.7955, 53.4711, 49.9727, 58.7308,\n",
       "         56.3193, 51.4459],\n",
       "        [60.7401, 57.7876, 64.7599, 60.3333, 60.7426, 60.8447, 58.3185, 64.3140,\n",
       "         66.0909, 56.5163],\n",
       "        [40.0340, 39.8945, 39.5935, 37.4960, 32.1075, 39.2020, 35.5282, 35.8848,\n",
       "         35.2594, 37.4396],\n",
       "        [35.0578, 29.6682, 35.5702, 32.7924, 34.3430, 36.6999, 31.0991, 33.0383,\n",
       "         33.4259, 32.5791],\n",
       "        [46.1151, 42.3057, 50.7886, 44.8071, 43.2603, 41.6379, 42.2743, 45.7456,\n",
       "         48.9296, 42.9046]])"
      ]
     },
     "execution_count": 54,
     "metadata": {},
     "output_type": "execute_result"
    }
   ],
   "source": [
    "c"
   ]
  },
  {
   "cell_type": "code",
   "execution_count": 55,
   "id": "1b09e755-d772-4e0e-8fa3-e456e8d30511",
   "metadata": {},
   "outputs": [],
   "source": [
    "# Handy to use in all notebook as it modifies the printing options for tensors\n",
    "torch.set_printoptions(precision=2, linewidth=140, sci_mode=False)"
   ]
  },
  {
   "cell_type": "code",
   "execution_count": 56,
   "id": "e2ab337e-ae53-490e-91ea-04a11ec89b9e",
   "metadata": {},
   "outputs": [
    {
     "data": {
      "text/plain": [
       "tensor([[52.78, 50.38, 57.56, 57.78, 53.80, 53.47, 49.97, 58.73, 56.32, 51.45],\n",
       "        [60.74, 57.79, 64.76, 60.33, 60.74, 60.84, 58.32, 64.31, 66.09, 56.52],\n",
       "        [40.03, 39.89, 39.59, 37.50, 32.11, 39.20, 35.53, 35.88, 35.26, 37.44],\n",
       "        [35.06, 29.67, 35.57, 32.79, 34.34, 36.70, 31.10, 33.04, 33.43, 32.58],\n",
       "        [46.12, 42.31, 50.79, 44.81, 43.26, 41.64, 42.27, 45.75, 48.93, 42.90]])"
      ]
     },
     "execution_count": 56,
     "metadata": {},
     "output_type": "execute_result"
    }
   ],
   "source": [
    "c"
   ]
  },
  {
   "cell_type": "markdown",
   "id": "467ae8ec-dea4-4d1d-a1b4-16bd1e326308",
   "metadata": {},
   "source": [
    "### Elementwise arithmetic"
   ]
  },
  {
   "cell_type": "code",
   "execution_count": 57,
   "id": "c274f89b-8ed4-43a5-8714-ff976c60407f",
   "metadata": {},
   "outputs": [],
   "source": [
    "def matmul_v2(x, w):\n",
    "    \"\"\"\n",
    "    Accelerated algorithmic implementation of matrix multiplication using elementwise arithmetic.\n",
    "    \"\"\"\n",
    "    xn_row, xn_col = x.shape\n",
    "    wn_row, wn_col = w.shape\n",
    "    assert xn_col == wn_row # j == j\n",
    "    c = torch.zeros(size=(xn_row, wn_col))\n",
    "    for i in range(xn_row): # 5 == batch size\n",
    "        for j in range(wn_col): # 10 == nof neurons/activations\n",
    "            c[i, j] += (x[i, :] * w[:, j]).sum()\n",
    "            # c[i, j] += (x[i] * w[:, j]).sum() # Same result\n",
    "    return c"
   ]
  },
  {
   "cell_type": "code",
   "execution_count": 58,
   "id": "a7060a57-f6db-4046-944b-c0f22130c919",
   "metadata": {},
   "outputs": [
    {
     "data": {
      "text/plain": [
       "torch.Size([5, 10])"
      ]
     },
     "execution_count": 58,
     "metadata": {},
     "output_type": "execute_result"
    }
   ],
   "source": [
    "c = matmul_v2(m1, m2)\n",
    "c.shape"
   ]
  },
  {
   "cell_type": "code",
   "execution_count": 59,
   "id": "b0857fc5-2a44-4f18-a8fd-7ec696ffdc42",
   "metadata": {},
   "outputs": [
    {
     "data": {
      "text/plain": [
       "tensor([[52.78, 50.38, 57.56, 57.78, 53.80, 53.47, 49.97, 58.73, 56.32, 51.45],\n",
       "        [60.74, 57.79, 64.76, 60.33, 60.74, 60.84, 58.32, 64.31, 66.09, 56.52],\n",
       "        [40.03, 39.89, 39.59, 37.50, 32.11, 39.20, 35.53, 35.88, 35.26, 37.44],\n",
       "        [35.06, 29.67, 35.57, 32.79, 34.34, 36.70, 31.10, 33.04, 33.43, 32.58],\n",
       "        [46.12, 42.31, 50.79, 44.81, 43.26, 41.64, 42.27, 45.75, 48.93, 42.90]])"
      ]
     },
     "execution_count": 59,
     "metadata": {},
     "output_type": "execute_result"
    }
   ],
   "source": [
    "c"
   ]
  },
  {
   "cell_type": "markdown",
   "id": "07418a68-31ea-40bc-b139-eb55e2f17f24",
   "metadata": {},
   "source": [
    "### Broadcasating\n",
    "\n",
    "What if you have arrays if different shapes?\n",
    "\n",
    "I find this notion tricky to grasp, so I look into it from the video tutorials: https://youtu.be/_TMhP1VExVQ?t=7393\n",
    "\n",
    "PyTorch broadcasting rules: https://pytorch.org/docs/stable/notes/broadcasting.html"
   ]
  },
  {
   "cell_type": "code",
   "execution_count": 60,
   "id": "c8a8d8be-ea4c-4f6e-ba32-060c56851713",
   "metadata": {},
   "outputs": [],
   "source": [
    "a = torch.tensor((10, 20, 30))\n",
    "b = torch.tensor([[1, 2, 3], [4, 5, 6], [7, 8, 9]])"
   ]
  },
  {
   "cell_type": "code",
   "execution_count": 61,
   "id": "ad54a720-b6f0-4101-ad3b-7d9c2a5fab64",
   "metadata": {},
   "outputs": [
    {
     "data": {
      "text/plain": [
       "(torch.Size([3]), torch.Size([3, 3]))"
      ]
     },
     "execution_count": 61,
     "metadata": {},
     "output_type": "execute_result"
    }
   ],
   "source": [
    "# a has a matching dimension and a missing one so it's broadcastable\n",
    "a.shape, b.shape"
   ]
  },
  {
   "cell_type": "code",
   "execution_count": 62,
   "id": "fc42f0d5-b598-47de-a4f3-ec091a8369f3",
   "metadata": {},
   "outputs": [
    {
     "data": {
      "text/plain": [
       "tensor([[11, 22, 33],\n",
       "        [14, 25, 36],\n",
       "        [17, 28, 39]])"
      ]
     },
     "execution_count": 62,
     "metadata": {},
     "output_type": "execute_result"
    }
   ],
   "source": [
    "a + b"
   ]
  },
  {
   "cell_type": "markdown",
   "id": "ef172b0b-bb5d-422b-beab-a2389605da01",
   "metadata": {},
   "source": [
    "What happens during broadcasting:"
   ]
  },
  {
   "cell_type": "code",
   "execution_count": 63,
   "id": "39864635-2dfb-45d9-939f-b4370879424d",
   "metadata": {},
   "outputs": [
    {
     "data": {
      "text/plain": [
       "tensor([[10, 20, 30],\n",
       "        [10, 20, 30],\n",
       "        [10, 20, 30]])"
      ]
     },
     "execution_count": 63,
     "metadata": {},
     "output_type": "execute_result"
    }
   ],
   "source": [
    "t = a.expand_as(b)\n",
    "t"
   ]
  },
  {
   "cell_type": "markdown",
   "id": "00688e61-af8f-485f-a3dc-7f8cb9c3eae9",
   "metadata": {},
   "source": [
    "#### Matmul with broadcasting"
   ]
  },
  {
   "cell_type": "markdown",
   "id": "2b7365e4-afdd-4c41-b094-aa455c68835f",
   "metadata": {},
   "source": [
    "We can see the shapes of `m1, m2` don't match, so broadcasting is impossible on first look."
   ]
  },
  {
   "cell_type": "code",
   "execution_count": 64,
   "id": "c0911eb8-8420-4d38-b244-3b2ff8a02400",
   "metadata": {},
   "outputs": [
    {
     "data": {
      "text/plain": [
       "(torch.Size([5, 784]), torch.Size([784, 10]))"
      ]
     },
     "execution_count": 64,
     "metadata": {},
     "output_type": "execute_result"
    }
   ],
   "source": [
    "m1.shape, m2.shape # "
   ]
  },
  {
   "cell_type": "code",
   "execution_count": 65,
   "id": "98017bfe-0975-4b68-a733-33f50725c79d",
   "metadata": {},
   "outputs": [
    {
     "data": {
      "text/plain": [
       "(torch.Size([784]), torch.Size([784, 10]))"
      ]
     },
     "execution_count": 65,
     "metadata": {},
     "output_type": "execute_result"
    }
   ],
   "source": [
    "digit = m1[0]\n",
    "digit.shape, m2.shape"
   ]
  },
  {
   "cell_type": "code",
   "execution_count": 66,
   "id": "2c694594-cce2-46c5-b82c-7eb5042232a4",
   "metadata": {},
   "outputs": [
    {
     "data": {
      "text/plain": [
       "torch.Size([784, 1])"
      ]
     },
     "execution_count": 66,
     "metadata": {},
     "output_type": "execute_result"
    }
   ],
   "source": [
    "digit[:,None].shape"
   ]
  },
  {
   "cell_type": "code",
   "execution_count": 67,
   "id": "2a21cbf9-96f8-437e-beab-e8aba2a210ff",
   "metadata": {},
   "outputs": [
    {
     "data": {
      "text/plain": [
       "torch.Size([784, 10])"
      ]
     },
     "execution_count": 67,
     "metadata": {},
     "output_type": "execute_result"
    }
   ],
   "source": [
    "digit[:, None].expand_as(m2).shape"
   ]
  },
  {
   "cell_type": "code",
   "execution_count": 68,
   "id": "e1955f2c-8cb2-49ef-ba9e-8430de599c4e",
   "metadata": {},
   "outputs": [
    {
     "data": {
      "text/plain": [
       "torch.Size([784, 10])"
      ]
     },
     "execution_count": 68,
     "metadata": {},
     "output_type": "execute_result"
    }
   ],
   "source": [
    "# So multiplication is now possible like this:\n",
    "(digit[:,None]*m2).shape"
   ]
  },
  {
   "cell_type": "markdown",
   "id": "0581c8dd-594e-48f1-a0bf-76ae89cfe3c5",
   "metadata": {},
   "source": [
    "That means that `digit` has been expanded to match the number of neurons in `m2`.\n",
    "\n",
    "**However, notice the dimension upon which we are adding the matrixes - we are adding them across the 784 rows**"
   ]
  },
  {
   "cell_type": "code",
   "execution_count": 69,
   "id": "1ee1e45d-3cf5-49eb-a955-edc6b918bb31",
   "metadata": {},
   "outputs": [],
   "source": [
    "def matmul_v3(x, w):\n",
    "    \"\"\"\n",
    "    Accelerated algorithmic implementation of matrix multiplication using elementwise arithmetic and broadcasting.\n",
    "    \"\"\"\n",
    "    xn_row, xn_col = x.shape\n",
    "    wn_row, wn_col = w.shape\n",
    "    assert xn_col == wn_row # j == j\n",
    "    c = torch.zeros(size=(xn_row, wn_col))\n",
    "    for i in range(xn_row): # 5 == batch size\n",
    "        c[i] = (x[i,:,None] * w).sum(dim=0)\n",
    "    return c"
   ]
  },
  {
   "cell_type": "code",
   "execution_count": 70,
   "id": "9309a319-b81c-4e5d-bf2d-d013c652a504",
   "metadata": {},
   "outputs": [],
   "source": [
    "c = matmul_v3(m1, m2)"
   ]
  },
  {
   "cell_type": "code",
   "execution_count": 71,
   "id": "632b2c0c-1626-41a3-b405-e7649505d161",
   "metadata": {},
   "outputs": [
    {
     "data": {
      "text/plain": [
       "torch.Size([5, 10])"
      ]
     },
     "execution_count": 71,
     "metadata": {},
     "output_type": "execute_result"
    }
   ],
   "source": [
    "c.shape"
   ]
  },
  {
   "cell_type": "code",
   "execution_count": 72,
   "id": "c655ff55-72d9-40c8-a7b3-1159e6532e78",
   "metadata": {},
   "outputs": [
    {
     "data": {
      "text/plain": [
       "tensor([[52.78, 50.38, 57.56, 57.78, 53.80, 53.47, 49.97, 58.73, 56.32, 51.45],\n",
       "        [60.74, 57.79, 64.76, 60.33, 60.74, 60.84, 58.32, 64.31, 66.09, 56.52],\n",
       "        [40.03, 39.89, 39.59, 37.50, 32.11, 39.20, 35.53, 35.88, 35.26, 37.44],\n",
       "        [35.06, 29.67, 35.57, 32.79, 34.34, 36.70, 31.10, 33.04, 33.43, 32.58],\n",
       "        [46.12, 42.31, 50.79, 44.81, 43.26, 41.64, 42.27, 45.75, 48.93, 42.90]])"
      ]
     },
     "execution_count": 72,
     "metadata": {},
     "output_type": "execute_result"
    }
   ],
   "source": [
    "c"
   ]
  },
  {
   "cell_type": "code",
   "execution_count": 73,
   "id": "394b7137-8d35-4f3c-a8e8-45335407d046",
   "metadata": {},
   "outputs": [
    {
     "name": "stdout",
     "output_type": "stream",
     "text": [
      "Help on method_descriptor:\n",
      "\n",
      "sum(...)\n",
      "    sum(dim=None, keepdim=False, dtype=None) -> Tensor\n",
      "    \n",
      "    See :func:`torch.sum`\n",
      "\n"
     ]
    }
   ],
   "source": [
    "help(torch.Tensor.sum)"
   ]
  },
  {
   "cell_type": "markdown",
   "id": "223112d8-ea47-4013-b378-0a33de75e0c1",
   "metadata": {},
   "source": [
    "The video does a decent job at explaining things, however, I still find this technique tricky to grasp."
   ]
  },
  {
   "cell_type": "markdown",
   "id": "15f841ce-7605-434b-bd6d-4b3c4b85f86b",
   "metadata": {},
   "source": [
    "Now, let's use our `matmul_v3` on the whole dataset. It should be faster than all the previous implementations."
   ]
  },
  {
   "cell_type": "code",
   "execution_count": 74,
   "id": "44b4eddb-ab52-40d2-b4f8-ebea8275af92",
   "metadata": {},
   "outputs": [
    {
     "data": {
      "text/plain": [
       "torch.Size([50000, 10])"
      ]
     },
     "execution_count": 74,
     "metadata": {},
     "output_type": "execute_result"
    }
   ],
   "source": [
    "weights = m2\n",
    "test_tensor = matmul_v3(x_train, weights)\n",
    "test_tensor.shape"
   ]
  },
  {
   "cell_type": "markdown",
   "id": "a48e349d-b448-413c-b1ca-90fa05de2c40",
   "metadata": {},
   "source": [
    "A little speed comparison"
   ]
  },
  {
   "cell_type": "code",
   "execution_count": 75,
   "id": "a58a6eb8-4ce6-493e-9a26-42c9e42d7880",
   "metadata": {},
   "outputs": [
    {
     "name": "stdout",
     "output_type": "stream",
     "text": [
      "CPU times: user 464 ms, sys: 2.66 ms, total: 466 ms\n",
      "Wall time: 465 ms\n"
     ]
    }
   ],
   "source": [
    "%time _ = matmul_v1(m1, m2)"
   ]
  },
  {
   "cell_type": "code",
   "execution_count": 76,
   "id": "db3b2051-7ca0-4464-9c30-d210e4d6319e",
   "metadata": {},
   "outputs": [
    {
     "name": "stdout",
     "output_type": "stream",
     "text": [
      "CPU times: user 2.8 ms, sys: 0 ns, total: 2.8 ms\n",
      "Wall time: 2.46 ms\n"
     ]
    }
   ],
   "source": [
    "%time _ = matmul_v2(m1, m2)"
   ]
  },
  {
   "cell_type": "code",
   "execution_count": 77,
   "id": "02582030-4c33-4e0b-bc28-84bb954535bf",
   "metadata": {},
   "outputs": [
    {
     "name": "stdout",
     "output_type": "stream",
     "text": [
      "CPU times: user 381 µs, sys: 35 µs, total: 416 µs\n",
      "Wall time: 277 µs\n"
     ]
    }
   ],
   "source": [
    "%time _ = matmul_v3(m1, m2)"
   ]
  },
  {
   "cell_type": "markdown",
   "id": "a697422a-ec45-499b-b547-eaf85f37cbaa",
   "metadata": {},
   "source": [
    "### Einstein summation\n",
    "\n",
    "The rules of Einstein summation notation are as follows:\n",
    "\n",
    "1. Repeated indices between input matrices means that values along those axes are multiplied together.\n",
    "2. Repeated indices on the left side are implicitly summed over if they are not on the right side.\n",
    "3. Each index can appear at most twice on the left side.\n",
    "4. The unrepeated indices on the left side must appear on the right side.\n",
    "\n",
    "**Example**\n",
    "\n",
    "If we perform a matrix multiplication between 2 matrixes with the following sizes.\n",
    "\n",
    "`[i,j] * [j, k] -> [i, k]`\n",
    "\n",
    "`einsum` usage:"
   ]
  },
  {
   "cell_type": "code",
   "execution_count": 78,
   "id": "3f48e7a4-1c3c-43c9-9b95-412f2904d775",
   "metadata": {},
   "outputs": [
    {
     "data": {
      "text/plain": [
       "tensor([[52.78, 50.38, 57.56, 57.78, 53.80, 53.47, 49.97, 58.73, 56.32, 51.45],\n",
       "        [60.74, 57.79, 64.76, 60.33, 60.74, 60.84, 58.32, 64.31, 66.09, 56.52],\n",
       "        [40.03, 39.89, 39.59, 37.50, 32.11, 39.20, 35.53, 35.88, 35.26, 37.44],\n",
       "        [35.06, 29.67, 35.57, 32.79, 34.34, 36.70, 31.10, 33.04, 33.43, 32.58],\n",
       "        [46.12, 42.31, 50.79, 44.81, 43.26, 41.64, 42.27, 45.75, 48.93, 42.90]])"
      ]
     },
     "execution_count": 78,
     "metadata": {},
     "output_type": "execute_result"
    }
   ],
   "source": [
    "# This does matrix multiplication because it's missing the j index (summed over - nation 1)\n",
    "torch.einsum(\"ij,jk->ik\",m1, m2)"
   ]
  },
  {
   "cell_type": "markdown",
   "id": "6393e681-fb48-4224-ae96-2d21a9dca27a",
   "metadata": {},
   "source": [
    "In the case above, `j` is present on the left side and repeated between the input matrces. That implies that values along those axes are multiplied together.\n",
    "\n",
    "Also `j` is not present on the right hand side. That implies that values across that index are summed over."
   ]
  },
  {
   "cell_type": "code",
   "execution_count": 79,
   "id": "09394091-722b-487f-b012-0c0644fda53d",
   "metadata": {},
   "outputs": [
    {
     "data": {
      "text/plain": [
       "(torch.Size([5, 784]), torch.Size([784, 10]))"
      ]
     },
     "execution_count": 79,
     "metadata": {},
     "output_type": "execute_result"
    }
   ],
   "source": [
    "m1.shape, m2.shape"
   ]
  },
  {
   "cell_type": "code",
   "execution_count": 80,
   "id": "17bc2b8d-10d5-4f67-bc29-4cc9ef1f6c73",
   "metadata": {},
   "outputs": [
    {
     "data": {
      "text/plain": [
       "torch.Size([5, 784, 10])"
      ]
     },
     "execution_count": 80,
     "metadata": {},
     "output_type": "execute_result"
    }
   ],
   "source": [
    "# This adheres to the initial notation of einsum\n",
    "torch.einsum(\"ij,jk->ijk\",m1, m2).shape"
   ]
  },
  {
   "cell_type": "markdown",
   "id": "27afcb1a-2a7f-40ba-ae22-f6a8038edade",
   "metadata": {},
   "source": [
    "In this case, the `j` index was not summed over and its present in the resulting einsum matrix."
   ]
  },
  {
   "cell_type": "markdown",
   "id": "5ab39ef2-43af-4430-9f72-146c29343820",
   "metadata": {},
   "source": [
    "Let's assume that we want to perform a matrix multiplication using `einsum` in this case."
   ]
  },
  {
   "cell_type": "code",
   "execution_count": 81,
   "id": "50499f9f-48d0-4f65-bb1a-4b700e245a28",
   "metadata": {},
   "outputs": [
    {
     "data": {
      "text/plain": [
       "torch.Size([5, 10])"
      ]
     },
     "execution_count": 81,
     "metadata": {},
     "output_type": "execute_result"
    }
   ],
   "source": [
    "einsum_mm = torch.einsum(\"ij,jk->ik\", m1, m2)\n",
    "einsum_mm.shape"
   ]
  },
  {
   "cell_type": "code",
   "execution_count": 82,
   "id": "45180fc3-a611-44e7-9a63-16abc8394296",
   "metadata": {},
   "outputs": [
    {
     "name": "stdout",
     "output_type": "stream",
     "text": [
      "CPU times: user 1.12 ms, sys: 0 ns, total: 1.12 ms\n",
      "Wall time: 256 µs\n"
     ]
    }
   ],
   "source": [
    "%time _ = torch.einsum(\"ij,jk->ik\", m1, m2)"
   ]
  },
  {
   "cell_type": "code",
   "execution_count": 83,
   "id": "0d408a4d-3479-46c6-9e7e-0923a7ae7a9e",
   "metadata": {},
   "outputs": [
    {
     "name": "stdout",
     "output_type": "stream",
     "text": [
      "CPU times: user 36.5 ms, sys: 2.49 ms, total: 39 ms\n",
      "Wall time: 9.69 ms\n"
     ]
    }
   ],
   "source": [
    "%time _ = torch.einsum(\"ij,jk->ik\", x_train, weights)"
   ]
  },
  {
   "cell_type": "markdown",
   "id": "c647f803-9c48-4908-8cae-19d89a7f4339",
   "metadata": {},
   "source": [
    "### matmul with pytorch\n",
    "\n",
    "`PyTorch` has an optimized matrix multiplication operator: `@`."
   ]
  },
  {
   "cell_type": "code",
   "execution_count": 84,
   "id": "ce76ef77-dd27-4666-90c9-b1235f0da251",
   "metadata": {},
   "outputs": [
    {
     "data": {
      "text/plain": [
       "torch.Size([5, 10])"
      ]
     },
     "execution_count": 84,
     "metadata": {},
     "output_type": "execute_result"
    }
   ],
   "source": [
    "(m1 @ m2).shape"
   ]
  },
  {
   "cell_type": "code",
   "execution_count": 85,
   "id": "6fc59493-cfeb-4c71-bb69-b3ff02bbd00b",
   "metadata": {},
   "outputs": [
    {
     "name": "stdout",
     "output_type": "stream",
     "text": [
      "CPU times: user 308 µs, sys: 28 µs, total: 336 µs\n",
      "Wall time: 83.4 µs\n"
     ]
    }
   ],
   "source": [
    "%time _ = (m1 @ m2)"
   ]
  },
  {
   "cell_type": "markdown",
   "id": "0ad7439a-23a4-4017-bad7-47f4228bf9f5",
   "metadata": {},
   "source": [
    "Let's run `pytorch.matmul` for the whole training set."
   ]
  },
  {
   "cell_type": "code",
   "execution_count": 86,
   "id": "b6d0c13f-25ea-4976-a584-b71da4eec522",
   "metadata": {},
   "outputs": [
    {
     "name": "stdout",
     "output_type": "stream",
     "text": [
      "9.16 ms ± 766 µs per loop (mean ± std. dev. of 7 runs, 5 loops each)\n"
     ]
    }
   ],
   "source": [
    "%timeit -n 5 _=torch.matmul(x_train, weights)"
   ]
  },
  {
   "cell_type": "code",
   "execution_count": 87,
   "id": "b899e897-195f-4544-82aa-e872e5065b52",
   "metadata": {},
   "outputs": [
    {
     "name": "stdout",
     "output_type": "stream",
     "text": [
      "CPU times: user 37.1 ms, sys: 0 ns, total: 37.1 ms\n",
      "Wall time: 9.15 ms\n"
     ]
    }
   ],
   "source": [
    "%time _ = torch.matmul(x_train, m2)"
   ]
  },
  {
   "cell_type": "markdown",
   "id": "dbf7fdc5-08d4-47e6-b668-635ad22b8aec",
   "metadata": {},
   "source": [
    "### matmul with CUDA\n",
    "\n",
    "Use the NVIDIA GPU to compute matrix multiplication in parallel."
   ]
  },
  {
   "cell_type": "code",
   "execution_count": 88,
   "id": "8c7ba7ff-6b4f-42b6-a6d1-f5daf1b2c5c1",
   "metadata": {},
   "outputs": [],
   "source": [
    "def matmul_grid(grid, a, b, c):\n",
    "    \"\"\"\n",
    "    Populates matmul result of a,b in the grid location of c matrix.\n",
    "    \"\"\"\n",
    "    i, j = grid\n",
    "    if i < c.shape[0] and j < c.shape[1]:\n",
    "        res = 0.\n",
    "        for k in range(a.shape[1]):\n",
    "            res += a[i, k] * b[k, j]\n",
    "        c[i, j] = res"
   ]
  },
  {
   "cell_type": "code",
   "execution_count": 89,
   "id": "2c245f2b-1b3c-48d2-90f7-d4a5fc48a5ec",
   "metadata": {},
   "outputs": [],
   "source": [
    "m1n_row, m1n_col = m1.shape\n",
    "m2n_row, m2n_col = m2.shape\n",
    "m3_res = torch.zeros(size=(m1n_row, m2n_col))"
   ]
  },
  {
   "cell_type": "code",
   "execution_count": 90,
   "id": "f8cc7407-5c7f-44fa-9a4e-9fe9af3eb455",
   "metadata": {},
   "outputs": [
    {
     "data": {
      "text/plain": [
       "tensor([[52.78,  0.00,  0.00,  0.00,  0.00,  0.00,  0.00,  0.00,  0.00,  0.00],\n",
       "        [ 0.00,  0.00,  0.00,  0.00,  0.00,  0.00,  0.00,  0.00,  0.00,  0.00],\n",
       "        [ 0.00,  0.00,  0.00,  0.00,  0.00,  0.00,  0.00,  0.00,  0.00,  0.00],\n",
       "        [ 0.00,  0.00,  0.00,  0.00,  0.00,  0.00,  0.00,  0.00,  0.00,  0.00],\n",
       "        [ 0.00,  0.00,  0.00,  0.00,  0.00,  0.00,  0.00,  0.00,  0.00,  0.00]])"
      ]
     },
     "execution_count": 90,
     "metadata": {},
     "output_type": "execute_result"
    }
   ],
   "source": [
    "matmul_grid((0, 0), m1, m2, m3_res)\n",
    "m3_res"
   ]
  },
  {
   "cell_type": "markdown",
   "id": "88dd9767-c23f-4772-9286-6fcb2ba285f4",
   "metadata": {},
   "source": [
    "None of the locations in the resulting matrix interract with each other. That, immediately means we can run the operations in parallel on all the grid locations.\n",
    "\n",
    "Something which can calculate an output on the GPU is called a kernel. So, we have teh following function:"
   ]
  },
  {
   "cell_type": "code",
   "execution_count": 91,
   "id": "aa87af7f-8304-4df6-92d9-df2eb9fa01c5",
   "metadata": {},
   "outputs": [],
   "source": [
    "def launch_kernel(kernel, grid_x, grid_y, *args, **kwargs):\n",
    "    for i in range(grid_x):\n",
    "        for j in range(grid_y):\n",
    "            kernel((i, j), *args, **kwargs) # We call the matmul_grid() here"
   ]
  },
  {
   "cell_type": "code",
   "execution_count": 92,
   "id": "cbe9faf7-1e87-4c78-9e70-c3b104180e03",
   "metadata": {},
   "outputs": [
    {
     "data": {
      "text/plain": [
       "(tensor([[52.78, 50.38, 57.56, 57.78, 53.80, 53.47, 49.97, 58.73, 56.32, 51.45],\n",
       "         [60.74, 57.79, 64.76, 60.33, 60.74, 60.84, 58.32, 64.31, 66.09, 56.52],\n",
       "         [40.03, 39.89, 39.59, 37.50, 32.11, 39.20, 35.53, 35.88, 35.26, 37.44],\n",
       "         [35.06, 29.67, 35.57, 32.79, 34.34, 36.70, 31.10, 33.04, 33.43, 32.58],\n",
       "         [46.12, 42.31, 50.79, 44.81, 43.26, 41.64, 42.27, 45.75, 48.93, 42.90]]),\n",
       " torch.Size([5, 10]))"
      ]
     },
     "execution_count": 92,
     "metadata": {},
     "output_type": "execute_result"
    }
   ],
   "source": [
    "kernel_res = torch.zeros(size=(m1n_row, m2n_col))\n",
    "launch_kernel(matmul_grid, m1n_row, m2n_col, m1, m2, kernel_res)\n",
    "kernel_res, kernel_res.shape"
   ]
  },
  {
   "cell_type": "markdown",
   "id": "c4833627-ddf5-4500-bfbc-c956cdb953e6",
   "metadata": {},
   "source": [
    "The above is not really calculated in the GPU... yet.\n",
    "\n",
    "To make it run on the GPU we're going to use `numba` - a compiler which compiles the code to run on the GPU.\n",
    "\n",
    "Parts of this implementation are not fully explained."
   ]
  },
  {
   "cell_type": "code",
   "execution_count": 93,
   "id": "807ea2cf-7603-42d2-9085-68cdc22fc84e",
   "metadata": {},
   "outputs": [
    {
     "ename": "ModuleNotFoundError",
     "evalue": "No module named 'numba'",
     "output_type": "error",
     "traceback": [
      "\u001b[0;31m---------------------------------------------------------------------------\u001b[0m",
      "\u001b[0;31mModuleNotFoundError\u001b[0m                       Traceback (most recent call last)",
      "Cell \u001b[0;32mIn [93], line 1\u001b[0m\n\u001b[0;32m----> 1\u001b[0m \u001b[38;5;28;01mfrom\u001b[39;00m \u001b[38;5;21;01mnumba\u001b[39;00m \u001b[38;5;28;01mimport\u001b[39;00m cuda\n\u001b[1;32m      2\u001b[0m \u001b[38;5;28;01mimport\u001b[39;00m \u001b[38;5;21;01mmath\u001b[39;00m\n",
      "\u001b[0;31mModuleNotFoundError\u001b[0m: No module named 'numba'"
     ]
    }
   ],
   "source": [
    "from numba import cuda\n",
    "import math"
   ]
  },
  {
   "cell_type": "code",
   "execution_count": null,
   "id": "3a437402-dece-4802-ae01-6d68454f546d",
   "metadata": {},
   "outputs": [],
   "source": [
    "@cuda.jit\n",
    "def matmul_cuda(a, b, c):\n",
    "    \"\"\"\n",
    "    Populates matmul result of a,b in the grid location of c matrix.\n",
    "    \"\"\"\n",
    "    i, j = cuda.grid(2) # How many dimensions the grid has\n",
    "    if i < c.shape[0] and j < c.shape[1]:\n",
    "        res = 0.\n",
    "        for k in range(a.shape[1]):\n",
    "            res += a[i, k] * b[k, j]\n",
    "        c[i, j] = res"
   ]
  },
  {
   "cell_type": "code",
   "execution_count": null,
   "id": "d69b3bcc-9741-45e7-a71d-0f5ae36ddcb9",
   "metadata": {},
   "outputs": [],
   "source": [
    "res_cuda = torch.zeros(size=(x_train.shape[0], m2n_col))\n",
    "res_cuda.shape, weights.shape"
   ]
  },
  {
   "cell_type": "markdown",
   "id": "a8ad0478-2103-4f71-b48d-0ea7fc9e5f8a",
   "metadata": {},
   "source": [
    "We need to load the parameters to the GPU:"
   ]
  },
  {
   "cell_type": "code",
   "execution_count": null,
   "id": "444d49f0-103f-4c22-b394-185ca4ebf049",
   "metadata": {},
   "outputs": [],
   "source": [
    "m1_cuda, m2_cuda, res_cuda = map(cuda.to_device, (x_train, weights, res_cuda))"
   ]
  },
  {
   "cell_type": "code",
   "execution_count": null,
   "id": "cdbfc50b-a467-40ea-89c1-871cce98277b",
   "metadata": {},
   "outputs": [],
   "source": [
    "res_cuda.shape"
   ]
  },
  {
   "cell_type": "code",
   "execution_count": null,
   "id": "44ae24e3-d2f5-41df-9334-fefb02ba4d76",
   "metadata": {},
   "outputs": [],
   "source": [
    "# This is the unexplained part\n",
    "TPB = 16\n",
    "rr,rc = res_cuda.shape\n",
    "blockspergrid = (math.ceil(rr / TPB), math.ceil(rc / TPB))\n",
    "blockspergrid"
   ]
  },
  {
   "cell_type": "markdown",
   "id": "6f3bfd02-39e2-4ace-afd7-aaf8d37ed5db",
   "metadata": {},
   "source": [
    "Now we're going to call the equivalent of `launch_kernel()`."
   ]
  },
  {
   "cell_type": "code",
   "execution_count": null,
   "id": "ecbcf4ea-28ec-468a-b045-aa70fe4dfe3f",
   "metadata": {},
   "outputs": [],
   "source": [
    "matmul_cuda[blockspergrid, (TPB, TPB)](m1_cuda, m2_cuda, res_cuda)"
   ]
  },
  {
   "cell_type": "markdown",
   "id": "b55070b8-8d95-4334-981d-59100cecb226",
   "metadata": {},
   "source": [
    "The results are now in the GPU, so we need to copy them back to the CPU."
   ]
  },
  {
   "cell_type": "code",
   "execution_count": null,
   "id": "e3d1ea34-1195-4785-a89e-c52ed2591ada",
   "metadata": {},
   "outputs": [],
   "source": [
    "res_cpu = res_cuda.copy_to_host()\n",
    "res_cpu.shape"
   ]
  },
  {
   "cell_type": "code",
   "execution_count": null,
   "id": "3ef0fdfb-2155-4d93-a20d-cb7e838d2c04",
   "metadata": {},
   "outputs": [],
   "source": [
    "%time _ = matmul_cuda[blockspergrid, (TPB, TPB)](m1_cuda, m2_cuda, res_cuda); res_cpu = res_cuda.copy_to_host()"
   ]
  },
  {
   "cell_type": "code",
   "execution_count": null,
   "id": "e2eeeaba-9199-4110-9645-e4df3d8d3ac2",
   "metadata": {},
   "outputs": [],
   "source": [
    "%%timeit -n 5\n",
    "matmul_cuda[blockspergrid, (TPB, TPB)](m1_cuda, m2_cuda, res_cuda)\n",
    "res_cpu = res_cuda.copy_to_host()"
   ]
  },
  {
   "cell_type": "markdown",
   "id": "36df35a0-3829-4812-a82b-7998c437a3b1",
   "metadata": {},
   "source": [
    "The trick is that we can load any tensor to the `GPU` by using the `.cuda()` method on it.\n",
    "\n",
    "THis essentially allows us to use the `pytorch @` operator on the `GPU`."
   ]
  },
  {
   "cell_type": "code",
   "execution_count": null,
   "id": "36e10ac9-9b1a-4b5f-a850-5ad80ba3ce89",
   "metadata": {},
   "outputs": [],
   "source": [
    "m1cuda, m2cuda = x_train.cuda(), weights.cuda()\n",
    "rcuda = (m1cuda @ m2cuda).cpu()"
   ]
  },
  {
   "cell_type": "code",
   "execution_count": null,
   "id": "5b4b90c9-b13d-4c53-8e2f-c2738b587229",
   "metadata": {},
   "outputs": [],
   "source": [
    "%time _ = rcuda = (m1cuda @ m2cuda).cpu()"
   ]
  },
  {
   "cell_type": "markdown",
   "id": "5dddf974-2ee1-4950-9baa-0d76f69dab49",
   "metadata": {},
   "source": [
    "You need to be running stuff on the GPU!"
   ]
  },
  {
   "cell_type": "code",
   "execution_count": 94,
   "id": "6fe967b4-a7a7-4a9c-8746-23bcc2dce984",
   "metadata": {
    "tags": []
   },
   "outputs": [],
   "source": [
    "#| hide\n",
    "import nbdev; nbdev.nbdev_export()"
   ]
  },
  {
   "cell_type": "code",
   "execution_count": null,
   "id": "b1f864f3-43fa-40ca-b92d-3c8c2021933b",
   "metadata": {},
   "outputs": [],
   "source": []
  }
 ],
 "metadata": {
  "kernelspec": {
   "display_name": "Python 3 (ipykernel)",
   "language": "python",
   "name": "python3"
  },
  "language_info": {
   "codemirror_mode": {
    "name": "ipython",
    "version": 3
   },
   "file_extension": ".py",
   "mimetype": "text/x-python",
   "name": "python",
   "nbconvert_exporter": "python",
   "pygments_lexer": "ipython3",
   "version": "3.10.13"
  }
 },
 "nbformat": 4,
 "nbformat_minor": 5
}
