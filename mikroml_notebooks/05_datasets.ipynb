{
 "cells": [
  {
   "cell_type": "markdown",
   "id": "b3ca5088-53b9-433c-a103-a84ffa82d8ae",
   "metadata": {},
   "source": [
    "# Datasets notebook\n",
    "\n",
    "Contains convenience functions to download and extract various datasets."
   ]
  },
  {
   "cell_type": "code",
   "execution_count": 1,
   "id": "f8ee6f8a-4fd2-4b2b-a8b9-3e681f17c260",
   "metadata": {
    "tags": []
   },
   "outputs": [],
   "source": [
    "#| default_exp datasets\n",
    "import nbdev"
   ]
  },
  {
   "cell_type": "code",
   "execution_count": 2,
   "id": "71474f55-f06f-4e98-9db0-26353309ac7d",
   "metadata": {
    "tags": []
   },
   "outputs": [],
   "source": [
    "#|export\n",
    "\n",
    "MNIST_URL = \"https://github.com/mnielsen/neural-networks-and-deep-learning/blob/master/data/mnist.pkl.gz?raw=true\"\n",
    "\n",
    "from pathlib import Path\n",
    "from urllib import request\n",
    "import gzip, pickle\n",
    "\n",
    "class MNIST_Dataset():\n",
    "    \n",
    "    def __init__(self, data_path=None):\n",
    "        if data_path:\n",
    "            self.data_path = data_path\n",
    "        else:\n",
    "            self.data_path = Path.home() / \".cache/mnist_data/\"\n",
    "        self.data_path.mkdir(parents=True, exist_ok=True)\n",
    "        self.data_file = self.data_path/\"mnist.pkl.gz\"\n",
    "        \n",
    "        if not self.data_file.exists():\n",
    "            response = request.urlretrieve(MNIST_URL, self.data_path/\"mnist.pkl.gz\")\n",
    "        data = gzip.open(self.data_file)\n",
    "        with gzip.open(self.data_file, mode=\"rb\") as f:\n",
    "            self.train_set, self.valid_set, self.test_set = pickle.load(f, encoding=\"latin-1\")\n",
    "            self.train_x = self.train_set[0]\n",
    "            self.train_y = self.train_set[1]\n",
    "            self.valid_x = self.valid_set[0]\n",
    "            self.valid_y = self.valid_set[1]"
   ]
  },
  {
   "cell_type": "code",
   "execution_count": 3,
   "id": "c7cfb59a-d612-44bb-a646-8f0426049f91",
   "metadata": {
    "tags": []
   },
   "outputs": [],
   "source": [
    "nbdev.nbdev_export()"
   ]
  },
  {
   "cell_type": "code",
   "execution_count": null,
   "id": "04500897-252a-436b-8ae7-fb5cc81a5ab7",
   "metadata": {},
   "outputs": [],
   "source": []
  }
 ],
 "metadata": {
  "kernelspec": {
   "display_name": "Python 3 (ipykernel)",
   "language": "python",
   "name": "python3"
  },
  "language_info": {
   "codemirror_mode": {
    "name": "ipython",
    "version": 3
   },
   "file_extension": ".py",
   "mimetype": "text/x-python",
   "name": "python",
   "nbconvert_exporter": "python",
   "pygments_lexer": "ipython3",
   "version": "3.10.10"
  }
 },
 "nbformat": 4,
 "nbformat_minor": 5
}
